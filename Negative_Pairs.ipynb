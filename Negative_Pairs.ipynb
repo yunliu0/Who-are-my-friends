{
 "cells": [
  {
   "cell_type": "code",
   "execution_count": null,
   "metadata": {},
   "outputs": [],
   "source": [
    "import numpy as np\n",
    "import pandas as pd\n",
    "import random\n",
    "import pickle"
   ]
  },
  {
   "cell_type": "code",
   "execution_count": null,
   "metadata": {},
   "outputs": [],
   "source": [
    "with open('source_node.txt','rb') as file:\n",
    "    nodes=pickle.load(file)"
   ]
  },
  {
   "cell_type": "code",
   "execution_count": null,
   "metadata": {},
   "outputs": [],
   "source": [
    "with open('graph.txt', 'rb') as file:\n",
    "    graph = pickle.load(file)"
   ]
  },
  {
   "cell_type": "code",
   "execution_count": null,
   "metadata": {},
   "outputs": [],
   "source": [
    "tt=pd.read_csv(\"test-public.txt\", delimiter=\"\\t\")"
   ]
  },
  {
   "cell_type": "code",
   "execution_count": null,
   "metadata": {},
   "outputs": [],
   "source": [
    "nodes=list(tt.Source)\n",
    "sink=list(tt.Sink)"
   ]
  },
  {
   "cell_type": "markdown",
   "metadata": {},
   "source": [
    "## Generate the Possible Negative Samples"
   ]
  },
  {
   "cell_type": "code",
   "execution_count": null,
   "metadata": {},
   "outputs": [],
   "source": [
    "# Find the out degree of the source nodes\n",
    "in_degree={}\n",
    "for elem in sink:\n",
    "    d=graph.in_degree(str(elem))\n",
    "    in_degree[elem]=d"
   ]
  },
  {
   "cell_type": "code",
   "execution_count": null,
   "metadata": {},
   "outputs": [],
   "source": [
    "out_degree"
   ]
  },
  {
   "cell_type": "raw",
   "metadata": {},
   "source": [
    "len(out_degree)"
   ]
  },
  {
   "cell_type": "code",
   "execution_count": null,
   "metadata": {},
   "outputs": [],
   "source": [
    "# get the negative source that have less than 200 out degrees\n",
    "N_source=[]\n",
    "for key,value in out_degree.items():\n",
    "    if value <= 200:  # can be changed\n",
    "        N_source.append(key)"
   ]
  },
  {
   "cell_type": "code",
   "execution_count": null,
   "metadata": {},
   "outputs": [],
   "source": [
    "# get the node pairs that do not have edges\n",
    "N_edge=[]\n",
    "count=0\n",
    "for elem in nodes:\n",
    "    count=0\n",
    "    elem=N_source[i]\n",
    "    Gnodes=random.sample(Gnode,100000) # # randomly pick #points in graph. (the # can be changed)\n",
    "    for e in Gnodes:\n",
    "        if count<5: # can be changed\n",
    "            if not graph.has_edge(elem,e):\n",
    "                N_edge.append((elem,e))\n",
    "                count+=1"
   ]
  },
  {
   "cell_type": "markdown",
   "metadata": {},
   "source": [
    "## Check the Unique Source and Sink Numbers"
   ]
  },
  {
   "cell_type": "code",
   "execution_count": null,
   "metadata": {},
   "outputs": [],
   "source": [
    "source_n=[]\n",
    "for elem in N_edge:\n",
    "    source_n.append(elem[0])"
   ]
  },
  {
   "cell_type": "code",
   "execution_count": null,
   "metadata": {},
   "outputs": [],
   "source": [
    "# check uniqueness of source\n",
    "x = np.array(source_n)\n",
    "len(np.unique(x))"
   ]
  },
  {
   "cell_type": "code",
   "execution_count": null,
   "metadata": {},
   "outputs": [],
   "source": [
    "sink_n=[]\n",
    "for elem in N_edge:\n",
    "    sink_n.append(elem[1])"
   ]
  },
  {
   "cell_type": "code",
   "execution_count": null,
   "metadata": {},
   "outputs": [],
   "source": [
    "# check uniqueness of sink\n",
    "x = np.array(sink_n)\n",
    "len(np.unique(x))"
   ]
  },
  {
   "cell_type": "markdown",
   "metadata": {},
   "source": [
    "## Perpare and Output the Negative Samples"
   ]
  },
  {
   "cell_type": "code",
   "execution_count": null,
   "metadata": {},
   "outputs": [],
   "source": [
    "random.shuffle(N_edge)\n",
    "negative_pairs=N_edge[:30000]"
   ]
  },
  {
   "cell_type": "code",
   "execution_count": null,
   "metadata": {},
   "outputs": [],
   "source": [
    "len(negative_pairs)"
   ]
  },
  {
   "cell_type": "code",
   "execution_count": null,
   "metadata": {},
   "outputs": [],
   "source": [
    "dataframe_train=pd.DataFrame(negative_pairs,columns=['Source','Sink'])\n",
    "dataframe_train['Label']=0\n",
    "dataframe_train"
   ]
  },
  {
   "cell_type": "code",
   "execution_count": null,
   "metadata": {},
   "outputs": [],
   "source": [
    "with open('negative_pairs.txt','wb') as file:\n",
    "    pickle.dump(dataframe_train,file)"
   ]
  }
 ],
 "metadata": {
  "kernelspec": {
   "display_name": "Python 3",
   "language": "python",
   "name": "python3"
  },
  "language_info": {
   "codemirror_mode": {
    "name": "ipython",
    "version": 3
   },
   "file_extension": ".py",
   "mimetype": "text/x-python",
   "name": "python",
   "nbconvert_exporter": "python",
   "pygments_lexer": "ipython3",
   "version": "3.7.6"
  }
 },
 "nbformat": 4,
 "nbformat_minor": 4
}
