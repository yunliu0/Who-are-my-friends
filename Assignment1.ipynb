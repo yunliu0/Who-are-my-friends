{
 "cells": [
  {
   "cell_type": "code",
   "execution_count": 1,
   "metadata": {},
   "outputs": [],
   "source": [
    "import numpy as np\n",
    "import pandas as pd\n",
    "import matplotlib.pyplot as plt\n",
    "import networkx as nx\n",
    "from tqdm import tqdm\n",
    "import pickle"
   ]
  },
  {
   "cell_type": "markdown",
   "metadata": {},
   "source": [
    "# Read and Understand Dataset "
   ]
  },
  {
   "cell_type": "markdown",
   "metadata": {},
   "source": [
    "***\n",
    "**Read the `train.txt` file to dataframe**\n",
    "***"
   ]
  },
  {
   "cell_type": "code",
   "execution_count": 2,
   "metadata": {},
   "outputs": [],
   "source": [
    "train_data=pd.read_csv(\"train.txt\", delimiter=\",\", header=None,names=['Neighbours'],index_col=False)"
   ]
  },
  {
   "cell_type": "code",
   "execution_count": 3,
   "metadata": {},
   "outputs": [],
   "source": [
    "train_data['ID']=train_data['Neighbours'].apply(lambda x: x.split('\\t')[0])  # Get the ID"
   ]
  },
  {
   "cell_type": "code",
   "execution_count": 4,
   "metadata": {},
   "outputs": [],
   "source": [
    "train_data['Neighbours']=train_data['Neighbours'].apply(lambda x: x.split('\\t')[1:]) # set up the neighbours"
   ]
  },
  {
   "cell_type": "code",
   "execution_count": 5,
   "metadata": {},
   "outputs": [],
   "source": [
    "train_data=train_data[[\"ID\",\"Neighbours\"]] # set \"ID\" as the index"
   ]
  },
  {
   "cell_type": "code",
   "execution_count": 7,
   "metadata": {},
   "outputs": [],
   "source": [
    "num_neighbours=[] # the number of successors for each source.\n",
    "for elem in train_data['Neighbours']:\n",
    "    num_neighbours.append(len(elem))\n",
    "train_data['Num_neighbours']=num_neighbours"
   ]
  },
  {
   "cell_type": "code",
   "execution_count": 8,
   "metadata": {},
   "outputs": [
    {
     "data": {
      "text/plain": [
       "(20000, 3)"
      ]
     },
     "execution_count": 8,
     "metadata": {},
     "output_type": "execute_result"
    }
   ],
   "source": [
    "train_data.shape"
   ]
  },
  {
   "cell_type": "markdown",
   "metadata": {},
   "source": [
    "# Transfer Data to Directed Graph and Analysis the Di-Graph"
   ]
  },
  {
   "cell_type": "markdown",
   "metadata": {},
   "source": [
    "***\n",
    "**Transfer the dataframe to the graph G=<V,E>**\n",
    "***"
   ]
  },
  {
   "cell_type": "code",
   "execution_count": 9,
   "metadata": {},
   "outputs": [],
   "source": [
    "num_source=train_data.shape[0]\n",
    "sink=train_data.iloc[0,]\n",
    "len_sink=len(sink)"
   ]
  },
  {
   "cell_type": "code",
   "execution_count": 10,
   "metadata": {},
   "outputs": [
    {
     "data": {
      "text/html": [
       "<div>\n",
       "<style scoped>\n",
       "    .dataframe tbody tr th:only-of-type {\n",
       "        vertical-align: middle;\n",
       "    }\n",
       "\n",
       "    .dataframe tbody tr th {\n",
       "        vertical-align: top;\n",
       "    }\n",
       "\n",
       "    .dataframe thead th {\n",
       "        text-align: right;\n",
       "    }\n",
       "</style>\n",
       "<table border=\"1\" class=\"dataframe\">\n",
       "  <thead>\n",
       "    <tr style=\"text-align: right;\">\n",
       "      <th></th>\n",
       "      <th>ID</th>\n",
       "      <th>Neighbours</th>\n",
       "      <th>Num_neighbours</th>\n",
       "    </tr>\n",
       "  </thead>\n",
       "  <tbody>\n",
       "    <tr>\n",
       "      <th>0</th>\n",
       "      <td>540762</td>\n",
       "      <td>[1912140, 1537559, 3091331, 2757277, 3237295, ...</td>\n",
       "      <td>143</td>\n",
       "    </tr>\n",
       "    <tr>\n",
       "      <th>1</th>\n",
       "      <td>2129843</td>\n",
       "      <td>[65840, 3414168, 4523797, 2851163, 4321895, 13...</td>\n",
       "      <td>21</td>\n",
       "    </tr>\n",
       "    <tr>\n",
       "      <th>2</th>\n",
       "      <td>3361377</td>\n",
       "      <td>[955840, 3342058, 1536902, 1850727, 1504632, 1...</td>\n",
       "      <td>764195</td>\n",
       "    </tr>\n",
       "    <tr>\n",
       "      <th>3</th>\n",
       "      <td>1199298</td>\n",
       "      <td>[2300061, 2635670, 2803600, 744722, 881446, 28...</td>\n",
       "      <td>297</td>\n",
       "    </tr>\n",
       "    <tr>\n",
       "      <th>4</th>\n",
       "      <td>1392121</td>\n",
       "      <td>[3845572, 546016, 4361302, 678461, 4294597, 24...</td>\n",
       "      <td>3808</td>\n",
       "    </tr>\n",
       "    <tr>\n",
       "      <th>...</th>\n",
       "      <td>...</td>\n",
       "      <td>...</td>\n",
       "      <td>...</td>\n",
       "    </tr>\n",
       "    <tr>\n",
       "      <th>19995</th>\n",
       "      <td>585576</td>\n",
       "      <td>[660302, 3279973, 2094235, 2355188, 1296935, 3...</td>\n",
       "      <td>64</td>\n",
       "    </tr>\n",
       "    <tr>\n",
       "      <th>19996</th>\n",
       "      <td>505961</td>\n",
       "      <td>[3875645, 2148630, 4288909, 4011139, 340232, 1...</td>\n",
       "      <td>539</td>\n",
       "    </tr>\n",
       "    <tr>\n",
       "      <th>19997</th>\n",
       "      <td>125824</td>\n",
       "      <td>[54421, 868022, 385000, 2050130, 3446665, 2040...</td>\n",
       "      <td>45</td>\n",
       "    </tr>\n",
       "    <tr>\n",
       "      <th>19998</th>\n",
       "      <td>896087</td>\n",
       "      <td>[431577, 1007572, 499457, 3642500, 3734728, 28...</td>\n",
       "      <td>219</td>\n",
       "    </tr>\n",
       "    <tr>\n",
       "      <th>19999</th>\n",
       "      <td>3547024</td>\n",
       "      <td>[2888992, 179459, 492114, 2418495, 2235094, 14...</td>\n",
       "      <td>63</td>\n",
       "    </tr>\n",
       "  </tbody>\n",
       "</table>\n",
       "<p>20000 rows × 3 columns</p>\n",
       "</div>"
      ],
      "text/plain": [
       "            ID                                         Neighbours  \\\n",
       "0       540762  [1912140, 1537559, 3091331, 2757277, 3237295, ...   \n",
       "1      2129843  [65840, 3414168, 4523797, 2851163, 4321895, 13...   \n",
       "2      3361377  [955840, 3342058, 1536902, 1850727, 1504632, 1...   \n",
       "3      1199298  [2300061, 2635670, 2803600, 744722, 881446, 28...   \n",
       "4      1392121  [3845572, 546016, 4361302, 678461, 4294597, 24...   \n",
       "...        ...                                                ...   \n",
       "19995   585576  [660302, 3279973, 2094235, 2355188, 1296935, 3...   \n",
       "19996   505961  [3875645, 2148630, 4288909, 4011139, 340232, 1...   \n",
       "19997   125824  [54421, 868022, 385000, 2050130, 3446665, 2040...   \n",
       "19998   896087  [431577, 1007572, 499457, 3642500, 3734728, 28...   \n",
       "19999  3547024  [2888992, 179459, 492114, 2418495, 2235094, 14...   \n",
       "\n",
       "       Num_neighbours  \n",
       "0                 143  \n",
       "1                  21  \n",
       "2              764195  \n",
       "3                 297  \n",
       "4                3808  \n",
       "...               ...  \n",
       "19995              64  \n",
       "19996             539  \n",
       "19997              45  \n",
       "19998             219  \n",
       "19999              63  \n",
       "\n",
       "[20000 rows x 3 columns]"
      ]
     },
     "execution_count": 10,
     "metadata": {},
     "output_type": "execute_result"
    }
   ],
   "source": [
    "train_data"
   ]
  },
  {
   "cell_type": "code",
   "execution_count": null,
   "metadata": {},
   "outputs": [],
   "source": [
    "# build the directed_graph\n",
    "diG = nx.DiGraph()\n",
    "for i in range(num_source):\n",
    "    source=train_data.iloc[i,0] # The sources\n",
    "    sinks=train_data.iloc[i,1] # Neighbours\n",
    "    len_sink=len(sinks)\n",
    "    for j in range(len_sink):\n",
    "        sink=sinks[j]\n",
    "        diG.add_edge(source,sink)\n",
    "        if sink not in diG.nodes:\n",
    "            diG.add_node(sink)      "
   ]
  },
  {
   "cell_type": "code",
   "execution_count": 17,
   "metadata": {},
   "outputs": [
    {
     "data": {
      "text/plain": [
       "[('540762', '1912140'),\n",
       " ('540762', '1537559'),\n",
       " ('540762', '3091331'),\n",
       " ('540762', '2757277'),\n",
       " ('540762', '3237295')]"
      ]
     },
     "execution_count": 17,
     "metadata": {},
     "output_type": "execute_result"
    }
   ],
   "source": [
    "list(diG.edges)[:5]"
   ]
  },
  {
   "cell_type": "code",
   "execution_count": 18,
   "metadata": {},
   "outputs": [
    {
     "name": "stdout",
     "output_type": "stream",
     "text": [
      "The Di-graph contains 4867136 nodes and 23946602 edges\n"
     ]
    }
   ],
   "source": [
    "print(\"The Di-graph contains %d nodes and %d edges\" %(len(diG.nodes),len(diG.edges)))"
   ]
  },
  {
   "cell_type": "markdown",
   "metadata": {},
   "source": [
    "***\n",
    "Save the graph to `graph.txt`\n",
    "***"
   ]
  },
  {
   "cell_type": "code",
   "execution_count": null,
   "metadata": {},
   "outputs": [],
   "source": [
    "with open('graph.txt','wb') as file:\n",
    "    pickle.dump(diG,file)"
   ]
  },
  {
   "cell_type": "markdown",
   "metadata": {},
   "source": [
    "***\n",
    "Bulid the adjacent matrix for the `source nodes` to find the positive and neigative samples\n",
    "***"
   ]
  },
  {
   "cell_type": "code",
   "execution_count": 11,
   "metadata": {},
   "outputs": [
    {
     "data": {
      "text/plain": [
       "(20000,)"
      ]
     },
     "execution_count": 11,
     "metadata": {},
     "output_type": "execute_result"
    }
   ],
   "source": [
    "nodelist=train_data.iloc[:,0]\n",
    "nodelist.shape"
   ]
  },
  {
   "cell_type": "code",
   "execution_count": null,
   "metadata": {},
   "outputs": [],
   "source": [
    "adj_matrix=nx.to_numpy_matrix(graph,nodelist) # adjacent matrix, only consider the source nodes"
   ]
  },
  {
   "cell_type": "code",
   "execution_count": 18,
   "metadata": {},
   "outputs": [],
   "source": [
    "adj_matrix.shape"
   ]
  },
  {
   "cell_type": "code",
   "execution_count": null,
   "metadata": {},
   "outputs": [],
   "source": [
    "with open ('adj_matrix.txt', 'wb') as file:\n",
    "    pickle.dump(adj_matrixe, file)"
   ]
  },
  {
   "cell_type": "markdown",
   "metadata": {},
   "source": [
    "***\n",
    "**Gerenrate the positive samples:`edges_pairs` and negative samples `No_edges_pairs`**\n",
    "***"
   ]
  },
  {
   "cell_type": "code",
   "execution_count": null,
   "metadata": {},
   "outputs": [],
   "source": [
    "# Negative Sample\n",
    "No_edges_pairs = []\n",
    "\n",
    "# traverse adjacency matrix\n",
    "offset = 0\n",
    "for i in range(adj_Matrix.shape[0]):\n",
    "    for j in range(offset,adj_Matrix.shape[1]):\n",
    "        if i != j:\n",
    "            if adj_Matrix[i,j] == 0 and nx.shortest_path_length(graph,nodelist[i],nodelist[j])==3:\n",
    "                No_edges_pairs.append([nodelist[i],nodelist[j]])\n",
    "    offset = offset + 1"
   ]
  },
  {
   "cell_type": "code",
   "execution_count": null,
   "metadata": {},
   "outputs": [],
   "source": [
    "# Positive Samples\n"
   ]
  },
  {
   "cell_type": "code",
   "execution_count": null,
   "metadata": {},
   "outputs": [],
   "source": [
    "# Combined Samples\n"
   ]
  },
  {
   "cell_type": "code",
   "execution_count": null,
   "metadata": {},
   "outputs": [],
   "source": [
    "with open('samples.txt','wb') as file:\n",
    "    pickle.dump(sample,file)"
   ]
  },
  {
   "cell_type": "code",
   "execution_count": null,
   "metadata": {},
   "outputs": [],
   "source": [
    "with open('samples_200000.txt','rb') as file:\n",
    "    sample_data=pickle.load(file)"
   ]
  },
  {
   "cell_type": "code",
   "execution_count": 93,
   "metadata": {},
   "outputs": [
    {
     "data": {
      "text/html": [
       "<div>\n",
       "<style scoped>\n",
       "    .dataframe tbody tr th:only-of-type {\n",
       "        vertical-align: middle;\n",
       "    }\n",
       "\n",
       "    .dataframe tbody tr th {\n",
       "        vertical-align: top;\n",
       "    }\n",
       "\n",
       "    .dataframe thead th {\n",
       "        text-align: right;\n",
       "    }\n",
       "</style>\n",
       "<table border=\"1\" class=\"dataframe\">\n",
       "  <thead>\n",
       "    <tr style=\"text-align: right;\">\n",
       "      <th></th>\n",
       "      <th>Source</th>\n",
       "      <th>Sink</th>\n",
       "      <th>Label</th>\n",
       "    </tr>\n",
       "  </thead>\n",
       "  <tbody>\n",
       "    <tr>\n",
       "      <th>0</th>\n",
       "      <td>1604753</td>\n",
       "      <td>3794609</td>\n",
       "      <td>1</td>\n",
       "    </tr>\n",
       "    <tr>\n",
       "      <th>1</th>\n",
       "      <td>1927211</td>\n",
       "      <td>2402534</td>\n",
       "      <td>1</td>\n",
       "    </tr>\n",
       "    <tr>\n",
       "      <th>2</th>\n",
       "      <td>3438576</td>\n",
       "      <td>3589472</td>\n",
       "      <td>1</td>\n",
       "    </tr>\n",
       "    <tr>\n",
       "      <th>3</th>\n",
       "      <td>2029671</td>\n",
       "      <td>2363623</td>\n",
       "      <td>1</td>\n",
       "    </tr>\n",
       "    <tr>\n",
       "      <th>4</th>\n",
       "      <td>2031305</td>\n",
       "      <td>4169107</td>\n",
       "      <td>1</td>\n",
       "    </tr>\n",
       "  </tbody>\n",
       "</table>\n",
       "</div>"
      ],
      "text/plain": [
       "    Source     Sink  Label\n",
       "0  1604753  3794609      1\n",
       "1  1927211  2402534      1\n",
       "2  3438576  3589472      1\n",
       "3  2029671  2363623      1\n",
       "4  2031305  4169107      1"
      ]
     },
     "execution_count": 93,
     "metadata": {},
     "output_type": "execute_result"
    }
   ],
   "source": [
    "sample_data[：5]"
   ]
  },
  {
   "cell_type": "markdown",
   "metadata": {},
   "source": [
    "# Feature Exaction"
   ]
  },
  {
   "cell_type": "markdown",
   "metadata": {},
   "source": [
    "***\n",
    "**Vertices features**\n",
    "\n",
    "Contains: Source_following, Sink_follows, shortest_path\n",
    "***"
   ]
  },
  {
   "cell_type": "markdown",
   "metadata": {},
   "source": [
    "## Find the Percentage of source's following --> `Source_following`"
   ]
  },
  {
   "cell_type": "code",
   "execution_count": 106,
   "metadata": {},
   "outputs": [],
   "source": [
    "source=sample_data['Source']\n",
    "#out_degree=np.zeros(sample_data.shape[0])\n",
    "out=[]\n",
    "for elem in source:\n",
    "    out.append(graph.out_degree(elem))\n",
    "maxs=max(out)"
   ]
  },
  {
   "cell_type": "code",
   "execution_count": 100,
   "metadata": {},
   "outputs": [],
   "source": [
    "out_degree=list(i/maxs for i in out)"
   ]
  },
  {
   "cell_type": "code",
   "execution_count": 107,
   "metadata": {},
   "outputs": [
    {
     "data": {
      "text/plain": [
       "9033"
      ]
     },
     "execution_count": 107,
     "metadata": {},
     "output_type": "execute_result"
    }
   ],
   "source": [
    "out_degree.count(1) #'761793' has the largest 'following' number"
   ]
  },
  {
   "cell_type": "markdown",
   "metadata": {},
   "source": [
    "## Generate the Percentage of Sink's Follower--> `Sink_follows`"
   ]
  },
  {
   "cell_type": "code",
   "execution_count": 119,
   "metadata": {},
   "outputs": [],
   "source": [
    "in_=[]\n",
    "sink=sample_data['Sink']\n",
    "for elem in sink:\n",
    "    in_.append(graph.in_degree(elem))\n",
    "max_num=max(in_)"
   ]
  },
  {
   "cell_type": "code",
   "execution_count": 121,
   "metadata": {},
   "outputs": [],
   "source": [
    "in_degree=list(i/max_num for i in in_)"
   ]
  },
  {
   "cell_type": "code",
   "execution_count": 122,
   "metadata": {},
   "outputs": [
    {
     "data": {
      "text/plain": [
       "19"
      ]
     },
     "execution_count": 122,
     "metadata": {},
     "output_type": "execute_result"
    }
   ],
   "source": [
    "in_degree.count(1) # '3361377' has the most followers"
   ]
  },
  {
   "cell_type": "markdown",
   "metadata": {},
   "source": [
    "## The shortest path between source and sink -->`shortest_path`"
   ]
  },
  {
   "cell_type": "code",
   "execution_count": 133,
   "metadata": {},
   "outputs": [
    {
     "name": "stderr",
     "output_type": "stream",
     "text": [
      "100%|██████████| 200000/200000 [52:30<00:00, 63.49it/s]  \n"
     ]
    }
   ],
   "source": [
    "shortest_path=[]\n",
    "n=sample_data.shape[0]\n",
    "source_L=list(source) \n",
    "sink_L=list(sink)\n",
    "for i in tqdm(range(n)):\n",
    "    lenth=nx.shortest_path_length(graph,source_L[i],sink_L[i])\n",
    "    shortest_path.append(lenth)"
   ]
  },
  {
   "cell_type": "code",
   "execution_count": 137,
   "metadata": {},
   "outputs": [
    {
     "data": {
      "text/html": [
       "<div>\n",
       "<style scoped>\n",
       "    .dataframe tbody tr th:only-of-type {\n",
       "        vertical-align: middle;\n",
       "    }\n",
       "\n",
       "    .dataframe tbody tr th {\n",
       "        vertical-align: top;\n",
       "    }\n",
       "\n",
       "    .dataframe thead th {\n",
       "        text-align: right;\n",
       "    }\n",
       "</style>\n",
       "<table border=\"1\" class=\"dataframe\">\n",
       "  <thead>\n",
       "    <tr style=\"text-align: right;\">\n",
       "      <th></th>\n",
       "      <th>Label</th>\n",
       "      <th>Source</th>\n",
       "      <th>Sink</th>\n",
       "      <th>Source_following</th>\n",
       "      <th>Sink_follows</th>\n",
       "      <th>shortest_path</th>\n",
       "    </tr>\n",
       "  </thead>\n",
       "  <tbody>\n",
       "    <tr>\n",
       "      <th>0</th>\n",
       "      <td>1</td>\n",
       "      <td>1604753</td>\n",
       "      <td>3794609</td>\n",
       "      <td>0.004253</td>\n",
       "      <td>0.000207</td>\n",
       "      <td>1</td>\n",
       "    </tr>\n",
       "    <tr>\n",
       "      <th>1</th>\n",
       "      <td>1</td>\n",
       "      <td>1927211</td>\n",
       "      <td>2402534</td>\n",
       "      <td>0.148757</td>\n",
       "      <td>0.009089</td>\n",
       "      <td>1</td>\n",
       "    </tr>\n",
       "    <tr>\n",
       "      <th>2</th>\n",
       "      <td>1</td>\n",
       "      <td>3438576</td>\n",
       "      <td>3589472</td>\n",
       "      <td>0.180827</td>\n",
       "      <td>0.001653</td>\n",
       "      <td>1</td>\n",
       "    </tr>\n",
       "    <tr>\n",
       "      <th>3</th>\n",
       "      <td>1</td>\n",
       "      <td>2029671</td>\n",
       "      <td>2363623</td>\n",
       "      <td>0.001629</td>\n",
       "      <td>0.008056</td>\n",
       "      <td>1</td>\n",
       "    </tr>\n",
       "    <tr>\n",
       "      <th>4</th>\n",
       "      <td>1</td>\n",
       "      <td>2031305</td>\n",
       "      <td>4169107</td>\n",
       "      <td>0.030763</td>\n",
       "      <td>0.024169</td>\n",
       "      <td>1</td>\n",
       "    </tr>\n",
       "  </tbody>\n",
       "</table>\n",
       "</div>"
      ],
      "text/plain": [
       "   Label   Source     Sink  Source_following  Sink_follows  shortest_path\n",
       "0      1  1604753  3794609          0.004253      0.000207              1\n",
       "1      1  1927211  2402534          0.148757      0.009089              1\n",
       "2      1  3438576  3589472          0.180827      0.001653              1\n",
       "3      1  2029671  2363623          0.001629      0.008056              1\n",
       "4      1  2031305  4169107          0.030763      0.024169              1"
      ]
     },
     "execution_count": 137,
     "metadata": {},
     "output_type": "execute_result"
    }
   ],
   "source": [
    "sample_data.head()"
   ]
  },
  {
   "cell_type": "code",
   "execution_count": 138,
   "metadata": {},
   "outputs": [],
   "source": [
    "with open ('data6.txt', 'wb') as file:\n",
    "    pickle.dump(sample_data, file)"
   ]
  },
  {
   "cell_type": "code",
   "execution_count": null,
   "metadata": {},
   "outputs": [],
   "source": [
    "adj_Matrix=nx.to_numpy_matrix(diG,nodelist)"
   ]
  },
  {
   "cell_type": "markdown",
   "metadata": {},
   "source": [
    "***\n",
    "**Feature Exaction: similarity**\n",
    "\n",
    "Contains: resource allocation index, jaccard coefficient, adamic adar index, preferential attachment, cn_soundarajan_hopcroft, ra_index_soundarajan_hopcroft, within_inter_cluster\n",
    "***\n"
   ]
  },
  {
   "cell_type": "code",
   "execution_count": null,
   "metadata": {},
   "outputs": [],
   "source": [
    "unG=graph.to_undirected()\n",
    "nodelist=list(train_data.iloc[:,0]) # sourse node"
   ]
  },
  {
   "cell_type": "code",
   "execution_count": null,
   "metadata": {},
   "outputs": [],
   "source": [
    "nodelist=list(train_data.iloc[:,0]) # sourse node\n",
    "rai = nx.resource_allocation_index(unG, nodelist) # resource_allocation_index\n",
    "jc = nx.jaccard_coefficient(unG, nodelist) # jaccard coefficient\n",
    "aai = nx.adamic_adar_index(unG, nodelist) # adamic adar index\n",
    "pa = nx.preferential_attachment(unG, nodelist) # preferential attachment\n",
    "csj = nx.cn_soundarajan_hopcroft(unG, nodelist) # soundarajan hopcroft\n",
    "rjsh = nx.ra_index_soundarajan_hopcroft(unG, nodelist) # ra index soundarajan hopcroft\n",
    "wic = nx.within_inter_cluster(unG, nodelist) #within_inter_cluster"
   ]
  },
  {
   "cell_type": "markdown",
   "metadata": {},
   "source": [
    "# The Final Dataframe --> `sample_data`"
   ]
  },
  {
   "cell_type": "markdown",
   "metadata": {},
   "source": [
    "***\n",
    "**Build the new dataset with the seleted features**\n",
    "***"
   ]
  },
  {
   "cell_type": "code",
   "execution_count": 124,
   "metadata": {},
   "outputs": [],
   "source": [
    "sample_data['Source_following']=out_degree\n",
    "sample_data['Sink_follows']=in_degree\n",
    "sample_data['shortest_path']=shortest_path"
   ]
  },
  {
   "cell_type": "code",
   "execution_count": 126,
   "metadata": {},
   "outputs": [],
   "source": [
    "sample_data=sample_data[['Label','Source','Sink','Source_following','Sink_follows','shortest_path']] # put 'Label' to the first column"
   ]
  }
 ],
 "metadata": {
  "kernelspec": {
   "display_name": "Python 3",
   "language": "python",
   "name": "python3"
  },
  "language_info": {
   "codemirror_mode": {
    "name": "ipython",
    "version": 3
   },
   "file_extension": ".py",
   "mimetype": "text/x-python",
   "name": "python",
   "nbconvert_exporter": "python",
   "pygments_lexer": "ipython3",
   "version": "3.7.6"
  }
 },
 "nbformat": 4,
 "nbformat_minor": 4
}
