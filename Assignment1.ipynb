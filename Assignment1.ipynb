{
 "cells": [
  {
   "cell_type": "code",
   "execution_count": null,
   "metadata": {},
   "outputs": [],
   "source": [
    "import numpy as np\n",
    "import pandas as pd\n",
    "import matplotlib.pyplot as plt\n",
    "import networkx as nx\n",
    "from tqdm import tqdm\n",
    "import pickle"
   ]
  },
  {
   "cell_type": "markdown",
   "metadata": {},
   "source": [
    "# Read and Understand Dataset "
   ]
  },
  {
   "cell_type": "markdown",
   "metadata": {},
   "source": [
    "***\n",
    "**Read the `train.txt` file to dataframe**\n",
    "***"
   ]
  },
  {
   "cell_type": "code",
   "execution_count": null,
   "metadata": {},
   "outputs": [],
   "source": [
    "train_data=pd.read_csv(\"train.txt\", delimiter=\",\", header=None,names=['Neighbours'],index_col=False)"
   ]
  },
  {
   "cell_type": "code",
   "execution_count": null,
   "metadata": {},
   "outputs": [],
   "source": [
    "train_data['ID']=train_data['Neighbours'].apply(lambda x: x.split('\\t')[0])  # Get the ID"
   ]
  },
  {
   "cell_type": "code",
   "execution_count": null,
   "metadata": {},
   "outputs": [],
   "source": [
    "train_data['Neighbours']=train_data['Neighbours'].apply(lambda x: x.split('\\t')[1:]) # set up the neighbours"
   ]
  },
  {
   "cell_type": "code",
   "execution_count": null,
   "metadata": {},
   "outputs": [],
   "source": [
    "train_data=train_data[[\"ID\",\"Neighbours\"]] # set \"ID\" as the index"
   ]
  },
  {
   "cell_type": "code",
   "execution_count": null,
   "metadata": {},
   "outputs": [],
   "source": [
    "num_neighbours=[] # the number of successors for each source.\n",
    "for elem in train_data['Neighbours']:\n",
    "    num_neighbours.append(len(elem))\n",
    "train_data['Num_neighbours']=num_neighbours"
   ]
  },
  {
   "cell_type": "code",
   "execution_count": null,
   "metadata": {},
   "outputs": [],
   "source": [
    "train_data.shape"
   ]
  },
  {
   "cell_type": "markdown",
   "metadata": {},
   "source": [
    "# Transfer Data to Directed Graph and Analysis the Di-Graph"
   ]
  },
  {
   "cell_type": "markdown",
   "metadata": {},
   "source": [
    "***\n",
    "**Transfer the dataframe to the graph G=<V,E>**\n",
    "***"
   ]
  },
  {
   "cell_type": "code",
   "execution_count": null,
   "metadata": {},
   "outputs": [],
   "source": [
    "num_source=train_data.shape[0]\n",
    "sink=train_data.iloc[0,]\n",
    "len_sink=len(sink)"
   ]
  },
  {
   "cell_type": "code",
   "execution_count": null,
   "metadata": {},
   "outputs": [],
   "source": [
    "train_data"
   ]
  },
  {
   "cell_type": "code",
   "execution_count": null,
   "metadata": {},
   "outputs": [],
   "source": [
    "# build the directed_graph\n",
    "diG = nx.DiGraph()\n",
    "for i in range(num_source):\n",
    "    source=train_data.iloc[i,0] # The sources\n",
    "    sinks=train_data.iloc[i,1] # Neighbours\n",
    "    len_sink=len(sinks)\n",
    "    for j in range(len_sink):\n",
    "        sink=sinks[j]\n",
    "        diG.add_edge(source,sink)\n",
    "        if sink not in diG.nodes:\n",
    "            diG.add_node(sink)      "
   ]
  },
  {
   "cell_type": "code",
   "execution_count": null,
   "metadata": {},
   "outputs": [],
   "source": [
    "list(diG.edges)[:5]"
   ]
  },
  {
   "cell_type": "code",
   "execution_count": null,
   "metadata": {},
   "outputs": [],
   "source": [
    "print(\"The Di-graph contains %d nodes and %d edges\" %(len(diG.nodes),len(diG.edges)))"
   ]
  },
  {
   "cell_type": "markdown",
   "metadata": {},
   "source": [
    "***\n",
    "Save the graph to `graph.txt`\n",
    "***"
   ]
  },
  {
   "cell_type": "code",
   "execution_count": null,
   "metadata": {},
   "outputs": [],
   "source": [
    "with open('graph.txt','wb') as file:\n",
    "    pickle.dump(diG,file)"
   ]
  },
  {
   "cell_type": "code",
   "execution_count": null,
   "metadata": {},
   "outputs": [],
   "source": [
    "with open('graph.txt','rb') as file:\n",
    "    graph=pickle.load(file)"
   ]
  },
  {
   "cell_type": "code",
   "execution_count": null,
   "metadata": {},
   "outputs": [],
   "source": [
    "len(graph.nodes)"
   ]
  },
  {
   "cell_type": "markdown",
   "metadata": {},
   "source": [
    "***\n",
    "Bulid the adjacent matrix for the `source nodes` to find the positive and neigative samples\n",
    "***"
   ]
  },
  {
   "cell_type": "code",
   "execution_count": null,
   "metadata": {},
   "outputs": [],
   "source": [
    "nodelist=train_data.iloc[:,0]\n",
    "nodelist.shape"
   ]
  },
  {
   "cell_type": "code",
   "execution_count": null,
   "metadata": {},
   "outputs": [],
   "source": [
    "adj_matrix=nx.to_numpy_matrix(graph,nodelist) # adjacent matrix, only consider the source nodes"
   ]
  },
  {
   "cell_type": "code",
   "execution_count": null,
   "metadata": {},
   "outputs": [],
   "source": [
    "adj_matrix.shape"
   ]
  },
  {
   "cell_type": "code",
   "execution_count": null,
   "metadata": {},
   "outputs": [],
   "source": [
    "with open ('adj_matrix.txt', 'wb') as file:\n",
    "    pickle.dump(adj_matrixe, file)"
   ]
  },
  {
   "cell_type": "markdown",
   "metadata": {},
   "source": [
    "***\n",
    "**Gerenrate the positive samples:`edges_pairs` and negative samples `No_edges_pairs`**\n",
    "***"
   ]
  },
  {
   "cell_type": "code",
   "execution_count": null,
   "metadata": {},
   "outputs": [],
   "source": [
    "# Negative Sample\n",
    "No_edges_pairs = []\n",
    "\n",
    "# traverse adjacency matrix\n",
    "offset = 0\n",
    "for i in range(adj_Matrix.shape[0]):\n",
    "    for j in range(offset,adj_Matrix.shape[1]):\n",
    "        if i != j:\n",
    "            if adj_Matrix[i,j] == 0 and nx.shortest_path_length(graph,nodelist[i],nodelist[j])<=3:\n",
    "                No_edges_pairs.append([nodelist[i],nodelist[j]])\n",
    "    offset = offset + 1"
   ]
  },
  {
   "cell_type": "code",
   "execution_count": null,
   "metadata": {},
   "outputs": [],
   "source": [
    "# Positive Samples\n"
   ]
  },
  {
   "cell_type": "code",
   "execution_count": null,
   "metadata": {},
   "outputs": [],
   "source": [
    "# Combined Samples\n"
   ]
  },
  {
   "cell_type": "code",
   "execution_count": null,
   "metadata": {},
   "outputs": [],
   "source": [
    "with open('samples.txt','wb') as file:\n",
    "    pickle.dump(sample,file)"
   ]
  },
  {
   "cell_type": "code",
   "execution_count": null,
   "metadata": {},
   "outputs": [],
   "source": [
    "with open('samples_all.txt','rb') as file:\n",
    "    sample_data=pickle.load(file)"
   ]
  },
  {
   "cell_type": "code",
   "execution_count": null,
   "metadata": {},
   "outputs": [],
   "source": [
    "sample_data.shape"
   ]
  },
  {
   "cell_type": "markdown",
   "metadata": {},
   "source": [
    "# Feature Exaction"
   ]
  },
  {
   "cell_type": "markdown",
   "metadata": {},
   "source": [
    "***\n",
    "**Vertices features**\n",
    "\n",
    "Contains: Source_following, Sink_follows, shortest_path\n",
    "***"
   ]
  },
  {
   "cell_type": "markdown",
   "metadata": {},
   "source": [
    "## Find the Percentage of source's following --> `Source_following`"
   ]
  },
  {
   "cell_type": "code",
   "execution_count": null,
   "metadata": {},
   "outputs": [],
   "source": [
    "source=sample_data['Source']\n",
    "#out_degree=np.zeros(sample_data.shape[0])\n",
    "out=[]\n",
    "for elem in source:\n",
    "    out.append(graph.out_degree(elem))\n",
    "maxs=max(out)"
   ]
  },
  {
   "cell_type": "code",
   "execution_count": null,
   "metadata": {},
   "outputs": [],
   "source": [
    "out_degree=list(i/maxs for i in out)"
   ]
  },
  {
   "cell_type": "code",
   "execution_count": null,
   "metadata": {},
   "outputs": [],
   "source": [
    "out_degree.count(1) #'761793' has the largest 'following' number"
   ]
  },
  {
   "cell_type": "markdown",
   "metadata": {},
   "source": [
    "## Generate the Percentage of Sink's Follower--> `Sink_follows`"
   ]
  },
  {
   "cell_type": "code",
   "execution_count": null,
   "metadata": {},
   "outputs": [],
   "source": [
    "in_=[]\n",
    "sink=sample_data['Sink']\n",
    "for elem in sink:\n",
    "    in_.append(graph.in_degree(elem))\n",
    "max_num=max(in_)"
   ]
  },
  {
   "cell_type": "code",
   "execution_count": null,
   "metadata": {},
   "outputs": [],
   "source": [
    "in_degree=list(i/max_num for i in in_)"
   ]
  },
  {
   "cell_type": "code",
   "execution_count": null,
   "metadata": {},
   "outputs": [],
   "source": [
    "in_degree.count(1) # '3361377' has the most followers"
   ]
  },
  {
   "cell_type": "markdown",
   "metadata": {},
   "source": [
    "## The shortest path between source and sink -->`shortest_path`"
   ]
  },
  {
   "cell_type": "code",
   "execution_count": null,
   "metadata": {},
   "outputs": [],
   "source": [
    "shortest_path=[]\n",
    "n=sample_data.shape[0]\n",
    "source_L=list(source) \n",
    "sink_L=list(sink)\n",
    "for i in tqdm(range(n)):\n",
    "    lenth=nx.shortest_path_length(graph,source_L[i],sink_L[i])\n",
    "    shortest_path.append(lenth)"
   ]
  },
  {
   "cell_type": "code",
   "execution_count": null,
   "metadata": {},
   "outputs": [],
   "source": [
    "sample_data.head()"
   ]
  },
  {
   "cell_type": "code",
   "execution_count": null,
   "metadata": {},
   "outputs": [],
   "source": [
    "with open ('data6.txt', 'wb') as file:\n",
    "    pickle.dump(sample_data, file)"
   ]
  },
  {
   "cell_type": "code",
   "execution_count": null,
   "metadata": {},
   "outputs": [],
   "source": [
    "adj_Matrix=nx.to_numpy_matrix(diG,nodelist)"
   ]
  },
  {
   "cell_type": "markdown",
   "metadata": {},
   "source": [
    "***\n",
    "**Feature Exaction: similarity**\n",
    "\n",
    "Contains: resource allocation index, jaccard coefficient, adamic adar index, preferential attachment, cn_soundarajan_hopcroft, ra_index_soundarajan_hopcroft, within_inter_cluster\n",
    "***\n"
   ]
  },
  {
   "cell_type": "code",
   "execution_count": null,
   "metadata": {},
   "outputs": [],
   "source": [
    "unG=graph.to_undirected()\n",
    "nodelist=list(train_data.iloc[:,0]) # sourse node"
   ]
  },
  {
   "cell_type": "code",
   "execution_count": null,
   "metadata": {},
   "outputs": [],
   "source": [
    "nodelist=list(train_data.iloc[:,0]) # sourse node\n",
    "rai = nx.resource_allocation_index(unG, nodelist) # resource_allocation_index\n",
    "jc = nx.jaccard_coefficient(unG, nodelist) # jaccard coefficient\n",
    "aai = nx.adamic_adar_index(unG, nodelist) # adamic adar index\n",
    "pa = nx.preferential_attachment(unG, nodelist) # preferential attachment\n",
    "csj = nx.cn_soundarajan_hopcroft(unG, nodelist) # soundarajan hopcroft\n",
    "rjsh = nx.ra_index_soundarajan_hopcroft(unG, nodelist) # ra index soundarajan hopcroft\n",
    "wic = nx.within_inter_cluster(unG, nodelist) #within_inter_cluster"
   ]
  },
  {
   "cell_type": "markdown",
   "metadata": {},
   "source": [
    "# The Final Dataframe --> `sample_data`"
   ]
  },
  {
   "cell_type": "markdown",
   "metadata": {},
   "source": [
    "***\n",
    "**Build the new dataset with the seleted features**\n",
    "\n",
    "features need to normalized: from sklearn.preprocessing import StandardScaler; scaler = StandardScaler(); scaler.fit_transform(data)\n",
    "***"
   ]
  },
  {
   "cell_type": "code",
   "execution_count": null,
   "metadata": {},
   "outputs": [],
   "source": [
    "sample_data['Source_following']=out_degree\n",
    "sample_data['Sink_follows']=in_degree\n",
    "sample_data['shortest_path']=shortest_path"
   ]
  },
  {
   "cell_type": "code",
   "execution_count": null,
   "metadata": {},
   "outputs": [],
   "source": [
    "sample_data=sample_data[['Label','Source','Sink','Source_following','Sink_follows','shortest_path']] # put 'Label' to the first column"
   ]
  },
  {
   "cell_type": "markdown",
   "metadata": {},
   "source": [
    "# Model Build"
   ]
  },
  {
   "cell_type": "code",
   "execution_count": 182,
   "metadata": {},
   "outputs": [],
   "source": [
    "import pickle\n",
    "from sklearn.model_selection import train_test_split"
   ]
  },
  {
   "cell_type": "code",
   "execution_count": 210,
   "metadata": {},
   "outputs": [],
   "source": [
    "with open('Train_HHH.txt','rb') as file:\n",
    "    dataset=pickle.load(file)\n",
    "train, test = train_test_split(dataset, test_size=0.2, random_state=1)"
   ]
  },
  {
   "cell_type": "code",
   "execution_count": 211,
   "metadata": {},
   "outputs": [],
   "source": [
    "train=train.drop(['Source','Sink'],axis=1)\n",
    "test=test.drop(['Source','Sink'],axis=1)"
   ]
  },
  {
   "cell_type": "code",
   "execution_count": 212,
   "metadata": {},
   "outputs": [
    {
     "data": {
      "text/html": [
       "<div>\n",
       "<style scoped>\n",
       "    .dataframe tbody tr th:only-of-type {\n",
       "        vertical-align: middle;\n",
       "    }\n",
       "\n",
       "    .dataframe tbody tr th {\n",
       "        vertical-align: top;\n",
       "    }\n",
       "\n",
       "    .dataframe thead th {\n",
       "        text-align: right;\n",
       "    }\n",
       "</style>\n",
       "<table border=\"1\" class=\"dataframe\">\n",
       "  <thead>\n",
       "    <tr style=\"text-align: right;\">\n",
       "      <th></th>\n",
       "      <th>RAI</th>\n",
       "      <th>JC</th>\n",
       "      <th>AAI</th>\n",
       "      <th>PA</th>\n",
       "      <th>Source_following</th>\n",
       "      <th>Sink_follows</th>\n",
       "      <th>Source_follows</th>\n",
       "      <th>Sink_following</th>\n",
       "      <th>Shortest_path</th>\n",
       "      <th>PageRank_Src</th>\n",
       "      <th>PageRank_Sink</th>\n",
       "      <th>ECentrality_Sour</th>\n",
       "      <th>ECentrality_Sink</th>\n",
       "      <th>Degree_Centrality_Sour</th>\n",
       "      <th>Degree_Centrality_Sink</th>\n",
       "      <th>Label</th>\n",
       "      <th>CN</th>\n",
       "    </tr>\n",
       "  </thead>\n",
       "  <tbody>\n",
       "    <tr>\n",
       "      <th>5004</th>\n",
       "      <td>0.000000</td>\n",
       "      <td>0.000000</td>\n",
       "      <td>0.000000</td>\n",
       "      <td>68829</td>\n",
       "      <td>68770</td>\n",
       "      <td>1</td>\n",
       "      <td>1068</td>\n",
       "      <td>0</td>\n",
       "      <td>1</td>\n",
       "      <td>8.055775e-07</td>\n",
       "      <td>2.047600e-07</td>\n",
       "      <td>0.012305</td>\n",
       "      <td>3.282663e-05</td>\n",
       "      <td>0.014349</td>\n",
       "      <td>2.054597e-07</td>\n",
       "      <td>1</td>\n",
       "      <td>0</td>\n",
       "    </tr>\n",
       "    <tr>\n",
       "      <th>17676</th>\n",
       "      <td>0.000000</td>\n",
       "      <td>0.000000</td>\n",
       "      <td>0.000000</td>\n",
       "      <td>3956</td>\n",
       "      <td>3948</td>\n",
       "      <td>1</td>\n",
       "      <td>33</td>\n",
       "      <td>0</td>\n",
       "      <td>1</td>\n",
       "      <td>2.190402e-07</td>\n",
       "      <td>2.048017e-07</td>\n",
       "      <td>0.000345</td>\n",
       "      <td>9.122712e-07</td>\n",
       "      <td>0.000818</td>\n",
       "      <td>2.054597e-07</td>\n",
       "      <td>1</td>\n",
       "      <td>0</td>\n",
       "    </tr>\n",
       "    <tr>\n",
       "      <th>29485</th>\n",
       "      <td>0.000297</td>\n",
       "      <td>0.000453</td>\n",
       "      <td>1.454340</td>\n",
       "      <td>635202</td>\n",
       "      <td>35279</td>\n",
       "      <td>18</td>\n",
       "      <td>640</td>\n",
       "      <td>0</td>\n",
       "      <td>1</td>\n",
       "      <td>2.431027e-07</td>\n",
       "      <td>2.048212e-07</td>\n",
       "      <td>0.012662</td>\n",
       "      <td>6.620032e-04</td>\n",
       "      <td>0.007380</td>\n",
       "      <td>3.698274e-06</td>\n",
       "      <td>1</td>\n",
       "      <td>16</td>\n",
       "    </tr>\n",
       "    <tr>\n",
       "      <th>36476</th>\n",
       "      <td>0.014785</td>\n",
       "      <td>0.024450</td>\n",
       "      <td>1.462639</td>\n",
       "      <td>37884</td>\n",
       "      <td>21</td>\n",
       "      <td>119</td>\n",
       "      <td>118</td>\n",
       "      <td>238</td>\n",
       "      <td>2</td>\n",
       "      <td>3.232158e-07</td>\n",
       "      <td>3.159942e-07</td>\n",
       "      <td>0.000704</td>\n",
       "      <td>8.544969e-04</td>\n",
       "      <td>0.000029</td>\n",
       "      <td>7.334911e-05</td>\n",
       "      <td>0</td>\n",
       "      <td>10</td>\n",
       "    </tr>\n",
       "    <tr>\n",
       "      <th>45508</th>\n",
       "      <td>1.583936</td>\n",
       "      <td>0.011227</td>\n",
       "      <td>42.345879</td>\n",
       "      <td>15633376</td>\n",
       "      <td>21104</td>\n",
       "      <td>323</td>\n",
       "      <td>1820</td>\n",
       "      <td>621</td>\n",
       "      <td>2</td>\n",
       "      <td>2.470559e-06</td>\n",
       "      <td>4.178583e-07</td>\n",
       "      <td>0.014610</td>\n",
       "      <td>2.531299e-03</td>\n",
       "      <td>0.004710</td>\n",
       "      <td>1.939539e-04</td>\n",
       "      <td>0</td>\n",
       "      <td>244</td>\n",
       "    </tr>\n",
       "  </tbody>\n",
       "</table>\n",
       "</div>"
      ],
      "text/plain": [
       "            RAI        JC        AAI        PA  Source_following  \\\n",
       "5004   0.000000  0.000000   0.000000     68829             68770   \n",
       "17676  0.000000  0.000000   0.000000      3956              3948   \n",
       "29485  0.000297  0.000453   1.454340    635202             35279   \n",
       "36476  0.014785  0.024450   1.462639     37884                21   \n",
       "45508  1.583936  0.011227  42.345879  15633376             21104   \n",
       "\n",
       "       Sink_follows  Source_follows  Sink_following  Shortest_path  \\\n",
       "5004              1            1068               0              1   \n",
       "17676             1              33               0              1   \n",
       "29485            18             640               0              1   \n",
       "36476           119             118             238              2   \n",
       "45508           323            1820             621              2   \n",
       "\n",
       "       PageRank_Src  PageRank_Sink  ECentrality_Sour  ECentrality_Sink  \\\n",
       "5004   8.055775e-07   2.047600e-07          0.012305      3.282663e-05   \n",
       "17676  2.190402e-07   2.048017e-07          0.000345      9.122712e-07   \n",
       "29485  2.431027e-07   2.048212e-07          0.012662      6.620032e-04   \n",
       "36476  3.232158e-07   3.159942e-07          0.000704      8.544969e-04   \n",
       "45508  2.470559e-06   4.178583e-07          0.014610      2.531299e-03   \n",
       "\n",
       "       Degree_Centrality_Sour  Degree_Centrality_Sink  Label   CN  \n",
       "5004                 0.014349            2.054597e-07      1    0  \n",
       "17676                0.000818            2.054597e-07      1    0  \n",
       "29485                0.007380            3.698274e-06      1   16  \n",
       "36476                0.000029            7.334911e-05      0   10  \n",
       "45508                0.004710            1.939539e-04      0  244  "
      ]
     },
     "execution_count": 212,
     "metadata": {},
     "output_type": "execute_result"
    }
   ],
   "source": [
    "train.head()"
   ]
  },
  {
   "cell_type": "code",
   "execution_count": 213,
   "metadata": {},
   "outputs": [],
   "source": [
    "XT=train.drop('Label',axis=1)\n",
    "xt=test.drop('Label',axis=1)"
   ]
  },
  {
   "cell_type": "markdown",
   "metadata": {},
   "source": [
    "with open('XT.txt', 'wb') as file:\n",
    "    pickle.dump(XT,file)\n",
    "with open('xt1.txt', 'wb') as file:\n",
    "    pickle.dump(xt,file)"
   ]
  },
  {
   "cell_type": "markdown",
   "metadata": {},
   "source": [
    "## Logistic Regression"
   ]
  },
  {
   "cell_type": "code",
   "execution_count": 214,
   "metadata": {},
   "outputs": [],
   "source": [
    "#XT=XT.drop(['RAI','JC','AAI','CN'],axis=1)\n",
    "#xt=xt.drop(['RAI','JC','AAI','CN'],axis=1)"
   ]
  },
  {
   "cell_type": "code",
   "execution_count": 215,
   "metadata": {},
   "outputs": [
    {
     "data": {
      "text/html": [
       "<div>\n",
       "<style scoped>\n",
       "    .dataframe tbody tr th:only-of-type {\n",
       "        vertical-align: middle;\n",
       "    }\n",
       "\n",
       "    .dataframe tbody tr th {\n",
       "        vertical-align: top;\n",
       "    }\n",
       "\n",
       "    .dataframe thead th {\n",
       "        text-align: right;\n",
       "    }\n",
       "</style>\n",
       "<table border=\"1\" class=\"dataframe\">\n",
       "  <thead>\n",
       "    <tr style=\"text-align: right;\">\n",
       "      <th></th>\n",
       "      <th>RAI</th>\n",
       "      <th>JC</th>\n",
       "      <th>AAI</th>\n",
       "      <th>PA</th>\n",
       "      <th>Source_following</th>\n",
       "      <th>Sink_follows</th>\n",
       "      <th>Source_follows</th>\n",
       "      <th>Sink_following</th>\n",
       "      <th>Shortest_path</th>\n",
       "      <th>PageRank_Src</th>\n",
       "      <th>PageRank_Sink</th>\n",
       "      <th>ECentrality_Sour</th>\n",
       "      <th>ECentrality_Sink</th>\n",
       "      <th>Degree_Centrality_Sour</th>\n",
       "      <th>Degree_Centrality_Sink</th>\n",
       "      <th>CN</th>\n",
       "    </tr>\n",
       "  </thead>\n",
       "  <tbody>\n",
       "    <tr>\n",
       "      <th>5004</th>\n",
       "      <td>0.000000</td>\n",
       "      <td>0.000000</td>\n",
       "      <td>0.000000</td>\n",
       "      <td>68829</td>\n",
       "      <td>68770</td>\n",
       "      <td>1</td>\n",
       "      <td>1068</td>\n",
       "      <td>0</td>\n",
       "      <td>1</td>\n",
       "      <td>8.055775e-07</td>\n",
       "      <td>2.047600e-07</td>\n",
       "      <td>0.012305</td>\n",
       "      <td>3.282663e-05</td>\n",
       "      <td>0.014349</td>\n",
       "      <td>2.054597e-07</td>\n",
       "      <td>0</td>\n",
       "    </tr>\n",
       "    <tr>\n",
       "      <th>17676</th>\n",
       "      <td>0.000000</td>\n",
       "      <td>0.000000</td>\n",
       "      <td>0.000000</td>\n",
       "      <td>3956</td>\n",
       "      <td>3948</td>\n",
       "      <td>1</td>\n",
       "      <td>33</td>\n",
       "      <td>0</td>\n",
       "      <td>1</td>\n",
       "      <td>2.190402e-07</td>\n",
       "      <td>2.048017e-07</td>\n",
       "      <td>0.000345</td>\n",
       "      <td>9.122712e-07</td>\n",
       "      <td>0.000818</td>\n",
       "      <td>2.054597e-07</td>\n",
       "      <td>0</td>\n",
       "    </tr>\n",
       "    <tr>\n",
       "      <th>29485</th>\n",
       "      <td>0.000297</td>\n",
       "      <td>0.000453</td>\n",
       "      <td>1.454340</td>\n",
       "      <td>635202</td>\n",
       "      <td>35279</td>\n",
       "      <td>18</td>\n",
       "      <td>640</td>\n",
       "      <td>0</td>\n",
       "      <td>1</td>\n",
       "      <td>2.431027e-07</td>\n",
       "      <td>2.048212e-07</td>\n",
       "      <td>0.012662</td>\n",
       "      <td>6.620032e-04</td>\n",
       "      <td>0.007380</td>\n",
       "      <td>3.698274e-06</td>\n",
       "      <td>16</td>\n",
       "    </tr>\n",
       "    <tr>\n",
       "      <th>36476</th>\n",
       "      <td>0.014785</td>\n",
       "      <td>0.024450</td>\n",
       "      <td>1.462639</td>\n",
       "      <td>37884</td>\n",
       "      <td>21</td>\n",
       "      <td>119</td>\n",
       "      <td>118</td>\n",
       "      <td>238</td>\n",
       "      <td>2</td>\n",
       "      <td>3.232158e-07</td>\n",
       "      <td>3.159942e-07</td>\n",
       "      <td>0.000704</td>\n",
       "      <td>8.544969e-04</td>\n",
       "      <td>0.000029</td>\n",
       "      <td>7.334911e-05</td>\n",
       "      <td>10</td>\n",
       "    </tr>\n",
       "    <tr>\n",
       "      <th>45508</th>\n",
       "      <td>1.583936</td>\n",
       "      <td>0.011227</td>\n",
       "      <td>42.345879</td>\n",
       "      <td>15633376</td>\n",
       "      <td>21104</td>\n",
       "      <td>323</td>\n",
       "      <td>1820</td>\n",
       "      <td>621</td>\n",
       "      <td>2</td>\n",
       "      <td>2.470559e-06</td>\n",
       "      <td>4.178583e-07</td>\n",
       "      <td>0.014610</td>\n",
       "      <td>2.531299e-03</td>\n",
       "      <td>0.004710</td>\n",
       "      <td>1.939539e-04</td>\n",
       "      <td>244</td>\n",
       "    </tr>\n",
       "    <tr>\n",
       "      <th>...</th>\n",
       "      <td>...</td>\n",
       "      <td>...</td>\n",
       "      <td>...</td>\n",
       "      <td>...</td>\n",
       "      <td>...</td>\n",
       "      <td>...</td>\n",
       "      <td>...</td>\n",
       "      <td>...</td>\n",
       "      <td>...</td>\n",
       "      <td>...</td>\n",
       "      <td>...</td>\n",
       "      <td>...</td>\n",
       "      <td>...</td>\n",
       "      <td>...</td>\n",
       "      <td>...</td>\n",
       "      <td>...</td>\n",
       "    </tr>\n",
       "    <tr>\n",
       "      <th>50057</th>\n",
       "      <td>0.045586</td>\n",
       "      <td>0.005155</td>\n",
       "      <td>0.709407</td>\n",
       "      <td>83996</td>\n",
       "      <td>197</td>\n",
       "      <td>290</td>\n",
       "      <td>236</td>\n",
       "      <td>45</td>\n",
       "      <td>2</td>\n",
       "      <td>2.199372e-06</td>\n",
       "      <td>5.569055e-07</td>\n",
       "      <td>0.000265</td>\n",
       "      <td>9.904954e-04</td>\n",
       "      <td>0.000089</td>\n",
       "      <td>6.882899e-05</td>\n",
       "      <td>3</td>\n",
       "    </tr>\n",
       "    <tr>\n",
       "      <th>32511</th>\n",
       "      <td>0.039300</td>\n",
       "      <td>0.008325</td>\n",
       "      <td>7.437408</td>\n",
       "      <td>2287695</td>\n",
       "      <td>314</td>\n",
       "      <td>649</td>\n",
       "      <td>246</td>\n",
       "      <td>6442</td>\n",
       "      <td>2</td>\n",
       "      <td>6.908137e-07</td>\n",
       "      <td>3.860740e-07</td>\n",
       "      <td>0.001686</td>\n",
       "      <td>8.935783e-03</td>\n",
       "      <td>0.000115</td>\n",
       "      <td>1.456915e-03</td>\n",
       "      <td>57</td>\n",
       "    </tr>\n",
       "    <tr>\n",
       "      <th>5192</th>\n",
       "      <td>0.000000</td>\n",
       "      <td>0.000000</td>\n",
       "      <td>0.000000</td>\n",
       "      <td>4944</td>\n",
       "      <td>617</td>\n",
       "      <td>8</td>\n",
       "      <td>10</td>\n",
       "      <td>0</td>\n",
       "      <td>1</td>\n",
       "      <td>2.063114e-07</td>\n",
       "      <td>2.054147e-07</td>\n",
       "      <td>0.000295</td>\n",
       "      <td>9.165149e-05</td>\n",
       "      <td>0.000129</td>\n",
       "      <td>1.643677e-06</td>\n",
       "      <td>0</td>\n",
       "    </tr>\n",
       "    <tr>\n",
       "      <th>12172</th>\n",
       "      <td>0.000335</td>\n",
       "      <td>0.000304</td>\n",
       "      <td>0.227845</td>\n",
       "      <td>26292</td>\n",
       "      <td>6565</td>\n",
       "      <td>4</td>\n",
       "      <td>177</td>\n",
       "      <td>0</td>\n",
       "      <td>1</td>\n",
       "      <td>2.632149e-07</td>\n",
       "      <td>2.048453e-07</td>\n",
       "      <td>0.002223</td>\n",
       "      <td>6.109002e-05</td>\n",
       "      <td>0.001385</td>\n",
       "      <td>8.218387e-07</td>\n",
       "      <td>2</td>\n",
       "    </tr>\n",
       "    <tr>\n",
       "      <th>33003</th>\n",
       "      <td>1.657282</td>\n",
       "      <td>0.020563</td>\n",
       "      <td>72.584485</td>\n",
       "      <td>72369000</td>\n",
       "      <td>3808</td>\n",
       "      <td>468</td>\n",
       "      <td>904</td>\n",
       "      <td>18229</td>\n",
       "      <td>2</td>\n",
       "      <td>8.800048e-07</td>\n",
       "      <td>2.318489e-07</td>\n",
       "      <td>0.009255</td>\n",
       "      <td>9.954395e-03</td>\n",
       "      <td>0.000968</td>\n",
       "      <td>3.841480e-03</td>\n",
       "      <td>448</td>\n",
       "    </tr>\n",
       "  </tbody>\n",
       "</table>\n",
       "<p>48000 rows × 16 columns</p>\n",
       "</div>"
      ],
      "text/plain": [
       "            RAI        JC        AAI        PA  Source_following  \\\n",
       "5004   0.000000  0.000000   0.000000     68829             68770   \n",
       "17676  0.000000  0.000000   0.000000      3956              3948   \n",
       "29485  0.000297  0.000453   1.454340    635202             35279   \n",
       "36476  0.014785  0.024450   1.462639     37884                21   \n",
       "45508  1.583936  0.011227  42.345879  15633376             21104   \n",
       "...         ...       ...        ...       ...               ...   \n",
       "50057  0.045586  0.005155   0.709407     83996               197   \n",
       "32511  0.039300  0.008325   7.437408   2287695               314   \n",
       "5192   0.000000  0.000000   0.000000      4944               617   \n",
       "12172  0.000335  0.000304   0.227845     26292              6565   \n",
       "33003  1.657282  0.020563  72.584485  72369000              3808   \n",
       "\n",
       "       Sink_follows  Source_follows  Sink_following  Shortest_path  \\\n",
       "5004              1            1068               0              1   \n",
       "17676             1              33               0              1   \n",
       "29485            18             640               0              1   \n",
       "36476           119             118             238              2   \n",
       "45508           323            1820             621              2   \n",
       "...             ...             ...             ...            ...   \n",
       "50057           290             236              45              2   \n",
       "32511           649             246            6442              2   \n",
       "5192              8              10               0              1   \n",
       "12172             4             177               0              1   \n",
       "33003           468             904           18229              2   \n",
       "\n",
       "       PageRank_Src  PageRank_Sink  ECentrality_Sour  ECentrality_Sink  \\\n",
       "5004   8.055775e-07   2.047600e-07          0.012305      3.282663e-05   \n",
       "17676  2.190402e-07   2.048017e-07          0.000345      9.122712e-07   \n",
       "29485  2.431027e-07   2.048212e-07          0.012662      6.620032e-04   \n",
       "36476  3.232158e-07   3.159942e-07          0.000704      8.544969e-04   \n",
       "45508  2.470559e-06   4.178583e-07          0.014610      2.531299e-03   \n",
       "...             ...            ...               ...               ...   \n",
       "50057  2.199372e-06   5.569055e-07          0.000265      9.904954e-04   \n",
       "32511  6.908137e-07   3.860740e-07          0.001686      8.935783e-03   \n",
       "5192   2.063114e-07   2.054147e-07          0.000295      9.165149e-05   \n",
       "12172  2.632149e-07   2.048453e-07          0.002223      6.109002e-05   \n",
       "33003  8.800048e-07   2.318489e-07          0.009255      9.954395e-03   \n",
       "\n",
       "       Degree_Centrality_Sour  Degree_Centrality_Sink   CN  \n",
       "5004                 0.014349            2.054597e-07    0  \n",
       "17676                0.000818            2.054597e-07    0  \n",
       "29485                0.007380            3.698274e-06   16  \n",
       "36476                0.000029            7.334911e-05   10  \n",
       "45508                0.004710            1.939539e-04  244  \n",
       "...                       ...                     ...  ...  \n",
       "50057                0.000089            6.882899e-05    3  \n",
       "32511                0.000115            1.456915e-03   57  \n",
       "5192                 0.000129            1.643677e-06    0  \n",
       "12172                0.001385            8.218387e-07    2  \n",
       "33003                0.000968            3.841480e-03  448  \n",
       "\n",
       "[48000 rows x 16 columns]"
      ]
     },
     "execution_count": 215,
     "metadata": {},
     "output_type": "execute_result"
    }
   ],
   "source": [
    "XT"
   ]
  },
  {
   "cell_type": "code",
   "execution_count": 216,
   "metadata": {},
   "outputs": [],
   "source": [
    "x_train = XT\n",
    "y_train = train.Label\n",
    "\n",
    "x_test = xt\n",
    "y_test = test.Label"
   ]
  },
  {
   "cell_type": "code",
   "execution_count": 217,
   "metadata": {},
   "outputs": [
    {
     "data": {
      "text/html": [
       "<div>\n",
       "<style scoped>\n",
       "    .dataframe tbody tr th:only-of-type {\n",
       "        vertical-align: middle;\n",
       "    }\n",
       "\n",
       "    .dataframe tbody tr th {\n",
       "        vertical-align: top;\n",
       "    }\n",
       "\n",
       "    .dataframe thead th {\n",
       "        text-align: right;\n",
       "    }\n",
       "</style>\n",
       "<table border=\"1\" class=\"dataframe\">\n",
       "  <thead>\n",
       "    <tr style=\"text-align: right;\">\n",
       "      <th></th>\n",
       "      <th>RAI</th>\n",
       "      <th>JC</th>\n",
       "      <th>AAI</th>\n",
       "      <th>PA</th>\n",
       "      <th>Source_following</th>\n",
       "      <th>Sink_follows</th>\n",
       "      <th>Source_follows</th>\n",
       "      <th>Sink_following</th>\n",
       "      <th>Shortest_path</th>\n",
       "      <th>PageRank_Src</th>\n",
       "      <th>PageRank_Sink</th>\n",
       "      <th>ECentrality_Sour</th>\n",
       "      <th>ECentrality_Sink</th>\n",
       "      <th>Degree_Centrality_Sour</th>\n",
       "      <th>Degree_Centrality_Sink</th>\n",
       "      <th>CN</th>\n",
       "    </tr>\n",
       "  </thead>\n",
       "  <tbody>\n",
       "    <tr>\n",
       "      <th>5004</th>\n",
       "      <td>0.000000</td>\n",
       "      <td>0.000000</td>\n",
       "      <td>0.000000</td>\n",
       "      <td>68829</td>\n",
       "      <td>68770</td>\n",
       "      <td>1</td>\n",
       "      <td>1068</td>\n",
       "      <td>0</td>\n",
       "      <td>1</td>\n",
       "      <td>8.055775e-07</td>\n",
       "      <td>2.047600e-07</td>\n",
       "      <td>0.012305</td>\n",
       "      <td>3.282663e-05</td>\n",
       "      <td>0.014349</td>\n",
       "      <td>2.054597e-07</td>\n",
       "      <td>0</td>\n",
       "    </tr>\n",
       "    <tr>\n",
       "      <th>17676</th>\n",
       "      <td>0.000000</td>\n",
       "      <td>0.000000</td>\n",
       "      <td>0.000000</td>\n",
       "      <td>3956</td>\n",
       "      <td>3948</td>\n",
       "      <td>1</td>\n",
       "      <td>33</td>\n",
       "      <td>0</td>\n",
       "      <td>1</td>\n",
       "      <td>2.190402e-07</td>\n",
       "      <td>2.048017e-07</td>\n",
       "      <td>0.000345</td>\n",
       "      <td>9.122712e-07</td>\n",
       "      <td>0.000818</td>\n",
       "      <td>2.054597e-07</td>\n",
       "      <td>0</td>\n",
       "    </tr>\n",
       "    <tr>\n",
       "      <th>29485</th>\n",
       "      <td>0.000297</td>\n",
       "      <td>0.000453</td>\n",
       "      <td>1.454340</td>\n",
       "      <td>635202</td>\n",
       "      <td>35279</td>\n",
       "      <td>18</td>\n",
       "      <td>640</td>\n",
       "      <td>0</td>\n",
       "      <td>1</td>\n",
       "      <td>2.431027e-07</td>\n",
       "      <td>2.048212e-07</td>\n",
       "      <td>0.012662</td>\n",
       "      <td>6.620032e-04</td>\n",
       "      <td>0.007380</td>\n",
       "      <td>3.698274e-06</td>\n",
       "      <td>16</td>\n",
       "    </tr>\n",
       "    <tr>\n",
       "      <th>36476</th>\n",
       "      <td>0.014785</td>\n",
       "      <td>0.024450</td>\n",
       "      <td>1.462639</td>\n",
       "      <td>37884</td>\n",
       "      <td>21</td>\n",
       "      <td>119</td>\n",
       "      <td>118</td>\n",
       "      <td>238</td>\n",
       "      <td>2</td>\n",
       "      <td>3.232158e-07</td>\n",
       "      <td>3.159942e-07</td>\n",
       "      <td>0.000704</td>\n",
       "      <td>8.544969e-04</td>\n",
       "      <td>0.000029</td>\n",
       "      <td>7.334911e-05</td>\n",
       "      <td>10</td>\n",
       "    </tr>\n",
       "    <tr>\n",
       "      <th>45508</th>\n",
       "      <td>1.583936</td>\n",
       "      <td>0.011227</td>\n",
       "      <td>42.345879</td>\n",
       "      <td>15633376</td>\n",
       "      <td>21104</td>\n",
       "      <td>323</td>\n",
       "      <td>1820</td>\n",
       "      <td>621</td>\n",
       "      <td>2</td>\n",
       "      <td>2.470559e-06</td>\n",
       "      <td>4.178583e-07</td>\n",
       "      <td>0.014610</td>\n",
       "      <td>2.531299e-03</td>\n",
       "      <td>0.004710</td>\n",
       "      <td>1.939539e-04</td>\n",
       "      <td>244</td>\n",
       "    </tr>\n",
       "    <tr>\n",
       "      <th>...</th>\n",
       "      <td>...</td>\n",
       "      <td>...</td>\n",
       "      <td>...</td>\n",
       "      <td>...</td>\n",
       "      <td>...</td>\n",
       "      <td>...</td>\n",
       "      <td>...</td>\n",
       "      <td>...</td>\n",
       "      <td>...</td>\n",
       "      <td>...</td>\n",
       "      <td>...</td>\n",
       "      <td>...</td>\n",
       "      <td>...</td>\n",
       "      <td>...</td>\n",
       "      <td>...</td>\n",
       "      <td>...</td>\n",
       "    </tr>\n",
       "    <tr>\n",
       "      <th>50057</th>\n",
       "      <td>0.045586</td>\n",
       "      <td>0.005155</td>\n",
       "      <td>0.709407</td>\n",
       "      <td>83996</td>\n",
       "      <td>197</td>\n",
       "      <td>290</td>\n",
       "      <td>236</td>\n",
       "      <td>45</td>\n",
       "      <td>2</td>\n",
       "      <td>2.199372e-06</td>\n",
       "      <td>5.569055e-07</td>\n",
       "      <td>0.000265</td>\n",
       "      <td>9.904954e-04</td>\n",
       "      <td>0.000089</td>\n",
       "      <td>6.882899e-05</td>\n",
       "      <td>3</td>\n",
       "    </tr>\n",
       "    <tr>\n",
       "      <th>32511</th>\n",
       "      <td>0.039300</td>\n",
       "      <td>0.008325</td>\n",
       "      <td>7.437408</td>\n",
       "      <td>2287695</td>\n",
       "      <td>314</td>\n",
       "      <td>649</td>\n",
       "      <td>246</td>\n",
       "      <td>6442</td>\n",
       "      <td>2</td>\n",
       "      <td>6.908137e-07</td>\n",
       "      <td>3.860740e-07</td>\n",
       "      <td>0.001686</td>\n",
       "      <td>8.935783e-03</td>\n",
       "      <td>0.000115</td>\n",
       "      <td>1.456915e-03</td>\n",
       "      <td>57</td>\n",
       "    </tr>\n",
       "    <tr>\n",
       "      <th>5192</th>\n",
       "      <td>0.000000</td>\n",
       "      <td>0.000000</td>\n",
       "      <td>0.000000</td>\n",
       "      <td>4944</td>\n",
       "      <td>617</td>\n",
       "      <td>8</td>\n",
       "      <td>10</td>\n",
       "      <td>0</td>\n",
       "      <td>1</td>\n",
       "      <td>2.063114e-07</td>\n",
       "      <td>2.054147e-07</td>\n",
       "      <td>0.000295</td>\n",
       "      <td>9.165149e-05</td>\n",
       "      <td>0.000129</td>\n",
       "      <td>1.643677e-06</td>\n",
       "      <td>0</td>\n",
       "    </tr>\n",
       "    <tr>\n",
       "      <th>12172</th>\n",
       "      <td>0.000335</td>\n",
       "      <td>0.000304</td>\n",
       "      <td>0.227845</td>\n",
       "      <td>26292</td>\n",
       "      <td>6565</td>\n",
       "      <td>4</td>\n",
       "      <td>177</td>\n",
       "      <td>0</td>\n",
       "      <td>1</td>\n",
       "      <td>2.632149e-07</td>\n",
       "      <td>2.048453e-07</td>\n",
       "      <td>0.002223</td>\n",
       "      <td>6.109002e-05</td>\n",
       "      <td>0.001385</td>\n",
       "      <td>8.218387e-07</td>\n",
       "      <td>2</td>\n",
       "    </tr>\n",
       "    <tr>\n",
       "      <th>33003</th>\n",
       "      <td>1.657282</td>\n",
       "      <td>0.020563</td>\n",
       "      <td>72.584485</td>\n",
       "      <td>72369000</td>\n",
       "      <td>3808</td>\n",
       "      <td>468</td>\n",
       "      <td>904</td>\n",
       "      <td>18229</td>\n",
       "      <td>2</td>\n",
       "      <td>8.800048e-07</td>\n",
       "      <td>2.318489e-07</td>\n",
       "      <td>0.009255</td>\n",
       "      <td>9.954395e-03</td>\n",
       "      <td>0.000968</td>\n",
       "      <td>3.841480e-03</td>\n",
       "      <td>448</td>\n",
       "    </tr>\n",
       "  </tbody>\n",
       "</table>\n",
       "<p>48000 rows × 16 columns</p>\n",
       "</div>"
      ],
      "text/plain": [
       "            RAI        JC        AAI        PA  Source_following  \\\n",
       "5004   0.000000  0.000000   0.000000     68829             68770   \n",
       "17676  0.000000  0.000000   0.000000      3956              3948   \n",
       "29485  0.000297  0.000453   1.454340    635202             35279   \n",
       "36476  0.014785  0.024450   1.462639     37884                21   \n",
       "45508  1.583936  0.011227  42.345879  15633376             21104   \n",
       "...         ...       ...        ...       ...               ...   \n",
       "50057  0.045586  0.005155   0.709407     83996               197   \n",
       "32511  0.039300  0.008325   7.437408   2287695               314   \n",
       "5192   0.000000  0.000000   0.000000      4944               617   \n",
       "12172  0.000335  0.000304   0.227845     26292              6565   \n",
       "33003  1.657282  0.020563  72.584485  72369000              3808   \n",
       "\n",
       "       Sink_follows  Source_follows  Sink_following  Shortest_path  \\\n",
       "5004              1            1068               0              1   \n",
       "17676             1              33               0              1   \n",
       "29485            18             640               0              1   \n",
       "36476           119             118             238              2   \n",
       "45508           323            1820             621              2   \n",
       "...             ...             ...             ...            ...   \n",
       "50057           290             236              45              2   \n",
       "32511           649             246            6442              2   \n",
       "5192              8              10               0              1   \n",
       "12172             4             177               0              1   \n",
       "33003           468             904           18229              2   \n",
       "\n",
       "       PageRank_Src  PageRank_Sink  ECentrality_Sour  ECentrality_Sink  \\\n",
       "5004   8.055775e-07   2.047600e-07          0.012305      3.282663e-05   \n",
       "17676  2.190402e-07   2.048017e-07          0.000345      9.122712e-07   \n",
       "29485  2.431027e-07   2.048212e-07          0.012662      6.620032e-04   \n",
       "36476  3.232158e-07   3.159942e-07          0.000704      8.544969e-04   \n",
       "45508  2.470559e-06   4.178583e-07          0.014610      2.531299e-03   \n",
       "...             ...            ...               ...               ...   \n",
       "50057  2.199372e-06   5.569055e-07          0.000265      9.904954e-04   \n",
       "32511  6.908137e-07   3.860740e-07          0.001686      8.935783e-03   \n",
       "5192   2.063114e-07   2.054147e-07          0.000295      9.165149e-05   \n",
       "12172  2.632149e-07   2.048453e-07          0.002223      6.109002e-05   \n",
       "33003  8.800048e-07   2.318489e-07          0.009255      9.954395e-03   \n",
       "\n",
       "       Degree_Centrality_Sour  Degree_Centrality_Sink   CN  \n",
       "5004                 0.014349            2.054597e-07    0  \n",
       "17676                0.000818            2.054597e-07    0  \n",
       "29485                0.007380            3.698274e-06   16  \n",
       "36476                0.000029            7.334911e-05   10  \n",
       "45508                0.004710            1.939539e-04  244  \n",
       "...                       ...                     ...  ...  \n",
       "50057                0.000089            6.882899e-05    3  \n",
       "32511                0.000115            1.456915e-03   57  \n",
       "5192                 0.000129            1.643677e-06    0  \n",
       "12172                0.001385            8.218387e-07    2  \n",
       "33003                0.000968            3.841480e-03  448  \n",
       "\n",
       "[48000 rows x 16 columns]"
      ]
     },
     "execution_count": 217,
     "metadata": {},
     "output_type": "execute_result"
    }
   ],
   "source": [
    "x_train"
   ]
  },
  {
   "cell_type": "code",
   "execution_count": 219,
   "metadata": {},
   "outputs": [
    {
     "data": {
      "text/plain": [
       "LogisticRegression(C=1.0, class_weight=None, dual=False, fit_intercept=True,\n",
       "                   intercept_scaling=1, l1_ratio=None, max_iter=100,\n",
       "                   multi_class='auto', n_jobs=None, penalty='none',\n",
       "                   random_state=None, solver='lbfgs', tol=0.0001, verbose=0,\n",
       "                   warm_start=False)"
      ]
     },
     "execution_count": 219,
     "metadata": {},
     "output_type": "execute_result"
    }
   ],
   "source": [
    "from sklearn.linear_model import LogisticRegression\n",
    "LR_model = LogisticRegression(penalty ='none')\n",
    "LR_model.fit(x_train,y_train)"
   ]
  },
  {
   "cell_type": "code",
   "execution_count": 220,
   "metadata": {},
   "outputs": [],
   "source": [
    "label_predict=LR_model.predict(x_test)\n",
    "prob_preidct=LR_model.predict_proba(x_test)"
   ]
  },
  {
   "cell_type": "code",
   "execution_count": 221,
   "metadata": {},
   "outputs": [
    {
     "data": {
      "text/plain": [
       "0.6924432528605806"
      ]
     },
     "execution_count": 221,
     "metadata": {},
     "output_type": "execute_result"
    }
   ],
   "source": [
    "from sklearn.metrics import roc_auc_score\n",
    "roc_auc_score(y_test,label_predict)"
   ]
  },
  {
   "cell_type": "code",
   "execution_count": 254,
   "metadata": {},
   "outputs": [],
   "source": [
    "with open('16_test.txt','rb') as file:\n",
    "    test=pickle.load(file)"
   ]
  },
  {
   "cell_type": "code",
   "execution_count": 223,
   "metadata": {},
   "outputs": [],
   "source": [
    "test=test.drop(['Source','Sink'],axis=1)"
   ]
  },
  {
   "cell_type": "code",
   "execution_count": 224,
   "metadata": {},
   "outputs": [],
   "source": [
    "with open('ID.txt','rb') as file:\n",
    "    ID=pickle.load(file)"
   ]
  },
  {
   "cell_type": "code",
   "execution_count": 225,
   "metadata": {},
   "outputs": [],
   "source": [
    "#test=test.drop(['RAI','JC','AAI','CN',],axis=1)\n",
    "prob_preidct=LR_model.predict_proba(test)"
   ]
  },
  {
   "cell_type": "code",
   "execution_count": 226,
   "metadata": {},
   "outputs": [
    {
     "data": {
      "text/plain": [
       "array([[0.50000064, 0.49999936],\n",
       "       [0.50000064, 0.49999936],\n",
       "       [0.50000413, 0.49999587],\n",
       "       ...,\n",
       "       [0.50000006, 0.49999994],\n",
       "       [0.50000016, 0.49999984],\n",
       "       [0.50000048, 0.49999952]])"
      ]
     },
     "execution_count": 226,
     "metadata": {},
     "output_type": "execute_result"
    }
   ],
   "source": [
    "prob_preidct #predict probabilities"
   ]
  },
  {
   "cell_type": "code",
   "execution_count": null,
   "metadata": {},
   "outputs": [],
   "source": [
    "def submission(prob_preidct, LR):\n",
    "    with open(LR, 'w') as file:\n",
    "        file.write('Id,Predicted\\n')\n",
    "        for i, p in zip(ID, prob_preidct):\n",
    "            file.write(\"{},{}\\n\".format(i, p[0]))"
   ]
  },
  {
   "cell_type": "code",
   "execution_count": null,
   "metadata": {},
   "outputs": [],
   "source": [
    "submission(prob_preidct, 'LRsubmit.csv')"
   ]
  },
  {
   "cell_type": "markdown",
   "metadata": {},
   "source": [
    "### SGDClassifier, loss='log' "
   ]
  },
  {
   "cell_type": "code",
   "execution_count": 303,
   "metadata": {},
   "outputs": [],
   "source": [
    "import pickle\n",
    "\n",
    "from sklearn.metrics import roc_auc_score\n",
    "from sklearn.preprocessing import StandardScaler\n",
    "from sklearn.linear_model import SGDClassifier,SGDRegressor"
   ]
  },
  {
   "cell_type": "code",
   "execution_count": 304,
   "metadata": {},
   "outputs": [],
   "source": [
    "with open('Train_HHH.txt','rb') as file:\n",
    "    dataset=pickle.load(file)\n",
    "train, test = train_test_split(dataset, test_size=0.2, random_state=1)\n",
    "scaler = StandardScaler()"
   ]
  },
  {
   "cell_type": "code",
   "execution_count": 305,
   "metadata": {},
   "outputs": [],
   "source": [
    "XT=train.drop('Label',axis=1)\n",
    "xt=test.drop('Label',axis=1)"
   ]
  },
  {
   "cell_type": "code",
   "execution_count": 306,
   "metadata": {},
   "outputs": [],
   "source": [
    "x_train = scaler.fit_transform(XT.iloc[:,2:])\n",
    "y_train = train.Label\n",
    "\n",
    "x_test = scaler.transform(xt.iloc[:,2:])\n",
    "y_test = test.Label"
   ]
  },
  {
   "cell_type": "code",
   "execution_count": 317,
   "metadata": {},
   "outputs": [
    {
     "data": {
      "text/plain": [
       "SGDClassifier(alpha=0.0001, average=False, class_weight=None,\n",
       "              early_stopping=False, epsilon=0.1, eta0=0.0, fit_intercept=False,\n",
       "              l1_ratio=0.15, learning_rate='optimal', loss='log', max_iter=1000,\n",
       "              n_iter_no_change=5, n_jobs=None, penalty='l2', power_t=0.5,\n",
       "              random_state=None, shuffle=True, tol=0.001,\n",
       "              validation_fraction=0.1, verbose=0, warm_start=False)"
      ]
     },
     "execution_count": 317,
     "metadata": {},
     "output_type": "execute_result"
    }
   ],
   "source": [
    "SDGcl=SGDClassifier(loss='log',max_iter=1000, tol=1e-3,fit_intercept=False) #'log':0.51 \n",
    "SDGcl.fit(x_train,y_train)\n",
    "#SDGre=SGDRegressor(loss='squared_loss',max_iter=1000, tol=1e-3) # do not have prob_predict\n",
    "#SDGre.fit(x_train,y_train)"
   ]
  },
  {
   "cell_type": "code",
   "execution_count": 318,
   "metadata": {},
   "outputs": [],
   "source": [
    "label_predictC=SDGcl.predict(x_test)\n",
    "prob_preidctC=SDGcl.predict_proba(x_test)\n",
    "#label_predictR=SDGre.predict(x_test)\n",
    "#prob_preidctR=SDGre.predict_proba(x_test)"
   ]
  },
  {
   "cell_type": "code",
   "execution_count": 319,
   "metadata": {},
   "outputs": [
    {
     "data": {
      "text/plain": [
       "array([[8.88785246e-05, 9.99911121e-01],\n",
       "       [7.14694509e-04, 9.99285305e-01],\n",
       "       [9.99992909e-01, 7.09131293e-06],\n",
       "       ...,\n",
       "       [7.61114216e-03, 9.92388858e-01],\n",
       "       [3.37311567e-04, 9.99662688e-01],\n",
       "       [3.17739186e-01, 6.82260814e-01]])"
      ]
     },
     "execution_count": 319,
     "metadata": {},
     "output_type": "execute_result"
    }
   ],
   "source": [
    "prob_preidctC"
   ]
  },
  {
   "cell_type": "code",
   "execution_count": 320,
   "metadata": {},
   "outputs": [
    {
     "name": "stdout",
     "output_type": "stream",
     "text": [
      "The ROC of SDGClassifier is 0.974536\n"
     ]
    }
   ],
   "source": [
    "cl=roc_auc_score(y_test,label_predictC)\n",
    "#re=roc_auc_score(y_test,label_predictR)\\nThe ROC of SDGRegression is %f'\n",
    "print('The ROC of SDGClassifier is %f' %(cl))"
   ]
  },
  {
   "cell_type": "code",
   "execution_count": 345,
   "metadata": {},
   "outputs": [],
   "source": [
    "with open('16_test.txt','rb') as file:\n",
    "    test=pickle.load(file)"
   ]
  },
  {
   "cell_type": "code",
   "execution_count": 322,
   "metadata": {},
   "outputs": [],
   "source": [
    "test = scaler.transform(test.iloc[:,2:])\n",
    "prob_preidctCT=SDGcl.predict_proba(test)"
   ]
  },
  {
   "cell_type": "code",
   "execution_count": 323,
   "metadata": {},
   "outputs": [
    {
     "data": {
      "text/plain": [
       "array([1, 1, 0, ..., 1, 1, 1], dtype=int64)"
      ]
     },
     "execution_count": 323,
     "metadata": {},
     "output_type": "execute_result"
    }
   ],
   "source": [
    "label_predictC"
   ]
  },
  {
   "cell_type": "code",
   "execution_count": 324,
   "metadata": {},
   "outputs": [],
   "source": [
    "def submission(probs, filename):\n",
    "    with open(filename, 'w') as file:\n",
    "        file.write('Id,Predicted\\n')\n",
    "        for i, p in zip(ID, probs):\n",
    "            file.write(\"{},{}\\n\".format(i, p[1]))"
   ]
  },
  {
   "cell_type": "code",
   "execution_count": 325,
   "metadata": {},
   "outputs": [],
   "source": [
    "submission(prob_preidctC, 'SDGclsubmit.csv')"
   ]
  },
  {
   "cell_type": "code",
   "execution_count": 316,
   "metadata": {},
   "outputs": [
    {
     "data": {
      "text/html": [
       "<div>\n",
       "<style scoped>\n",
       "    .dataframe tbody tr th:only-of-type {\n",
       "        vertical-align: middle;\n",
       "    }\n",
       "\n",
       "    .dataframe tbody tr th {\n",
       "        vertical-align: top;\n",
       "    }\n",
       "\n",
       "    .dataframe thead th {\n",
       "        text-align: right;\n",
       "    }\n",
       "</style>\n",
       "<table border=\"1\" class=\"dataframe\">\n",
       "  <thead>\n",
       "    <tr style=\"text-align: right;\">\n",
       "      <th></th>\n",
       "      <th>Id</th>\n",
       "      <th>Predicted</th>\n",
       "    </tr>\n",
       "  </thead>\n",
       "  <tbody>\n",
       "    <tr>\n",
       "      <th>0</th>\n",
       "      <td>1</td>\n",
       "      <td>0.999921</td>\n",
       "    </tr>\n",
       "    <tr>\n",
       "      <th>1</th>\n",
       "      <td>2</td>\n",
       "      <td>0.999569</td>\n",
       "    </tr>\n",
       "    <tr>\n",
       "      <th>2</th>\n",
       "      <td>3</td>\n",
       "      <td>0.000009</td>\n",
       "    </tr>\n",
       "    <tr>\n",
       "      <th>3</th>\n",
       "      <td>4</td>\n",
       "      <td>0.990130</td>\n",
       "    </tr>\n",
       "    <tr>\n",
       "      <th>4</th>\n",
       "      <td>5</td>\n",
       "      <td>0.000887</td>\n",
       "    </tr>\n",
       "    <tr>\n",
       "      <th>...</th>\n",
       "      <td>...</td>\n",
       "      <td>...</td>\n",
       "    </tr>\n",
       "    <tr>\n",
       "      <th>1995</th>\n",
       "      <td>1996</td>\n",
       "      <td>0.000037</td>\n",
       "    </tr>\n",
       "    <tr>\n",
       "      <th>1996</th>\n",
       "      <td>1997</td>\n",
       "      <td>0.000048</td>\n",
       "    </tr>\n",
       "    <tr>\n",
       "      <th>1997</th>\n",
       "      <td>1998</td>\n",
       "      <td>0.006918</td>\n",
       "    </tr>\n",
       "    <tr>\n",
       "      <th>1998</th>\n",
       "      <td>1999</td>\n",
       "      <td>0.000038</td>\n",
       "    </tr>\n",
       "    <tr>\n",
       "      <th>1999</th>\n",
       "      <td>2000</td>\n",
       "      <td>0.000002</td>\n",
       "    </tr>\n",
       "  </tbody>\n",
       "</table>\n",
       "<p>2000 rows × 2 columns</p>\n",
       "</div>"
      ],
      "text/plain": [
       "        Id  Predicted\n",
       "0        1   0.999921\n",
       "1        2   0.999569\n",
       "2        3   0.000009\n",
       "3        4   0.990130\n",
       "4        5   0.000887\n",
       "...    ...        ...\n",
       "1995  1996   0.000037\n",
       "1996  1997   0.000048\n",
       "1997  1998   0.006918\n",
       "1998  1999   0.000038\n",
       "1999  2000   0.000002\n",
       "\n",
       "[2000 rows x 2 columns]"
      ]
     },
     "execution_count": 316,
     "metadata": {},
     "output_type": "execute_result"
    }
   ],
   "source": [
    "cc = train_data=pd.read_csv('SDGclsubmit.csv')\n",
    "cc"
   ]
  },
  {
   "cell_type": "markdown",
   "metadata": {},
   "source": [
    "## Random Forest, Decision Tree, KNN\n",
    "Random foreset: AUC=0.744"
   ]
  },
  {
   "cell_type": "code",
   "execution_count": null,
   "metadata": {},
   "outputs": [],
   "source": []
  },
  {
   "cell_type": "code",
   "execution_count": 126,
   "metadata": {},
   "outputs": [],
   "source": [
    "from sklearn.tree import DecisionTreeClassifier\n",
    "from sklearn.ensemble import RandomForestClassifier\n",
    "from sklearn.neighbors import KNeighborsClassifier\n",
    "from sklearn.naive_bayes import MultinomialNB\n",
    "from sklearn.svm import SVC\n",
    "from sklearn import model_selection\n",
    "from sklearn.metrics import accuracy_score, classification_report\n",
    "from sklearn.preprocessing import StandardScaler\n",
    "from sklearn.model_selection import train_test_split, StratifiedShuffleSplit, GridSearchCV\n",
    "from sklearn import metrics"
   ]
  },
  {
   "cell_type": "code",
   "execution_count": null,
   "metadata": {},
   "outputs": [],
   "source": [
    "clfs = [KNeighborsClassifier(),DecisionTreeClassifier(),RandomForestClassifier()]\n",
    "for clf in clfs:\n",
    "    clf.fit(x_train, y_train)\n",
    "    print (clf)\n",
    "    print(clf.score(x_test, y_test))\n",
    "    predictions = clf.predict(x_test)\n",
    "    print (\"accuracy\")\n",
    "    print (accuracy_score(y_test,predictions))\n",
    "    print (classification_report(y_test,predictions))\n",
    "    print(\"AUC\")\n",
    "    fpr, tpr, thresholds = metrics.roc_curve(y_test, predictions, pos_label=1)\n",
    "    print(metrics.auc(fpr, tpr))\n",
    "    probs = clf.predict_proba(x_test)\n",
    "    print(\"Prob\")\n",
    "    print(probs)"
   ]
  },
  {
   "cell_type": "code",
   "execution_count": 110,
   "metadata": {},
   "outputs": [],
   "source": [
    "with open('16_test.txt', 'rb') as file:\n",
    "    samples_test = pickle.load(file)"
   ]
  },
  {
   "cell_type": "code",
   "execution_count": 111,
   "metadata": {},
   "outputs": [],
   "source": [
    "samples_test = samples_test.drop('Source', axis=1)"
   ]
  },
  {
   "cell_type": "code",
   "execution_count": 129,
   "metadata": {},
   "outputs": [],
   "source": [
    "#samples_test = samples_test.drop('Sink', axis=1)\n",
    "samples_test=samples_test.loc[:,['RAI','JC','AAI','PA','CN']]"
   ]
  },
  {
   "cell_type": "code",
   "execution_count": 130,
   "metadata": {},
   "outputs": [
    {
     "data": {
      "text/html": [
       "<div>\n",
       "<style scoped>\n",
       "    .dataframe tbody tr th:only-of-type {\n",
       "        vertical-align: middle;\n",
       "    }\n",
       "\n",
       "    .dataframe tbody tr th {\n",
       "        vertical-align: top;\n",
       "    }\n",
       "\n",
       "    .dataframe thead th {\n",
       "        text-align: right;\n",
       "    }\n",
       "</style>\n",
       "<table border=\"1\" class=\"dataframe\">\n",
       "  <thead>\n",
       "    <tr style=\"text-align: right;\">\n",
       "      <th></th>\n",
       "      <th>RAI</th>\n",
       "      <th>JC</th>\n",
       "      <th>AAI</th>\n",
       "      <th>PA</th>\n",
       "      <th>CN</th>\n",
       "    </tr>\n",
       "  </thead>\n",
       "  <tbody>\n",
       "    <tr>\n",
       "      <th>0</th>\n",
       "      <td>0.000000</td>\n",
       "      <td>0.000000</td>\n",
       "      <td>0.000000</td>\n",
       "      <td>667</td>\n",
       "      <td>0</td>\n",
       "    </tr>\n",
       "    <tr>\n",
       "      <th>1</th>\n",
       "      <td>0.000000</td>\n",
       "      <td>0.000000</td>\n",
       "      <td>0.000000</td>\n",
       "      <td>666</td>\n",
       "      <td>0</td>\n",
       "    </tr>\n",
       "    <tr>\n",
       "      <th>2</th>\n",
       "      <td>0.004624</td>\n",
       "      <td>0.011152</td>\n",
       "      <td>0.462729</td>\n",
       "      <td>4335</td>\n",
       "      <td>3</td>\n",
       "    </tr>\n",
       "    <tr>\n",
       "      <th>3</th>\n",
       "      <td>0.000028</td>\n",
       "      <td>0.003670</td>\n",
       "      <td>0.178805</td>\n",
       "      <td>18396</td>\n",
       "      <td>2</td>\n",
       "    </tr>\n",
       "    <tr>\n",
       "      <th>4</th>\n",
       "      <td>0.000000</td>\n",
       "      <td>0.000000</td>\n",
       "      <td>0.000000</td>\n",
       "      <td>966</td>\n",
       "      <td>0</td>\n",
       "    </tr>\n",
       "    <tr>\n",
       "      <th>...</th>\n",
       "      <td>...</td>\n",
       "      <td>...</td>\n",
       "      <td>...</td>\n",
       "      <td>...</td>\n",
       "      <td>...</td>\n",
       "    </tr>\n",
       "    <tr>\n",
       "      <th>1995</th>\n",
       "      <td>0.000000</td>\n",
       "      <td>0.000000</td>\n",
       "      <td>0.000000</td>\n",
       "      <td>116</td>\n",
       "      <td>0</td>\n",
       "    </tr>\n",
       "    <tr>\n",
       "      <th>1996</th>\n",
       "      <td>0.000049</td>\n",
       "      <td>0.006061</td>\n",
       "      <td>0.100722</td>\n",
       "      <td>5125</td>\n",
       "      <td>1</td>\n",
       "    </tr>\n",
       "    <tr>\n",
       "      <th>1997</th>\n",
       "      <td>0.000000</td>\n",
       "      <td>0.000000</td>\n",
       "      <td>0.000000</td>\n",
       "      <td>58</td>\n",
       "      <td>0</td>\n",
       "    </tr>\n",
       "    <tr>\n",
       "      <th>1998</th>\n",
       "      <td>0.000000</td>\n",
       "      <td>0.000000</td>\n",
       "      <td>0.000000</td>\n",
       "      <td>171</td>\n",
       "      <td>0</td>\n",
       "    </tr>\n",
       "    <tr>\n",
       "      <th>1999</th>\n",
       "      <td>0.000000</td>\n",
       "      <td>0.000000</td>\n",
       "      <td>0.000000</td>\n",
       "      <td>502</td>\n",
       "      <td>0</td>\n",
       "    </tr>\n",
       "  </tbody>\n",
       "</table>\n",
       "<p>2000 rows × 5 columns</p>\n",
       "</div>"
      ],
      "text/plain": [
       "           RAI        JC       AAI     PA  CN\n",
       "0     0.000000  0.000000  0.000000    667   0\n",
       "1     0.000000  0.000000  0.000000    666   0\n",
       "2     0.004624  0.011152  0.462729   4335   3\n",
       "3     0.000028  0.003670  0.178805  18396   2\n",
       "4     0.000000  0.000000  0.000000    966   0\n",
       "...        ...       ...       ...    ...  ..\n",
       "1995  0.000000  0.000000  0.000000    116   0\n",
       "1996  0.000049  0.006061  0.100722   5125   1\n",
       "1997  0.000000  0.000000  0.000000     58   0\n",
       "1998  0.000000  0.000000  0.000000    171   0\n",
       "1999  0.000000  0.000000  0.000000    502   0\n",
       "\n",
       "[2000 rows x 5 columns]"
      ]
     },
     "execution_count": 130,
     "metadata": {},
     "output_type": "execute_result"
    }
   ],
   "source": [
    "samples_test"
   ]
  },
  {
   "cell_type": "code",
   "execution_count": null,
   "metadata": {},
   "outputs": [],
   "source": [
    "prob_list = []\n",
    "clfs = [KNeighborsClassifier(),DecisionTreeClassifier(),RandomForestClassifier()]\n",
    "for clf in clfs:\n",
    "    clf.fit(x_train, y_train)\n",
    "    print (clf)\n",
    "    predictions = clf.predict(samples_test)\n",
    "    print(\"Predictions\")\n",
    "    print(predictions)\n",
    "    probs = clf.predict_proba(samples_test)\n",
    "    print(\"Prob\")\n",
    "    print(probs)\n",
    "    prob_list.append([probs])"
   ]
  },
  {
   "cell_type": "code",
   "execution_count": null,
   "metadata": {},
   "outputs": [],
   "source": [
    "KNeighborsClassifier = prob_list[0]"
   ]
  },
  {
   "cell_type": "code",
   "execution_count": null,
   "metadata": {},
   "outputs": [],
   "source": [
    "KNeighborsClassifier =KNeighborsClassifier[0]"
   ]
  },
  {
   "cell_type": "code",
   "execution_count": null,
   "metadata": {},
   "outputs": [],
   "source": [
    "DecisionTreeClassifier = prob_list[1]"
   ]
  },
  {
   "cell_type": "code",
   "execution_count": null,
   "metadata": {},
   "outputs": [],
   "source": [
    "DecisionTreeClassifier=DecisionTreeClassifier[0]"
   ]
  },
  {
   "cell_type": "code",
   "execution_count": 132,
   "metadata": {},
   "outputs": [],
   "source": [
    "RandomForestClassifier = prob_list[2]"
   ]
  },
  {
   "cell_type": "code",
   "execution_count": 133,
   "metadata": {},
   "outputs": [],
   "source": [
    "RandomForestClassifier=RandomForestClassifier[0]"
   ]
  },
  {
   "cell_type": "code",
   "execution_count": 134,
   "metadata": {},
   "outputs": [],
   "source": [
    "def submission(probs, filename):\n",
    "    with open(filename, 'w') as file:\n",
    "        file.write('Id,Predicted\\n')\n",
    "        for i, p in zip(ID, probs):\n",
    "            file.write(\"{},{}\\n\".format(i, p[1]))"
   ]
  },
  {
   "cell_type": "code",
   "execution_count": null,
   "metadata": {},
   "outputs": [],
   "source": [
    "submission(DecisionTreeClassifier, 'DTsubmit.csv')"
   ]
  },
  {
   "cell_type": "code",
   "execution_count": null,
   "metadata": {},
   "outputs": [],
   "source": [
    "DT = train_data=pd.read_csv('DTsubmit.csv')\n",
    "DT"
   ]
  },
  {
   "cell_type": "code",
   "execution_count": null,
   "metadata": {},
   "outputs": [],
   "source": [
    "submission(KNeighborsClassifier, 'KNsubmit.csv')"
   ]
  },
  {
   "cell_type": "code",
   "execution_count": null,
   "metadata": {},
   "outputs": [],
   "source": [
    "KNN = train_data=pd.read_csv('KNsubmit.csv')\n",
    "KNN"
   ]
  },
  {
   "cell_type": "code",
   "execution_count": 135,
   "metadata": {},
   "outputs": [],
   "source": [
    "submission(RandomForestClassifier, 'RFsubmit.csv')"
   ]
  },
  {
   "cell_type": "code",
   "execution_count": 136,
   "metadata": {},
   "outputs": [
    {
     "data": {
      "text/html": [
       "<div>\n",
       "<style scoped>\n",
       "    .dataframe tbody tr th:only-of-type {\n",
       "        vertical-align: middle;\n",
       "    }\n",
       "\n",
       "    .dataframe tbody tr th {\n",
       "        vertical-align: top;\n",
       "    }\n",
       "\n",
       "    .dataframe thead th {\n",
       "        text-align: right;\n",
       "    }\n",
       "</style>\n",
       "<table border=\"1\" class=\"dataframe\">\n",
       "  <thead>\n",
       "    <tr style=\"text-align: right;\">\n",
       "      <th></th>\n",
       "      <th>Id</th>\n",
       "      <th>Predicted</th>\n",
       "    </tr>\n",
       "  </thead>\n",
       "  <tbody>\n",
       "    <tr>\n",
       "      <th>0</th>\n",
       "      <td>1</td>\n",
       "      <td>0.940000</td>\n",
       "    </tr>\n",
       "    <tr>\n",
       "      <th>1</th>\n",
       "      <td>2</td>\n",
       "      <td>0.940000</td>\n",
       "    </tr>\n",
       "    <tr>\n",
       "      <th>2</th>\n",
       "      <td>3</td>\n",
       "      <td>0.280000</td>\n",
       "    </tr>\n",
       "    <tr>\n",
       "      <th>3</th>\n",
       "      <td>4</td>\n",
       "      <td>0.720000</td>\n",
       "    </tr>\n",
       "    <tr>\n",
       "      <th>4</th>\n",
       "      <td>5</td>\n",
       "      <td>0.587489</td>\n",
       "    </tr>\n",
       "    <tr>\n",
       "      <th>...</th>\n",
       "      <td>...</td>\n",
       "      <td>...</td>\n",
       "    </tr>\n",
       "    <tr>\n",
       "      <th>1995</th>\n",
       "      <td>1996</td>\n",
       "      <td>1.000000</td>\n",
       "    </tr>\n",
       "    <tr>\n",
       "      <th>1996</th>\n",
       "      <td>1997</td>\n",
       "      <td>0.490000</td>\n",
       "    </tr>\n",
       "    <tr>\n",
       "      <th>1997</th>\n",
       "      <td>1998</td>\n",
       "      <td>1.000000</td>\n",
       "    </tr>\n",
       "    <tr>\n",
       "      <th>1998</th>\n",
       "      <td>1999</td>\n",
       "      <td>0.813167</td>\n",
       "    </tr>\n",
       "    <tr>\n",
       "      <th>1999</th>\n",
       "      <td>2000</td>\n",
       "      <td>1.000000</td>\n",
       "    </tr>\n",
       "  </tbody>\n",
       "</table>\n",
       "<p>2000 rows × 2 columns</p>\n",
       "</div>"
      ],
      "text/plain": [
       "        Id  Predicted\n",
       "0        1   0.940000\n",
       "1        2   0.940000\n",
       "2        3   0.280000\n",
       "3        4   0.720000\n",
       "4        5   0.587489\n",
       "...    ...        ...\n",
       "1995  1996   1.000000\n",
       "1996  1997   0.490000\n",
       "1997  1998   1.000000\n",
       "1998  1999   0.813167\n",
       "1999  2000   1.000000\n",
       "\n",
       "[2000 rows x 2 columns]"
      ]
     },
     "execution_count": 136,
     "metadata": {},
     "output_type": "execute_result"
    }
   ],
   "source": [
    "RF = train_data=pd.read_csv('RFsubmit.csv')\n",
    "RF"
   ]
  },
  {
   "cell_type": "markdown",
   "metadata": {},
   "source": [
    "## SVM"
   ]
  },
  {
   "cell_type": "code",
   "execution_count": 383,
   "metadata": {},
   "outputs": [],
   "source": [
    "from sklearn.svm import SVC\n",
    "from sklearn.preprocessing import StandardScaler\n",
    "from sklearn.model_selection import StratifiedShuffleSplit, GridSearchCV"
   ]
  },
  {
   "cell_type": "code",
   "execution_count": 384,
   "metadata": {},
   "outputs": [],
   "source": [
    "with open('Train_HHH.txt','rb') as file:\n",
    "    dataset=pickle.load(file)\n",
    "train, test = train_test_split(dataset, test_size=0.2, random_state=1)\n",
    "scaler = StandardScaler()"
   ]
  },
  {
   "cell_type": "code",
   "execution_count": 385,
   "metadata": {},
   "outputs": [],
   "source": [
    "x_train = scaler.fit_transform(XT.iloc[:,2:])\n",
    "y_train = train.Label\n",
    "\n",
    "x_test = scaler.transform(xt.iloc[:,2:])\n",
    "y_test = test.Label"
   ]
  },
  {
   "cell_type": "code",
   "execution_count": 386,
   "metadata": {},
   "outputs": [],
   "source": [
    "C_range = np.logspace(-2, 5, 5)\n",
    "gamma_range = np.logspace(-6, 1, 8)"
   ]
  },
  {
   "cell_type": "code",
   "execution_count": 387,
   "metadata": {},
   "outputs": [],
   "source": [
    "cv = StratifiedShuffleSplit(n_splits=5, test_size=0.2, random_state=1)\n"
   ]
  },
  {
   "cell_type": "code",
   "execution_count": 388,
   "metadata": {},
   "outputs": [],
   "source": [
    "grid = GridSearchCV(SVC(kernel='rbf'), param_grid={'gamma': gamma_range, 'C': C_range}, cv=cv)\n"
   ]
  },
  {
   "cell_type": "code",
   "execution_count": null,
   "metadata": {},
   "outputs": [],
   "source": [
    "grid.fit(x_train, y_train)\n",
    "print(\"The best parameters are {0.best_params_} with an accuracy of {0.best_score_:.3g}\".format(grid))"
   ]
  },
  {
   "cell_type": "code",
   "execution_count": null,
   "metadata": {},
   "outputs": [],
   "source": [
    "scores = grid.cv_results_['mean_test_score'].reshape(C_range.size, gamma_range.size)\n",
    "\n",
    "plt.figure(figsize=(8, 6))\n",
    "plt.imshow(scores, cmap='viridis')\n",
    "plt.colorbar(shrink=0.7)\n",
    "plt.xticks(np.arange(len(gamma_range)), [\"%.2e\" % gamma for gamma in gamma_range], rotation=90)\n",
    "plt.yticks(np.arange(len(C_range)), [\"%1.e\" % C for C in C_range])\n",
    "plt.title('Cross validation accuracy')\n",
    "plt.xlabel(r'$\\gamma$')\n",
    "plt.ylabel('$C$')\n",
    "plt.show()\n"
   ]
  },
  {
   "cell_type": "code",
   "execution_count": null,
   "metadata": {},
   "outputs": [],
   "source": []
  },
  {
   "cell_type": "markdown",
   "metadata": {},
   "source": [
    "## MLP"
   ]
  },
  {
   "cell_type": "code",
   "execution_count": 333,
   "metadata": {},
   "outputs": [],
   "source": [
    "from sklearn.neural_network import MLPClassifier"
   ]
  },
  {
   "cell_type": "code",
   "execution_count": 377,
   "metadata": {},
   "outputs": [],
   "source": [
    "clf = MLPClassifier(solver='adam', alpha=1e-5, hidden_layer_sizes=(10),activation='logistic', random_state=1,max_iter=3000)"
   ]
  },
  {
   "cell_type": "code",
   "execution_count": 378,
   "metadata": {},
   "outputs": [
    {
     "data": {
      "text/plain": [
       "MLPClassifier(activation='logistic', alpha=1e-05, batch_size='auto', beta_1=0.9,\n",
       "              beta_2=0.999, early_stopping=False, epsilon=1e-08,\n",
       "              hidden_layer_sizes=10, learning_rate='constant',\n",
       "              learning_rate_init=0.001, max_fun=15000, max_iter=3000,\n",
       "              momentum=0.9, n_iter_no_change=10, nesterovs_momentum=True,\n",
       "              power_t=0.5, random_state=1, shuffle=True, solver='adam',\n",
       "              tol=0.0001, validation_fraction=0.1, verbose=False,\n",
       "              warm_start=False)"
      ]
     },
     "execution_count": 378,
     "metadata": {},
     "output_type": "execute_result"
    }
   ],
   "source": [
    "clf.fit(x_train, y_train)"
   ]
  },
  {
   "cell_type": "code",
   "execution_count": 379,
   "metadata": {},
   "outputs": [],
   "source": [
    "prob_pre=clf.predict_proba(x_test)\n",
    "label_pre=clf.predict(x_test)"
   ]
  },
  {
   "cell_type": "code",
   "execution_count": 380,
   "metadata": {},
   "outputs": [
    {
     "data": {
      "text/plain": [
       "array([1, 1, 0, ..., 1, 1, 1], dtype=int64)"
      ]
     },
     "execution_count": 380,
     "metadata": {},
     "output_type": "execute_result"
    }
   ],
   "source": [
    "label_pre"
   ]
  },
  {
   "cell_type": "code",
   "execution_count": 381,
   "metadata": {},
   "outputs": [],
   "source": [
    "mlp=roc_auc_score(y_test,label_pre)"
   ]
  },
  {
   "cell_type": "code",
   "execution_count": 382,
   "metadata": {},
   "outputs": [
    {
     "data": {
      "text/plain": [
       "0.9911092140455865"
      ]
     },
     "execution_count": 382,
     "metadata": {},
     "output_type": "execute_result"
    }
   ],
   "source": [
    "mlp"
   ]
  },
  {
   "cell_type": "code",
   "execution_count": 374,
   "metadata": {},
   "outputs": [],
   "source": [
    "#test = scaler.transform(test.iloc[:,2:])\n",
    "prob_pre=clf.predict(test)"
   ]
  },
  {
   "cell_type": "code",
   "execution_count": 375,
   "metadata": {},
   "outputs": [
    {
     "data": {
      "text/plain": [
       "array([0, 0, 1, ..., 0, 0, 0], dtype=int64)"
      ]
     },
     "execution_count": 375,
     "metadata": {},
     "output_type": "execute_result"
    }
   ],
   "source": [
    "clf.predict(test)"
   ]
  },
  {
   "cell_type": "markdown",
   "metadata": {},
   "source": [
    "# features "
   ]
  },
  {
   "cell_type": "code",
   "execution_count": null,
   "metadata": {},
   "outputs": [],
   "source": []
  },
  {
   "cell_type": "code",
   "execution_count": null,
   "metadata": {},
   "outputs": [],
   "source": [
    "with open('train_60000.txt', 'rb') as file:\n",
    "    test = pickle.load(file)"
   ]
  },
  {
   "cell_type": "code",
   "execution_count": null,
   "metadata": {},
   "outputs": [],
   "source": [
    "Source_s=test.Source\n",
    "sink_s=test.Sink"
   ]
  },
  {
   "cell_type": "code",
   "execution_count": null,
   "metadata": {},
   "outputs": [],
   "source": [
    "print(Source_s.iloc[1],Source_s.iloc[30001])\n",
    "print(sink_s.iloc[1],sink_s.iloc[30001])"
   ]
  },
  {
   "cell_type": "code",
   "execution_count": null,
   "metadata": {},
   "outputs": [],
   "source": [
    "shortest_path=[]\n",
    "for i in tqdm(range(2000)):\n",
    "    try:\n",
    "        lenth=nx.shortest_path_length(graph,Source_s[i],sink_s[i])\n",
    "        shortest_path.append(lenth)\n",
    "    except:\n",
    "        lenth = 0\n",
    "        shortest_path.append(lenth)"
   ]
  },
  {
   "cell_type": "code",
   "execution_count": null,
   "metadata": {},
   "outputs": [],
   "source": [
    "shortest_path[:5]"
   ]
  },
  {
   "cell_type": "code",
   "execution_count": null,
   "metadata": {},
   "outputs": [],
   "source": [
    "test['Shortest_path'] = shortest_path"
   ]
  },
  {
   "cell_type": "code",
   "execution_count": null,
   "metadata": {},
   "outputs": [],
   "source": [
    "test[:5]"
   ]
  },
  {
   "cell_type": "code",
   "execution_count": null,
   "metadata": {},
   "outputs": [],
   "source": [
    "with open('16_test.txt', 'wb') as file:\n",
    "    pickle.dump(test,file)"
   ]
  },
  {
   "cell_type": "code",
   "execution_count": null,
   "metadata": {},
   "outputs": [],
   "source": [
    "positive=sample_data[:30000]"
   ]
  },
  {
   "cell_type": "code",
   "execution_count": null,
   "metadata": {},
   "outputs": [],
   "source": [
    "negative=sample_data[-30000:]"
   ]
  },
  {
   "cell_type": "code",
   "execution_count": null,
   "metadata": {},
   "outputs": [],
   "source": [
    "train_60000=positive.append(negative)"
   ]
  },
  {
   "cell_type": "code",
   "execution_count": null,
   "metadata": {},
   "outputs": [],
   "source": [
    "len(train_60000)"
   ]
  },
  {
   "cell_type": "code",
   "execution_count": null,
   "metadata": {},
   "outputs": [],
   "source": [
    "train_60000"
   ]
  },
  {
   "cell_type": "code",
   "execution_count": null,
   "metadata": {},
   "outputs": [],
   "source": [
    "with open('train_60000.txt', 'wb') as file:\n",
    "    pickle.dump(train_60000,file)"
   ]
  },
  {
   "cell_type": "code",
   "execution_count": null,
   "metadata": {},
   "outputs": [],
   "source": [
    "positive"
   ]
  },
  {
   "cell_type": "code",
   "execution_count": null,
   "metadata": {},
   "outputs": [],
   "source": [
    "sink=train_60000.Sink"
   ]
  },
  {
   "cell_type": "code",
   "execution_count": null,
   "metadata": {},
   "outputs": [],
   "source": [
    "source=train_60000.Source\n",
    "source.iloc[0]\n",
    "#len(source)"
   ]
  },
  {
   "cell_type": "code",
   "execution_count": null,
   "metadata": {},
   "outputs": [],
   "source": [
    "number = []\n",
    "for i in tqdm(range(len(source))):\n",
    "    Source_successors = graph.neighbors(source.iloc[i])\n",
    "    number.append(len(list(Source_successors)))"
   ]
  },
  {
   "cell_type": "code",
   "execution_count": null,
   "metadata": {},
   "outputs": [],
   "source": [
    "train_60000['Source_following'] = number"
   ]
  },
  {
   "cell_type": "code",
   "execution_count": null,
   "metadata": {},
   "outputs": [],
   "source": [
    "in_=[]\n",
    "for elem in sink:\n",
    "    in_.append(graph.in_degree(elem))"
   ]
  },
  {
   "cell_type": "code",
   "execution_count": null,
   "metadata": {},
   "outputs": [],
   "source": [
    "train_60000['Sink_follows'] = in_"
   ]
  },
  {
   "cell_type": "code",
   "execution_count": null,
   "metadata": {},
   "outputs": [],
   "source": [
    "out=[]\n",
    "for elem in sink:\n",
    "    out.append(graph.out_degree(elem))"
   ]
  },
  {
   "cell_type": "code",
   "execution_count": null,
   "metadata": {},
   "outputs": [],
   "source": [
    "train_60000['Sink_following'] = out"
   ]
  },
  {
   "cell_type": "code",
   "execution_count": null,
   "metadata": {},
   "outputs": [],
   "source": [
    "in_=[]\n",
    "for elem in source:\n",
    "    in_.append(graph.in_degree(elem))"
   ]
  },
  {
   "cell_type": "code",
   "execution_count": null,
   "metadata": {},
   "outputs": [],
   "source": [
    "train_60000['Source_follows'] = in_"
   ]
  },
  {
   "cell_type": "code",
   "execution_count": null,
   "metadata": {},
   "outputs": [],
   "source": [
    "train_60000[:5]"
   ]
  },
  {
   "cell_type": "code",
   "execution_count": null,
   "metadata": {},
   "outputs": [],
   "source": [
    "shortest_path=[]\n",
    "#sink_s = list(train_60000['Sink'])\n",
    "nn=len(sink)\n",
    "for i in tqdm(range(nn)):\n",
    "    try:\n",
    "        lenth=nx.shortest_path_length(graph,source.iloc[i],sink.iloc[0])\n",
    "        shortest_path.append(lenth)\n",
    "    except:\n",
    "        lenth = 0\n",
    "        shortest_path.append(lenth)"
   ]
  },
  {
   "cell_type": "code",
   "execution_count": null,
   "metadata": {},
   "outputs": [],
   "source": [
    "max(shortest_path)"
   ]
  },
  {
   "cell_type": "code",
   "execution_count": null,
   "metadata": {},
   "outputs": [],
   "source": [
    "train_60000['Shortest_path'] = shortest_path"
   ]
  },
  {
   "cell_type": "code",
   "execution_count": null,
   "metadata": {},
   "outputs": [],
   "source": [
    "train_60000[:5]"
   ]
  },
  {
   "cell_type": "code",
   "execution_count": null,
   "metadata": {},
   "outputs": [],
   "source": [
    "with open('Shortest_path.txt', 'wb') as file:\n",
    "    pickle.dump(train_60000,file)"
   ]
  },
  {
   "cell_type": "code",
   "execution_count": null,
   "metadata": {},
   "outputs": [],
   "source": [
    "test = []\n",
    "for i in tqdm(range(len(source))):\n",
    "    p = len(list(nx.common_neighbors(un_graph, source[i], sink[i])))\n",
    "    test.append([(str(source[i]), str(sink[i])), p])"
   ]
  },
  {
   "cell_type": "code",
   "execution_count": null,
   "metadata": {},
   "outputs": [],
   "source": [
    "with open('AAI.txt', 'rb') as file:\n",
    "    AAI = pickle.load(file)"
   ]
  },
  {
   "cell_type": "code",
   "execution_count": null,
   "metadata": {},
   "outputs": [],
   "source": [
    "preds = nx.common_neighbor_centrality"
   ]
  },
  {
   "cell_type": "code",
   "execution_count": null,
   "metadata": {},
   "outputs": [],
   "source": [
    "with open('negative_samples.txt', 'rb') as file:\n",
    "    test = pickle.load(file)"
   ]
  },
  {
   "cell_type": "code",
   "execution_count": null,
   "metadata": {},
   "outputs": [],
   "source": [
    "test"
   ]
  },
  {
   "cell_type": "code",
   "execution_count": null,
   "metadata": {},
   "outputs": [],
   "source": [
    "with open('samples_all.txt', 'rb') as file:\n",
    "    test = pickle.load(file)"
   ]
  },
  {
   "cell_type": "code",
   "execution_count": null,
   "metadata": {},
   "outputs": [],
   "source": [
    "aa=test.Source"
   ]
  },
  {
   "cell_type": "code",
   "execution_count": null,
   "metadata": {},
   "outputs": [],
   "source": [
    "aa.iloc[30000:300019]"
   ]
  },
  {
   "cell_type": "code",
   "execution_count": null,
   "metadata": {},
   "outputs": [],
   "source": [
    "aa.iloc[0:19]"
   ]
  },
  {
   "cell_type": "code",
   "execution_count": null,
   "metadata": {},
   "outputs": [],
   "source": []
  }
 ],
 "metadata": {
  "kernelspec": {
   "display_name": "Python 3",
   "language": "python",
   "name": "python3"
  },
  "language_info": {
   "codemirror_mode": {
    "name": "ipython",
    "version": 3
   },
   "file_extension": ".py",
   "mimetype": "text/x-python",
   "name": "python",
   "nbconvert_exporter": "python",
   "pygments_lexer": "ipython3",
   "version": "3.7.6"
  }
 },
 "nbformat": 4,
 "nbformat_minor": 4
}
