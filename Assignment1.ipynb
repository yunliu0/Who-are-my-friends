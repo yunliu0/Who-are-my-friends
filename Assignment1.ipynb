{
 "cells": [
  {
   "cell_type": "code",
   "execution_count": 16,
   "metadata": {},
   "outputs": [],
   "source": [
    "import numpy as np\n",
    "import pandas as pd\n",
    "import matplotlib.pyplot as plt\n",
    "import seaborn as sns"
   ]
  },
  {
   "cell_type": "code",
   "execution_count": 105,
   "metadata": {},
   "outputs": [],
   "source": [
    "train_data=pd.read_table(\"train.txt\", delimiter=\",\", header=None,names=['neighbours'])"
   ]
  },
  {
   "cell_type": "code",
   "execution_count": 106,
   "metadata": {},
   "outputs": [],
   "source": [
    "train_data['ID']=train_data['neighbours'].apply(lambda x: x.split('\\t')[0])  #get the ID"
   ]
  },
  {
   "cell_type": "code",
   "execution_count": 107,
   "metadata": {},
   "outputs": [],
   "source": [
    "train_data['neighbours']=train_data['neighbours'].apply(lambda x: x.split('\\t')[1:])# set up the neighbours"
   ]
  },
  {
   "cell_type": "code",
   "execution_count": 108,
   "metadata": {},
   "outputs": [
    {
     "data": {
      "text/html": [
       "<div>\n",
       "<style scoped>\n",
       "    .dataframe tbody tr th:only-of-type {\n",
       "        vertical-align: middle;\n",
       "    }\n",
       "\n",
       "    .dataframe tbody tr th {\n",
       "        vertical-align: top;\n",
       "    }\n",
       "\n",
       "    .dataframe thead th {\n",
       "        text-align: right;\n",
       "    }\n",
       "</style>\n",
       "<table border=\"1\" class=\"dataframe\">\n",
       "  <thead>\n",
       "    <tr style=\"text-align: right;\">\n",
       "      <th></th>\n",
       "      <th>neighbours</th>\n",
       "    </tr>\n",
       "    <tr>\n",
       "      <th>ID</th>\n",
       "      <th></th>\n",
       "    </tr>\n",
       "  </thead>\n",
       "  <tbody>\n",
       "    <tr>\n",
       "      <th>540762</th>\n",
       "      <td>[1912140, 1537559, 3091331, 2757277, 3237295, ...</td>\n",
       "    </tr>\n",
       "    <tr>\n",
       "      <th>2129843</th>\n",
       "      <td>[65840, 3414168, 4523797, 2851163, 4321895, 13...</td>\n",
       "    </tr>\n",
       "    <tr>\n",
       "      <th>3361377</th>\n",
       "      <td>[955840, 3342058, 1536902, 1850727, 1504632, 1...</td>\n",
       "    </tr>\n",
       "    <tr>\n",
       "      <th>1199298</th>\n",
       "      <td>[2300061, 2635670, 2803600, 744722, 881446, 28...</td>\n",
       "    </tr>\n",
       "    <tr>\n",
       "      <th>1392121</th>\n",
       "      <td>[3845572, 546016, 4361302, 678461, 4294597, 24...</td>\n",
       "    </tr>\n",
       "    <tr>\n",
       "      <th>...</th>\n",
       "      <td>...</td>\n",
       "    </tr>\n",
       "    <tr>\n",
       "      <th>585576</th>\n",
       "      <td>[660302, 3279973, 2094235, 2355188, 1296935, 3...</td>\n",
       "    </tr>\n",
       "    <tr>\n",
       "      <th>505961</th>\n",
       "      <td>[3875645, 2148630, 4288909, 4011139, 340232, 1...</td>\n",
       "    </tr>\n",
       "    <tr>\n",
       "      <th>125824</th>\n",
       "      <td>[54421, 868022, 385000, 2050130, 3446665, 2040...</td>\n",
       "    </tr>\n",
       "    <tr>\n",
       "      <th>896087</th>\n",
       "      <td>[431577, 1007572, 499457, 3642500, 3734728, 28...</td>\n",
       "    </tr>\n",
       "    <tr>\n",
       "      <th>3547024</th>\n",
       "      <td>[2888992, 179459, 492114, 2418495, 2235094, 14...</td>\n",
       "    </tr>\n",
       "  </tbody>\n",
       "</table>\n",
       "<p>20000 rows × 1 columns</p>\n",
       "</div>"
      ],
      "text/plain": [
       "                                                neighbours\n",
       "ID                                                        \n",
       "540762   [1912140, 1537559, 3091331, 2757277, 3237295, ...\n",
       "2129843  [65840, 3414168, 4523797, 2851163, 4321895, 13...\n",
       "3361377  [955840, 3342058, 1536902, 1850727, 1504632, 1...\n",
       "1199298  [2300061, 2635670, 2803600, 744722, 881446, 28...\n",
       "1392121  [3845572, 546016, 4361302, 678461, 4294597, 24...\n",
       "...                                                    ...\n",
       "585576   [660302, 3279973, 2094235, 2355188, 1296935, 3...\n",
       "505961   [3875645, 2148630, 4288909, 4011139, 340232, 1...\n",
       "125824   [54421, 868022, 385000, 2050130, 3446665, 2040...\n",
       "896087   [431577, 1007572, 499457, 3642500, 3734728, 28...\n",
       "3547024  [2888992, 179459, 492114, 2418495, 2235094, 14...\n",
       "\n",
       "[20000 rows x 1 columns]"
      ]
     },
     "execution_count": 108,
     "metadata": {},
     "output_type": "execute_result"
    }
   ],
   "source": [
    "train_data.set_index(\"ID\") # set \"ID\" as the index"
   ]
  },
  {
   "cell_type": "code",
   "execution_count": null,
   "metadata": {},
   "outputs": [],
   "source": []
  }
 ],
 "metadata": {
  "kernelspec": {
   "display_name": "Python 3",
   "language": "python",
   "name": "python3"
  },
  "language_info": {
   "name": ""
  }
 },
 "nbformat": 4,
 "nbformat_minor": 4
}
