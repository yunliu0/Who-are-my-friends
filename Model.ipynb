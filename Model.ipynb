{
 "cells": [
  {
   "cell_type": "code",
   "execution_count": 243,
   "metadata": {},
   "outputs": [],
   "source": [
    "import pickle\n",
    "from sklearn.preprocessing import StandardScaler\n",
    "from sklearn.metrics import roc_auc_score, precision_score\n",
    "from sklearn.model_selection import train_test_split"
   ]
  },
  {
   "cell_type": "code",
   "execution_count": 138,
   "metadata": {},
   "outputs": [],
   "source": [
    "with open('train_14F.txt','rb') as file:\n",
    "    dataframe_train=pickle.load(file)\n",
    "train, test = train_test_split(dataframe_train, test_size=0.2, random_state=1)\n",
    "scaler = StandardScaler()"
   ]
  },
  {
   "cell_type": "code",
   "execution_count": 139,
   "metadata": {},
   "outputs": [
    {
     "data": {
      "text/html": [
       "<div>\n",
       "<style scoped>\n",
       "    .dataframe tbody tr th:only-of-type {\n",
       "        vertical-align: middle;\n",
       "    }\n",
       "\n",
       "    .dataframe tbody tr th {\n",
       "        vertical-align: top;\n",
       "    }\n",
       "\n",
       "    .dataframe thead th {\n",
       "        text-align: right;\n",
       "    }\n",
       "</style>\n",
       "<table border=\"1\" class=\"dataframe\">\n",
       "  <thead>\n",
       "    <tr style=\"text-align: right;\">\n",
       "      <th></th>\n",
       "      <th>Label</th>\n",
       "      <th>Shortest_path</th>\n",
       "      <th>AAI</th>\n",
       "      <th>JC</th>\n",
       "      <th>PA</th>\n",
       "      <th>RA</th>\n",
       "      <th>HP</th>\n",
       "      <th>LHN</th>\n",
       "      <th>PageRank_Src</th>\n",
       "      <th>PageRank_Sink</th>\n",
       "      <th>ECentrality_Sour</th>\n",
       "      <th>ECentrality_Sink</th>\n",
       "      <th>Degree_Centrality_Sour</th>\n",
       "      <th>Degree_Centrality_Sink</th>\n",
       "    </tr>\n",
       "  </thead>\n",
       "  <tbody>\n",
       "    <tr>\n",
       "      <th>5004</th>\n",
       "      <td>1</td>\n",
       "      <td>1</td>\n",
       "      <td>2.144076</td>\n",
       "      <td>0.142857</td>\n",
       "      <td>1170</td>\n",
       "      <td>0.185600</td>\n",
       "      <td>0.346154</td>\n",
       "      <td>0.007692</td>\n",
       "      <td>3.442924e-07</td>\n",
       "      <td>2.601575e-07</td>\n",
       "      <td>6.336294e-04</td>\n",
       "      <td>0.000175</td>\n",
       "      <td>3.164079e-05</td>\n",
       "      <td>1.130028e-05</td>\n",
       "    </tr>\n",
       "    <tr>\n",
       "      <th>17676</th>\n",
       "      <td>1</td>\n",
       "      <td>1</td>\n",
       "      <td>3.049736</td>\n",
       "      <td>0.014627</td>\n",
       "      <td>70616</td>\n",
       "      <td>0.052476</td>\n",
       "      <td>0.339286</td>\n",
       "      <td>0.000269</td>\n",
       "      <td>2.636462e-07</td>\n",
       "      <td>2.499888e-07</td>\n",
       "      <td>5.706631e-04</td>\n",
       "      <td>0.000054</td>\n",
       "      <td>2.820961e-04</td>\n",
       "      <td>2.732614e-05</td>\n",
       "    </tr>\n",
       "    <tr>\n",
       "      <th>29485</th>\n",
       "      <td>1</td>\n",
       "      <td>1</td>\n",
       "      <td>0.717000</td>\n",
       "      <td>0.013514</td>\n",
       "      <td>4794</td>\n",
       "      <td>0.017789</td>\n",
       "      <td>0.235294</td>\n",
       "      <td>0.000834</td>\n",
       "      <td>6.148255e-07</td>\n",
       "      <td>2.153731e-07</td>\n",
       "      <td>8.175566e-03</td>\n",
       "      <td>0.000155</td>\n",
       "      <td>2.444970e-04</td>\n",
       "      <td>1.397126e-05</td>\n",
       "    </tr>\n",
       "    <tr>\n",
       "      <th>6476</th>\n",
       "      <td>0</td>\n",
       "      <td>0</td>\n",
       "      <td>0.000000</td>\n",
       "      <td>0.000000</td>\n",
       "      <td>0</td>\n",
       "      <td>0.000000</td>\n",
       "      <td>0.000000</td>\n",
       "      <td>0.000000</td>\n",
       "      <td>2.109946e-07</td>\n",
       "      <td>2.049483e-07</td>\n",
       "      <td>3.667891e-09</td>\n",
       "      <td>0.000001</td>\n",
       "      <td>2.054597e-07</td>\n",
       "      <td>2.054597e-07</td>\n",
       "    </tr>\n",
       "    <tr>\n",
       "      <th>15508</th>\n",
       "      <td>0</td>\n",
       "      <td>3</td>\n",
       "      <td>0.000000</td>\n",
       "      <td>0.000000</td>\n",
       "      <td>148</td>\n",
       "      <td>0.000000</td>\n",
       "      <td>0.000000</td>\n",
       "      <td>0.000000</td>\n",
       "      <td>2.057044e-07</td>\n",
       "      <td>2.047606e-07</td>\n",
       "      <td>1.521246e-05</td>\n",
       "      <td>0.000082</td>\n",
       "      <td>1.582040e-05</td>\n",
       "      <td>4.109194e-07</td>\n",
       "    </tr>\n",
       "  </tbody>\n",
       "</table>\n",
       "</div>"
      ],
      "text/plain": [
       "       Label  Shortest_path       AAI        JC     PA        RA        HP  \\\n",
       "5004       1              1  2.144076  0.142857   1170  0.185600  0.346154   \n",
       "17676      1              1  3.049736  0.014627  70616  0.052476  0.339286   \n",
       "29485      1              1  0.717000  0.013514   4794  0.017789  0.235294   \n",
       "6476       0              0  0.000000  0.000000      0  0.000000  0.000000   \n",
       "15508      0              3  0.000000  0.000000    148  0.000000  0.000000   \n",
       "\n",
       "            LHN  PageRank_Src  PageRank_Sink  ECentrality_Sour  \\\n",
       "5004   0.007692  3.442924e-07   2.601575e-07      6.336294e-04   \n",
       "17676  0.000269  2.636462e-07   2.499888e-07      5.706631e-04   \n",
       "29485  0.000834  6.148255e-07   2.153731e-07      8.175566e-03   \n",
       "6476   0.000000  2.109946e-07   2.049483e-07      3.667891e-09   \n",
       "15508  0.000000  2.057044e-07   2.047606e-07      1.521246e-05   \n",
       "\n",
       "       ECentrality_Sink  Degree_Centrality_Sour  Degree_Centrality_Sink  \n",
       "5004           0.000175            3.164079e-05            1.130028e-05  \n",
       "17676          0.000054            2.820961e-04            2.732614e-05  \n",
       "29485          0.000155            2.444970e-04            1.397126e-05  \n",
       "6476           0.000001            2.054597e-07            2.054597e-07  \n",
       "15508          0.000082            1.582040e-05            4.109194e-07  "
      ]
     },
     "execution_count": 139,
     "metadata": {},
     "output_type": "execute_result"
    }
   ],
   "source": [
    "train.head()"
   ]
  },
  {
   "cell_type": "code",
   "execution_count": 140,
   "metadata": {},
   "outputs": [],
   "source": [
    "# Train set\n",
    "x_train = train.drop('Label',axis=1)\n",
    "y_train = train.Label\n",
    "\n",
    "# test set\n",
    "x_test = test.drop('Label',axis=1)\n",
    "y_test = test.Label"
   ]
  },
  {
   "cell_type": "markdown",
   "metadata": {},
   "source": [
    "## 1. Naive Bayes"
   ]
  },
  {
   "cell_type": "code",
   "execution_count": 232,
   "metadata": {},
   "outputs": [],
   "source": [
    "from sklearn.naive_bayes import GaussianNB"
   ]
  },
  {
   "cell_type": "code",
   "execution_count": 234,
   "metadata": {},
   "outputs": [
    {
     "data": {
      "text/plain": [
       "GaussianNB(priors=None, var_smoothing=1e-09)"
      ]
     },
     "execution_count": 234,
     "metadata": {},
     "output_type": "execute_result"
    }
   ],
   "source": [
    "gnb_model = GaussianNB()\n",
    "gnb_model.fit(x_train,y_train)"
   ]
  },
  {
   "cell_type": "code",
   "execution_count": 235,
   "metadata": {},
   "outputs": [],
   "source": [
    "labelnb = gnb_model.predict(x_test)\n",
    "probnb = gnb_model.predict_proba(x_test)"
   ]
  },
  {
   "cell_type": "code",
   "execution_count": 256,
   "metadata": {},
   "outputs": [
    {
     "name": "stdout",
     "output_type": "stream",
     "text": [
      "The ROC of Naive Bayes: 0.975\n"
     ]
    }
   ],
   "source": [
    "nb=roc_auc_score(y_test,labelnb)\n",
    "ac1=precision_score(y_test,labelnb)\n",
    "print('The ROC of Naive Bayes: %5.3f' %(nb))"
   ]
  },
  {
   "cell_type": "markdown",
   "metadata": {},
   "source": [
    "## 2. Logistic Regression"
   ]
  },
  {
   "cell_type": "code",
   "execution_count": 141,
   "metadata": {},
   "outputs": [],
   "source": [
    "from sklearn.linear_model import LogisticRegression"
   ]
  },
  {
   "cell_type": "code",
   "execution_count": 142,
   "metadata": {},
   "outputs": [
    {
     "data": {
      "text/plain": [
       "LogisticRegression(C=1.0, class_weight=None, dual=False, fit_intercept=True,\n",
       "                   intercept_scaling=1, l1_ratio=None, max_iter=100,\n",
       "                   multi_class='auto', n_jobs=None, penalty='l2',\n",
       "                   random_state=None, solver='lbfgs', tol=0.0001, verbose=0,\n",
       "                   warm_start=False)"
      ]
     },
     "execution_count": 142,
     "metadata": {},
     "output_type": "execute_result"
    }
   ],
   "source": [
    "LR_model = LogisticRegression(penalty ='l2')\n",
    "LR_model.fit(x_train,y_train)"
   ]
  },
  {
   "cell_type": "code",
   "execution_count": 143,
   "metadata": {},
   "outputs": [],
   "source": [
    "label_predict=LR_model.predict(x_test)\n",
    "prob_preidct=LR_model.predict_proba(x_test)"
   ]
  },
  {
   "cell_type": "code",
   "execution_count": 259,
   "metadata": {},
   "outputs": [
    {
     "name": "stdout",
     "output_type": "stream",
     "text": [
      "The ROC of Logistic Regression: 0.954\n"
     ]
    }
   ],
   "source": [
    "rl=roc_auc_score(y_test,label_predict)\n",
    "ac2=precision_score(y_test,label_predict)\n",
    "print('The ROC of Logistic Regression: %5.3f' %(rl))"
   ]
  },
  {
   "cell_type": "markdown",
   "metadata": {},
   "source": [
    "## 3. Decision Tree and Random Forest"
   ]
  },
  {
   "cell_type": "code",
   "execution_count": 145,
   "metadata": {},
   "outputs": [],
   "source": [
    "from sklearn.tree import DecisionTreeClassifier\n",
    "from sklearn.ensemble import RandomForestClassifier"
   ]
  },
  {
   "cell_type": "code",
   "execution_count": 146,
   "metadata": {},
   "outputs": [],
   "source": [
    "# Decision Tree\n",
    "dt_model=DecisionTreeClassifier()\n",
    "\n",
    "# Random Forest\n",
    "rf_model=RandomForestClassifier()"
   ]
  },
  {
   "cell_type": "code",
   "execution_count": 147,
   "metadata": {},
   "outputs": [
    {
     "data": {
      "text/plain": [
       "RandomForestClassifier(bootstrap=True, ccp_alpha=0.0, class_weight=None,\n",
       "                       criterion='gini', max_depth=None, max_features='auto',\n",
       "                       max_leaf_nodes=None, max_samples=None,\n",
       "                       min_impurity_decrease=0.0, min_impurity_split=None,\n",
       "                       min_samples_leaf=1, min_samples_split=2,\n",
       "                       min_weight_fraction_leaf=0.0, n_estimators=100,\n",
       "                       n_jobs=None, oob_score=False, random_state=None,\n",
       "                       verbose=0, warm_start=False)"
      ]
     },
     "execution_count": 147,
     "metadata": {},
     "output_type": "execute_result"
    }
   ],
   "source": [
    "# Decision Tree\n",
    "dt_model.fit(x_train, y_train)\n",
    "\n",
    "# Random Forest\n",
    "rf_model.fit(x_train, y_train)"
   ]
  },
  {
   "cell_type": "code",
   "execution_count": 148,
   "metadata": {},
   "outputs": [],
   "source": [
    "# Decision Tree\n",
    "labeldt=dt_model.predict(x_test)\n",
    "probdt = dt_model.predict_proba(x_test)\n",
    "\n",
    "# Random Forest\n",
    "labelrf = rf_model.predict(x_test)\n",
    "probrf = rf_model.predict_proba(x_test)"
   ]
  },
  {
   "cell_type": "code",
   "execution_count": 257,
   "metadata": {},
   "outputs": [
    {
     "name": "stdout",
     "output_type": "stream",
     "text": [
      "The ROC of Decision Tree: 1.000\n",
      "The ROC of Random Forest: 1.000\n"
     ]
    }
   ],
   "source": [
    "dt=roc_auc_score(y_test,labeldt)\n",
    "ac3=precision_score(y_test,labeldt)\n",
    "print('The ROC of Decision Tree: %5.3f' %(dt))\n",
    "rf=roc_auc_score(y_test,labelrf)\n",
    "ac4=precision_score(y_test,labelrf)\n",
    "print('The ROC of Random Forest: %5.3f' %(rf))"
   ]
  },
  {
   "cell_type": "markdown",
   "metadata": {},
   "source": [
    "## 4. KNN"
   ]
  },
  {
   "cell_type": "code",
   "execution_count": 150,
   "metadata": {},
   "outputs": [],
   "source": [
    "from sklearn.neighbors import KNeighborsClassifier"
   ]
  },
  {
   "cell_type": "code",
   "execution_count": 151,
   "metadata": {},
   "outputs": [],
   "source": [
    "knn = KNeighborsClassifier()"
   ]
  },
  {
   "cell_type": "code",
   "execution_count": 152,
   "metadata": {},
   "outputs": [
    {
     "data": {
      "text/plain": [
       "KNeighborsClassifier(algorithm='auto', leaf_size=30, metric='minkowski',\n",
       "                     metric_params=None, n_jobs=None, n_neighbors=5, p=2,\n",
       "                     weights='uniform')"
      ]
     },
     "execution_count": 152,
     "metadata": {},
     "output_type": "execute_result"
    }
   ],
   "source": [
    "knn.fit(x_train, y_train)"
   ]
  },
  {
   "cell_type": "code",
   "execution_count": 153,
   "metadata": {},
   "outputs": [],
   "source": [
    "labelknn = knn.predict(x_test)\n",
    "probrknn = knn.predict_proba(x_test)"
   ]
  },
  {
   "cell_type": "code",
   "execution_count": 260,
   "metadata": {},
   "outputs": [
    {
     "name": "stdout",
     "output_type": "stream",
     "text": [
      "The ROC of KNN: 0.940\n"
     ]
    }
   ],
   "source": [
    "kn=roc_auc_score(y_test,labelknn)\n",
    "ac5=precision_score(y_test,labelknn)\n",
    "print('The ROC of KNN: %5.3f' %(kn))"
   ]
  },
  {
   "cell_type": "markdown",
   "metadata": {},
   "source": [
    "## 5. SGDClassifier with Loss='log' "
   ]
  },
  {
   "cell_type": "code",
   "execution_count": 155,
   "metadata": {},
   "outputs": [],
   "source": [
    "from sklearn.linear_model import SGDClassifier"
   ]
  },
  {
   "cell_type": "code",
   "execution_count": 156,
   "metadata": {},
   "outputs": [],
   "source": [
    "x_train = scaler.fit_transform(x_train)\n",
    "\n",
    "x_test = scaler.transform(x_test)"
   ]
  },
  {
   "cell_type": "code",
   "execution_count": 157,
   "metadata": {},
   "outputs": [
    {
     "data": {
      "text/plain": [
       "SGDClassifier(alpha=0.0001, average=False, class_weight=None,\n",
       "              early_stopping=False, epsilon=0.1, eta0=0.0, fit_intercept=False,\n",
       "              l1_ratio=0.15, learning_rate='optimal', loss='log', max_iter=1000,\n",
       "              n_iter_no_change=5, n_jobs=None, penalty='l2', power_t=0.5,\n",
       "              random_state=None, shuffle=True, tol=0.001,\n",
       "              validation_fraction=0.1, verbose=0, warm_start=False)"
      ]
     },
     "execution_count": 157,
     "metadata": {},
     "output_type": "execute_result"
    }
   ],
   "source": [
    "SGDcl=SGDClassifier(loss='log',max_iter=1000, tol=1e-3,fit_intercept=False)  \n",
    "SGDcl.fit(x_train,y_train)"
   ]
  },
  {
   "cell_type": "code",
   "execution_count": 158,
   "metadata": {},
   "outputs": [],
   "source": [
    "label_predictC=SGDcl.predict(x_test)\n",
    "prob_preidctC=SGDcl.predict_proba(x_test)"
   ]
  },
  {
   "cell_type": "code",
   "execution_count": 261,
   "metadata": {},
   "outputs": [
    {
     "name": "stdout",
     "output_type": "stream",
     "text": [
      "The ROC of SGDClassifier: 0.953\n"
     ]
    }
   ],
   "source": [
    "cl=roc_auc_score(y_test,label_predictC)\n",
    "ac6=precision_score(y_test,label_predictC)\n",
    "print('The ROC of SGDClassifier: %5.3f' %(cl))"
   ]
  },
  {
   "cell_type": "markdown",
   "metadata": {},
   "source": [
    "## 6. SVM"
   ]
  },
  {
   "cell_type": "code",
   "execution_count": 160,
   "metadata": {},
   "outputs": [],
   "source": [
    "from sklearn.svm import SVC\n",
    "from sklearn.pipeline import make_pipeline\n",
    "from sklearn.model_selection import StratifiedShuffleSplit, GridSearchCV"
   ]
  },
  {
   "cell_type": "code",
   "execution_count": 161,
   "metadata": {},
   "outputs": [
    {
     "data": {
      "text/plain": [
       "Pipeline(memory=None,\n",
       "         steps=[('standardscaler',\n",
       "                 StandardScaler(copy=True, with_mean=True, with_std=True)),\n",
       "                ('svc',\n",
       "                 SVC(C=1.0, break_ties=False, cache_size=200, class_weight=None,\n",
       "                     coef0=0.0, decision_function_shape='ovr', degree=3,\n",
       "                     gamma='auto', kernel='rbf', max_iter=-1, probability=True,\n",
       "                     random_state=None, shrinking=True, tol=0.001,\n",
       "                     verbose=False))],\n",
       "         verbose=False)"
      ]
     },
     "execution_count": 161,
     "metadata": {},
     "output_type": "execute_result"
    }
   ],
   "source": [
    "SVM_model = make_pipeline(StandardScaler(), SVC(gamma='auto',probability=True))\n",
    "SVM_model.fit(x_train, y_train)"
   ]
  },
  {
   "cell_type": "code",
   "execution_count": 162,
   "metadata": {},
   "outputs": [],
   "source": [
    "labelsvm = SVM_model.predict(x_test)\n",
    "probrsvm = SVM_model.predict_proba(x_test)"
   ]
  },
  {
   "cell_type": "code",
   "execution_count": 262,
   "metadata": {},
   "outputs": [
    {
     "name": "stdout",
     "output_type": "stream",
     "text": [
      "The ROC of SVM: 1.000\n"
     ]
    }
   ],
   "source": [
    "svm=roc_auc_score(y_test,labelsvm)\n",
    "ac7=precision_score(y_test,labelsvm)\n",
    "print('The ROC of SVM: %5.3f' %(svm))"
   ]
  },
  {
   "cell_type": "markdown",
   "metadata": {},
   "source": [
    "## 7. MultiLayer Perceptron"
   ]
  },
  {
   "cell_type": "code",
   "execution_count": 164,
   "metadata": {},
   "outputs": [],
   "source": [
    "from sklearn.neural_network import MLPClassifier"
   ]
  },
  {
   "cell_type": "code",
   "execution_count": 165,
   "metadata": {},
   "outputs": [],
   "source": [
    "mlp_model = MLPClassifier(solver='adam', alpha=1e-5, hidden_layer_sizes=(10),activation='logistic', random_state=1,max_iter=3000)"
   ]
  },
  {
   "cell_type": "code",
   "execution_count": 166,
   "metadata": {},
   "outputs": [
    {
     "data": {
      "text/plain": [
       "MLPClassifier(activation='logistic', alpha=1e-05, batch_size='auto', beta_1=0.9,\n",
       "              beta_2=0.999, early_stopping=False, epsilon=1e-08,\n",
       "              hidden_layer_sizes=10, learning_rate='constant',\n",
       "              learning_rate_init=0.001, max_fun=15000, max_iter=3000,\n",
       "              momentum=0.9, n_iter_no_change=10, nesterovs_momentum=True,\n",
       "              power_t=0.5, random_state=1, shuffle=True, solver='adam',\n",
       "              tol=0.0001, validation_fraction=0.1, verbose=False,\n",
       "              warm_start=False)"
      ]
     },
     "execution_count": 166,
     "metadata": {},
     "output_type": "execute_result"
    }
   ],
   "source": [
    "mlp_model.fit(x_train, y_train)"
   ]
  },
  {
   "cell_type": "code",
   "execution_count": 167,
   "metadata": {},
   "outputs": [],
   "source": [
    "probmlp=mlp_model.predict_proba(x_test)\n",
    "labelmlp=mlp_model.predict(x_test)"
   ]
  },
  {
   "cell_type": "code",
   "execution_count": 263,
   "metadata": {},
   "outputs": [
    {
     "name": "stdout",
     "output_type": "stream",
     "text": [
      "The ROC of MLP: 1.000\n"
     ]
    }
   ],
   "source": [
    "mlp=roc_auc_score(y_test,labelmlp)\n",
    "ac8=precision_score(y_test,labelmlp)\n",
    "print('The ROC of MLP: %5.3f' %(mlp))"
   ]
  },
  {
   "cell_type": "markdown",
   "metadata": {},
   "source": [
    "## Show Results"
   ]
  },
  {
   "cell_type": "code",
   "execution_count": 266,
   "metadata": {},
   "outputs": [
    {
     "data": {
      "text/html": [
       "<div>\n",
       "<style scoped>\n",
       "    .dataframe tbody tr th:only-of-type {\n",
       "        vertical-align: middle;\n",
       "    }\n",
       "\n",
       "    .dataframe tbody tr th {\n",
       "        vertical-align: top;\n",
       "    }\n",
       "\n",
       "    .dataframe thead th {\n",
       "        text-align: right;\n",
       "    }\n",
       "</style>\n",
       "<table border=\"1\" class=\"dataframe\">\n",
       "  <thead>\n",
       "    <tr style=\"text-align: right;\">\n",
       "      <th></th>\n",
       "      <th>ROC</th>\n",
       "      <th>Precision</th>\n",
       "    </tr>\n",
       "  </thead>\n",
       "  <tbody>\n",
       "    <tr>\n",
       "      <th>Naive Bayes</th>\n",
       "      <td>0.974536</td>\n",
       "      <td>1.000000</td>\n",
       "    </tr>\n",
       "    <tr>\n",
       "      <th>Logistic Regression</th>\n",
       "      <td>0.954360</td>\n",
       "      <td>0.957240</td>\n",
       "    </tr>\n",
       "    <tr>\n",
       "      <th>Decision Tree</th>\n",
       "      <td>1.000000</td>\n",
       "      <td>1.000000</td>\n",
       "    </tr>\n",
       "    <tr>\n",
       "      <th>Random Forest</th>\n",
       "      <td>1.000000</td>\n",
       "      <td>1.000000</td>\n",
       "    </tr>\n",
       "    <tr>\n",
       "      <th>K-Nearest Neighbor</th>\n",
       "      <td>0.940386</td>\n",
       "      <td>0.945135</td>\n",
       "    </tr>\n",
       "    <tr>\n",
       "      <th>SGDClassifier</th>\n",
       "      <td>0.953244</td>\n",
       "      <td>0.959268</td>\n",
       "    </tr>\n",
       "    <tr>\n",
       "      <th>SVM</th>\n",
       "      <td>1.000000</td>\n",
       "      <td>1.000000</td>\n",
       "    </tr>\n",
       "    <tr>\n",
       "      <th>Multilayer Perceptron</th>\n",
       "      <td>0.999915</td>\n",
       "      <td>0.999836</td>\n",
       "    </tr>\n",
       "  </tbody>\n",
       "</table>\n",
       "</div>"
      ],
      "text/plain": [
       "                            ROC  Precision\n",
       "Naive Bayes            0.974536   1.000000\n",
       "Logistic Regression    0.954360   0.957240\n",
       "Decision Tree          1.000000   1.000000\n",
       "Random Forest          1.000000   1.000000\n",
       "K-Nearest Neighbor     0.940386   0.945135\n",
       "SGDClassifier          0.953244   0.959268\n",
       "SVM                    1.000000   1.000000\n",
       "Multilayer Perceptron  0.999915   0.999836"
      ]
     },
     "execution_count": 266,
     "metadata": {},
     "output_type": "execute_result"
    }
   ],
   "source": [
    "score = [nb,rl,dt,rf,kn,cl,svm,mlp]\n",
    "precision=[ac1,ac2,ac3,ac4,ac5,ac6,ac7,ac8]\n",
    "index1= ['Naive Bayes','Logistic Regression','Decision Tree','Random Forest','K-Nearest Neighbor','SGDClassifier','SVM','Multilayer Perceptron']\n",
    "result = pd.DataFrame(score,index=index1, columns=['ROC'])\n",
    "result['Precision'] = precision\n",
    "result"
   ]
  },
  {
   "cell_type": "markdown",
   "metadata": {},
   "source": [
    "### Label the Given DataSet with Probability\n",
    "\n",
    "Untill now **Random Forest** gives the higtest ROC score 0.7622"
   ]
  },
  {
   "cell_type": "code",
   "execution_count": 169,
   "metadata": {},
   "outputs": [],
   "source": [
    "import pandas as pd"
   ]
  },
  {
   "cell_type": "code",
   "execution_count": 170,
   "metadata": {},
   "outputs": [],
   "source": [
    "with open('teacher_test.txt','rb') as file:\n",
    "    Test=pickle.load(file)"
   ]
  },
  {
   "cell_type": "raw",
   "metadata": {},
   "source": [
    "# Choose the features that is in the Trainset\n",
    "Test=Test.iloc[:,4:]\n",
    "Test=Test.drop('CN',axis=1)\n",
    "Test.head()"
   ]
  },
  {
   "cell_type": "code",
   "execution_count": 212,
   "metadata": {},
   "outputs": [],
   "source": [
    "with open('ID.txt','rb') as file:\n",
    "    ID=pickle.load(file)"
   ]
  },
  {
   "cell_type": "code",
   "execution_count": 173,
   "metadata": {},
   "outputs": [],
   "source": [
    "def submission(probs, filename):\n",
    "    with open(filename, 'w') as file:\n",
    "        file.write('Id,Predicted\\n')\n",
    "        for i, p in zip(ID, probs):\n",
    "            file.write(\"{},{}\\n\".format(i, p[1]))"
   ]
  },
  {
   "cell_type": "code",
   "execution_count": 217,
   "metadata": {
    "scrolled": true
   },
   "outputs": [],
   "source": [
    "# the models without transformed X\n",
    "clf1 = [LR_model,dt_model,rf_model,knn,gnb_model]\n",
    "prob1=[]\n",
    "for clf in clf1:\n",
    "    prob=clf.predict_proba(Test)\n",
    "    prob1.append(prob)"
   ]
  },
  {
   "cell_type": "code",
   "execution_count": 224,
   "metadata": {},
   "outputs": [],
   "source": [
    "submission(prob1[0], 'LR_submit.csv')\n",
    "submission(prob1[1], 'DT_submit.csv')\n",
    "submission(prob1[2], 'RF_submit.csv')\n",
    "submission(prob1[3], 'KNN_submit.csv')\n",
    "submission(prob1[4], 'NB_submit.csv')"
   ]
  },
  {
   "cell_type": "code",
   "execution_count": 225,
   "metadata": {},
   "outputs": [],
   "source": [
    "# the models with transformed X\n",
    "clf2=[SDGcl,SVM_model,mlp_model]\n",
    "Test_=scaler.transform(Test)\n",
    "prob2=[]\n",
    "for clf in clf2:\n",
    "    prob=clf.predict_proba(Test_)\n",
    "    prob2.append(list(prob))"
   ]
  },
  {
   "cell_type": "code",
   "execution_count": 226,
   "metadata": {},
   "outputs": [],
   "source": [
    "submission(prob2[0], 'SGD_submit.csv')\n",
    "submission(prob2[1], 'SVM_submit.csv')\n",
    "submission(prob2[2], 'MLP_submit.csv')"
   ]
  },
  {
   "cell_type": "code",
   "execution_count": 267,
   "metadata": {},
   "outputs": [
    {
     "data": {
      "text/html": [
       "<div>\n",
       "<style scoped>\n",
       "    .dataframe tbody tr th:only-of-type {\n",
       "        vertical-align: middle;\n",
       "    }\n",
       "\n",
       "    .dataframe tbody tr th {\n",
       "        vertical-align: top;\n",
       "    }\n",
       "\n",
       "    .dataframe thead th {\n",
       "        text-align: right;\n",
       "    }\n",
       "</style>\n",
       "<table border=\"1\" class=\"dataframe\">\n",
       "  <thead>\n",
       "    <tr style=\"text-align: right;\">\n",
       "      <th></th>\n",
       "      <th>Id</th>\n",
       "      <th>Predicted</th>\n",
       "    </tr>\n",
       "  </thead>\n",
       "  <tbody>\n",
       "    <tr>\n",
       "      <th>0</th>\n",
       "      <td>1</td>\n",
       "      <td>0.000142</td>\n",
       "    </tr>\n",
       "    <tr>\n",
       "      <th>1</th>\n",
       "      <td>2</td>\n",
       "      <td>0.001889</td>\n",
       "    </tr>\n",
       "    <tr>\n",
       "      <th>2</th>\n",
       "      <td>3</td>\n",
       "      <td>0.081376</td>\n",
       "    </tr>\n",
       "    <tr>\n",
       "      <th>3</th>\n",
       "      <td>4</td>\n",
       "      <td>0.059450</td>\n",
       "    </tr>\n",
       "    <tr>\n",
       "      <th>4</th>\n",
       "      <td>5</td>\n",
       "      <td>0.002524</td>\n",
       "    </tr>\n",
       "  </tbody>\n",
       "</table>\n",
       "</div>"
      ],
      "text/plain": [
       "   Id  Predicted\n",
       "0   1   0.000142\n",
       "1   2   0.001889\n",
       "2   3   0.081376\n",
       "3   4   0.059450\n",
       "4   5   0.002524"
      ]
     },
     "execution_count": 267,
     "metadata": {},
     "output_type": "execute_result"
    }
   ],
   "source": [
    "dd=pd.read_csv('SGD_submit.csv')\n",
    "dd.head()"
   ]
  },
  {
   "cell_type": "code",
   "execution_count": null,
   "metadata": {},
   "outputs": [],
   "source": []
  }
 ],
 "metadata": {
  "kernelspec": {
   "display_name": "Python 3",
   "language": "python",
   "name": "python3"
  },
  "language_info": {
   "codemirror_mode": {
    "name": "ipython",
    "version": 3
   },
   "file_extension": ".py",
   "mimetype": "text/x-python",
   "name": "python",
   "nbconvert_exporter": "python",
   "pygments_lexer": "ipython3",
   "version": "3.7.6"
  }
 },
 "nbformat": 4,
 "nbformat_minor": 4
}
