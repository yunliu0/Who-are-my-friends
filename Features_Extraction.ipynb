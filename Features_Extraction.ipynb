{
 "cells": [
  {
   "cell_type": "code",
   "execution_count": 3,
   "metadata": {},
   "outputs": [],
   "source": [
    "import numpy as np\n",
    "import pandas as pd\n",
    "import random\n",
    "import networkx as nx\n",
    "import pickle\n",
    "from tqdm import tqdm\n",
    "import math"
   ]
  },
  {
   "cell_type": "code",
   "execution_count": 4,
   "metadata": {},
   "outputs": [],
   "source": [
    "with open('graph.txt', 'rb') as file:\n",
    "    graph = pickle.load(file)"
   ]
  },
  {
   "cell_type": "code",
   "execution_count": null,
   "metadata": {},
   "outputs": [],
   "source": [
    "with open('Train_HHH.txt', 'rb') as file:\n",
    "    train = pickle.load(file)"
   ]
  },
  {
   "cell_type": "raw",
   "metadata": {},
   "source": [
    "with open('16_test.txt', 'rb') as file:\n",
    "    test = pickle.load(file)"
   ]
  },
  {
   "cell_type": "raw",
   "metadata": {},
   "source": [
    "# Test w/o label\n",
    "source=test.Source\n",
    "sink=test.Sink\n",
    "dataframe_train=pd.DataFrame()"
   ]
  },
  {
   "cell_type": "code",
   "execution_count": null,
   "metadata": {},
   "outputs": [],
   "source": [
    "# Trian w label\n",
    "source=train.Source\n",
    "sink=train.Sink\n",
    "Label=train.Label\n",
    "dataframe_train['Label']=Label"
   ]
  },
  {
   "cell_type": "markdown",
   "metadata": {},
   "source": [
    "## Nodes Features"
   ]
  },
  {
   "cell_type": "code",
   "execution_count": 10,
   "metadata": {},
   "outputs": [],
   "source": [
    "# Source following\n",
    "following_so=[]\n",
    "for elem in source:\n",
    "    following_so.append(graph.out_degree(elem))"
   ]
  },
  {
   "cell_type": "code",
   "execution_count": 12,
   "metadata": {},
   "outputs": [],
   "source": [
    "dataframe_train['Source_following']=following_so"
   ]
  },
  {
   "cell_type": "code",
   "execution_count": 13,
   "metadata": {},
   "outputs": [],
   "source": [
    "# Sink following\n",
    "following_si=[]\n",
    "for elem in sink:\n",
    "    following_si.append(graph.out_degree(elem))"
   ]
  },
  {
   "cell_type": "code",
   "execution_count": 14,
   "metadata": {},
   "outputs": [],
   "source": [
    "dataframe_train['Sink_following']=following_si"
   ]
  },
  {
   "cell_type": "code",
   "execution_count": 15,
   "metadata": {},
   "outputs": [],
   "source": [
    "# Source follower\n",
    "follower_so=[]\n",
    "for elem in source:\n",
    "    follower_so.append(graph.in_degree(elem))"
   ]
  },
  {
   "cell_type": "code",
   "execution_count": 16,
   "metadata": {},
   "outputs": [],
   "source": [
    "dataframe_train['Source_follower']=follower_so"
   ]
  },
  {
   "cell_type": "code",
   "execution_count": 17,
   "metadata": {},
   "outputs": [],
   "source": [
    "# Sink follower\n",
    "follower_si=[]\n",
    "for elem in sink:\n",
    "    follower_si.append(graph.in_degree(elem))"
   ]
  },
  {
   "cell_type": "code",
   "execution_count": 18,
   "metadata": {},
   "outputs": [],
   "source": [
    "dataframe_train['Sink_follower']=follower_si"
   ]
  },
  {
   "cell_type": "code",
   "execution_count": 20,
   "metadata": {},
   "outputs": [],
   "source": [
    "shortest_path=[]\n",
    "for i in range(len(source)):\n",
    "    try:\n",
    "        ll=nx.shortest_path_length(graph,source[i],sink[i])\n",
    "    except:\n",
    "        ll=0\n",
    "    shortest_path.append(ll)"
   ]
  },
  {
   "cell_type": "code",
   "execution_count": 21,
   "metadata": {},
   "outputs": [
    {
     "data": {
      "text/plain": [
       "array([0, 2, 3, 4, 5])"
      ]
     },
     "execution_count": 21,
     "metadata": {},
     "output_type": "execute_result"
    }
   ],
   "source": [
    "x = np.array(shortest_path)\n",
    "np.unique(x)"
   ]
  },
  {
   "cell_type": "code",
   "execution_count": 22,
   "metadata": {},
   "outputs": [],
   "source": [
    "dataframe_train['Shortest_path']=shortest_path"
   ]
  },
  {
   "cell_type": "code",
   "execution_count": 23,
   "metadata": {},
   "outputs": [
    {
     "data": {
      "text/html": [
       "<div>\n",
       "<style scoped>\n",
       "    .dataframe tbody tr th:only-of-type {\n",
       "        vertical-align: middle;\n",
       "    }\n",
       "\n",
       "    .dataframe tbody tr th {\n",
       "        vertical-align: top;\n",
       "    }\n",
       "\n",
       "    .dataframe thead th {\n",
       "        text-align: right;\n",
       "    }\n",
       "</style>\n",
       "<table border=\"1\" class=\"dataframe\">\n",
       "  <thead>\n",
       "    <tr style=\"text-align: right;\">\n",
       "      <th></th>\n",
       "      <th>Source_following</th>\n",
       "      <th>Sink_following</th>\n",
       "      <th>Source_follower</th>\n",
       "      <th>Sink_follower</th>\n",
       "      <th>Shortest_path</th>\n",
       "    </tr>\n",
       "  </thead>\n",
       "  <tbody>\n",
       "    <tr>\n",
       "      <th>0</th>\n",
       "      <td>21</td>\n",
       "      <td>0</td>\n",
       "      <td>3</td>\n",
       "      <td>29</td>\n",
       "      <td>4</td>\n",
       "    </tr>\n",
       "    <tr>\n",
       "      <th>1</th>\n",
       "      <td>71</td>\n",
       "      <td>0</td>\n",
       "      <td>13</td>\n",
       "      <td>9</td>\n",
       "      <td>3</td>\n",
       "    </tr>\n",
       "    <tr>\n",
       "      <th>2</th>\n",
       "      <td>205</td>\n",
       "      <td>0</td>\n",
       "      <td>80</td>\n",
       "      <td>17</td>\n",
       "      <td>2</td>\n",
       "    </tr>\n",
       "    <tr>\n",
       "      <th>3</th>\n",
       "      <td>506</td>\n",
       "      <td>0</td>\n",
       "      <td>32</td>\n",
       "      <td>36</td>\n",
       "      <td>2</td>\n",
       "    </tr>\n",
       "    <tr>\n",
       "      <th>4</th>\n",
       "      <td>18</td>\n",
       "      <td>0</td>\n",
       "      <td>5</td>\n",
       "      <td>46</td>\n",
       "      <td>3</td>\n",
       "    </tr>\n",
       "    <tr>\n",
       "      <th>...</th>\n",
       "      <td>...</td>\n",
       "      <td>...</td>\n",
       "      <td>...</td>\n",
       "      <td>...</td>\n",
       "      <td>...</td>\n",
       "    </tr>\n",
       "    <tr>\n",
       "      <th>1995</th>\n",
       "      <td>53</td>\n",
       "      <td>0</td>\n",
       "      <td>16</td>\n",
       "      <td>2</td>\n",
       "      <td>3</td>\n",
       "    </tr>\n",
       "    <tr>\n",
       "      <th>1996</th>\n",
       "      <td>95</td>\n",
       "      <td>0</td>\n",
       "      <td>53</td>\n",
       "      <td>41</td>\n",
       "      <td>3</td>\n",
       "    </tr>\n",
       "    <tr>\n",
       "      <th>1997</th>\n",
       "      <td>27</td>\n",
       "      <td>0</td>\n",
       "      <td>6</td>\n",
       "      <td>2</td>\n",
       "      <td>3</td>\n",
       "    </tr>\n",
       "    <tr>\n",
       "      <th>1998</th>\n",
       "      <td>56</td>\n",
       "      <td>0</td>\n",
       "      <td>7</td>\n",
       "      <td>3</td>\n",
       "      <td>3</td>\n",
       "    </tr>\n",
       "    <tr>\n",
       "      <th>1999</th>\n",
       "      <td>244</td>\n",
       "      <td>0</td>\n",
       "      <td>10</td>\n",
       "      <td>2</td>\n",
       "      <td>3</td>\n",
       "    </tr>\n",
       "  </tbody>\n",
       "</table>\n",
       "<p>2000 rows × 5 columns</p>\n",
       "</div>"
      ],
      "text/plain": [
       "      Source_following  Sink_following  Source_follower  Sink_follower  \\\n",
       "0                   21               0                3             29   \n",
       "1                   71               0               13              9   \n",
       "2                  205               0               80             17   \n",
       "3                  506               0               32             36   \n",
       "4                   18               0                5             46   \n",
       "...                ...             ...              ...            ...   \n",
       "1995                53               0               16              2   \n",
       "1996                95               0               53             41   \n",
       "1997                27               0                6              2   \n",
       "1998                56               0                7              3   \n",
       "1999               244               0               10              2   \n",
       "\n",
       "      Shortest_path  \n",
       "0                 4  \n",
       "1                 3  \n",
       "2                 2  \n",
       "3                 2  \n",
       "4                 3  \n",
       "...             ...  \n",
       "1995              3  \n",
       "1996              3  \n",
       "1997              3  \n",
       "1998              3  \n",
       "1999              3  \n",
       "\n",
       "[2000 rows x 5 columns]"
      ]
     },
     "execution_count": 23,
     "metadata": {},
     "output_type": "execute_result"
    }
   ],
   "source": [
    "dataframe_train"
   ]
  },
  {
   "cell_type": "code",
   "execution_count": 31,
   "metadata": {},
   "outputs": [
    {
     "name": "stdout",
     "output_type": "stream",
     "text": [
      "The Number of zeros\n"
     ]
    },
    {
     "data": {
      "text/plain": [
       "Source_following       0\n",
       "Sink_following      1631\n",
       "Source_follower        0\n",
       "Sink_follower          0\n",
       "Shortest_path         23\n",
       "dtype: int64"
      ]
     },
     "execution_count": 31,
     "metadata": {},
     "output_type": "execute_result"
    }
   ],
   "source": [
    "print('The Number of zeros:')\n",
    "dataframe_train.isin([0]).sum()"
   ]
  },
  {
   "cell_type": "markdown",
   "metadata": {},
   "source": [
    "## Similarity Functions for Directed Graph"
   ]
  },
  {
   "cell_type": "code",
   "execution_count": 32,
   "metadata": {},
   "outputs": [],
   "source": [
    "def getNeighbors_Source(node, graph):\n",
    "    nei = [n for n in graph.neighbors(node)]\n",
    "    return nei"
   ]
  },
  {
   "cell_type": "code",
   "execution_count": 33,
   "metadata": {},
   "outputs": [],
   "source": [
    "def getNeighbors_Sink(node, graph):\n",
    "    nei = [n for n in graph.predecessors(node)]\n",
    "    return nei"
   ]
  },
  {
   "cell_type": "code",
   "execution_count": 34,
   "metadata": {},
   "outputs": [],
   "source": [
    "# Common Neighbors\n",
    "def CN(n1,n2,graph):\n",
    "    nei1 = getNeighbors_Source(n1, graph)\n",
    "    nei2 = getNeighbors_Sink(n2, graph)\n",
    "    cn = len(set(nei1).intersection(set(nei2)))\n",
    "    return cn"
   ]
  },
  {
   "cell_type": "code",
   "execution_count": 35,
   "metadata": {},
   "outputs": [],
   "source": [
    "# All the Neighbors for the Two Nodes\n",
    "def union(n1,n2,graph):\n",
    "    nei1 = getNeighbors_Source(n1, graph)\n",
    "    nei2 = getNeighbors_Sink(n2, graph)\n",
    "    union = len(set(nei1).union(set(nei2)))\n",
    "    return union"
   ]
  },
  {
   "cell_type": "code",
   "execution_count": 36,
   "metadata": {},
   "outputs": [],
   "source": [
    "# Jaccard Coefficient\n",
    "def JC(n1,n2,graph):\n",
    "    cn = CN(n1,n2,graph)\n",
    "    un = union(n1,n2,graph)\n",
    "    jc = cn/(un+1)\n",
    "    return jc"
   ]
  },
  {
   "cell_type": "code",
   "execution_count": 37,
   "metadata": {},
   "outputs": [],
   "source": [
    "# Adamic Adar Index\n",
    "def AAI(n1, n2, graph):\n",
    "    nei1 = getNeighbors_Source(n1, graph)\n",
    "    nei2 = getNeighbors_Sink(n2, graph)  \n",
    "    cn = set(nei1).intersection(set(nei2))\n",
    "    \n",
    "    aai = 0\n",
    "    for i in cn:\n",
    "        n = getNeighbors_Source(i, graph)\n",
    "        num = len(n)\n",
    "        aai += 1 / math.log(num + 0.5)   \n",
    "    return aai"
   ]
  },
  {
   "cell_type": "code",
   "execution_count": 38,
   "metadata": {},
   "outputs": [],
   "source": [
    "# Preferential Attachment (*)\n",
    "def PA(n1,n2,graph):\n",
    "    nei1 = getNeighbors_Source(n1, graph)\n",
    "    nei2 = getNeighbors_Sink(n2, graph)\n",
    "    pa = len(nei1)*len(nei2)\n",
    "    return pa"
   ]
  },
  {
   "cell_type": "raw",
   "metadata": {},
   "source": [
    "# CN/+\n",
    "def SI(n1,n2,graph):\n",
    "    nei1 = getNeighbors_Source(n1, graph)\n",
    "    nei2 = getNeighbors_Sink(n2, graph)\n",
    "    cn = set(nei1).intersection(set(nei2))\n",
    "    add = cn/(len(nei1) + len(nei2))\n",
    "    return add"
   ]
  },
  {
   "cell_type": "code",
   "execution_count": 57,
   "metadata": {},
   "outputs": [],
   "source": [
    "# CN/min()\n",
    "def HP(n1,n2,graph):\n",
    "    nei1 = getNeighbors_Source(n1, graph)\n",
    "    nei2 = getNeighbors_Sink(n2, graph)\n",
    "    cn = set(nei1).intersection(set(nei2))\n",
    "    hp = len(cn)/min(len(nei1),len(nei2))\n",
    "    return hp"
   ]
  },
  {
   "cell_type": "raw",
   "metadata": {},
   "source": [
    "# CN/max()\n",
    "def HD(n1,n2,graph):\n",
    "    nei1 = getNeighbors_Source(n1, graph)\n",
    "    nei2 = getNeighbors_Sink(n2, graph)\n",
    "    cn = set(nei1).intersection(set(nei2))\n",
    "    hd = cn/max(len(nei1),len(nei2))\n",
    "    return hd"
   ]
  },
  {
   "cell_type": "code",
   "execution_count": 51,
   "metadata": {},
   "outputs": [],
   "source": [
    "# Resource Allocation Index\n",
    "def RA(n1,n2,graph):\n",
    "    nei1 = getNeighbors_Source(n1, graph)\n",
    "    nei2 = getNeighbors_Sink(n2, graph)  \n",
    "    cn = set(nei1).intersection(set(nei2))\n",
    "    \n",
    "    ra = 0\n",
    "    for i in cn:\n",
    "        n = getNeighbors_Source(i, graph)\n",
    "        num = len(n)\n",
    "        ra += 1 / (num + 0.5)\n",
    "    return ra"
   ]
  },
  {
   "cell_type": "code",
   "execution_count": 58,
   "metadata": {},
   "outputs": [],
   "source": [
    "# CN/PA\n",
    "def LHN(n1,n2,graph):\n",
    "    nei1 = getNeighbors_Source(n1, graph)\n",
    "    nei2 = getNeighbors_Sink(n2, graph)  \n",
    "    cn = set(nei1).intersection(set(nei2))\n",
    "    lhn = len(cn)/(PA(n1,n2,graph))\n",
    "    return lhn"
   ]
  },
  {
   "cell_type": "markdown",
   "metadata": {},
   "source": [
    "## Extract the Similarity Features from Dataset"
   ]
  },
  {
   "cell_type": "code",
   "execution_count": 41,
   "metadata": {},
   "outputs": [
    {
     "data": {
      "text/html": [
       "<div>\n",
       "<style scoped>\n",
       "    .dataframe tbody tr th:only-of-type {\n",
       "        vertical-align: middle;\n",
       "    }\n",
       "\n",
       "    .dataframe tbody tr th {\n",
       "        vertical-align: top;\n",
       "    }\n",
       "\n",
       "    .dataframe thead th {\n",
       "        text-align: right;\n",
       "    }\n",
       "</style>\n",
       "<table border=\"1\" class=\"dataframe\">\n",
       "  <thead>\n",
       "    <tr style=\"text-align: right;\">\n",
       "      <th></th>\n",
       "      <th>Source_following</th>\n",
       "      <th>Sink_following</th>\n",
       "      <th>Source_follower</th>\n",
       "      <th>Sink_follower</th>\n",
       "      <th>Shortest_path</th>\n",
       "    </tr>\n",
       "  </thead>\n",
       "  <tbody>\n",
       "    <tr>\n",
       "      <th>0</th>\n",
       "      <td>21</td>\n",
       "      <td>0</td>\n",
       "      <td>3</td>\n",
       "      <td>29</td>\n",
       "      <td>4</td>\n",
       "    </tr>\n",
       "    <tr>\n",
       "      <th>1</th>\n",
       "      <td>71</td>\n",
       "      <td>0</td>\n",
       "      <td>13</td>\n",
       "      <td>9</td>\n",
       "      <td>3</td>\n",
       "    </tr>\n",
       "    <tr>\n",
       "      <th>2</th>\n",
       "      <td>205</td>\n",
       "      <td>0</td>\n",
       "      <td>80</td>\n",
       "      <td>17</td>\n",
       "      <td>2</td>\n",
       "    </tr>\n",
       "    <tr>\n",
       "      <th>3</th>\n",
       "      <td>506</td>\n",
       "      <td>0</td>\n",
       "      <td>32</td>\n",
       "      <td>36</td>\n",
       "      <td>2</td>\n",
       "    </tr>\n",
       "    <tr>\n",
       "      <th>4</th>\n",
       "      <td>18</td>\n",
       "      <td>0</td>\n",
       "      <td>5</td>\n",
       "      <td>46</td>\n",
       "      <td>3</td>\n",
       "    </tr>\n",
       "    <tr>\n",
       "      <th>...</th>\n",
       "      <td>...</td>\n",
       "      <td>...</td>\n",
       "      <td>...</td>\n",
       "      <td>...</td>\n",
       "      <td>...</td>\n",
       "    </tr>\n",
       "    <tr>\n",
       "      <th>1995</th>\n",
       "      <td>53</td>\n",
       "      <td>0</td>\n",
       "      <td>16</td>\n",
       "      <td>2</td>\n",
       "      <td>3</td>\n",
       "    </tr>\n",
       "    <tr>\n",
       "      <th>1996</th>\n",
       "      <td>95</td>\n",
       "      <td>0</td>\n",
       "      <td>53</td>\n",
       "      <td>41</td>\n",
       "      <td>3</td>\n",
       "    </tr>\n",
       "    <tr>\n",
       "      <th>1997</th>\n",
       "      <td>27</td>\n",
       "      <td>0</td>\n",
       "      <td>6</td>\n",
       "      <td>2</td>\n",
       "      <td>3</td>\n",
       "    </tr>\n",
       "    <tr>\n",
       "      <th>1998</th>\n",
       "      <td>56</td>\n",
       "      <td>0</td>\n",
       "      <td>7</td>\n",
       "      <td>3</td>\n",
       "      <td>3</td>\n",
       "    </tr>\n",
       "    <tr>\n",
       "      <th>1999</th>\n",
       "      <td>244</td>\n",
       "      <td>0</td>\n",
       "      <td>10</td>\n",
       "      <td>2</td>\n",
       "      <td>3</td>\n",
       "    </tr>\n",
       "  </tbody>\n",
       "</table>\n",
       "<p>2000 rows × 5 columns</p>\n",
       "</div>"
      ],
      "text/plain": [
       "      Source_following  Sink_following  Source_follower  Sink_follower  \\\n",
       "0                   21               0                3             29   \n",
       "1                   71               0               13              9   \n",
       "2                  205               0               80             17   \n",
       "3                  506               0               32             36   \n",
       "4                   18               0                5             46   \n",
       "...                ...             ...              ...            ...   \n",
       "1995                53               0               16              2   \n",
       "1996                95               0               53             41   \n",
       "1997                27               0                6              2   \n",
       "1998                56               0                7              3   \n",
       "1999               244               0               10              2   \n",
       "\n",
       "      Shortest_path  \n",
       "0                 4  \n",
       "1                 3  \n",
       "2                 2  \n",
       "3                 2  \n",
       "4                 3  \n",
       "...             ...  \n",
       "1995              3  \n",
       "1996              3  \n",
       "1997              3  \n",
       "1998              3  \n",
       "1999              3  \n",
       "\n",
       "[2000 rows x 5 columns]"
      ]
     },
     "execution_count": 41,
     "metadata": {},
     "output_type": "execute_result"
    }
   ],
   "source": [
    "dataframe_train"
   ]
  },
  {
   "cell_type": "code",
   "execution_count": 42,
   "metadata": {},
   "outputs": [
    {
     "name": "stderr",
     "output_type": "stream",
     "text": [
      "100%|██████████| 2000/2000 [00:00<00:00, 3451.20it/s]\n"
     ]
    }
   ],
   "source": [
    "cn = []\n",
    "for i in tqdm(range(len(source))):\n",
    "    cn.append(CN(source[i],sink[i],graph))"
   ]
  },
  {
   "cell_type": "code",
   "execution_count": 43,
   "metadata": {},
   "outputs": [],
   "source": [
    "dataframe_train['CN']=cn"
   ]
  },
  {
   "cell_type": "code",
   "execution_count": 44,
   "metadata": {},
   "outputs": [
    {
     "name": "stderr",
     "output_type": "stream",
     "text": [
      "100%|██████████| 2000/2000 [00:28<00:00, 69.67it/s] \n"
     ]
    }
   ],
   "source": [
    "aai = []\n",
    "for i in tqdm(range(len(source))):\n",
    "    aai.append(AAI(source[i],sink[i],graph))"
   ]
  },
  {
   "cell_type": "code",
   "execution_count": 45,
   "metadata": {},
   "outputs": [],
   "source": [
    "dataframe_train['AAI']=aai"
   ]
  },
  {
   "cell_type": "code",
   "execution_count": 46,
   "metadata": {},
   "outputs": [
    {
     "name": "stderr",
     "output_type": "stream",
     "text": [
      "100%|██████████| 2000/2000 [00:00<00:00, 2022.19it/s]\n"
     ]
    }
   ],
   "source": [
    "jc = []\n",
    "for i in tqdm(range(len(source))):\n",
    "    jc.append(JC(source[i],sink[i],graph))"
   ]
  },
  {
   "cell_type": "code",
   "execution_count": 47,
   "metadata": {},
   "outputs": [],
   "source": [
    "dataframe_train['JC']=jc"
   ]
  },
  {
   "cell_type": "code",
   "execution_count": 48,
   "metadata": {},
   "outputs": [
    {
     "name": "stderr",
     "output_type": "stream",
     "text": [
      "100%|██████████| 2000/2000 [00:00<00:00, 8695.68it/s]\n"
     ]
    }
   ],
   "source": [
    "pa = []\n",
    "for i in tqdm(range(len(source))):\n",
    "    pa.append(PA(source[i],sink[i],graph))"
   ]
  },
  {
   "cell_type": "code",
   "execution_count": 49,
   "metadata": {},
   "outputs": [],
   "source": [
    "dataframe_train['PA']=pa"
   ]
  },
  {
   "cell_type": "code",
   "execution_count": 52,
   "metadata": {},
   "outputs": [
    {
     "name": "stderr",
     "output_type": "stream",
     "text": [
      "100%|██████████| 2000/2000 [00:20<00:00, 99.50it/s] \n"
     ]
    }
   ],
   "source": [
    "ra = []\n",
    "for i in tqdm(range(len(source))):\n",
    "    ra.append(RA(source[i],sink[i],graph))"
   ]
  },
  {
   "cell_type": "code",
   "execution_count": 53,
   "metadata": {},
   "outputs": [],
   "source": [
    "dataframe_train['RA']=ra"
   ]
  },
  {
   "cell_type": "code",
   "execution_count": 59,
   "metadata": {},
   "outputs": [
    {
     "name": "stderr",
     "output_type": "stream",
     "text": [
      "100%|██████████| 2000/2000 [00:00<00:00, 4010.40it/s]\n"
     ]
    }
   ],
   "source": [
    "hp = []\n",
    "for i in tqdm(range(len(source))):\n",
    "    hp.append(HP(source[i],sink[i],graph))"
   ]
  },
  {
   "cell_type": "code",
   "execution_count": 60,
   "metadata": {},
   "outputs": [],
   "source": [
    "dataframe_train['HP']=hp"
   ]
  },
  {
   "cell_type": "code",
   "execution_count": 61,
   "metadata": {},
   "outputs": [
    {
     "name": "stderr",
     "output_type": "stream",
     "text": [
      "100%|██████████| 2000/2000 [00:00<00:00, 3141.72it/s]\n"
     ]
    }
   ],
   "source": [
    "lhn = []\n",
    "for i in tqdm(range(len(source))):\n",
    "    lhn.append(LHN(source[i],sink[i],graph))"
   ]
  },
  {
   "cell_type": "code",
   "execution_count": 62,
   "metadata": {},
   "outputs": [],
   "source": [
    "dataframe_train['LHN']=lhn"
   ]
  },
  {
   "cell_type": "raw",
   "metadata": {},
   "source": [
    "pr = nx.pagerank(graph)\n",
    "with open('PageRank.txt', 'wb') as file:\n",
    "    pickle.dump(pr,file)"
   ]
  },
  {
   "cell_type": "code",
   "execution_count": 65,
   "metadata": {},
   "outputs": [],
   "source": [
    "with open('PageRank.txt', 'rb') as file:\n",
    "    pr = pickle.load(file)\n",
    "    \n",
    "dataframe_train['PageRank_Src'] = source.apply(lambda row: pr.get(row))\n",
    "dataframe_train['PageRank_Sink'] = sink.apply(lambda row: pr.get(row))\n"
   ]
  },
  {
   "cell_type": "code",
   "execution_count": 66,
   "metadata": {},
   "outputs": [
    {
     "data": {
      "text/html": [
       "<div>\n",
       "<style scoped>\n",
       "    .dataframe tbody tr th:only-of-type {\n",
       "        vertical-align: middle;\n",
       "    }\n",
       "\n",
       "    .dataframe tbody tr th {\n",
       "        vertical-align: top;\n",
       "    }\n",
       "\n",
       "    .dataframe thead th {\n",
       "        text-align: right;\n",
       "    }\n",
       "</style>\n",
       "<table border=\"1\" class=\"dataframe\">\n",
       "  <thead>\n",
       "    <tr style=\"text-align: right;\">\n",
       "      <th></th>\n",
       "      <th>Source_following</th>\n",
       "      <th>Sink_following</th>\n",
       "      <th>Source_follower</th>\n",
       "      <th>Sink_follower</th>\n",
       "      <th>Shortest_path</th>\n",
       "      <th>CN</th>\n",
       "      <th>AAI</th>\n",
       "      <th>JC</th>\n",
       "      <th>PA</th>\n",
       "      <th>RA</th>\n",
       "      <th>HP</th>\n",
       "      <th>LHN</th>\n",
       "      <th>PageRank_Src</th>\n",
       "      <th>PageRank_Sink</th>\n",
       "    </tr>\n",
       "  </thead>\n",
       "  <tbody>\n",
       "    <tr>\n",
       "      <th>0</th>\n",
       "      <td>21</td>\n",
       "      <td>0</td>\n",
       "      <td>3</td>\n",
       "      <td>29</td>\n",
       "      <td>4</td>\n",
       "      <td>0</td>\n",
       "      <td>0.000000</td>\n",
       "      <td>0.000000</td>\n",
       "      <td>609</td>\n",
       "      <td>0.000000</td>\n",
       "      <td>0.000000</td>\n",
       "      <td>0.000000</td>\n",
       "      <td>2.100194e-07</td>\n",
       "      <td>2.108565e-07</td>\n",
       "    </tr>\n",
       "    <tr>\n",
       "      <th>1</th>\n",
       "      <td>71</td>\n",
       "      <td>0</td>\n",
       "      <td>13</td>\n",
       "      <td>9</td>\n",
       "      <td>3</td>\n",
       "      <td>0</td>\n",
       "      <td>0.000000</td>\n",
       "      <td>0.000000</td>\n",
       "      <td>639</td>\n",
       "      <td>0.000000</td>\n",
       "      <td>0.000000</td>\n",
       "      <td>0.000000</td>\n",
       "      <td>2.097592e-07</td>\n",
       "      <td>2.196712e-07</td>\n",
       "    </tr>\n",
       "    <tr>\n",
       "      <th>2</th>\n",
       "      <td>205</td>\n",
       "      <td>0</td>\n",
       "      <td>80</td>\n",
       "      <td>17</td>\n",
       "      <td>2</td>\n",
       "      <td>2</td>\n",
       "      <td>0.404742</td>\n",
       "      <td>0.009050</td>\n",
       "      <td>3485</td>\n",
       "      <td>0.014290</td>\n",
       "      <td>0.117647</td>\n",
       "      <td>0.000574</td>\n",
       "      <td>2.502170e-07</td>\n",
       "      <td>2.185784e-07</td>\n",
       "    </tr>\n",
       "    <tr>\n",
       "      <th>3</th>\n",
       "      <td>506</td>\n",
       "      <td>0</td>\n",
       "      <td>32</td>\n",
       "      <td>36</td>\n",
       "      <td>2</td>\n",
       "      <td>2</td>\n",
       "      <td>0.178818</td>\n",
       "      <td>0.003697</td>\n",
       "      <td>18216</td>\n",
       "      <td>0.000028</td>\n",
       "      <td>0.055556</td>\n",
       "      <td>0.000110</td>\n",
       "      <td>2.079456e-07</td>\n",
       "      <td>2.060563e-07</td>\n",
       "    </tr>\n",
       "    <tr>\n",
       "      <th>4</th>\n",
       "      <td>18</td>\n",
       "      <td>0</td>\n",
       "      <td>5</td>\n",
       "      <td>46</td>\n",
       "      <td>3</td>\n",
       "      <td>0</td>\n",
       "      <td>0.000000</td>\n",
       "      <td>0.000000</td>\n",
       "      <td>828</td>\n",
       "      <td>0.000000</td>\n",
       "      <td>0.000000</td>\n",
       "      <td>0.000000</td>\n",
       "      <td>2.059882e-07</td>\n",
       "      <td>2.053494e-07</td>\n",
       "    </tr>\n",
       "    <tr>\n",
       "      <th>...</th>\n",
       "      <td>...</td>\n",
       "      <td>...</td>\n",
       "      <td>...</td>\n",
       "      <td>...</td>\n",
       "      <td>...</td>\n",
       "      <td>...</td>\n",
       "      <td>...</td>\n",
       "      <td>...</td>\n",
       "      <td>...</td>\n",
       "      <td>...</td>\n",
       "      <td>...</td>\n",
       "      <td>...</td>\n",
       "      <td>...</td>\n",
       "      <td>...</td>\n",
       "    </tr>\n",
       "    <tr>\n",
       "      <th>1995</th>\n",
       "      <td>53</td>\n",
       "      <td>0</td>\n",
       "      <td>16</td>\n",
       "      <td>2</td>\n",
       "      <td>3</td>\n",
       "      <td>0</td>\n",
       "      <td>0.000000</td>\n",
       "      <td>0.000000</td>\n",
       "      <td>106</td>\n",
       "      <td>0.000000</td>\n",
       "      <td>0.000000</td>\n",
       "      <td>0.000000</td>\n",
       "      <td>2.198319e-07</td>\n",
       "      <td>2.047780e-07</td>\n",
       "    </tr>\n",
       "    <tr>\n",
       "      <th>1996</th>\n",
       "      <td>95</td>\n",
       "      <td>0</td>\n",
       "      <td>53</td>\n",
       "      <td>41</td>\n",
       "      <td>3</td>\n",
       "      <td>0</td>\n",
       "      <td>0.000000</td>\n",
       "      <td>0.000000</td>\n",
       "      <td>3895</td>\n",
       "      <td>0.000000</td>\n",
       "      <td>0.000000</td>\n",
       "      <td>0.000000</td>\n",
       "      <td>2.553266e-07</td>\n",
       "      <td>2.050740e-07</td>\n",
       "    </tr>\n",
       "    <tr>\n",
       "      <th>1997</th>\n",
       "      <td>27</td>\n",
       "      <td>0</td>\n",
       "      <td>6</td>\n",
       "      <td>2</td>\n",
       "      <td>3</td>\n",
       "      <td>0</td>\n",
       "      <td>0.000000</td>\n",
       "      <td>0.000000</td>\n",
       "      <td>54</td>\n",
       "      <td>0.000000</td>\n",
       "      <td>0.000000</td>\n",
       "      <td>0.000000</td>\n",
       "      <td>2.064844e-07</td>\n",
       "      <td>2.049514e-07</td>\n",
       "    </tr>\n",
       "    <tr>\n",
       "      <th>1998</th>\n",
       "      <td>56</td>\n",
       "      <td>0</td>\n",
       "      <td>7</td>\n",
       "      <td>3</td>\n",
       "      <td>3</td>\n",
       "      <td>0</td>\n",
       "      <td>0.000000</td>\n",
       "      <td>0.000000</td>\n",
       "      <td>168</td>\n",
       "      <td>0.000000</td>\n",
       "      <td>0.000000</td>\n",
       "      <td>0.000000</td>\n",
       "      <td>2.287362e-07</td>\n",
       "      <td>2.048797e-07</td>\n",
       "    </tr>\n",
       "    <tr>\n",
       "      <th>1999</th>\n",
       "      <td>244</td>\n",
       "      <td>0</td>\n",
       "      <td>10</td>\n",
       "      <td>2</td>\n",
       "      <td>3</td>\n",
       "      <td>0</td>\n",
       "      <td>0.000000</td>\n",
       "      <td>0.000000</td>\n",
       "      <td>488</td>\n",
       "      <td>0.000000</td>\n",
       "      <td>0.000000</td>\n",
       "      <td>0.000000</td>\n",
       "      <td>2.061126e-07</td>\n",
       "      <td>2.047582e-07</td>\n",
       "    </tr>\n",
       "  </tbody>\n",
       "</table>\n",
       "<p>2000 rows × 14 columns</p>\n",
       "</div>"
      ],
      "text/plain": [
       "      Source_following  Sink_following  Source_follower  Sink_follower  \\\n",
       "0                   21               0                3             29   \n",
       "1                   71               0               13              9   \n",
       "2                  205               0               80             17   \n",
       "3                  506               0               32             36   \n",
       "4                   18               0                5             46   \n",
       "...                ...             ...              ...            ...   \n",
       "1995                53               0               16              2   \n",
       "1996                95               0               53             41   \n",
       "1997                27               0                6              2   \n",
       "1998                56               0                7              3   \n",
       "1999               244               0               10              2   \n",
       "\n",
       "      Shortest_path  CN       AAI        JC     PA        RA        HP  \\\n",
       "0                 4   0  0.000000  0.000000    609  0.000000  0.000000   \n",
       "1                 3   0  0.000000  0.000000    639  0.000000  0.000000   \n",
       "2                 2   2  0.404742  0.009050   3485  0.014290  0.117647   \n",
       "3                 2   2  0.178818  0.003697  18216  0.000028  0.055556   \n",
       "4                 3   0  0.000000  0.000000    828  0.000000  0.000000   \n",
       "...             ...  ..       ...       ...    ...       ...       ...   \n",
       "1995              3   0  0.000000  0.000000    106  0.000000  0.000000   \n",
       "1996              3   0  0.000000  0.000000   3895  0.000000  0.000000   \n",
       "1997              3   0  0.000000  0.000000     54  0.000000  0.000000   \n",
       "1998              3   0  0.000000  0.000000    168  0.000000  0.000000   \n",
       "1999              3   0  0.000000  0.000000    488  0.000000  0.000000   \n",
       "\n",
       "           LHN  PageRank_Src  PageRank_Sink  \n",
       "0     0.000000  2.100194e-07   2.108565e-07  \n",
       "1     0.000000  2.097592e-07   2.196712e-07  \n",
       "2     0.000574  2.502170e-07   2.185784e-07  \n",
       "3     0.000110  2.079456e-07   2.060563e-07  \n",
       "4     0.000000  2.059882e-07   2.053494e-07  \n",
       "...        ...           ...            ...  \n",
       "1995  0.000000  2.198319e-07   2.047780e-07  \n",
       "1996  0.000000  2.553266e-07   2.050740e-07  \n",
       "1997  0.000000  2.064844e-07   2.049514e-07  \n",
       "1998  0.000000  2.287362e-07   2.048797e-07  \n",
       "1999  0.000000  2.061126e-07   2.047582e-07  \n",
       "\n",
       "[2000 rows x 14 columns]"
      ]
     },
     "execution_count": 66,
     "metadata": {},
     "output_type": "execute_result"
    }
   ],
   "source": [
    "dataframe_train"
   ]
  },
  {
   "cell_type": "code",
   "execution_count": 67,
   "metadata": {},
   "outputs": [
    {
     "name": "stdout",
     "output_type": "stream",
     "text": [
      "The Number of Zeros:\n"
     ]
    },
    {
     "data": {
      "text/plain": [
       "Source_following       0\n",
       "Sink_following      1631\n",
       "Source_follower        0\n",
       "Sink_follower          0\n",
       "Shortest_path         23\n",
       "CN                   922\n",
       "AAI                  922\n",
       "JC                   922\n",
       "PA                     0\n",
       "RA                   922\n",
       "HP                   922\n",
       "LHN                  922\n",
       "PageRank_Src           0\n",
       "PageRank_Sink          0\n",
       "dtype: int64"
      ]
     },
     "execution_count": 67,
     "metadata": {},
     "output_type": "execute_result"
    }
   ],
   "source": [
    "print('The Number of Zeros:')\n",
    "dataframe_train.isin([0]).sum()"
   ]
  },
  {
   "cell_type": "markdown",
   "metadata": {},
   "source": [
    "## Centrality Features"
   ]
  },
  {
   "cell_type": "raw",
   "metadata": {},
   "source": [
    "centrality = nx.eigenvector_centrality(graph)\n",
    "with open('Eigenvector_Centrality.txt', 'wb') as file:\n",
    "    pickle.dump(centrality,file)"
   ]
  },
  {
   "cell_type": "code",
   "execution_count": 69,
   "metadata": {},
   "outputs": [],
   "source": [
    "with open('Eigenvector_Centrality.txt', 'rb') as file:\n",
    "    centrality = pickle.load(file)\n",
    "dataframe_train['ECentrality_Sour'] = source.apply(lambda row: centrality.get(row))\n",
    "dataframe_train['ECentrality_Sink'] = sink.apply(lambda row: centrality.get(row))"
   ]
  },
  {
   "cell_type": "raw",
   "metadata": {},
   "source": [
    "dc = nx.degree_centrality(graph)\n",
    "with open('Degree_centrality.txt', 'wb') as file:\n",
    "    pickle.dump(dc,file)"
   ]
  },
  {
   "cell_type": "code",
   "execution_count": 70,
   "metadata": {},
   "outputs": [],
   "source": [
    "with open('Degree_centrality.txt', 'rb') as file:\n",
    "    dc = pickle.load(file)\n",
    "dataframe_train['Degree_Centrality_Sour'] = source.apply(lambda row: dc.get(row))\n",
    "dataframe_train['Degree_Centrality_Sink'] = sink.apply(lambda row: dc.get(row))"
   ]
  },
  {
   "cell_type": "code",
   "execution_count": 71,
   "metadata": {},
   "outputs": [
    {
     "name": "stdout",
     "output_type": "stream",
     "text": [
      "The Number of Zeros:\n"
     ]
    },
    {
     "data": {
      "text/plain": [
       "Source_following             0\n",
       "Sink_following            1631\n",
       "Source_follower              0\n",
       "Sink_follower                0\n",
       "Shortest_path               23\n",
       "CN                         922\n",
       "AAI                        922\n",
       "JC                         922\n",
       "PA                           0\n",
       "RA                         922\n",
       "HP                         922\n",
       "LHN                        922\n",
       "PageRank_Src                 0\n",
       "PageRank_Sink                0\n",
       "ECentrality_Sour             0\n",
       "ECentrality_Sink             0\n",
       "Degree_Centrality_Sour       0\n",
       "Degree_Centrality_Sink       0\n",
       "dtype: int64"
      ]
     },
     "execution_count": 71,
     "metadata": {},
     "output_type": "execute_result"
    }
   ],
   "source": [
    "print('The Number of Zeros:')\n",
    "dataframe_train.isin([0]).sum()"
   ]
  },
  {
   "cell_type": "markdown",
   "metadata": {},
   "source": [
    "## Output Feature Dataframe"
   ]
  },
  {
   "cell_type": "code",
   "execution_count": 72,
   "metadata": {},
   "outputs": [],
   "source": [
    "with open('dataframe_train.txt','wb') as file:\n",
    "    pickle.dump(dataframe_train,file)"
   ]
  },
  {
   "cell_type": "code",
   "execution_count": 115,
   "metadata": {},
   "outputs": [
    {
     "data": {
      "text/html": [
       "<div>\n",
       "<style scoped>\n",
       "    .dataframe tbody tr th:only-of-type {\n",
       "        vertical-align: middle;\n",
       "    }\n",
       "\n",
       "    .dataframe tbody tr th {\n",
       "        vertical-align: top;\n",
       "    }\n",
       "\n",
       "    .dataframe thead th {\n",
       "        text-align: right;\n",
       "    }\n",
       "</style>\n",
       "<table border=\"1\" class=\"dataframe\">\n",
       "  <thead>\n",
       "    <tr style=\"text-align: right;\">\n",
       "      <th></th>\n",
       "      <th>Source</th>\n",
       "      <th>Sink</th>\n",
       "      <th>CN</th>\n",
       "      <th>AAI</th>\n",
       "      <th>JC</th>\n",
       "      <th>PA</th>\n",
       "      <th>RA</th>\n",
       "    </tr>\n",
       "  </thead>\n",
       "  <tbody>\n",
       "    <tr>\n",
       "      <th>0</th>\n",
       "      <td>3563811</td>\n",
       "      <td>3600160</td>\n",
       "      <td>0</td>\n",
       "      <td>0.000000</td>\n",
       "      <td>0.000000</td>\n",
       "      <td>609</td>\n",
       "      <td>0.000000</td>\n",
       "    </tr>\n",
       "    <tr>\n",
       "      <th>1</th>\n",
       "      <td>2052043</td>\n",
       "      <td>1401960</td>\n",
       "      <td>0</td>\n",
       "      <td>0.000000</td>\n",
       "      <td>0.000000</td>\n",
       "      <td>639</td>\n",
       "      <td>0.000000</td>\n",
       "    </tr>\n",
       "    <tr>\n",
       "      <th>2</th>\n",
       "      <td>4517994</td>\n",
       "      <td>1690636</td>\n",
       "      <td>2</td>\n",
       "      <td>0.404742</td>\n",
       "      <td>0.009050</td>\n",
       "      <td>3485</td>\n",
       "      <td>0.014290</td>\n",
       "    </tr>\n",
       "    <tr>\n",
       "      <th>3</th>\n",
       "      <td>1660006</td>\n",
       "      <td>4349447</td>\n",
       "      <td>2</td>\n",
       "      <td>0.178818</td>\n",
       "      <td>0.003697</td>\n",
       "      <td>18216</td>\n",
       "      <td>0.000028</td>\n",
       "    </tr>\n",
       "    <tr>\n",
       "      <th>4</th>\n",
       "      <td>581111</td>\n",
       "      <td>1882617</td>\n",
       "      <td>0</td>\n",
       "      <td>0.000000</td>\n",
       "      <td>0.000000</td>\n",
       "      <td>828</td>\n",
       "      <td>0.000000</td>\n",
       "    </tr>\n",
       "    <tr>\n",
       "      <th>...</th>\n",
       "      <td>...</td>\n",
       "      <td>...</td>\n",
       "      <td>...</td>\n",
       "      <td>...</td>\n",
       "      <td>...</td>\n",
       "      <td>...</td>\n",
       "      <td>...</td>\n",
       "    </tr>\n",
       "    <tr>\n",
       "      <th>1995</th>\n",
       "      <td>1461386</td>\n",
       "      <td>2341683</td>\n",
       "      <td>0</td>\n",
       "      <td>0.000000</td>\n",
       "      <td>0.000000</td>\n",
       "      <td>106</td>\n",
       "      <td>0.000000</td>\n",
       "    </tr>\n",
       "    <tr>\n",
       "      <th>1996</th>\n",
       "      <td>4057755</td>\n",
       "      <td>1871227</td>\n",
       "      <td>0</td>\n",
       "      <td>0.000000</td>\n",
       "      <td>0.000000</td>\n",
       "      <td>3895</td>\n",
       "      <td>0.000000</td>\n",
       "    </tr>\n",
       "    <tr>\n",
       "      <th>1997</th>\n",
       "      <td>4242514</td>\n",
       "      <td>1413468</td>\n",
       "      <td>0</td>\n",
       "      <td>0.000000</td>\n",
       "      <td>0.000000</td>\n",
       "      <td>54</td>\n",
       "      <td>0.000000</td>\n",
       "    </tr>\n",
       "    <tr>\n",
       "      <th>1998</th>\n",
       "      <td>555531</td>\n",
       "      <td>1290080</td>\n",
       "      <td>0</td>\n",
       "      <td>0.000000</td>\n",
       "      <td>0.000000</td>\n",
       "      <td>168</td>\n",
       "      <td>0.000000</td>\n",
       "    </tr>\n",
       "    <tr>\n",
       "      <th>1999</th>\n",
       "      <td>1707829</td>\n",
       "      <td>2373045</td>\n",
       "      <td>0</td>\n",
       "      <td>0.000000</td>\n",
       "      <td>0.000000</td>\n",
       "      <td>488</td>\n",
       "      <td>0.000000</td>\n",
       "    </tr>\n",
       "  </tbody>\n",
       "</table>\n",
       "<p>2000 rows × 7 columns</p>\n",
       "</div>"
      ],
      "text/plain": [
       "       Source     Sink  CN       AAI        JC     PA        RA\n",
       "0     3563811  3600160   0  0.000000  0.000000    609  0.000000\n",
       "1     2052043  1401960   0  0.000000  0.000000    639  0.000000\n",
       "2     4517994  1690636   2  0.404742  0.009050   3485  0.014290\n",
       "3     1660006  4349447   2  0.178818  0.003697  18216  0.000028\n",
       "4      581111  1882617   0  0.000000  0.000000    828  0.000000\n",
       "...       ...      ...  ..       ...       ...    ...       ...\n",
       "1995  1461386  2341683   0  0.000000  0.000000    106  0.000000\n",
       "1996  4057755  1871227   0  0.000000  0.000000   3895  0.000000\n",
       "1997  4242514  1413468   0  0.000000  0.000000     54  0.000000\n",
       "1998   555531  1290080   0  0.000000  0.000000    168  0.000000\n",
       "1999  1707829  2373045   0  0.000000  0.000000    488  0.000000\n",
       "\n",
       "[2000 rows x 7 columns]"
      ]
     },
     "execution_count": 115,
     "metadata": {},
     "output_type": "execute_result"
    }
   ],
   "source": [
    "dataframe_train"
   ]
  },
  {
   "cell_type": "markdown",
   "metadata": {},
   "source": [
    "## Code Debug"
   ]
  },
  {
   "cell_type": "code",
   "execution_count": 76,
   "metadata": {},
   "outputs": [
    {
     "name": "stdout",
     "output_type": "stream",
     "text": [
      "['787039', '3519329', '2472993', '3274877', '1541304', '673835', '1405689', '2401069', '1628939', '4016137', '4008078', '3017264', '2331231', '127885', '3355752', '1523982', '2166423', '1120944', '3638703', '2558493', '4027460'] []\n"
     ]
    }
   ],
   "source": [
    "print(getNeighbors('3563811', graph),getNeighbors('3600160', graph))"
   ]
  },
  {
   "cell_type": "code",
   "execution_count": 77,
   "metadata": {},
   "outputs": [
    {
     "data": {
      "text/plain": [
       "[]"
      ]
     },
     "execution_count": 77,
     "metadata": {},
     "output_type": "execute_result"
    }
   ],
   "source": [
    "getNeighbors('3600160', graph)"
   ]
  },
  {
   "cell_type": "code",
   "execution_count": 78,
   "metadata": {},
   "outputs": [],
   "source": [
    "with open('source_node.txt', 'rb') as file:\n",
    "    source_node = pickle.load(file)"
   ]
  },
  {
   "cell_type": "code",
   "execution_count": 80,
   "metadata": {},
   "outputs": [
    {
     "data": {
      "text/plain": [
       "False"
      ]
     },
     "execution_count": 80,
     "metadata": {},
     "output_type": "execute_result"
    }
   ],
   "source": [
    "'3600160' in source_node"
   ]
  },
  {
   "cell_type": "code",
   "execution_count": null,
   "metadata": {},
   "outputs": [],
   "source": [
    "list(graph.predecessors('3600160'))"
   ]
  },
  {
   "cell_type": "code",
   "execution_count": null,
   "metadata": {},
   "outputs": [],
   "source": []
  }
 ],
 "metadata": {
  "kernelspec": {
   "display_name": "Python 3",
   "language": "python",
   "name": "python3"
  },
  "language_info": {
   "codemirror_mode": {
    "name": "ipython",
    "version": 3
   },
   "file_extension": ".py",
   "mimetype": "text/x-python",
   "name": "python",
   "nbconvert_exporter": "python",
   "pygments_lexer": "ipython3",
   "version": "3.7.6"
  }
 },
 "nbformat": 4,
 "nbformat_minor": 4
}
