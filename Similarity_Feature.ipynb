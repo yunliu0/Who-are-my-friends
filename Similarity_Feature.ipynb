{
 "cells": [
  {
   "cell_type": "code",
   "execution_count": 1,
   "metadata": {},
   "outputs": [],
   "source": [
    "import numpy as np\n",
    "import pandas as pd\n",
    "import random\n",
    "import networkx as nx\n",
    "import pickle\n",
    "from tqdm import tqdm\n",
    "import math"
   ]
  },
  {
   "cell_type": "code",
   "execution_count": 2,
   "metadata": {},
   "outputs": [],
   "source": [
    "with open('graph.txt', 'rb') as file:\n",
    "    graph = pickle.load(file)"
   ]
  },
  {
   "cell_type": "code",
   "execution_count": 3,
   "metadata": {},
   "outputs": [],
   "source": [
    "with open('Train_HHH.txt', 'rb') as file:\n",
    "    train = pickle.load(file)"
   ]
  },
  {
   "cell_type": "raw",
   "metadata": {},
   "source": [
    "with open('16_test.txt', 'rb') as file:\n",
    "    test = pickle.load(file)"
   ]
  },
  {
   "cell_type": "markdown",
   "metadata": {},
   "source": [
    "## Similarity Functions for Directed Graph"
   ]
  },
  {
   "cell_type": "code",
   "execution_count": 99,
   "metadata": {},
   "outputs": [],
   "source": [
    "def getNeighbors_Source(node, graph):\n",
    "    nei = [n for n in graph.neighbors(node)]\n",
    "    return nei"
   ]
  },
  {
   "cell_type": "code",
   "execution_count": 83,
   "metadata": {},
   "outputs": [],
   "source": [
    "def getNeighbors_Sink(node, graph):\n",
    "    nei = [n for n in graph.predecessors(node)]\n",
    "    return nei"
   ]
  },
  {
   "cell_type": "code",
   "execution_count": 84,
   "metadata": {},
   "outputs": [],
   "source": [
    "# Common Neighbors\n",
    "def CN(n1,n2,graph):\n",
    "    nei1 = getNeighbors_Source(n1, graph)\n",
    "    nei2 = getNeighbors_Sink(n2, graph)\n",
    "    cn = len(set(nei1).intersection(set(nei2)))\n",
    "    return cn"
   ]
  },
  {
   "cell_type": "code",
   "execution_count": 85,
   "metadata": {},
   "outputs": [],
   "source": [
    "# All the Neighbors for the Two Nodes\n",
    "def union(n1,n2,graph):\n",
    "    nei1 = getNeighbors_Source(n1, graph)\n",
    "    nei2 = getNeighbors_Sink(n2, graph)\n",
    "    union = len(set(nei1).union(set(nei2)))\n",
    "    return union"
   ]
  },
  {
   "cell_type": "code",
   "execution_count": 86,
   "metadata": {},
   "outputs": [],
   "source": [
    "# Jaccard Coefficient\n",
    "def JC(n1,n2,graph):\n",
    "    cn = CN(n1,n2,graph)\n",
    "    un = union(n1,n2,graph)\n",
    "    jc = cn/(un+1)\n",
    "    return jc"
   ]
  },
  {
   "cell_type": "code",
   "execution_count": null,
   "metadata": {},
   "outputs": [],
   "source": [
    "# Adamic Adar Index\n",
    "def AAI(n1, n2, graph):\n",
    "    nei1 = getNeighbors_Source(n1, graph)\n",
    "    nei2 = getNeighbors_Sink(n2, graph)  \n",
    "    cn = set(nei1).intersection(set(nei2))\n",
    "    \n",
    "    aai = 0\n",
    "    for i in cn:\n",
    "        n = getNeighbors_Source(i, graph)\n",
    "        num = len(n)\n",
    "        aai += 1 / math.log(num + 0.5)   \n",
    "    return aai"
   ]
  },
  {
   "cell_type": "code",
   "execution_count": 88,
   "metadata": {},
   "outputs": [],
   "source": [
    "# Preferential Attachment (*)\n",
    "def PA(n1,n2,graph):\n",
    "    nei1 = getNeighbors_Source(n1, graph)\n",
    "    nei2 = getNeighbors_Sink(n2, graph)\n",
    "    pa = len(nei1)*len(nei2)\n",
    "    return pa"
   ]
  },
  {
   "cell_type": "raw",
   "metadata": {},
   "source": [
    "# CN/+\n",
    "def SI(n1,n2,graph):\n",
    "    nei1 = getNeighbors_Source(n1, graph)\n",
    "    nei2 = getNeighbors_Sink(n2, graph)\n",
    "    cn = set(nei1).intersection(set(nei2))\n",
    "    add = cn/(len(nei1) + len(nei2))\n",
    "    return add"
   ]
  },
  {
   "cell_type": "code",
   "execution_count": 90,
   "metadata": {},
   "outputs": [],
   "source": [
    "# CN/min()\n",
    "def HP(n1,n2,graph):\n",
    "    nei1 = getNeighbors_Source(n1, graph)\n",
    "    nei2 = getNeighbors_Sink(n2, graph)\n",
    "    cn = set(nei1).intersection(set(nei2))\n",
    "    hp = cn/min(len(nei1),len(nei2))\n",
    "    return hp"
   ]
  },
  {
   "cell_type": "raw",
   "metadata": {},
   "source": [
    "# CN/max()\n",
    "def HD(n1,n2,graph):\n",
    "    nei1 = getNeighbors_Source(n1, graph)\n",
    "    nei2 = getNeighbors_Sink(n2, graph)\n",
    "    cn = set(nei1).intersection(set(nei2))\n",
    "    hd = cn/max(len(nei1),len(nei2))\n",
    "    return hd"
   ]
  },
  {
   "cell_type": "raw",
   "metadata": {},
   "source": [
    "# Resource Allocation Index\n",
    "def RA(n1,n2,graph):\n",
    "    nei1 = getNeighbors_Source(n1, graph)\n",
    "    nei2 = getNeighbors_Sink(n2, graph)  \n",
    "    cn = set(nei1).intersection(set(nei2))\n",
    "    \n",
    "    ra = 0\n",
    "    for i in cn:\n",
    "        n = getNeighbors_Source(i, graph)\n",
    "        num = len(n)\n",
    "        ra += 1 / (num + 0.5)\n",
    "    return ra"
   ]
  },
  {
   "cell_type": "code",
   "execution_count": 93,
   "metadata": {},
   "outputs": [],
   "source": [
    "# CN/PA\n",
    "def LHN(n1,n2,graph):\n",
    "    nei1 = getNeighbors_Source(n1, graph)\n",
    "    nei2 = getNeighbors_Sink(n2, graph)  \n",
    "    cn = set(nei1).intersection(set(nei2))\n",
    "    lhn = cn/(PA(n1,n2,graph))\n",
    "    return lhn"
   ]
  },
  {
   "cell_type": "markdown",
   "metadata": {},
   "source": [
    "## Extract the Similarity Features from Dataset"
   ]
  },
  {
   "cell_type": "code",
   "execution_count": 117,
   "metadata": {},
   "outputs": [],
   "source": [
    "source=train.Source\n",
    "sink=train.Sink"
   ]
  },
  {
   "cell_type": "code",
   "execution_count": 120,
   "metadata": {},
   "outputs": [],
   "source": [
    "dataframe_train=pd.DataFrame()"
   ]
  },
  {
   "cell_type": "code",
   "execution_count": 121,
   "metadata": {},
   "outputs": [],
   "source": [
    "dataframe_train['Source']=source\n",
    "dataframe_train['Sink']=sink"
   ]
  },
  {
   "cell_type": "code",
   "execution_count": 122,
   "metadata": {},
   "outputs": [
    {
     "data": {
      "text/html": [
       "<div>\n",
       "<style scoped>\n",
       "    .dataframe tbody tr th:only-of-type {\n",
       "        vertical-align: middle;\n",
       "    }\n",
       "\n",
       "    .dataframe tbody tr th {\n",
       "        vertical-align: top;\n",
       "    }\n",
       "\n",
       "    .dataframe thead th {\n",
       "        text-align: right;\n",
       "    }\n",
       "</style>\n",
       "<table border=\"1\" class=\"dataframe\">\n",
       "  <thead>\n",
       "    <tr style=\"text-align: right;\">\n",
       "      <th></th>\n",
       "      <th>Source</th>\n",
       "      <th>Sink</th>\n",
       "    </tr>\n",
       "  </thead>\n",
       "  <tbody>\n",
       "    <tr>\n",
       "      <th>0</th>\n",
       "      <td>1604753</td>\n",
       "      <td>3794609</td>\n",
       "    </tr>\n",
       "    <tr>\n",
       "      <th>1</th>\n",
       "      <td>1927211</td>\n",
       "      <td>2402534</td>\n",
       "    </tr>\n",
       "    <tr>\n",
       "      <th>2</th>\n",
       "      <td>3438576</td>\n",
       "      <td>3589472</td>\n",
       "    </tr>\n",
       "    <tr>\n",
       "      <th>3</th>\n",
       "      <td>2029671</td>\n",
       "      <td>2363623</td>\n",
       "    </tr>\n",
       "    <tr>\n",
       "      <th>4</th>\n",
       "      <td>2031305</td>\n",
       "      <td>4169107</td>\n",
       "    </tr>\n",
       "    <tr>\n",
       "      <th>...</th>\n",
       "      <td>...</td>\n",
       "      <td>...</td>\n",
       "    </tr>\n",
       "    <tr>\n",
       "      <th>59995</th>\n",
       "      <td>1840280</td>\n",
       "      <td>4251197</td>\n",
       "    </tr>\n",
       "    <tr>\n",
       "      <th>59996</th>\n",
       "      <td>506428</td>\n",
       "      <td>1721946</td>\n",
       "    </tr>\n",
       "    <tr>\n",
       "      <th>59997</th>\n",
       "      <td>261881</td>\n",
       "      <td>3480188</td>\n",
       "    </tr>\n",
       "    <tr>\n",
       "      <th>59998</th>\n",
       "      <td>2673351</td>\n",
       "      <td>2388735</td>\n",
       "    </tr>\n",
       "    <tr>\n",
       "      <th>59999</th>\n",
       "      <td>3532986</td>\n",
       "      <td>4726377</td>\n",
       "    </tr>\n",
       "  </tbody>\n",
       "</table>\n",
       "<p>60000 rows × 2 columns</p>\n",
       "</div>"
      ],
      "text/plain": [
       "        Source     Sink\n",
       "0      1604753  3794609\n",
       "1      1927211  2402534\n",
       "2      3438576  3589472\n",
       "3      2029671  2363623\n",
       "4      2031305  4169107\n",
       "...        ...      ...\n",
       "59995  1840280  4251197\n",
       "59996   506428  1721946\n",
       "59997   261881  3480188\n",
       "59998  2673351  2388735\n",
       "59999  3532986  4726377\n",
       "\n",
       "[60000 rows x 2 columns]"
      ]
     },
     "execution_count": 122,
     "metadata": {},
     "output_type": "execute_result"
    }
   ],
   "source": [
    "dataframe_train"
   ]
  },
  {
   "cell_type": "code",
   "execution_count": null,
   "metadata": {},
   "outputs": [],
   "source": [
    "cn = []\n",
    "for i in tqdm(range(len(source))):\n",
    "    cn.append(CN(source[i],sink[i],graph))"
   ]
  },
  {
   "cell_type": "code",
   "execution_count": null,
   "metadata": {},
   "outputs": [],
   "source": [
    "dataframe_train['CN']=cn"
   ]
  },
  {
   "cell_type": "raw",
   "metadata": {},
   "source": [
    "aai = []\n",
    "for i in tqdm(range(len(source))):\n",
    "    aai.append(AAI(source[i],sink[i],graph))"
   ]
  },
  {
   "cell_type": "raw",
   "metadata": {},
   "source": [
    "dataframe_train['AAI']=aai"
   ]
  },
  {
   "cell_type": "raw",
   "metadata": {},
   "source": [
    "jc = []\n",
    "for i in tqdm(range(len(source))):\n",
    "    jc.append(JC(source[i],sink[i],graph))"
   ]
  },
  {
   "cell_type": "raw",
   "metadata": {},
   "source": [
    "dataframe_train['JC']=jc"
   ]
  },
  {
   "cell_type": "raw",
   "metadata": {},
   "source": [
    "pa = []\n",
    "for i in tqdm(range(len(source))):\n",
    "    pa.append(PA(source[i],sink[i],graph))"
   ]
  },
  {
   "cell_type": "raw",
   "metadata": {},
   "source": [
    "dataframe_train['PA']=pa"
   ]
  },
  {
   "cell_type": "raw",
   "metadata": {},
   "source": [
    "ra = []\n",
    "for i in tqdm(range(len(source))):\n",
    "    ra.append(RA(source[i],sink[i],graph))"
   ]
  },
  {
   "cell_type": "raw",
   "metadata": {},
   "source": [
    "dataframe_train['RA']=ra"
   ]
  },
  {
   "cell_type": "code",
   "execution_count": null,
   "metadata": {},
   "outputs": [],
   "source": [
    "hp = []\n",
    "for i in tqdm(range(len(source))):\n",
    "    hp.append(HP(source[i],sink[i],graph))"
   ]
  },
  {
   "cell_type": "code",
   "execution_count": null,
   "metadata": {},
   "outputs": [],
   "source": [
    "dataframe_train['HP']=hp"
   ]
  },
  {
   "cell_type": "code",
   "execution_count": null,
   "metadata": {},
   "outputs": [],
   "source": [
    "lhn = []\n",
    "for i in tqdm(range(len(source))):\n",
    "    lhn.append(LHN(source[i],sink[i],graph))"
   ]
  },
  {
   "cell_type": "code",
   "execution_count": null,
   "metadata": {},
   "outputs": [],
   "source": [
    "dataframe_train['LHN']=lhn"
   ]
  },
  {
   "cell_type": "code",
   "execution_count": 112,
   "metadata": {},
   "outputs": [
    {
     "data": {
      "text/html": [
       "<div>\n",
       "<style scoped>\n",
       "    .dataframe tbody tr th:only-of-type {\n",
       "        vertical-align: middle;\n",
       "    }\n",
       "\n",
       "    .dataframe tbody tr th {\n",
       "        vertical-align: top;\n",
       "    }\n",
       "\n",
       "    .dataframe thead th {\n",
       "        text-align: right;\n",
       "    }\n",
       "</style>\n",
       "<table border=\"1\" class=\"dataframe\">\n",
       "  <thead>\n",
       "    <tr style=\"text-align: right;\">\n",
       "      <th></th>\n",
       "      <th>Source</th>\n",
       "      <th>Sink</th>\n",
       "      <th>CN</th>\n",
       "      <th>AAI</th>\n",
       "      <th>JC</th>\n",
       "      <th>PA</th>\n",
       "      <th>RA</th>\n",
       "    </tr>\n",
       "  </thead>\n",
       "  <tbody>\n",
       "    <tr>\n",
       "      <th>0</th>\n",
       "      <td>3563811</td>\n",
       "      <td>3600160</td>\n",
       "      <td>0</td>\n",
       "      <td>0.000000</td>\n",
       "      <td>0.000000</td>\n",
       "      <td>609</td>\n",
       "      <td>0.000000</td>\n",
       "    </tr>\n",
       "    <tr>\n",
       "      <th>1</th>\n",
       "      <td>2052043</td>\n",
       "      <td>1401960</td>\n",
       "      <td>0</td>\n",
       "      <td>0.000000</td>\n",
       "      <td>0.000000</td>\n",
       "      <td>639</td>\n",
       "      <td>0.000000</td>\n",
       "    </tr>\n",
       "    <tr>\n",
       "      <th>2</th>\n",
       "      <td>4517994</td>\n",
       "      <td>1690636</td>\n",
       "      <td>2</td>\n",
       "      <td>0.404742</td>\n",
       "      <td>0.009050</td>\n",
       "      <td>3485</td>\n",
       "      <td>0.014290</td>\n",
       "    </tr>\n",
       "    <tr>\n",
       "      <th>3</th>\n",
       "      <td>1660006</td>\n",
       "      <td>4349447</td>\n",
       "      <td>2</td>\n",
       "      <td>0.178818</td>\n",
       "      <td>0.003697</td>\n",
       "      <td>18216</td>\n",
       "      <td>0.000028</td>\n",
       "    </tr>\n",
       "    <tr>\n",
       "      <th>4</th>\n",
       "      <td>581111</td>\n",
       "      <td>1882617</td>\n",
       "      <td>0</td>\n",
       "      <td>0.000000</td>\n",
       "      <td>0.000000</td>\n",
       "      <td>828</td>\n",
       "      <td>0.000000</td>\n",
       "    </tr>\n",
       "    <tr>\n",
       "      <th>...</th>\n",
       "      <td>...</td>\n",
       "      <td>...</td>\n",
       "      <td>...</td>\n",
       "      <td>...</td>\n",
       "      <td>...</td>\n",
       "      <td>...</td>\n",
       "      <td>...</td>\n",
       "    </tr>\n",
       "    <tr>\n",
       "      <th>1995</th>\n",
       "      <td>1461386</td>\n",
       "      <td>2341683</td>\n",
       "      <td>0</td>\n",
       "      <td>0.000000</td>\n",
       "      <td>0.000000</td>\n",
       "      <td>106</td>\n",
       "      <td>0.000000</td>\n",
       "    </tr>\n",
       "    <tr>\n",
       "      <th>1996</th>\n",
       "      <td>4057755</td>\n",
       "      <td>1871227</td>\n",
       "      <td>0</td>\n",
       "      <td>0.000000</td>\n",
       "      <td>0.000000</td>\n",
       "      <td>3895</td>\n",
       "      <td>0.000000</td>\n",
       "    </tr>\n",
       "    <tr>\n",
       "      <th>1997</th>\n",
       "      <td>4242514</td>\n",
       "      <td>1413468</td>\n",
       "      <td>0</td>\n",
       "      <td>0.000000</td>\n",
       "      <td>0.000000</td>\n",
       "      <td>54</td>\n",
       "      <td>0.000000</td>\n",
       "    </tr>\n",
       "    <tr>\n",
       "      <th>1998</th>\n",
       "      <td>555531</td>\n",
       "      <td>1290080</td>\n",
       "      <td>0</td>\n",
       "      <td>0.000000</td>\n",
       "      <td>0.000000</td>\n",
       "      <td>168</td>\n",
       "      <td>0.000000</td>\n",
       "    </tr>\n",
       "    <tr>\n",
       "      <th>1999</th>\n",
       "      <td>1707829</td>\n",
       "      <td>2373045</td>\n",
       "      <td>0</td>\n",
       "      <td>0.000000</td>\n",
       "      <td>0.000000</td>\n",
       "      <td>488</td>\n",
       "      <td>0.000000</td>\n",
       "    </tr>\n",
       "  </tbody>\n",
       "</table>\n",
       "<p>2000 rows × 7 columns</p>\n",
       "</div>"
      ],
      "text/plain": [
       "       Source     Sink  CN       AAI        JC     PA        RA\n",
       "0     3563811  3600160   0  0.000000  0.000000    609  0.000000\n",
       "1     2052043  1401960   0  0.000000  0.000000    639  0.000000\n",
       "2     4517994  1690636   2  0.404742  0.009050   3485  0.014290\n",
       "3     1660006  4349447   2  0.178818  0.003697  18216  0.000028\n",
       "4      581111  1882617   0  0.000000  0.000000    828  0.000000\n",
       "...       ...      ...  ..       ...       ...    ...       ...\n",
       "1995  1461386  2341683   0  0.000000  0.000000    106  0.000000\n",
       "1996  4057755  1871227   0  0.000000  0.000000   3895  0.000000\n",
       "1997  4242514  1413468   0  0.000000  0.000000     54  0.000000\n",
       "1998   555531  1290080   0  0.000000  0.000000    168  0.000000\n",
       "1999  1707829  2373045   0  0.000000  0.000000    488  0.000000\n",
       "\n",
       "[2000 rows x 7 columns]"
      ]
     },
     "execution_count": 112,
     "metadata": {},
     "output_type": "execute_result"
    }
   ],
   "source": [
    "dataframe_train"
   ]
  },
  {
   "cell_type": "raw",
   "metadata": {},
   "source": [
    "print('The Number of Zeros: \\nCN: %d \\nAAI: %d \\nJC: %d \\nPA: %d \\nHP： %d \\nLHN: %d'%(cn.count(0),aai.count(0),jc.count(0),pa.count(0),hp.count(0),lhn.count(0)))"
   ]
  },
  {
   "cell_type": "code",
   "execution_count": null,
   "metadata": {},
   "outputs": [],
   "source": [
    "print('The Number of Zeros: \\nHP： %d \\nLHN: %d'%(hp.count(0),lhn.count(0)))"
   ]
  },
  {
   "cell_type": "code",
   "execution_count": 114,
   "metadata": {},
   "outputs": [],
   "source": [
    "with open('dataframe_train2.txt','wb') as file:\n",
    "    pickle.dump(dataframe_train,file)"
   ]
  },
  {
   "cell_type": "code",
   "execution_count": 115,
   "metadata": {},
   "outputs": [
    {
     "data": {
      "text/html": [
       "<div>\n",
       "<style scoped>\n",
       "    .dataframe tbody tr th:only-of-type {\n",
       "        vertical-align: middle;\n",
       "    }\n",
       "\n",
       "    .dataframe tbody tr th {\n",
       "        vertical-align: top;\n",
       "    }\n",
       "\n",
       "    .dataframe thead th {\n",
       "        text-align: right;\n",
       "    }\n",
       "</style>\n",
       "<table border=\"1\" class=\"dataframe\">\n",
       "  <thead>\n",
       "    <tr style=\"text-align: right;\">\n",
       "      <th></th>\n",
       "      <th>Source</th>\n",
       "      <th>Sink</th>\n",
       "      <th>CN</th>\n",
       "      <th>AAI</th>\n",
       "      <th>JC</th>\n",
       "      <th>PA</th>\n",
       "      <th>RA</th>\n",
       "    </tr>\n",
       "  </thead>\n",
       "  <tbody>\n",
       "    <tr>\n",
       "      <th>0</th>\n",
       "      <td>3563811</td>\n",
       "      <td>3600160</td>\n",
       "      <td>0</td>\n",
       "      <td>0.000000</td>\n",
       "      <td>0.000000</td>\n",
       "      <td>609</td>\n",
       "      <td>0.000000</td>\n",
       "    </tr>\n",
       "    <tr>\n",
       "      <th>1</th>\n",
       "      <td>2052043</td>\n",
       "      <td>1401960</td>\n",
       "      <td>0</td>\n",
       "      <td>0.000000</td>\n",
       "      <td>0.000000</td>\n",
       "      <td>639</td>\n",
       "      <td>0.000000</td>\n",
       "    </tr>\n",
       "    <tr>\n",
       "      <th>2</th>\n",
       "      <td>4517994</td>\n",
       "      <td>1690636</td>\n",
       "      <td>2</td>\n",
       "      <td>0.404742</td>\n",
       "      <td>0.009050</td>\n",
       "      <td>3485</td>\n",
       "      <td>0.014290</td>\n",
       "    </tr>\n",
       "    <tr>\n",
       "      <th>3</th>\n",
       "      <td>1660006</td>\n",
       "      <td>4349447</td>\n",
       "      <td>2</td>\n",
       "      <td>0.178818</td>\n",
       "      <td>0.003697</td>\n",
       "      <td>18216</td>\n",
       "      <td>0.000028</td>\n",
       "    </tr>\n",
       "    <tr>\n",
       "      <th>4</th>\n",
       "      <td>581111</td>\n",
       "      <td>1882617</td>\n",
       "      <td>0</td>\n",
       "      <td>0.000000</td>\n",
       "      <td>0.000000</td>\n",
       "      <td>828</td>\n",
       "      <td>0.000000</td>\n",
       "    </tr>\n",
       "    <tr>\n",
       "      <th>...</th>\n",
       "      <td>...</td>\n",
       "      <td>...</td>\n",
       "      <td>...</td>\n",
       "      <td>...</td>\n",
       "      <td>...</td>\n",
       "      <td>...</td>\n",
       "      <td>...</td>\n",
       "    </tr>\n",
       "    <tr>\n",
       "      <th>1995</th>\n",
       "      <td>1461386</td>\n",
       "      <td>2341683</td>\n",
       "      <td>0</td>\n",
       "      <td>0.000000</td>\n",
       "      <td>0.000000</td>\n",
       "      <td>106</td>\n",
       "      <td>0.000000</td>\n",
       "    </tr>\n",
       "    <tr>\n",
       "      <th>1996</th>\n",
       "      <td>4057755</td>\n",
       "      <td>1871227</td>\n",
       "      <td>0</td>\n",
       "      <td>0.000000</td>\n",
       "      <td>0.000000</td>\n",
       "      <td>3895</td>\n",
       "      <td>0.000000</td>\n",
       "    </tr>\n",
       "    <tr>\n",
       "      <th>1997</th>\n",
       "      <td>4242514</td>\n",
       "      <td>1413468</td>\n",
       "      <td>0</td>\n",
       "      <td>0.000000</td>\n",
       "      <td>0.000000</td>\n",
       "      <td>54</td>\n",
       "      <td>0.000000</td>\n",
       "    </tr>\n",
       "    <tr>\n",
       "      <th>1998</th>\n",
       "      <td>555531</td>\n",
       "      <td>1290080</td>\n",
       "      <td>0</td>\n",
       "      <td>0.000000</td>\n",
       "      <td>0.000000</td>\n",
       "      <td>168</td>\n",
       "      <td>0.000000</td>\n",
       "    </tr>\n",
       "    <tr>\n",
       "      <th>1999</th>\n",
       "      <td>1707829</td>\n",
       "      <td>2373045</td>\n",
       "      <td>0</td>\n",
       "      <td>0.000000</td>\n",
       "      <td>0.000000</td>\n",
       "      <td>488</td>\n",
       "      <td>0.000000</td>\n",
       "    </tr>\n",
       "  </tbody>\n",
       "</table>\n",
       "<p>2000 rows × 7 columns</p>\n",
       "</div>"
      ],
      "text/plain": [
       "       Source     Sink  CN       AAI        JC     PA        RA\n",
       "0     3563811  3600160   0  0.000000  0.000000    609  0.000000\n",
       "1     2052043  1401960   0  0.000000  0.000000    639  0.000000\n",
       "2     4517994  1690636   2  0.404742  0.009050   3485  0.014290\n",
       "3     1660006  4349447   2  0.178818  0.003697  18216  0.000028\n",
       "4      581111  1882617   0  0.000000  0.000000    828  0.000000\n",
       "...       ...      ...  ..       ...       ...    ...       ...\n",
       "1995  1461386  2341683   0  0.000000  0.000000    106  0.000000\n",
       "1996  4057755  1871227   0  0.000000  0.000000   3895  0.000000\n",
       "1997  4242514  1413468   0  0.000000  0.000000     54  0.000000\n",
       "1998   555531  1290080   0  0.000000  0.000000    168  0.000000\n",
       "1999  1707829  2373045   0  0.000000  0.000000    488  0.000000\n",
       "\n",
       "[2000 rows x 7 columns]"
      ]
     },
     "execution_count": 115,
     "metadata": {},
     "output_type": "execute_result"
    }
   ],
   "source": [
    "dataframe_test"
   ]
  },
  {
   "cell_type": "markdown",
   "metadata": {},
   "source": [
    "## Code Debug"
   ]
  },
  {
   "cell_type": "code",
   "execution_count": 76,
   "metadata": {},
   "outputs": [
    {
     "name": "stdout",
     "output_type": "stream",
     "text": [
      "['787039', '3519329', '2472993', '3274877', '1541304', '673835', '1405689', '2401069', '1628939', '4016137', '4008078', '3017264', '2331231', '127885', '3355752', '1523982', '2166423', '1120944', '3638703', '2558493', '4027460'] []\n"
     ]
    }
   ],
   "source": [
    "print(getNeighbors('3563811', graph),getNeighbors('3600160', graph))"
   ]
  },
  {
   "cell_type": "code",
   "execution_count": 77,
   "metadata": {},
   "outputs": [
    {
     "data": {
      "text/plain": [
       "[]"
      ]
     },
     "execution_count": 77,
     "metadata": {},
     "output_type": "execute_result"
    }
   ],
   "source": [
    "getNeighbors('3600160', graph)"
   ]
  },
  {
   "cell_type": "code",
   "execution_count": 78,
   "metadata": {},
   "outputs": [],
   "source": [
    "with open('source_node.txt', 'rb') as file:\n",
    "    source_node = pickle.load(file)"
   ]
  },
  {
   "cell_type": "code",
   "execution_count": 80,
   "metadata": {},
   "outputs": [
    {
     "data": {
      "text/plain": [
       "False"
      ]
     },
     "execution_count": 80,
     "metadata": {},
     "output_type": "execute_result"
    }
   ],
   "source": [
    "'3600160' in source_node"
   ]
  },
  {
   "cell_type": "code",
   "execution_count": null,
   "metadata": {},
   "outputs": [],
   "source": [
    "list(graph.predecessors('3600160'))"
   ]
  },
  {
   "cell_type": "code",
   "execution_count": null,
   "metadata": {},
   "outputs": [],
   "source": []
  }
 ],
 "metadata": {
  "kernelspec": {
   "display_name": "Python 3",
   "language": "python",
   "name": "python3"
  },
  "language_info": {
   "codemirror_mode": {
    "name": "ipython",
    "version": 3
   },
   "file_extension": ".py",
   "mimetype": "text/x-python",
   "name": "python",
   "nbconvert_exporter": "python",
   "pygments_lexer": "ipython3",
   "version": "3.7.6"
  }
 },
 "nbformat": 4,
 "nbformat_minor": 4
}
