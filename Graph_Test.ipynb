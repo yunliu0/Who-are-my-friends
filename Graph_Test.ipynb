{
 "cells": [
  {
   "cell_type": "code",
   "execution_count": null,
   "metadata": {},
   "outputs": [],
   "source": [
    "import json\n",
    "import math\n",
    "import random\n",
    "import pickle\n",
    "import networkx as nx\n",
    "import numpy as np\n",
    "from tqdm import tqdm"
   ]
  },
  {
   "cell_type": "code",
   "execution_count": null,
   "metadata": {},
   "outputs": [],
   "source": [
    "graph = nx.DiGraph()  \n",
    "nodes = []\n",
    "\n",
    "with open('train.txt') as file:\n",
    "    for line in tqdm(file):\n",
    "        splited = line.split()  \n",
    "        source = splited[0]\n",
    "        if source not in graph.nodes:\n",
    "            graph.add_node(source)\n",
    "        \n",
    "        sinks = splited[1:]\n",
    "        for sink in sinks:\n",
    "            if sink not in graph.nodes:\n",
    "                graph.add_node(sink)\n",
    "            graph.add_edge(source, sink)\n",
    "            nodes.append((source, sink))"
   ]
  },
  {
   "cell_type": "code",
   "execution_count": null,
   "metadata": {},
   "outputs": [],
   "source": [
    "len(graph.nodes)"
   ]
  },
  {
   "cell_type": "code",
   "execution_count": null,
   "metadata": {},
   "outputs": [],
   "source": [
    "len(graph.edges)"
   ]
  },
  {
   "cell_type": "code",
   "execution_count": null,
   "metadata": {},
   "outputs": [],
   "source": [
    "real_edges = list(graph.edges)\n",
    "real_edges_sample = random.sample(all_positive_edges, 1000000)\n",
    "len(real_edges_sample)"
   ]
  },
  {
   "cell_type": "code",
   "execution_count": null,
   "metadata": {},
   "outputs": [],
   "source": [
    "real_edges_train = real_edges_sample[:700000]\n",
    "real_edges_test = real_edges_sample[70000:]\n",
    "real_edges_train[1]"
   ]
  },
  {
   "cell_type": "code",
   "execution_count": null,
   "metadata": {},
   "outputs": [],
   "source": [
    "fake_edges = []\n",
    "fake_edges_number = len(real_edges_sample)\n",
    "nodes = list(graph.nodes)\n"
   ]
  }
 ],
 "metadata": {
  "kernelspec": {
   "display_name": "Python 3",
   "language": "python",
   "name": "python3"
  },
  "language_info": {
   "codemirror_mode": {
    "name": "ipython",
    "version": 3
   },
   "file_extension": ".py",
   "mimetype": "text/x-python",
   "name": "python",
   "nbconvert_exporter": "python",
   "pygments_lexer": "ipython3",
   "version": "3.7.6"
  }
 },
 "nbformat": 4,
 "nbformat_minor": 4
}
