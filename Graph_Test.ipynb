{
 "cells": [
  {
   "cell_type": "code",
   "execution_count": 1,
   "metadata": {},
   "outputs": [],
   "source": [
    "import json\n",
    "import math\n",
    "import random\n",
    "import pickle\n",
    "import networkx as nx\n",
    "import numpy as np\n",
    "from tqdm import tqdm"
   ]
  },
  {
   "cell_type": "code",
   "execution_count": 2,
   "metadata": {},
   "outputs": [
    {
     "name": "stderr",
     "output_type": "stream",
     "text": [
      "20000it [02:02, 163.72it/s]\n"
     ]
    }
   ],
   "source": [
    "graph = nx.DiGraph()  \n",
    "nodes = []\n",
    "source_node = []\n",
    "with open('train.txt') as file:\n",
    "    for line in tqdm(file):\n",
    "        splited = line.split()  \n",
    "        source = splited[0]\n",
    "        source_node.append(source)\n",
    "        if source not in graph.nodes:\n",
    "            graph.add_node(source)\n",
    "            \n",
    "        sinks = splited[1:]\n",
    "        for sink in sinks:\n",
    "            if sink not in graph.nodes:\n",
    "                graph.add_node(sink)\n",
    "            graph.add_edge(source, sink)\n",
    "            nodes.append((source, sink))"
   ]
  },
  {
   "cell_type": "code",
   "execution_count": 5,
   "metadata": {},
   "outputs": [],
   "source": [
    "source_node_1 = source_node[:10000]\n",
    "source_node_2 = source_node[10000:]"
   ]
  },
  {
   "cell_type": "code",
   "execution_count": 7,
   "metadata": {},
   "outputs": [
    {
     "name": "stderr",
     "output_type": "stream",
     "text": [
      "100%|██████████| 10000/10000 [04:18<00:00, 38.63it/s] \n"
     ]
    }
   ],
   "source": [
    "adj_matrix1={}\n",
    "for i in tqdm(source_node_1):\n",
    "    for j in source_node:\n",
    "        if graph.has_edge(i, j):\n",
    "            adj_matrix1[(i, j)]=1\n",
    "        else:\n",
    "            adj_matrix1[(i, j)]=0"
   ]
  },
  {
   "cell_type": "code",
   "execution_count": 8,
   "metadata": {},
   "outputs": [
    {
     "data": {
      "text/plain": [
       "1"
      ]
     },
     "execution_count": 8,
     "metadata": {},
     "output_type": "execute_result"
    }
   ],
   "source": [
    "adj_matrix1[('540762','1912140')]"
   ]
  },
  {
   "cell_type": "code",
   "execution_count": 10,
   "metadata": {},
   "outputs": [],
   "source": [
    "with open ('dict_matrix1.txt', 'wb') as file:\n",
    "    must_save = adj_matrix1\n",
    "    pickle.dump(must_save, file)"
   ]
  },
  {
   "cell_type": "code",
   "execution_count": 11,
   "metadata": {},
   "outputs": [
    {
     "name": "stderr",
     "output_type": "stream",
     "text": [
      "100%|██████████| 10000/10000 [04:28<00:00, 37.29it/s] \n"
     ]
    }
   ],
   "source": [
    "adj_matrix={}\n",
    "for i in tqdm(source_node_2):\n",
    "    for j in source_node:\n",
    "        if graph.has_edge(i, j):\n",
    "            adj_matrix[(i, j)]=1\n",
    "        else:\n",
    "            adj_matrix[(i, j)]=0"
   ]
  },
  {
   "cell_type": "code",
   "execution_count": 12,
   "metadata": {},
   "outputs": [],
   "source": [
    "with open ('dict_matrix2.txt', 'wb') as file:\n",
    "    must_save = adj_matrix\n",
    "    pickle.dump(must_save, file)"
   ]
  },
  {
   "cell_type": "code",
   "execution_count": 6,
   "metadata": {},
   "outputs": [
    {
     "data": {
      "text/plain": [
       "['540762',\n",
       " '2129843',\n",
       " '3361377',\n",
       " '1199298',\n",
       " '1392121',\n",
       " '4762204',\n",
       " '1840280',\n",
       " '2673351',\n",
       " '2672578',\n",
       " '400117']"
      ]
     },
     "execution_count": 6,
     "metadata": {},
     "output_type": "execute_result"
    }
   ],
   "source": [
    "len(source_node)\n",
    "source_node[:10]"
   ]
  },
  {
   "cell_type": "code",
   "execution_count": 3,
   "metadata": {},
   "outputs": [
    {
     "data": {
      "text/plain": [
       "4867136"
      ]
     },
     "execution_count": 3,
     "metadata": {},
     "output_type": "execute_result"
    }
   ],
   "source": [
    "len(graph.nodes)"
   ]
  },
  {
   "cell_type": "code",
   "execution_count": 4,
   "metadata": {},
   "outputs": [
    {
     "data": {
      "text/plain": [
       "23946602"
      ]
     },
     "execution_count": 4,
     "metadata": {},
     "output_type": "execute_result"
    }
   ],
   "source": [
    "len(graph.edges)"
   ]
  },
  {
   "cell_type": "code",
   "execution_count": 4,
   "metadata": {},
   "outputs": [
    {
     "data": {
      "text/plain": [
       "[('540762', '1912140'),\n",
       " ('540762', '1537559'),\n",
       " ('540762', '3091331'),\n",
       " ('540762', '2757277'),\n",
       " ('540762', '3237295')]"
      ]
     },
     "execution_count": 4,
     "metadata": {},
     "output_type": "execute_result"
    }
   ],
   "source": [
    "list(graph.edges)[:5]"
   ]
  },
  {
   "cell_type": "code",
   "execution_count": 8,
   "metadata": {},
   "outputs": [
    {
     "data": {
      "text/plain": [
       "True"
      ]
     },
     "execution_count": 8,
     "metadata": {},
     "output_type": "execute_result"
    }
   ],
   "source": [
    "graph.has_edge('540762','1912140')"
   ]
  },
  {
   "cell_type": "code",
   "execution_count": 3,
   "metadata": {},
   "outputs": [],
   "source": [
    "with open ('graph.txt', 'wb') as file:\n",
    "    pickle.dump(graph, file)"
   ]
  },
  {
   "cell_type": "code",
   "execution_count": 14,
   "metadata": {},
   "outputs": [],
   "source": [
    "with open('graph.txt', 'rb') as file:\n",
    "    graph"
   ]
  },
  {
   "cell_type": "code",
   "execution_count": 15,
   "metadata": {},
   "outputs": [
    {
     "data": {
      "text/plain": [
       "True"
      ]
     },
     "execution_count": 15,
     "metadata": {},
     "output_type": "execute_result"
    }
   ],
   "source": [
    "graph.has_edge('540762','1912140')"
   ]
  },
  {
   "cell_type": "code",
   "execution_count": 16,
   "metadata": {},
   "outputs": [],
   "source": [
    "with open('dict_matrix1.txt', 'rb') as file:\n",
    "    adj_matrix1"
   ]
  },
  {
   "cell_type": "code",
   "execution_count": 17,
   "metadata": {},
   "outputs": [
    {
     "data": {
      "text/plain": [
       "1"
      ]
     },
     "execution_count": 17,
     "metadata": {},
     "output_type": "execute_result"
    }
   ],
   "source": [
    "adj_matrix1[('540762','1912140')]"
   ]
  },
  {
   "cell_type": "code",
   "execution_count": 18,
   "metadata": {},
   "outputs": [],
   "source": [
    "with open('dict_matrix2.txt', 'rb') as file:\n",
    "    adj_matrix"
   ]
  },
  {
   "cell_type": "code",
   "execution_count": null,
   "metadata": {},
   "outputs": [],
   "source": []
  }
 ],
 "metadata": {
  "kernelspec": {
   "display_name": "Python 3",
   "language": "python",
   "name": "python3"
  },
  "language_info": {
   "codemirror_mode": {
    "name": "ipython",
    "version": 3
   },
   "file_extension": ".py",
   "mimetype": "text/x-python",
   "name": "python",
   "nbconvert_exporter": "python",
   "pygments_lexer": "ipython3",
   "version": "3.7.6"
  }
 },
 "nbformat": 4,
 "nbformat_minor": 4
}
