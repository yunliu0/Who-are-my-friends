{
 "cells": [
  {
   "cell_type": "code",
   "execution_count": 1,
   "metadata": {},
   "outputs": [],
   "source": [
    "import numpy as np\n",
    "import pandas as pd\n",
    "import matplotlib.pyplot as plt\n",
    "import seaborn as sns\n",
    "import networkx as nx\n",
    "import pickle"
   ]
  },
  {
   "cell_type": "code",
   "execution_count": 3,
   "metadata": {},
   "outputs": [],
   "source": [
    "test_data=pd.read_csv(\"test-public.txt\",sep='\\t')"
   ]
  },
  {
   "cell_type": "code",
   "execution_count": 4,
   "metadata": {},
   "outputs": [
    {
     "data": {
      "text/html": [
       "<div>\n",
       "<style scoped>\n",
       "    .dataframe tbody tr th:only-of-type {\n",
       "        vertical-align: middle;\n",
       "    }\n",
       "\n",
       "    .dataframe tbody tr th {\n",
       "        vertical-align: top;\n",
       "    }\n",
       "\n",
       "    .dataframe thead th {\n",
       "        text-align: right;\n",
       "    }\n",
       "</style>\n",
       "<table border=\"1\" class=\"dataframe\">\n",
       "  <thead>\n",
       "    <tr style=\"text-align: right;\">\n",
       "      <th></th>\n",
       "      <th>Id</th>\n",
       "      <th>Source</th>\n",
       "      <th>Sink</th>\n",
       "    </tr>\n",
       "  </thead>\n",
       "  <tbody>\n",
       "    <tr>\n",
       "      <th>0</th>\n",
       "      <td>1</td>\n",
       "      <td>3563811</td>\n",
       "      <td>3600160</td>\n",
       "    </tr>\n",
       "    <tr>\n",
       "      <th>1</th>\n",
       "      <td>2</td>\n",
       "      <td>2052043</td>\n",
       "      <td>1401960</td>\n",
       "    </tr>\n",
       "    <tr>\n",
       "      <th>2</th>\n",
       "      <td>3</td>\n",
       "      <td>4517994</td>\n",
       "      <td>1690636</td>\n",
       "    </tr>\n",
       "    <tr>\n",
       "      <th>3</th>\n",
       "      <td>4</td>\n",
       "      <td>1660006</td>\n",
       "      <td>4349447</td>\n",
       "    </tr>\n",
       "    <tr>\n",
       "      <th>4</th>\n",
       "      <td>5</td>\n",
       "      <td>581111</td>\n",
       "      <td>1882617</td>\n",
       "    </tr>\n",
       "    <tr>\n",
       "      <th>...</th>\n",
       "      <td>...</td>\n",
       "      <td>...</td>\n",
       "      <td>...</td>\n",
       "    </tr>\n",
       "    <tr>\n",
       "      <th>1995</th>\n",
       "      <td>1996</td>\n",
       "      <td>1461386</td>\n",
       "      <td>2341683</td>\n",
       "    </tr>\n",
       "    <tr>\n",
       "      <th>1996</th>\n",
       "      <td>1997</td>\n",
       "      <td>4057755</td>\n",
       "      <td>1871227</td>\n",
       "    </tr>\n",
       "    <tr>\n",
       "      <th>1997</th>\n",
       "      <td>1998</td>\n",
       "      <td>4242514</td>\n",
       "      <td>1413468</td>\n",
       "    </tr>\n",
       "    <tr>\n",
       "      <th>1998</th>\n",
       "      <td>1999</td>\n",
       "      <td>555531</td>\n",
       "      <td>1290080</td>\n",
       "    </tr>\n",
       "    <tr>\n",
       "      <th>1999</th>\n",
       "      <td>2000</td>\n",
       "      <td>1707829</td>\n",
       "      <td>2373045</td>\n",
       "    </tr>\n",
       "  </tbody>\n",
       "</table>\n",
       "<p>2000 rows × 3 columns</p>\n",
       "</div>"
      ],
      "text/plain": [
       "        Id   Source     Sink\n",
       "0        1  3563811  3600160\n",
       "1        2  2052043  1401960\n",
       "2        3  4517994  1690636\n",
       "3        4  1660006  4349447\n",
       "4        5   581111  1882617\n",
       "...    ...      ...      ...\n",
       "1995  1996  1461386  2341683\n",
       "1996  1997  4057755  1871227\n",
       "1997  1998  4242514  1413468\n",
       "1998  1999   555531  1290080\n",
       "1999  2000  1707829  2373045\n",
       "\n",
       "[2000 rows x 3 columns]"
      ]
     },
     "execution_count": 4,
     "metadata": {},
     "output_type": "execute_result"
    }
   ],
   "source": [
    "test_data"
   ]
  },
  {
   "cell_type": "code",
   "execution_count": 5,
   "metadata": {},
   "outputs": [],
   "source": [
    "train_data=pd.read_csv(\"train.txt\", delimiter=\",\", header=None,names=['Neighbours'],index_col=False)"
   ]
  },
  {
   "cell_type": "code",
   "execution_count": 6,
   "metadata": {},
   "outputs": [],
   "source": [
    "train_data['ID']=train_data['Neighbours'].apply(lambda x: x.split('\\t')[0])  # Get the ID"
   ]
  },
  {
   "cell_type": "code",
   "execution_count": 7,
   "metadata": {},
   "outputs": [],
   "source": [
    "train_data['Neighbours']=train_data['Neighbours'].apply(lambda x: x.split('\\t')[1:])# set up the neighbours"
   ]
  },
  {
   "cell_type": "code",
   "execution_count": 8,
   "metadata": {},
   "outputs": [],
   "source": [
    "train_data=train_data[[\"ID\",\"Neighbours\"]] # set \"ID\" as the index"
   ]
  },
  {
   "cell_type": "code",
   "execution_count": 9,
   "metadata": {},
   "outputs": [
    {
     "data": {
      "text/html": [
       "<div>\n",
       "<style scoped>\n",
       "    .dataframe tbody tr th:only-of-type {\n",
       "        vertical-align: middle;\n",
       "    }\n",
       "\n",
       "    .dataframe tbody tr th {\n",
       "        vertical-align: top;\n",
       "    }\n",
       "\n",
       "    .dataframe thead th {\n",
       "        text-align: right;\n",
       "    }\n",
       "</style>\n",
       "<table border=\"1\" class=\"dataframe\">\n",
       "  <thead>\n",
       "    <tr style=\"text-align: right;\">\n",
       "      <th></th>\n",
       "      <th>ID</th>\n",
       "      <th>Neighbours</th>\n",
       "    </tr>\n",
       "  </thead>\n",
       "  <tbody>\n",
       "    <tr>\n",
       "      <th>0</th>\n",
       "      <td>540762</td>\n",
       "      <td>[1912140, 1537559, 3091331, 2757277, 3237295, ...</td>\n",
       "    </tr>\n",
       "    <tr>\n",
       "      <th>1</th>\n",
       "      <td>2129843</td>\n",
       "      <td>[65840, 3414168, 4523797, 2851163, 4321895, 13...</td>\n",
       "    </tr>\n",
       "    <tr>\n",
       "      <th>2</th>\n",
       "      <td>3361377</td>\n",
       "      <td>[955840, 3342058, 1536902, 1850727, 1504632, 1...</td>\n",
       "    </tr>\n",
       "    <tr>\n",
       "      <th>3</th>\n",
       "      <td>1199298</td>\n",
       "      <td>[2300061, 2635670, 2803600, 744722, 881446, 28...</td>\n",
       "    </tr>\n",
       "    <tr>\n",
       "      <th>4</th>\n",
       "      <td>1392121</td>\n",
       "      <td>[3845572, 546016, 4361302, 678461, 4294597, 24...</td>\n",
       "    </tr>\n",
       "    <tr>\n",
       "      <th>...</th>\n",
       "      <td>...</td>\n",
       "      <td>...</td>\n",
       "    </tr>\n",
       "    <tr>\n",
       "      <th>19995</th>\n",
       "      <td>585576</td>\n",
       "      <td>[660302, 3279973, 2094235, 2355188, 1296935, 3...</td>\n",
       "    </tr>\n",
       "    <tr>\n",
       "      <th>19996</th>\n",
       "      <td>505961</td>\n",
       "      <td>[3875645, 2148630, 4288909, 4011139, 340232, 1...</td>\n",
       "    </tr>\n",
       "    <tr>\n",
       "      <th>19997</th>\n",
       "      <td>125824</td>\n",
       "      <td>[54421, 868022, 385000, 2050130, 3446665, 2040...</td>\n",
       "    </tr>\n",
       "    <tr>\n",
       "      <th>19998</th>\n",
       "      <td>896087</td>\n",
       "      <td>[431577, 1007572, 499457, 3642500, 3734728, 28...</td>\n",
       "    </tr>\n",
       "    <tr>\n",
       "      <th>19999</th>\n",
       "      <td>3547024</td>\n",
       "      <td>[2888992, 179459, 492114, 2418495, 2235094, 14...</td>\n",
       "    </tr>\n",
       "  </tbody>\n",
       "</table>\n",
       "<p>20000 rows × 2 columns</p>\n",
       "</div>"
      ],
      "text/plain": [
       "            ID                                         Neighbours\n",
       "0       540762  [1912140, 1537559, 3091331, 2757277, 3237295, ...\n",
       "1      2129843  [65840, 3414168, 4523797, 2851163, 4321895, 13...\n",
       "2      3361377  [955840, 3342058, 1536902, 1850727, 1504632, 1...\n",
       "3      1199298  [2300061, 2635670, 2803600, 744722, 881446, 28...\n",
       "4      1392121  [3845572, 546016, 4361302, 678461, 4294597, 24...\n",
       "...        ...                                                ...\n",
       "19995   585576  [660302, 3279973, 2094235, 2355188, 1296935, 3...\n",
       "19996   505961  [3875645, 2148630, 4288909, 4011139, 340232, 1...\n",
       "19997   125824  [54421, 868022, 385000, 2050130, 3446665, 2040...\n",
       "19998   896087  [431577, 1007572, 499457, 3642500, 3734728, 28...\n",
       "19999  3547024  [2888992, 179459, 492114, 2418495, 2235094, 14...\n",
       "\n",
       "[20000 rows x 2 columns]"
      ]
     },
     "execution_count": 9,
     "metadata": {},
     "output_type": "execute_result"
    }
   ],
   "source": [
    "num_source=train_data.shape[0]\n",
    "sink=train_data.iloc[0,]\n",
    "len_sink=len(sink)\n",
    "train_data"
   ]
  },
  {
   "cell_type": "code",
   "execution_count": 10,
   "metadata": {},
   "outputs": [],
   "source": [
    "train_source=train_data['ID'].iloc[:].values"
   ]
  },
  {
   "cell_type": "code",
   "execution_count": 11,
   "metadata": {},
   "outputs": [],
   "source": [
    "test_source=test_data['Source'].iloc[:].values"
   ]
  },
  {
   "cell_type": "code",
   "execution_count": 12,
   "metadata": {},
   "outputs": [],
   "source": [
    "intrainsource=[]\n",
    "for i in test_source:\n",
    "    if str(i) in train_source:\n",
    "        intrainsource.append(1)\n",
    "    else:\n",
    "        intrainsource.append(0)"
   ]
  },
  {
   "cell_type": "code",
   "execution_count": 13,
   "metadata": {},
   "outputs": [
    {
     "data": {
      "text/plain": [
       "2000"
      ]
     },
     "execution_count": 13,
     "metadata": {},
     "output_type": "execute_result"
    }
   ],
   "source": [
    "np.count_nonzero(intrainsource)"
   ]
  },
  {
   "cell_type": "raw",
   "metadata": {},
   "source": [
    "file = open(\"test_source.txt\",\"w+\") \n",
    "for i in test_source:\n",
    "    file.write(str(i)+'\\n') "
   ]
  },
  {
   "cell_type": "raw",
   "metadata": {},
   "source": [
    "file = open(\"train_source.txt\",\"w+\") \n",
    "for i in train_source:\n",
    "    file.write(i+'\\n')"
   ]
  },
  {
   "cell_type": "code",
   "execution_count": 14,
   "metadata": {},
   "outputs": [],
   "source": [
    "test_sink=test_data['Sink'].iloc[:].values"
   ]
  },
  {
   "cell_type": "code",
   "execution_count": 15,
   "metadata": {},
   "outputs": [],
   "source": [
    "testsinkintrainsource=[]\n",
    "for i in test_sink:\n",
    "    if str(i) in train_source:\n",
    "        testsinkintrainsource.append(1)\n",
    "    else:\n",
    "        testsinkintrainsource.append(0)"
   ]
  },
  {
   "cell_type": "code",
   "execution_count": 16,
   "metadata": {},
   "outputs": [
    {
     "data": {
      "text/plain": [
       "376"
      ]
     },
     "execution_count": 16,
     "metadata": {},
     "output_type": "execute_result"
    }
   ],
   "source": [
    "np.count_nonzero(testsinkintrainsource)"
   ]
  },
  {
   "cell_type": "code",
   "execution_count": 17,
   "metadata": {},
   "outputs": [],
   "source": [
    "test_data['sinkInTrainSource']=testsinkintrainsource"
   ]
  },
  {
   "cell_type": "code",
   "execution_count": 18,
   "metadata": {},
   "outputs": [
    {
     "data": {
      "text/html": [
       "<div>\n",
       "<style scoped>\n",
       "    .dataframe tbody tr th:only-of-type {\n",
       "        vertical-align: middle;\n",
       "    }\n",
       "\n",
       "    .dataframe tbody tr th {\n",
       "        vertical-align: top;\n",
       "    }\n",
       "\n",
       "    .dataframe thead th {\n",
       "        text-align: right;\n",
       "    }\n",
       "</style>\n",
       "<table border=\"1\" class=\"dataframe\">\n",
       "  <thead>\n",
       "    <tr style=\"text-align: right;\">\n",
       "      <th></th>\n",
       "      <th>Id</th>\n",
       "      <th>Source</th>\n",
       "      <th>Sink</th>\n",
       "      <th>sinkInTrainSource</th>\n",
       "    </tr>\n",
       "  </thead>\n",
       "  <tbody>\n",
       "    <tr>\n",
       "      <th>0</th>\n",
       "      <td>1</td>\n",
       "      <td>3563811</td>\n",
       "      <td>3600160</td>\n",
       "      <td>0</td>\n",
       "    </tr>\n",
       "    <tr>\n",
       "      <th>1</th>\n",
       "      <td>2</td>\n",
       "      <td>2052043</td>\n",
       "      <td>1401960</td>\n",
       "      <td>0</td>\n",
       "    </tr>\n",
       "    <tr>\n",
       "      <th>2</th>\n",
       "      <td>3</td>\n",
       "      <td>4517994</td>\n",
       "      <td>1690636</td>\n",
       "      <td>0</td>\n",
       "    </tr>\n",
       "    <tr>\n",
       "      <th>3</th>\n",
       "      <td>4</td>\n",
       "      <td>1660006</td>\n",
       "      <td>4349447</td>\n",
       "      <td>0</td>\n",
       "    </tr>\n",
       "    <tr>\n",
       "      <th>4</th>\n",
       "      <td>5</td>\n",
       "      <td>581111</td>\n",
       "      <td>1882617</td>\n",
       "      <td>0</td>\n",
       "    </tr>\n",
       "    <tr>\n",
       "      <th>...</th>\n",
       "      <td>...</td>\n",
       "      <td>...</td>\n",
       "      <td>...</td>\n",
       "      <td>...</td>\n",
       "    </tr>\n",
       "    <tr>\n",
       "      <th>1995</th>\n",
       "      <td>1996</td>\n",
       "      <td>1461386</td>\n",
       "      <td>2341683</td>\n",
       "      <td>0</td>\n",
       "    </tr>\n",
       "    <tr>\n",
       "      <th>1996</th>\n",
       "      <td>1997</td>\n",
       "      <td>4057755</td>\n",
       "      <td>1871227</td>\n",
       "      <td>0</td>\n",
       "    </tr>\n",
       "    <tr>\n",
       "      <th>1997</th>\n",
       "      <td>1998</td>\n",
       "      <td>4242514</td>\n",
       "      <td>1413468</td>\n",
       "      <td>0</td>\n",
       "    </tr>\n",
       "    <tr>\n",
       "      <th>1998</th>\n",
       "      <td>1999</td>\n",
       "      <td>555531</td>\n",
       "      <td>1290080</td>\n",
       "      <td>0</td>\n",
       "    </tr>\n",
       "    <tr>\n",
       "      <th>1999</th>\n",
       "      <td>2000</td>\n",
       "      <td>1707829</td>\n",
       "      <td>2373045</td>\n",
       "      <td>0</td>\n",
       "    </tr>\n",
       "  </tbody>\n",
       "</table>\n",
       "<p>2000 rows × 4 columns</p>\n",
       "</div>"
      ],
      "text/plain": [
       "        Id   Source     Sink  sinkInTrainSource\n",
       "0        1  3563811  3600160                  0\n",
       "1        2  2052043  1401960                  0\n",
       "2        3  4517994  1690636                  0\n",
       "3        4  1660006  4349447                  0\n",
       "4        5   581111  1882617                  0\n",
       "...    ...      ...      ...                ...\n",
       "1995  1996  1461386  2341683                  0\n",
       "1996  1997  4057755  1871227                  0\n",
       "1997  1998  4242514  1413468                  0\n",
       "1998  1999   555531  1290080                  0\n",
       "1999  2000  1707829  2373045                  0\n",
       "\n",
       "[2000 rows x 4 columns]"
      ]
     },
     "execution_count": 18,
     "metadata": {},
     "output_type": "execute_result"
    }
   ],
   "source": [
    "test_data"
   ]
  },
  {
   "cell_type": "code",
   "execution_count": 19,
   "metadata": {},
   "outputs": [],
   "source": [
    "#len(train_data['Neighbours'].iloc[0])"
   ]
  },
  {
   "cell_type": "code",
   "execution_count": 20,
   "metadata": {},
   "outputs": [],
   "source": [
    "train_data['NeighboursNumber']=train_data['Neighbours'].str.len()"
   ]
  },
  {
   "cell_type": "code",
   "execution_count": 21,
   "metadata": {},
   "outputs": [
    {
     "data": {
      "text/html": [
       "<div>\n",
       "<style scoped>\n",
       "    .dataframe tbody tr th:only-of-type {\n",
       "        vertical-align: middle;\n",
       "    }\n",
       "\n",
       "    .dataframe tbody tr th {\n",
       "        vertical-align: top;\n",
       "    }\n",
       "\n",
       "    .dataframe thead th {\n",
       "        text-align: right;\n",
       "    }\n",
       "</style>\n",
       "<table border=\"1\" class=\"dataframe\">\n",
       "  <thead>\n",
       "    <tr style=\"text-align: right;\">\n",
       "      <th></th>\n",
       "      <th>ID</th>\n",
       "      <th>Neighbours</th>\n",
       "      <th>NeighboursNumber</th>\n",
       "    </tr>\n",
       "  </thead>\n",
       "  <tbody>\n",
       "    <tr>\n",
       "      <th>0</th>\n",
       "      <td>540762</td>\n",
       "      <td>[1912140, 1537559, 3091331, 2757277, 3237295, ...</td>\n",
       "      <td>143</td>\n",
       "    </tr>\n",
       "    <tr>\n",
       "      <th>1</th>\n",
       "      <td>2129843</td>\n",
       "      <td>[65840, 3414168, 4523797, 2851163, 4321895, 13...</td>\n",
       "      <td>21</td>\n",
       "    </tr>\n",
       "    <tr>\n",
       "      <th>2</th>\n",
       "      <td>3361377</td>\n",
       "      <td>[955840, 3342058, 1536902, 1850727, 1504632, 1...</td>\n",
       "      <td>764195</td>\n",
       "    </tr>\n",
       "    <tr>\n",
       "      <th>3</th>\n",
       "      <td>1199298</td>\n",
       "      <td>[2300061, 2635670, 2803600, 744722, 881446, 28...</td>\n",
       "      <td>297</td>\n",
       "    </tr>\n",
       "    <tr>\n",
       "      <th>4</th>\n",
       "      <td>1392121</td>\n",
       "      <td>[3845572, 546016, 4361302, 678461, 4294597, 24...</td>\n",
       "      <td>3808</td>\n",
       "    </tr>\n",
       "    <tr>\n",
       "      <th>...</th>\n",
       "      <td>...</td>\n",
       "      <td>...</td>\n",
       "      <td>...</td>\n",
       "    </tr>\n",
       "    <tr>\n",
       "      <th>19995</th>\n",
       "      <td>585576</td>\n",
       "      <td>[660302, 3279973, 2094235, 2355188, 1296935, 3...</td>\n",
       "      <td>64</td>\n",
       "    </tr>\n",
       "    <tr>\n",
       "      <th>19996</th>\n",
       "      <td>505961</td>\n",
       "      <td>[3875645, 2148630, 4288909, 4011139, 340232, 1...</td>\n",
       "      <td>539</td>\n",
       "    </tr>\n",
       "    <tr>\n",
       "      <th>19997</th>\n",
       "      <td>125824</td>\n",
       "      <td>[54421, 868022, 385000, 2050130, 3446665, 2040...</td>\n",
       "      <td>45</td>\n",
       "    </tr>\n",
       "    <tr>\n",
       "      <th>19998</th>\n",
       "      <td>896087</td>\n",
       "      <td>[431577, 1007572, 499457, 3642500, 3734728, 28...</td>\n",
       "      <td>219</td>\n",
       "    </tr>\n",
       "    <tr>\n",
       "      <th>19999</th>\n",
       "      <td>3547024</td>\n",
       "      <td>[2888992, 179459, 492114, 2418495, 2235094, 14...</td>\n",
       "      <td>63</td>\n",
       "    </tr>\n",
       "  </tbody>\n",
       "</table>\n",
       "<p>20000 rows × 3 columns</p>\n",
       "</div>"
      ],
      "text/plain": [
       "            ID                                         Neighbours  \\\n",
       "0       540762  [1912140, 1537559, 3091331, 2757277, 3237295, ...   \n",
       "1      2129843  [65840, 3414168, 4523797, 2851163, 4321895, 13...   \n",
       "2      3361377  [955840, 3342058, 1536902, 1850727, 1504632, 1...   \n",
       "3      1199298  [2300061, 2635670, 2803600, 744722, 881446, 28...   \n",
       "4      1392121  [3845572, 546016, 4361302, 678461, 4294597, 24...   \n",
       "...        ...                                                ...   \n",
       "19995   585576  [660302, 3279973, 2094235, 2355188, 1296935, 3...   \n",
       "19996   505961  [3875645, 2148630, 4288909, 4011139, 340232, 1...   \n",
       "19997   125824  [54421, 868022, 385000, 2050130, 3446665, 2040...   \n",
       "19998   896087  [431577, 1007572, 499457, 3642500, 3734728, 28...   \n",
       "19999  3547024  [2888992, 179459, 492114, 2418495, 2235094, 14...   \n",
       "\n",
       "       NeighboursNumber  \n",
       "0                   143  \n",
       "1                    21  \n",
       "2                764195  \n",
       "3                   297  \n",
       "4                  3808  \n",
       "...                 ...  \n",
       "19995                64  \n",
       "19996               539  \n",
       "19997                45  \n",
       "19998               219  \n",
       "19999                63  \n",
       "\n",
       "[20000 rows x 3 columns]"
      ]
     },
     "execution_count": 21,
     "metadata": {},
     "output_type": "execute_result"
    }
   ],
   "source": [
    "train_data"
   ]
  },
  {
   "cell_type": "code",
   "execution_count": 22,
   "metadata": {},
   "outputs": [],
   "source": [
    "train_sink=[]\n",
    "for i in range(20000):\n",
    "    train_sink+=train_data['Neighbours'].iloc[i]"
   ]
  },
  {
   "cell_type": "raw",
   "metadata": {},
   "source": [
    "import json\n",
    "\n",
    "with open('train_sink.txt', 'w') as filehandle:\n",
    "    json.dump(train_sink, filehandle)"
   ]
  },
  {
   "cell_type": "code",
   "execution_count": 23,
   "metadata": {},
   "outputs": [],
   "source": [
    "from tqdm import tqdm"
   ]
  },
  {
   "cell_type": "code",
   "execution_count": 24,
   "metadata": {},
   "outputs": [
    {
     "name": "stderr",
     "output_type": "stream",
     "text": [
      "100%|██████████| 2000/2000 [02:23<00:00, 13.97it/s]\n"
     ]
    }
   ],
   "source": [
    "testsinkintrainsink=[]\n",
    "for i in tqdm(test_sink):\n",
    "    if str(i) in train_sink:\n",
    "        testsinkintrainsink.append(1)\n",
    "    else:\n",
    "        testsinkintrainsink.append(0)"
   ]
  },
  {
   "cell_type": "code",
   "execution_count": 25,
   "metadata": {},
   "outputs": [
    {
     "data": {
      "text/plain": [
       "2000"
      ]
     },
     "execution_count": 25,
     "metadata": {},
     "output_type": "execute_result"
    }
   ],
   "source": [
    "np.count_nonzero(testsinkintrainsink)"
   ]
  },
  {
   "cell_type": "code",
   "execution_count": 26,
   "metadata": {},
   "outputs": [
    {
     "data": {
      "text/plain": [
       "24004361"
      ]
     },
     "execution_count": 26,
     "metadata": {},
     "output_type": "execute_result"
    }
   ],
   "source": [
    "len(train_sink)"
   ]
  },
  {
   "cell_type": "code",
   "execution_count": 28,
   "metadata": {},
   "outputs": [],
   "source": [
    "from collections import Counter\n",
    "c=Counter(train_sink)"
   ]
  },
  {
   "cell_type": "code",
   "execution_count": 30,
   "metadata": {},
   "outputs": [
    {
     "data": {
      "text/plain": [
       "[('3361377', 4841), ('1250021', 4637), ('3402731', 3654)]"
      ]
     },
     "execution_count": 30,
     "metadata": {},
     "output_type": "execute_result"
    }
   ],
   "source": [
    "c.most_common(3)"
   ]
  },
  {
   "cell_type": "code",
   "execution_count": 31,
   "metadata": {},
   "outputs": [],
   "source": [
    "with open('count_followers.pickle', 'wb') as outputfile:\n",
    "    pickle.dump(c, outputfile)"
   ]
  },
  {
   "cell_type": "code",
   "execution_count": 2,
   "metadata": {},
   "outputs": [],
   "source": [
    "with open('11_features.txt','rb') as file:\n",
    "    sample_data=pickle.load(file)"
   ]
  },
  {
   "cell_type": "code",
   "execution_count": 3,
   "metadata": {},
   "outputs": [
    {
     "data": {
      "text/html": [
       "<div>\n",
       "<style scoped>\n",
       "    .dataframe tbody tr th:only-of-type {\n",
       "        vertical-align: middle;\n",
       "    }\n",
       "\n",
       "    .dataframe tbody tr th {\n",
       "        vertical-align: top;\n",
       "    }\n",
       "\n",
       "    .dataframe thead th {\n",
       "        text-align: right;\n",
       "    }\n",
       "</style>\n",
       "<table border=\"1\" class=\"dataframe\">\n",
       "  <thead>\n",
       "    <tr style=\"text-align: right;\">\n",
       "      <th></th>\n",
       "      <th>Source</th>\n",
       "      <th>Sink</th>\n",
       "      <th>Label</th>\n",
       "      <th>RAI</th>\n",
       "      <th>JC</th>\n",
       "      <th>AAI</th>\n",
       "      <th>PA</th>\n",
       "      <th>Source_following</th>\n",
       "      <th>Sink_follows</th>\n",
       "      <th>Shortest_path</th>\n",
       "      <th>PageRank_Src</th>\n",
       "      <th>PageRank_Sink</th>\n",
       "      <th>Centrality_Sour</th>\n",
       "      <th>Centrality_Sink</th>\n",
       "    </tr>\n",
       "  </thead>\n",
       "  <tbody>\n",
       "    <tr>\n",
       "      <th>0</th>\n",
       "      <td>1604753</td>\n",
       "      <td>3794609</td>\n",
       "      <td>1</td>\n",
       "      <td>0.000000</td>\n",
       "      <td>0.000000</td>\n",
       "      <td>0.000000</td>\n",
       "      <td>47</td>\n",
       "      <td>0.001218</td>\n",
       "      <td>0.006623</td>\n",
       "      <td>1</td>\n",
       "      <td>0.000004</td>\n",
       "      <td>0.000004</td>\n",
       "      <td>0.001558</td>\n",
       "      <td>0.000042</td>\n",
       "    </tr>\n",
       "    <tr>\n",
       "      <th>1</th>\n",
       "      <td>1927211</td>\n",
       "      <td>2402534</td>\n",
       "      <td>1</td>\n",
       "      <td>0.000034</td>\n",
       "      <td>0.000556</td>\n",
       "      <td>0.097141</td>\n",
       "      <td>5388</td>\n",
       "      <td>0.059641</td>\n",
       "      <td>0.019868</td>\n",
       "      <td>1</td>\n",
       "      <td>0.000008</td>\n",
       "      <td>0.000004</td>\n",
       "      <td>0.003437</td>\n",
       "      <td>0.000895</td>\n",
       "    </tr>\n",
       "    <tr>\n",
       "      <th>2</th>\n",
       "      <td>3438576</td>\n",
       "      <td>3589472</td>\n",
       "      <td>1</td>\n",
       "      <td>0.000000</td>\n",
       "      <td>0.000000</td>\n",
       "      <td>0.000000</td>\n",
       "      <td>2235</td>\n",
       "      <td>0.070670</td>\n",
       "      <td>0.006623</td>\n",
       "      <td>1</td>\n",
       "      <td>0.000026</td>\n",
       "      <td>0.000004</td>\n",
       "      <td>0.026769</td>\n",
       "      <td>0.000730</td>\n",
       "    </tr>\n",
       "    <tr>\n",
       "      <th>3</th>\n",
       "      <td>2029671</td>\n",
       "      <td>2363623</td>\n",
       "      <td>1</td>\n",
       "      <td>0.000000</td>\n",
       "      <td>0.000000</td>\n",
       "      <td>0.000000</td>\n",
       "      <td>236</td>\n",
       "      <td>0.000744</td>\n",
       "      <td>0.013245</td>\n",
       "      <td>1</td>\n",
       "      <td>0.000004</td>\n",
       "      <td>0.000004</td>\n",
       "      <td>0.021400</td>\n",
       "      <td>0.001205</td>\n",
       "    </tr>\n",
       "    <tr>\n",
       "      <th>4</th>\n",
       "      <td>2031305</td>\n",
       "      <td>4169107</td>\n",
       "      <td>1</td>\n",
       "      <td>0.000000</td>\n",
       "      <td>0.000000</td>\n",
       "      <td>0.000000</td>\n",
       "      <td>724</td>\n",
       "      <td>0.011739</td>\n",
       "      <td>0.013245</td>\n",
       "      <td>1</td>\n",
       "      <td>0.000004</td>\n",
       "      <td>0.000004</td>\n",
       "      <td>0.001249</td>\n",
       "      <td>0.000078</td>\n",
       "    </tr>\n",
       "  </tbody>\n",
       "</table>\n",
       "</div>"
      ],
      "text/plain": [
       "    Source     Sink  Label       RAI        JC       AAI    PA  \\\n",
       "0  1604753  3794609      1  0.000000  0.000000  0.000000    47   \n",
       "1  1927211  2402534      1  0.000034  0.000556  0.097141  5388   \n",
       "2  3438576  3589472      1  0.000000  0.000000  0.000000  2235   \n",
       "3  2029671  2363623      1  0.000000  0.000000  0.000000   236   \n",
       "4  2031305  4169107      1  0.000000  0.000000  0.000000   724   \n",
       "\n",
       "   Source_following  Sink_follows  Shortest_path  PageRank_Src  PageRank_Sink  \\\n",
       "0          0.001218      0.006623              1      0.000004       0.000004   \n",
       "1          0.059641      0.019868              1      0.000008       0.000004   \n",
       "2          0.070670      0.006623              1      0.000026       0.000004   \n",
       "3          0.000744      0.013245              1      0.000004       0.000004   \n",
       "4          0.011739      0.013245              1      0.000004       0.000004   \n",
       "\n",
       "   Centrality_Sour  Centrality_Sink  \n",
       "0         0.001558         0.000042  \n",
       "1         0.003437         0.000895  \n",
       "2         0.026769         0.000730  \n",
       "3         0.021400         0.001205  \n",
       "4         0.001249         0.000078  "
      ]
     },
     "execution_count": 3,
     "metadata": {},
     "output_type": "execute_result"
    }
   ],
   "source": [
    "sample_data.head()"
   ]
  },
  {
   "cell_type": "code",
   "execution_count": 7,
   "metadata": {},
   "outputs": [
    {
     "data": {
      "text/plain": [
       "Index(['Source', 'Sink', 'Label', 'RAI', 'JC', 'AAI', 'PA', 'Source_following',\n",
       "       'Sink_follows', 'Shortest_path', 'PageRank_Src', 'PageRank_Sink',\n",
       "       'Centrality_Sour', 'Centrality_Sink'],\n",
       "      dtype='object')"
      ]
     },
     "execution_count": 7,
     "metadata": {},
     "output_type": "execute_result"
    }
   ],
   "source": [
    "#type(sample_data)\n",
    "sample_data.columns"
   ]
  },
  {
   "cell_type": "code",
   "execution_count": 8,
   "metadata": {},
   "outputs": [],
   "source": [
    "sample_data_1=sample_data[sample_data['Label']==1]"
   ]
  },
  {
   "cell_type": "code",
   "execution_count": 10,
   "metadata": {},
   "outputs": [
    {
     "data": {
      "text/html": [
       "<div>\n",
       "<style scoped>\n",
       "    .dataframe tbody tr th:only-of-type {\n",
       "        vertical-align: middle;\n",
       "    }\n",
       "\n",
       "    .dataframe tbody tr th {\n",
       "        vertical-align: top;\n",
       "    }\n",
       "\n",
       "    .dataframe thead th {\n",
       "        text-align: right;\n",
       "    }\n",
       "</style>\n",
       "<table border=\"1\" class=\"dataframe\">\n",
       "  <thead>\n",
       "    <tr style=\"text-align: right;\">\n",
       "      <th></th>\n",
       "      <th>Source</th>\n",
       "      <th>Sink</th>\n",
       "      <th>Label</th>\n",
       "      <th>RAI</th>\n",
       "      <th>JC</th>\n",
       "      <th>AAI</th>\n",
       "      <th>PA</th>\n",
       "      <th>Source_following</th>\n",
       "      <th>Sink_follows</th>\n",
       "      <th>Shortest_path</th>\n",
       "      <th>PageRank_Src</th>\n",
       "      <th>PageRank_Sink</th>\n",
       "      <th>Centrality_Sour</th>\n",
       "      <th>Centrality_Sink</th>\n",
       "    </tr>\n",
       "  </thead>\n",
       "  <tbody>\n",
       "    <tr>\n",
       "      <th>0</th>\n",
       "      <td>1241159</td>\n",
       "      <td>4166725</td>\n",
       "      <td>0</td>\n",
       "      <td>0.049769</td>\n",
       "      <td>0.047643</td>\n",
       "      <td>11.962959</td>\n",
       "      <td>185250</td>\n",
       "      <td>0.064953</td>\n",
       "      <td>0.629139</td>\n",
       "      <td>1</td>\n",
       "      <td>0.000004</td>\n",
       "      <td>0.000004</td>\n",
       "      <td>0.002776</td>\n",
       "      <td>0.021859</td>\n",
       "    </tr>\n",
       "    <tr>\n",
       "      <th>1</th>\n",
       "      <td>193736</td>\n",
       "      <td>2523520</td>\n",
       "      <td>0</td>\n",
       "      <td>0.042192</td>\n",
       "      <td>0.047643</td>\n",
       "      <td>12.275223</td>\n",
       "      <td>203010</td>\n",
       "      <td>0.064750</td>\n",
       "      <td>0.649007</td>\n",
       "      <td>1</td>\n",
       "      <td>0.000006</td>\n",
       "      <td>0.000004</td>\n",
       "      <td>0.020094</td>\n",
       "      <td>0.021746</td>\n",
       "    </tr>\n",
       "    <tr>\n",
       "      <th>2</th>\n",
       "      <td>1199298</td>\n",
       "      <td>2955972</td>\n",
       "      <td>0</td>\n",
       "      <td>0.000256</td>\n",
       "      <td>0.000322</td>\n",
       "      <td>0.412296</td>\n",
       "      <td>173894</td>\n",
       "      <td>0.420095</td>\n",
       "      <td>0.033113</td>\n",
       "      <td>1</td>\n",
       "      <td>0.000008</td>\n",
       "      <td>0.000004</td>\n",
       "      <td>0.002379</td>\n",
       "      <td>0.000508</td>\n",
       "    </tr>\n",
       "    <tr>\n",
       "      <th>3</th>\n",
       "      <td>4174165</td>\n",
       "      <td>3662667</td>\n",
       "      <td>0</td>\n",
       "      <td>0.105402</td>\n",
       "      <td>0.008917</td>\n",
       "      <td>13.150280</td>\n",
       "      <td>1132614</td>\n",
       "      <td>0.378924</td>\n",
       "      <td>0.655629</td>\n",
       "      <td>1</td>\n",
       "      <td>0.000004</td>\n",
       "      <td>0.000005</td>\n",
       "      <td>0.001315</td>\n",
       "      <td>0.022890</td>\n",
       "    </tr>\n",
       "    <tr>\n",
       "      <th>4</th>\n",
       "      <td>1411138</td>\n",
       "      <td>4359281</td>\n",
       "      <td>0</td>\n",
       "      <td>0.046710</td>\n",
       "      <td>0.048314</td>\n",
       "      <td>12.332327</td>\n",
       "      <td>192642</td>\n",
       "      <td>0.064175</td>\n",
       "      <td>0.635762</td>\n",
       "      <td>1</td>\n",
       "      <td>0.000004</td>\n",
       "      <td>0.000004</td>\n",
       "      <td>0.017254</td>\n",
       "      <td>0.021382</td>\n",
       "    </tr>\n",
       "  </tbody>\n",
       "</table>\n",
       "</div>"
      ],
      "text/plain": [
       "    Source     Sink  Label       RAI        JC        AAI       PA  \\\n",
       "0  1241159  4166725      0  0.049769  0.047643  11.962959   185250   \n",
       "1   193736  2523520      0  0.042192  0.047643  12.275223   203010   \n",
       "2  1199298  2955972      0  0.000256  0.000322   0.412296   173894   \n",
       "3  4174165  3662667      0  0.105402  0.008917  13.150280  1132614   \n",
       "4  1411138  4359281      0  0.046710  0.048314  12.332327   192642   \n",
       "\n",
       "   Source_following  Sink_follows  Shortest_path  PageRank_Src  PageRank_Sink  \\\n",
       "0          0.064953      0.629139              1      0.000004       0.000004   \n",
       "1          0.064750      0.649007              1      0.000006       0.000004   \n",
       "2          0.420095      0.033113              1      0.000008       0.000004   \n",
       "3          0.378924      0.655629              1      0.000004       0.000005   \n",
       "4          0.064175      0.635762              1      0.000004       0.000004   \n",
       "\n",
       "   Centrality_Sour  Centrality_Sink  \n",
       "0         0.002776         0.021859  \n",
       "1         0.020094         0.021746  \n",
       "2         0.002379         0.000508  \n",
       "3         0.001315         0.022890  \n",
       "4         0.017254         0.021382  "
      ]
     },
     "execution_count": 10,
     "metadata": {},
     "output_type": "execute_result"
    }
   ],
   "source": [
    "sample_data_0=sample_data[sample_data['Label']==0]"
   ]
  },
  {
   "cell_type": "code",
   "execution_count": 20,
   "metadata": {},
   "outputs": [
    {
     "data": {
      "text/plain": [
       "count    355064.000000\n",
       "mean          0.005431\n",
       "std           1.292779\n",
       "min           0.000000\n",
       "25%           0.000000\n",
       "50%           0.000000\n",
       "75%           0.000000\n",
       "max         764.552300\n",
       "Name: RAI, dtype: float64"
      ]
     },
     "execution_count": 20,
     "metadata": {},
     "output_type": "execute_result"
    }
   ],
   "source": [
    "sample_data_1['RAI'].describe()"
   ]
  },
  {
   "cell_type": "code",
   "execution_count": 15,
   "metadata": {},
   "outputs": [
    {
     "data": {
      "text/plain": [
       "(array([3.51692e+05, 1.71700e+03, 2.84000e+02, 1.48000e+02, 1.17000e+02,\n",
       "        9.00000e+01, 9.50000e+01, 1.13000e+02, 1.80000e+01, 1.33000e+02,\n",
       "        2.60000e+01, 1.20000e+01, 1.33000e+02, 2.40000e+01, 1.00000e+01,\n",
       "        1.40000e+01, 1.90000e+01, 5.00000e+00, 1.50000e+02, 2.10000e+01,\n",
       "        5.00000e+00, 1.60000e+01, 6.00000e+00, 4.00000e+00, 1.60000e+01,\n",
       "        1.60000e+01, 4.00000e+00, 1.40000e+01, 3.00000e+00, 2.00000e+00,\n",
       "        2.10000e+01, 6.00000e+00, 5.00000e+00, 5.00000e+00, 3.00000e+00,\n",
       "        3.00000e+00]),\n",
       " array([0.        , 0.02777778, 0.05555556, 0.08333333, 0.11111111,\n",
       "        0.13888889, 0.16666667, 0.19444444, 0.22222222, 0.25      ,\n",
       "        0.27777778, 0.30555556, 0.33333333, 0.36111111, 0.38888889,\n",
       "        0.41666667, 0.44444444, 0.47222222, 0.5       , 0.52777778,\n",
       "        0.55555556, 0.58333333, 0.61111111, 0.63888889, 0.66666667,\n",
       "        0.69444444, 0.72222222, 0.75      , 0.77777778, 0.80555556,\n",
       "        0.83333333, 0.86111111, 0.88888889, 0.91666667, 0.94444444,\n",
       "        0.97222222, 1.        ]),\n",
       " <a list of 36 Patch objects>)"
      ]
     },
     "execution_count": 15,
     "metadata": {},
     "output_type": "execute_result"
    },
    {
     "data": {
      "image/png": "[encoded data removed]",
      "text/plain": [
       "<Figure size 432x288 with 1 Axes>"
      ]
     },
     "metadata": {
      "needs_background": "light"
     },
     "output_type": "display_data"
    }
   ],
   "source": [
    "plt.hist(sample_data_1['RAI'],bins = int(180/5),range=(0,1))"
   ]
  },
  {
   "cell_type": "code",
   "execution_count": 21,
   "metadata": {},
   "outputs": [
    {
     "data": {
      "text/plain": [
       "count    355064.000000\n",
       "mean          0.579938\n",
       "std          11.482845\n",
       "min           0.000000\n",
       "25%           0.040609\n",
       "50%           0.048913\n",
       "75%           0.077801\n",
       "max        1129.391475\n",
       "Name: RAI, dtype: float64"
      ]
     },
     "execution_count": 21,
     "metadata": {},
     "output_type": "execute_result"
    }
   ],
   "source": [
    "sample_data_0['RAI'].describe()"
   ]
  },
  {
   "cell_type": "code",
   "execution_count": 16,
   "metadata": {},
   "outputs": [
    {
     "data": {
      "text/plain": [
       "(array([6.81210e+04, 1.49998e+05, 5.36070e+04, 1.97670e+04, 1.27160e+04,\n",
       "        8.96500e+03, 7.07600e+03, 4.76000e+03, 3.81600e+03, 3.26300e+03,\n",
       "        2.19600e+03, 1.98500e+03, 1.71700e+03, 1.36900e+03, 1.20100e+03,\n",
       "        8.24000e+02, 6.83000e+02, 6.46000e+02, 6.81000e+02, 5.47000e+02,\n",
       "        4.27000e+02, 4.44000e+02, 4.24000e+02, 3.12000e+02, 3.30000e+02,\n",
       "        2.15000e+02, 2.59000e+02, 2.11000e+02, 1.76000e+02, 1.44000e+02,\n",
       "        1.48000e+02, 1.19000e+02, 1.20000e+02, 1.19000e+02, 7.70000e+01,\n",
       "        1.36000e+02]),\n",
       " array([0.        , 0.02777778, 0.05555556, 0.08333333, 0.11111111,\n",
       "        0.13888889, 0.16666667, 0.19444444, 0.22222222, 0.25      ,\n",
       "        0.27777778, 0.30555556, 0.33333333, 0.36111111, 0.38888889,\n",
       "        0.41666667, 0.44444444, 0.47222222, 0.5       , 0.52777778,\n",
       "        0.55555556, 0.58333333, 0.61111111, 0.63888889, 0.66666667,\n",
       "        0.69444444, 0.72222222, 0.75      , 0.77777778, 0.80555556,\n",
       "        0.83333333, 0.86111111, 0.88888889, 0.91666667, 0.94444444,\n",
       "        0.97222222, 1.        ]),\n",
       " <a list of 36 Patch objects>)"
      ]
     },
     "execution_count": 16,
     "metadata": {},
     "output_type": "execute_result"
    },
    {
     "data": {
      "image/png": "[encoded data removed]",
      "text/plain": [
       "<Figure size 432x288 with 1 Axes>"
      ]
     },
     "metadata": {
      "needs_background": "light"
     },
     "output_type": "display_data"
    }
   ],
   "source": [
    "plt.hist(sample_data_0['RAI'],bins = int(180/5),range=(0,1))"
   ]
  },
  {
   "cell_type": "code",
   "execution_count": 22,
   "metadata": {},
   "outputs": [
    {
     "data": {
      "text/plain": [
       "count    355064.000000\n",
       "mean          0.011158\n",
       "std           0.059358\n",
       "min           0.000000\n",
       "25%           0.000000\n",
       "50%           0.000000\n",
       "75%           0.000000\n",
       "max           0.989990\n",
       "Name: JC, dtype: float64"
      ]
     },
     "execution_count": 22,
     "metadata": {},
     "output_type": "execute_result"
    }
   ],
   "source": [
    "sample_data_1['JC'].describe()"
   ]
  },
  {
   "cell_type": "code",
   "execution_count": 17,
   "metadata": {},
   "outputs": [
    {
     "data": {
      "text/plain": [
       "(array([3.33645e+05, 3.65900e+03, 3.10600e+03, 2.86300e+03, 2.14700e+03,\n",
       "        1.38800e+03, 1.36500e+03, 1.08800e+03, 9.14000e+02, 9.50000e+02,\n",
       "        6.68000e+02, 4.65000e+02, 5.17000e+02, 3.15000e+02, 2.49000e+02,\n",
       "        1.92000e+02, 1.71000e+02, 9.60000e+01, 2.07000e+02, 8.70000e+01,\n",
       "        9.40000e+01, 7.00000e+01, 8.50000e+01, 6.80000e+01, 6.70000e+01,\n",
       "        4.90000e+01, 6.90000e+01, 6.30000e+01, 6.10000e+01, 4.10000e+01,\n",
       "        7.40000e+01, 7.80000e+01, 8.30000e+01, 4.50000e+01, 1.60000e+01,\n",
       "        9.00000e+00]),\n",
       " array([0.        , 0.02777778, 0.05555556, 0.08333333, 0.11111111,\n",
       "        0.13888889, 0.16666667, 0.19444444, 0.22222222, 0.25      ,\n",
       "        0.27777778, 0.30555556, 0.33333333, 0.36111111, 0.38888889,\n",
       "        0.41666667, 0.44444444, 0.47222222, 0.5       , 0.52777778,\n",
       "        0.55555556, 0.58333333, 0.61111111, 0.63888889, 0.66666667,\n",
       "        0.69444444, 0.72222222, 0.75      , 0.77777778, 0.80555556,\n",
       "        0.83333333, 0.86111111, 0.88888889, 0.91666667, 0.94444444,\n",
       "        0.97222222, 1.        ]),\n",
       " <a list of 36 Patch objects>)"
      ]
     },
     "execution_count": 17,
     "metadata": {},
     "output_type": "execute_result"
    },
    {
     "data": {
      "image/png": "[encoded data removed]",
      "text/plain": [
       "<Figure size 432x288 with 1 Axes>"
      ]
     },
     "metadata": {
      "needs_background": "light"
     },
     "output_type": "display_data"
    }
   ],
   "source": [
    "plt.hist(sample_data_1['JC'],bins = int(180/5),range=(0,1))"
   ]
  },
  {
   "cell_type": "code",
   "execution_count": 23,
   "metadata": {},
   "outputs": [
    {
     "data": {
      "text/plain": [
       "count    355064.000000\n",
       "mean          0.032583\n",
       "std           0.094871\n",
       "min           0.000000\n",
       "25%           0.001024\n",
       "50%           0.009817\n",
       "75%           0.047736\n",
       "max           0.996500\n",
       "Name: JC, dtype: float64"
      ]
     },
     "execution_count": 23,
     "metadata": {},
     "output_type": "execute_result"
    }
   ],
   "source": [
    "sample_data_0['JC'].describe()"
   ]
  },
  {
   "cell_type": "code",
   "execution_count": 18,
   "metadata": {},
   "outputs": [
    {
     "data": {
      "text/plain": [
       "(array([1.93988e+05, 1.55362e+05, 1.80000e+02, 2.00000e+00, 5.90000e+02,\n",
       "        3.59000e+02, 3.18000e+02, 4.95000e+02, 2.16000e+02, 4.00000e+00,\n",
       "        2.00000e+00, 5.00000e+00, 7.00000e+00, 6.00000e+00, 8.00000e+00,\n",
       "        2.00000e+00, 1.40000e+01, 6.00000e+00, 6.00000e+00, 1.00000e+01,\n",
       "        1.40000e+01, 2.00000e+01, 1.40000e+01, 1.20000e+01, 4.00000e+00,\n",
       "        1.50000e+01, 6.00000e+00, 1.00000e+00, 1.20000e+01, 2.30000e+01,\n",
       "        9.00000e+01, 1.18000e+02, 2.20000e+02, 4.87000e+02, 9.11000e+02,\n",
       "        1.53700e+03]),\n",
       " array([0.        , 0.02777778, 0.05555556, 0.08333333, 0.11111111,\n",
       "        0.13888889, 0.16666667, 0.19444444, 0.22222222, 0.25      ,\n",
       "        0.27777778, 0.30555556, 0.33333333, 0.36111111, 0.38888889,\n",
       "        0.41666667, 0.44444444, 0.47222222, 0.5       , 0.52777778,\n",
       "        0.55555556, 0.58333333, 0.61111111, 0.63888889, 0.66666667,\n",
       "        0.69444444, 0.72222222, 0.75      , 0.77777778, 0.80555556,\n",
       "        0.83333333, 0.86111111, 0.88888889, 0.91666667, 0.94444444,\n",
       "        0.97222222, 1.        ]),\n",
       " <a list of 36 Patch objects>)"
      ]
     },
     "execution_count": 18,
     "metadata": {},
     "output_type": "execute_result"
    },
    {
     "data": {
      "image/png": "[encoded data removed]",
      "text/plain": [
       "<Figure size 432x288 with 1 Axes>"
      ]
     },
     "metadata": {
      "needs_background": "light"
     },
     "output_type": "display_data"
    }
   ],
   "source": [
    "plt.hist(sample_data_0['JC'],bins = int(180/5),range=(0,1))"
   ]
  },
  {
   "cell_type": "code",
   "execution_count": 24,
   "metadata": {},
   "outputs": [
    {
     "data": {
      "text/plain": [
       "count    355064.000000\n",
       "mean          0.186368\n",
       "std           8.401742\n",
       "min           0.000000\n",
       "25%           0.000000\n",
       "50%           0.000000\n",
       "75%           0.000000\n",
       "max        4493.926221\n",
       "Name: AAI, dtype: float64"
      ]
     },
     "execution_count": 24,
     "metadata": {},
     "output_type": "execute_result"
    }
   ],
   "source": [
    "sample_data_1['AAI'].describe()"
   ]
  },
  {
   "cell_type": "code",
   "execution_count": 26,
   "metadata": {},
   "outputs": [
    {
     "data": {
      "text/plain": [
       "(array([3.21983e+05, 0.00000e+00, 0.00000e+00, 1.57800e+03, 1.15900e+03,\n",
       "        1.35300e+03, 7.18000e+02, 1.06600e+03, 3.20000e+02, 1.84000e+02,\n",
       "        2.58000e+02, 4.58000e+02, 8.30000e+01, 3.70000e+01, 4.13000e+02,\n",
       "        1.15000e+02, 3.30000e+01, 2.40000e+01, 5.43000e+02, 4.80000e+01,\n",
       "        1.90000e+01, 1.20000e+01, 9.00000e+02, 1.20000e+01, 7.00000e+00,\n",
       "        6.00000e+00, 1.12200e+03, 5.00000e+00, 5.00000e+00, 6.39000e+02,\n",
       "        8.16000e+02, 1.00000e+01, 5.00000e+00, 1.53700e+03, 2.70000e+02,\n",
       "        9.00000e+00]),\n",
       " array([0.        , 0.02777778, 0.05555556, 0.08333333, 0.11111111,\n",
       "        0.13888889, 0.16666667, 0.19444444, 0.22222222, 0.25      ,\n",
       "        0.27777778, 0.30555556, 0.33333333, 0.36111111, 0.38888889,\n",
       "        0.41666667, 0.44444444, 0.47222222, 0.5       , 0.52777778,\n",
       "        0.55555556, 0.58333333, 0.61111111, 0.63888889, 0.66666667,\n",
       "        0.69444444, 0.72222222, 0.75      , 0.77777778, 0.80555556,\n",
       "        0.83333333, 0.86111111, 0.88888889, 0.91666667, 0.94444444,\n",
       "        0.97222222, 1.        ]),\n",
       " <a list of 36 Patch objects>)"
      ]
     },
     "execution_count": 26,
     "metadata": {},
     "output_type": "execute_result"
    },
    {
     "data": {
      "image/png": "[encoded data removed]",
      "text/plain": [
       "<Figure size 432x288 with 1 Axes>"
      ]
     },
     "metadata": {
      "needs_background": "light"
     },
     "output_type": "display_data"
    }
   ],
   "source": [
    "plt.hist(sample_data_1['AAI'],bins = int(180/5),range=(0,1))"
   ]
  },
  {
   "cell_type": "code",
   "execution_count": 25,
   "metadata": {},
   "outputs": [
    {
     "data": {
      "text/plain": [
       "count    355064.000000\n",
       "mean         15.810110\n",
       "std          86.012565\n",
       "min           0.000000\n",
       "25%           1.651180\n",
       "50%          12.093427\n",
       "75%          12.489140\n",
       "max        5800.389841\n",
       "Name: AAI, dtype: float64"
      ]
     },
     "execution_count": 25,
     "metadata": {},
     "output_type": "execute_result"
    }
   ],
   "source": [
    "sample_data_0['AAI'].describe()"
   ]
  },
  {
   "cell_type": "code",
   "execution_count": 27,
   "metadata": {},
   "outputs": [
    {
     "data": {
      "text/plain": [
       "(array([1.019e+03, 0.000e+00, 0.000e+00, 1.506e+03, 2.650e+02, 0.000e+00,\n",
       "        4.000e+00, 2.026e+03, 5.100e+01, 1.900e+01, 4.760e+02, 1.551e+03,\n",
       "        7.600e+01, 4.600e+01, 1.552e+03, 1.026e+03, 1.280e+02, 1.210e+02,\n",
       "        3.729e+03, 5.670e+02, 1.930e+02, 1.940e+02, 3.983e+03, 3.320e+02,\n",
       "        3.250e+02, 3.350e+02, 4.349e+03, 4.000e+02, 3.300e+02, 9.440e+02,\n",
       "        4.343e+03, 5.930e+02, 6.620e+02, 2.306e+03, 3.302e+03, 8.500e+02]),\n",
       " array([0.        , 0.02777778, 0.05555556, 0.08333333, 0.11111111,\n",
       "        0.13888889, 0.16666667, 0.19444444, 0.22222222, 0.25      ,\n",
       "        0.27777778, 0.30555556, 0.33333333, 0.36111111, 0.38888889,\n",
       "        0.41666667, 0.44444444, 0.47222222, 0.5       , 0.52777778,\n",
       "        0.55555556, 0.58333333, 0.61111111, 0.63888889, 0.66666667,\n",
       "        0.69444444, 0.72222222, 0.75      , 0.77777778, 0.80555556,\n",
       "        0.83333333, 0.86111111, 0.88888889, 0.91666667, 0.94444444,\n",
       "        0.97222222, 1.        ]),\n",
       " <a list of 36 Patch objects>)"
      ]
     },
     "execution_count": 27,
     "metadata": {},
     "output_type": "execute_result"
    },
    {
     "data": {
      "image/png": "[encoded data removed]",
      "text/plain": [
       "<Figure size 432x288 with 1 Axes>"
      ]
     },
     "metadata": {
      "needs_background": "light"
     },
     "output_type": "display_data"
    }
   ],
   "source": [
    "plt.hist(sample_data_0['AAI'],bins = int(180/5),range=(0,1))"
   ]
  },
  {
   "cell_type": "code",
   "execution_count": 28,
   "metadata": {},
   "outputs": [
    {
     "data": {
      "text/plain": [
       "count    3.550640e+05\n",
       "mean     8.205598e+03\n",
       "std      4.688143e+05\n",
       "min      1.000000e+00\n",
       "25%      1.440000e+02\n",
       "50%      6.740000e+02\n",
       "75%      2.112000e+03\n",
       "max      2.266922e+08\n",
       "Name: PA, dtype: float64"
      ]
     },
     "execution_count": 28,
     "metadata": {},
     "output_type": "execute_result"
    }
   ],
   "source": [
    "sample_data_1['PA'].describe()"
   ]
  },
  {
   "cell_type": "code",
   "execution_count": 30,
   "metadata": {},
   "outputs": [
    {
     "data": {
      "text/plain": [
       "(array([122757.,  42161.,  26889.,  24019.,  15181.,  15123.,  15390.,\n",
       "          7688.,   7000.,   3318.,   3566.,   3158.,   4043.,   1682.,\n",
       "          5381.,   1430.,   1479.,    939.,   1287.,   1049.,   5585.,\n",
       "          6441.,   5940.,    472.,    663.,    515.,   7290.,    247.,\n",
       "           316.,    307.,    298.,    234.,    320.,    141.,    145.,\n",
       "           212.]),\n",
       " array([1.00000e+00, 2.78750e+02, 5.56500e+02, 8.34250e+02, 1.11200e+03,\n",
       "        1.38975e+03, 1.66750e+03, 1.94525e+03, 2.22300e+03, 2.50075e+03,\n",
       "        2.77850e+03, 3.05625e+03, 3.33400e+03, 3.61175e+03, 3.88950e+03,\n",
       "        4.16725e+03, 4.44500e+03, 4.72275e+03, 5.00050e+03, 5.27825e+03,\n",
       "        5.55600e+03, 5.83375e+03, 6.11150e+03, 6.38925e+03, 6.66700e+03,\n",
       "        6.94475e+03, 7.22250e+03, 7.50025e+03, 7.77800e+03, 8.05575e+03,\n",
       "        8.33350e+03, 8.61125e+03, 8.88900e+03, 9.16675e+03, 9.44450e+03,\n",
       "        9.72225e+03, 1.00000e+04]),\n",
       " <a list of 36 Patch objects>)"
      ]
     },
     "execution_count": 30,
     "metadata": {},
     "output_type": "execute_result"
    },
    {
     "data": {
      "image/png": "[encoded data removed]",
      "text/plain": [
       "<Figure size 432x288 with 1 Axes>"
      ]
     },
     "metadata": {
      "needs_background": "light"
     },
     "output_type": "display_data"
    }
   ],
   "source": [
    "plt.hist(sample_data_1['PA'],bins = int(180/5),range=(1,10000))"
   ]
  },
  {
   "cell_type": "code",
   "execution_count": 31,
   "metadata": {},
   "outputs": [
    {
     "data": {
      "text/plain": [
       "count    3.550640e+05\n",
       "mean     8.757011e+05\n",
       "std      5.276194e+06\n",
       "min      1.710000e+03\n",
       "25%      1.932000e+05\n",
       "50%      2.127160e+05\n",
       "75%      4.595770e+05\n",
       "max      4.820838e+08\n",
       "Name: PA, dtype: float64"
      ]
     },
     "execution_count": 31,
     "metadata": {},
     "output_type": "execute_result"
    }
   ],
   "source": [
    "sample_data_0['PA'].describe()"
   ]
  },
  {
   "cell_type": "code",
   "execution_count": 32,
   "metadata": {},
   "outputs": [
    {
     "data": {
      "text/plain": [
       "(array([  0.,   0.,   0.,   0.,   0.,   0.,   1.,   0.,   0.,   0.,   0.,\n",
       "          1.,   1.,   0.,   0.,   0.,   0.,   0.,   0.,   0.,   0.,   0.,\n",
       "          0.,   0.,   0.,   0.,   0.,   0., 181.,   0.,   0.,   0., 206.,\n",
       "          0.,   5.,   6.]),\n",
       " array([1.00000e+00, 2.78750e+02, 5.56500e+02, 8.34250e+02, 1.11200e+03,\n",
       "        1.38975e+03, 1.66750e+03, 1.94525e+03, 2.22300e+03, 2.50075e+03,\n",
       "        2.77850e+03, 3.05625e+03, 3.33400e+03, 3.61175e+03, 3.88950e+03,\n",
       "        4.16725e+03, 4.44500e+03, 4.72275e+03, 5.00050e+03, 5.27825e+03,\n",
       "        5.55600e+03, 5.83375e+03, 6.11150e+03, 6.38925e+03, 6.66700e+03,\n",
       "        6.94475e+03, 7.22250e+03, 7.50025e+03, 7.77800e+03, 8.05575e+03,\n",
       "        8.33350e+03, 8.61125e+03, 8.88900e+03, 9.16675e+03, 9.44450e+03,\n",
       "        9.72225e+03, 1.00000e+04]),\n",
       " <a list of 36 Patch objects>)"
      ]
     },
     "execution_count": 32,
     "metadata": {},
     "output_type": "execute_result"
    },
    {
     "data": {
      "image/png": "[encoded data removed]",
      "text/plain": [
       "<Figure size 432x288 with 1 Axes>"
      ]
     },
     "metadata": {
      "needs_background": "light"
     },
     "output_type": "display_data"
    }
   ],
   "source": [
    "plt.hist(sample_data_0['PA'],bins = int(180/5),range=(1,10000))"
   ]
  },
  {
   "cell_type": "code",
   "execution_count": 33,
   "metadata": {},
   "outputs": [
    {
     "data": {
      "text/plain": [
       "count    355064.000000\n",
       "mean          0.062540\n",
       "std           0.179538\n",
       "min           0.000034\n",
       "25%           0.001319\n",
       "50%           0.008897\n",
       "75%           0.035690\n",
       "max           1.000000\n",
       "Name: Source_following, dtype: float64"
      ]
     },
     "execution_count": 33,
     "metadata": {},
     "output_type": "execute_result"
    }
   ],
   "source": [
    "sample_data_1['Source_following'].describe()"
   ]
  },
  {
   "cell_type": "code",
   "execution_count": 36,
   "metadata": {},
   "outputs": [
    {
     "data": {
      "text/plain": [
       "(array([2.3992e+05, 5.7508e+04, 1.7036e+04, 0.0000e+00, 4.0480e+03,\n",
       "        0.0000e+00, 5.4610e+03, 1.2026e+04, 0.0000e+00, 7.4180e+03,\n",
       "        2.0000e+00, 1.0000e+00, 1.3000e+01, 2.3000e+01, 0.0000e+00,\n",
       "        5.0000e+00, 2.0000e+00, 6.1000e+01, 2.0000e+01, 1.8400e+02,\n",
       "        0.0000e+00, 0.0000e+00, 0.0000e+00, 0.0000e+00, 0.0000e+00,\n",
       "        0.0000e+00, 0.0000e+00, 0.0000e+00, 0.0000e+00, 0.0000e+00,\n",
       "        0.0000e+00, 0.0000e+00, 0.0000e+00, 0.0000e+00, 0.0000e+00,\n",
       "        1.1336e+04]),\n",
       " array([0.        , 0.02777778, 0.05555556, 0.08333333, 0.11111111,\n",
       "        0.13888889, 0.16666667, 0.19444444, 0.22222222, 0.25      ,\n",
       "        0.27777778, 0.30555556, 0.33333333, 0.36111111, 0.38888889,\n",
       "        0.41666667, 0.44444444, 0.47222222, 0.5       , 0.52777778,\n",
       "        0.55555556, 0.58333333, 0.61111111, 0.63888889, 0.66666667,\n",
       "        0.69444444, 0.72222222, 0.75      , 0.77777778, 0.80555556,\n",
       "        0.83333333, 0.86111111, 0.88888889, 0.91666667, 0.94444444,\n",
       "        0.97222222, 1.        ]),\n",
       " <a list of 36 Patch objects>)"
      ]
     },
     "execution_count": 36,
     "metadata": {},
     "output_type": "execute_result"
    },
    {
     "data": {
      "image/png": "[encoded data removed]",
      "text/plain": [
       "<Figure size 432x288 with 1 Axes>"
      ]
     },
     "metadata": {
      "needs_background": "light"
     },
     "output_type": "display_data"
    }
   ],
   "source": [
    "plt.hist(sample_data_1['Source_following'],bins = int(180/5),range=(0,1))"
   ]
  },
  {
   "cell_type": "code",
   "execution_count": 35,
   "metadata": {},
   "outputs": [
    {
     "data": {
      "text/plain": [
       "count    355064.000000\n",
       "mean          0.295303\n",
       "std           0.253540\n",
       "min           0.000101\n",
       "25%           0.065697\n",
       "50%           0.300710\n",
       "75%           0.484777\n",
       "max           1.000000\n",
       "Name: Source_following, dtype: float64"
      ]
     },
     "execution_count": 35,
     "metadata": {},
     "output_type": "execute_result"
    }
   ],
   "source": [
    "sample_data_0['Source_following'].describe()"
   ]
  },
  {
   "cell_type": "code",
   "execution_count": 37,
   "metadata": {},
   "outputs": [
    {
     "data": {
      "text/plain": [
       "(array([3.00000e+00, 0.00000e+00, 1.59479e+05, 0.00000e+00, 0.00000e+00,\n",
       "        0.00000e+00, 0.00000e+00, 0.00000e+00, 0.00000e+00, 8.38300e+03,\n",
       "        2.12550e+04, 1.11330e+04, 2.35730e+04, 1.28430e+04, 0.00000e+00,\n",
       "        1.39860e+04, 1.55830e+04, 1.61370e+04, 1.67470e+04, 3.57050e+04,\n",
       "        0.00000e+00, 0.00000e+00, 0.00000e+00, 0.00000e+00, 0.00000e+00,\n",
       "        0.00000e+00, 0.00000e+00, 0.00000e+00, 0.00000e+00, 0.00000e+00,\n",
       "        0.00000e+00, 0.00000e+00, 0.00000e+00, 0.00000e+00, 0.00000e+00,\n",
       "        2.02370e+04]),\n",
       " array([0.        , 0.02777778, 0.05555556, 0.08333333, 0.11111111,\n",
       "        0.13888889, 0.16666667, 0.19444444, 0.22222222, 0.25      ,\n",
       "        0.27777778, 0.30555556, 0.33333333, 0.36111111, 0.38888889,\n",
       "        0.41666667, 0.44444444, 0.47222222, 0.5       , 0.52777778,\n",
       "        0.55555556, 0.58333333, 0.61111111, 0.63888889, 0.66666667,\n",
       "        0.69444444, 0.72222222, 0.75      , 0.77777778, 0.80555556,\n",
       "        0.83333333, 0.86111111, 0.88888889, 0.91666667, 0.94444444,\n",
       "        0.97222222, 1.        ]),\n",
       " <a list of 36 Patch objects>)"
      ]
     },
     "execution_count": 37,
     "metadata": {},
     "output_type": "execute_result"
    },
    {
     "data": {
      "image/png": "[encoded data removed]",
      "text/plain": [
       "<Figure size 432x288 with 1 Axes>"
      ]
     },
     "metadata": {
      "needs_background": "light"
     },
     "output_type": "display_data"
    }
   ],
   "source": [
    "plt.hist(sample_data_0['Source_following'],bins = int(180/5),range=(0,1))"
   ]
  },
  {
   "cell_type": "code",
   "execution_count": 38,
   "metadata": {},
   "outputs": [
    {
     "data": {
      "text/plain": [
       "count    355064.000000\n",
       "mean          0.031674\n",
       "std           0.098579\n",
       "min           0.006623\n",
       "25%           0.006623\n",
       "50%           0.006623\n",
       "75%           0.019868\n",
       "max           1.000000\n",
       "Name: Sink_follows, dtype: float64"
      ]
     },
     "execution_count": 38,
     "metadata": {},
     "output_type": "execute_result"
    }
   ],
   "source": [
    "sample_data_1['Sink_follows'].describe()"
   ]
  },
  {
   "cell_type": "code",
   "execution_count": 41,
   "metadata": {},
   "outputs": [
    {
     "data": {
      "text/plain": [
       "(array([3.04175e+05, 1.89210e+04, 6.80000e+03, 8.12500e+03, 4.95100e+03,\n",
       "        2.87700e+03, 1.27400e+03, 6.82000e+02, 1.79000e+02, 3.70000e+02,\n",
       "        1.87000e+02, 6.00000e+01, 5.10000e+01, 6.70000e+01, 1.60000e+01,\n",
       "        2.50000e+01, 8.60000e+01, 7.60000e+01, 8.70000e+01, 2.90000e+01,\n",
       "        1.30000e+01, 5.80000e+01, 7.20000e+01, 1.51100e+03, 1.08400e+03,\n",
       "        8.78000e+02, 6.25000e+02, 2.61000e+02, 2.89000e+02, 3.13000e+02,\n",
       "        2.45000e+02, 2.16000e+02, 1.60000e+02, 4.30000e+01, 9.80000e+01,\n",
       "        1.60000e+02]),\n",
       " array([0.        , 0.02777778, 0.05555556, 0.08333333, 0.11111111,\n",
       "        0.13888889, 0.16666667, 0.19444444, 0.22222222, 0.25      ,\n",
       "        0.27777778, 0.30555556, 0.33333333, 0.36111111, 0.38888889,\n",
       "        0.41666667, 0.44444444, 0.47222222, 0.5       , 0.52777778,\n",
       "        0.55555556, 0.58333333, 0.61111111, 0.63888889, 0.66666667,\n",
       "        0.69444444, 0.72222222, 0.75      , 0.77777778, 0.80555556,\n",
       "        0.83333333, 0.86111111, 0.88888889, 0.91666667, 0.94444444,\n",
       "        0.97222222, 1.        ]),\n",
       " <a list of 36 Patch objects>)"
      ]
     },
     "execution_count": 41,
     "metadata": {},
     "output_type": "execute_result"
    },
    {
     "data": {
      "image/png": "[encoded data removed]",
      "text/plain": [
       "<Figure size 432x288 with 1 Axes>"
      ]
     },
     "metadata": {
      "needs_background": "light"
     },
     "output_type": "display_data"
    }
   ],
   "source": [
    "plt.hist(sample_data_1['Sink_follows'],bins = int(180/5),range=(0,1))"
   ]
  },
  {
   "cell_type": "code",
   "execution_count": 40,
   "metadata": {},
   "outputs": [
    {
     "data": {
      "text/plain": [
       "count    355064.000000\n",
       "mean          0.417673\n",
       "std           0.286613\n",
       "min           0.006623\n",
       "25%           0.086093\n",
       "50%           0.635762\n",
       "75%           0.649007\n",
       "max           1.000000\n",
       "Name: Sink_follows, dtype: float64"
      ]
     },
     "execution_count": 40,
     "metadata": {},
     "output_type": "execute_result"
    }
   ],
   "source": [
    "sample_data_0['Sink_follows'].describe()"
   ]
  },
  {
   "cell_type": "code",
   "execution_count": 42,
   "metadata": {},
   "outputs": [
    {
     "data": {
      "text/plain": [
       "(array([9.02100e+03, 2.39860e+04, 4.80990e+04, 4.74070e+04, 1.09050e+04,\n",
       "        3.79700e+03, 1.24800e+03, 6.00000e+02, 3.05000e+02, 4.52000e+02,\n",
       "        2.45000e+02, 4.50000e+02, 1.28000e+02, 3.77000e+02, 4.03000e+02,\n",
       "        6.99000e+02, 3.57000e+02, 5.03000e+02, 4.25000e+02, 8.49000e+02,\n",
       "        2.43800e+03, 4.46000e+03, 2.58500e+04, 1.29195e+05, 2.15070e+04,\n",
       "        9.67000e+03, 4.73000e+03, 1.54500e+03, 1.43300e+03, 1.32700e+03,\n",
       "        8.84000e+02, 6.64000e+02, 4.44000e+02, 1.11000e+02, 2.20000e+02,\n",
       "        3.30000e+02]),\n",
       " array([0.        , 0.02777778, 0.05555556, 0.08333333, 0.11111111,\n",
       "        0.13888889, 0.16666667, 0.19444444, 0.22222222, 0.25      ,\n",
       "        0.27777778, 0.30555556, 0.33333333, 0.36111111, 0.38888889,\n",
       "        0.41666667, 0.44444444, 0.47222222, 0.5       , 0.52777778,\n",
       "        0.55555556, 0.58333333, 0.61111111, 0.63888889, 0.66666667,\n",
       "        0.69444444, 0.72222222, 0.75      , 0.77777778, 0.80555556,\n",
       "        0.83333333, 0.86111111, 0.88888889, 0.91666667, 0.94444444,\n",
       "        0.97222222, 1.        ]),\n",
       " <a list of 36 Patch objects>)"
      ]
     },
     "execution_count": 42,
     "metadata": {},
     "output_type": "execute_result"
    },
    {
     "data": {
      "image/png": "[encoded data removed]",
      "text/plain": [
       "<Figure size 432x288 with 1 Axes>"
      ]
     },
     "metadata": {
      "needs_background": "light"
     },
     "output_type": "display_data"
    }
   ],
   "source": [
    "plt.hist(sample_data_0['Sink_follows'],bins = int(180/5),range=(0,1))"
   ]
  },
  {
   "cell_type": "code",
   "execution_count": 43,
   "metadata": {},
   "outputs": [
    {
     "data": {
      "text/plain": [
       "count    355064.0\n",
       "mean          1.0\n",
       "std           0.0\n",
       "min           1.0\n",
       "25%           1.0\n",
       "50%           1.0\n",
       "75%           1.0\n",
       "max           1.0\n",
       "Name: Shortest_path, dtype: float64"
      ]
     },
     "execution_count": 43,
     "metadata": {},
     "output_type": "execute_result"
    }
   ],
   "source": [
    "sample_data_1['Shortest_path'].describe()"
   ]
  },
  {
   "cell_type": "code",
   "execution_count": 44,
   "metadata": {},
   "outputs": [
    {
     "data": {
      "text/plain": [
       "count    355064.0\n",
       "mean          1.0\n",
       "std           0.0\n",
       "min           1.0\n",
       "25%           1.0\n",
       "50%           1.0\n",
       "75%           1.0\n",
       "max           1.0\n",
       "Name: Shortest_path, dtype: float64"
      ]
     },
     "execution_count": 44,
     "metadata": {},
     "output_type": "execute_result"
    }
   ],
   "source": [
    "sample_data_0['Shortest_path'].describe()"
   ]
  },
  {
   "cell_type": "code",
   "execution_count": 45,
   "metadata": {},
   "outputs": [
    {
     "data": {
      "text/plain": [
       "count    355064.000000\n",
       "mean          0.000008\n",
       "std           0.000011\n",
       "min           0.000004\n",
       "25%           0.000004\n",
       "50%           0.000005\n",
       "75%           0.000007\n",
       "max           0.000062\n",
       "Name: PageRank_Src, dtype: float64"
      ]
     },
     "execution_count": 45,
     "metadata": {},
     "output_type": "execute_result"
    }
   ],
   "source": [
    "sample_data_1['PageRank_Src'].describe()"
   ]
  },
  {
   "cell_type": "code",
   "execution_count": 48,
   "metadata": {},
   "outputs": [
    {
     "data": {
      "text/plain": [
       "(array([2.06751e+05, 4.32580e+04, 2.92650e+04, 1.23830e+04, 1.34880e+04,\n",
       "        9.59600e+03, 3.07400e+03, 2.92000e+03, 1.80300e+03, 1.11900e+03,\n",
       "        1.46200e+04, 1.20000e+01, 2.60000e+01, 1.46200e+03, 2.11200e+03,\n",
       "        3.29000e+02, 0.00000e+00, 3.00000e+00, 1.99000e+02, 2.00000e+00,\n",
       "        1.24300e+03, 0.00000e+00, 5.40000e+01, 0.00000e+00, 0.00000e+00,\n",
       "        0.00000e+00, 9.00000e+00, 0.00000e+00, 0.00000e+00, 0.00000e+00,\n",
       "        0.00000e+00, 0.00000e+00, 0.00000e+00, 0.00000e+00, 0.00000e+00,\n",
       "        1.13360e+04]),\n",
       " array([3.52173563e-06, 5.14194009e-06, 6.76214454e-06, 8.38234899e-06,\n",
       "        1.00025534e-05, 1.16227579e-05, 1.32429624e-05, 1.48631668e-05,\n",
       "        1.64833713e-05, 1.81035757e-05, 1.97237802e-05, 2.13439846e-05,\n",
       "        2.29641891e-05, 2.45843935e-05, 2.62045980e-05, 2.78248024e-05,\n",
       "        2.94450069e-05, 3.10652113e-05, 3.26854158e-05, 3.43056202e-05,\n",
       "        3.59258247e-05, 3.75460291e-05, 3.91662336e-05, 4.07864381e-05,\n",
       "        4.24066425e-05, 4.40268470e-05, 4.56470514e-05, 4.72672559e-05,\n",
       "        4.88874603e-05, 5.05076648e-05, 5.21278692e-05, 5.37480737e-05,\n",
       "        5.53682781e-05, 5.69884826e-05, 5.86086870e-05, 6.02288915e-05,\n",
       "        6.18490959e-05]),\n",
       " <a list of 36 Patch objects>)"
      ]
     },
     "execution_count": 48,
     "metadata": {},
     "output_type": "execute_result"
    },
    {
     "data": {
      "image/png": "[encoded data removed]",
      "text/plain": [
       "<Figure size 432x288 with 1 Axes>"
      ]
     },
     "metadata": {
      "needs_background": "light"
     },
     "output_type": "display_data"
    }
   ],
   "source": [
    "plt.hist(sample_data_1['PageRank_Src'],bins = int(180/5))"
   ]
  },
  {
   "cell_type": "code",
   "execution_count": 46,
   "metadata": {},
   "outputs": [
    {
     "data": {
      "text/plain": [
       "count    355064.000000\n",
       "mean          0.000014\n",
       "std           0.000015\n",
       "min           0.000004\n",
       "25%           0.000005\n",
       "50%           0.000009\n",
       "75%           0.000017\n",
       "max           0.000062\n",
       "Name: PageRank_Src, dtype: float64"
      ]
     },
     "execution_count": 46,
     "metadata": {},
     "output_type": "execute_result"
    }
   ],
   "source": [
    "sample_data_0['PageRank_Src'].describe()"
   ]
  },
  {
   "cell_type": "code",
   "execution_count": 49,
   "metadata": {},
   "outputs": [
    {
     "data": {
      "text/plain": [
       "(array([95934., 23180., 55210., 26313., 25797., 19396.,  3941.,  7553.,\n",
       "        20019., 19830.,     0.,     0.,  1926., 10478.,     0.,  1921.,\n",
       "            0.,     0.,  1939.,     0.,  1927.,     0., 17617.,     0.,\n",
       "            0.,     0.,  1846.,     0.,     0.,     0.,     0.,     0.,\n",
       "            0.,     0.,     0., 20237.]),\n",
       " array([3.52173563e-06, 5.14194009e-06, 6.76214454e-06, 8.38234899e-06,\n",
       "        1.00025534e-05, 1.16227579e-05, 1.32429624e-05, 1.48631668e-05,\n",
       "        1.64833713e-05, 1.81035757e-05, 1.97237802e-05, 2.13439846e-05,\n",
       "        2.29641891e-05, 2.45843935e-05, 2.62045980e-05, 2.78248024e-05,\n",
       "        2.94450069e-05, 3.10652113e-05, 3.26854158e-05, 3.43056202e-05,\n",
       "        3.59258247e-05, 3.75460291e-05, 3.91662336e-05, 4.07864381e-05,\n",
       "        4.24066425e-05, 4.40268470e-05, 4.56470514e-05, 4.72672559e-05,\n",
       "        4.88874603e-05, 5.05076648e-05, 5.21278692e-05, 5.37480737e-05,\n",
       "        5.53682781e-05, 5.69884826e-05, 5.86086870e-05, 6.02288915e-05,\n",
       "        6.18490959e-05]),\n",
       " <a list of 36 Patch objects>)"
      ]
     },
     "execution_count": 49,
     "metadata": {},
     "output_type": "execute_result"
    },
    {
     "data": {
      "image/png": "[encoded data removed]",
      "text/plain": [
       "<Figure size 432x288 with 1 Axes>"
      ]
     },
     "metadata": {
      "needs_background": "light"
     },
     "output_type": "display_data"
    }
   ],
   "source": [
    "plt.hist(sample_data_0['PageRank_Src'],bins = int(180/5))"
   ]
  },
  {
   "cell_type": "code",
   "execution_count": 50,
   "metadata": {},
   "outputs": [
    {
     "data": {
      "text/plain": [
       "count    355064.000000\n",
       "mean          0.000004\n",
       "std           0.000002\n",
       "min           0.000004\n",
       "25%           0.000004\n",
       "50%           0.000004\n",
       "75%           0.000004\n",
       "max           0.000062\n",
       "Name: PageRank_Sink, dtype: float64"
      ]
     },
     "execution_count": 50,
     "metadata": {},
     "output_type": "execute_result"
    }
   ],
   "source": [
    "sample_data_1['PageRank_Sink'].describe()"
   ]
  },
  {
   "cell_type": "code",
   "execution_count": 52,
   "metadata": {},
   "outputs": [
    {
     "data": {
      "text/plain": [
       "(array([3.345e+05, 9.876e+03, 3.846e+03, 1.667e+03, 1.089e+03, 8.960e+02,\n",
       "        4.890e+02, 6.130e+02, 3.510e+02, 1.990e+02, 2.080e+02, 1.220e+02,\n",
       "        1.480e+02, 1.230e+02, 2.840e+02, 1.620e+02, 0.000e+00, 4.300e+01,\n",
       "        6.500e+01, 4.100e+01, 7.800e+01, 5.600e+01, 2.600e+01, 0.000e+00,\n",
       "        0.000e+00, 0.000e+00, 5.100e+01, 0.000e+00, 0.000e+00, 0.000e+00,\n",
       "        0.000e+00, 0.000e+00, 0.000e+00, 0.000e+00, 5.600e+01, 7.500e+01]),\n",
       " array([3.52184185e-06, 5.14204336e-06, 6.76224486e-06, 8.38244636e-06,\n",
       "        1.00026479e-05, 1.16228494e-05, 1.32430509e-05, 1.48632524e-05,\n",
       "        1.64834539e-05, 1.81036554e-05, 1.97238569e-05, 2.13440584e-05,\n",
       "        2.29642599e-05, 2.45844614e-05, 2.62046629e-05, 2.78248644e-05,\n",
       "        2.94450659e-05, 3.10652674e-05, 3.26854689e-05, 3.43056704e-05,\n",
       "        3.59258719e-05, 3.75460734e-05, 3.91662749e-05, 4.07864764e-05,\n",
       "        4.24066779e-05, 4.40268794e-05, 4.56470809e-05, 4.72672824e-05,\n",
       "        4.88874839e-05, 5.05076854e-05, 5.21278869e-05, 5.37480884e-05,\n",
       "        5.53682899e-05, 5.69884914e-05, 5.86086929e-05, 6.02288944e-05,\n",
       "        6.18490959e-05]),\n",
       " <a list of 36 Patch objects>)"
      ]
     },
     "execution_count": 52,
     "metadata": {},
     "output_type": "execute_result"
    },
    {
     "data": {
      "image/png": "[encoded data removed]",
      "text/plain": [
       "<Figure size 432x288 with 1 Axes>"
      ]
     },
     "metadata": {
      "needs_background": "light"
     },
     "output_type": "display_data"
    }
   ],
   "source": [
    "plt.hist(sample_data_1['PageRank_Sink'],bins = int(180/5))"
   ]
  },
  {
   "cell_type": "code",
   "execution_count": 51,
   "metadata": {},
   "outputs": [
    {
     "data": {
      "text/plain": [
       "count    355064.000000\n",
       "mean          0.000005\n",
       "std           0.000003\n",
       "min           0.000004\n",
       "25%           0.000004\n",
       "50%           0.000004\n",
       "75%           0.000005\n",
       "max           0.000062\n",
       "Name: PageRank_Sink, dtype: float64"
      ]
     },
     "execution_count": 51,
     "metadata": {},
     "output_type": "execute_result"
    }
   ],
   "source": [
    "sample_data_0['PageRank_Sink'].describe()"
   ]
  },
  {
   "cell_type": "code",
   "execution_count": 53,
   "metadata": {},
   "outputs": [
    {
     "data": {
      "text/plain": [
       "(array([2.82165e+05, 2.93230e+04, 2.03850e+04, 7.32100e+03, 3.46800e+03,\n",
       "        3.62900e+03, 1.61900e+03, 2.26300e+03, 1.15000e+03, 6.18000e+02,\n",
       "        6.79000e+02, 2.50000e+02, 2.86000e+02, 3.63000e+02, 5.00000e+02,\n",
       "        4.19000e+02, 0.00000e+00, 1.11000e+02, 1.78000e+02, 1.40000e+01,\n",
       "        7.90000e+01, 1.30000e+01, 9.00000e+00, 0.00000e+00, 0.00000e+00,\n",
       "        0.00000e+00, 1.09000e+02, 0.00000e+00, 0.00000e+00, 0.00000e+00,\n",
       "        0.00000e+00, 0.00000e+00, 0.00000e+00, 0.00000e+00, 1.09000e+02,\n",
       "        4.00000e+00]),\n",
       " array([3.52184185e-06, 5.14204336e-06, 6.76224486e-06, 8.38244636e-06,\n",
       "        1.00026479e-05, 1.16228494e-05, 1.32430509e-05, 1.48632524e-05,\n",
       "        1.64834539e-05, 1.81036554e-05, 1.97238569e-05, 2.13440584e-05,\n",
       "        2.29642599e-05, 2.45844614e-05, 2.62046629e-05, 2.78248644e-05,\n",
       "        2.94450659e-05, 3.10652674e-05, 3.26854689e-05, 3.43056704e-05,\n",
       "        3.59258719e-05, 3.75460734e-05, 3.91662749e-05, 4.07864764e-05,\n",
       "        4.24066779e-05, 4.40268794e-05, 4.56470809e-05, 4.72672824e-05,\n",
       "        4.88874839e-05, 5.05076854e-05, 5.21278869e-05, 5.37480884e-05,\n",
       "        5.53682899e-05, 5.69884914e-05, 5.86086929e-05, 6.02288944e-05,\n",
       "        6.18490959e-05]),\n",
       " <a list of 36 Patch objects>)"
      ]
     },
     "execution_count": 53,
     "metadata": {},
     "output_type": "execute_result"
    },
    {
     "data": {
      "image/png": "[encoded data removed]",
      "text/plain": [
       "<Figure size 432x288 with 1 Axes>"
      ]
     },
     "metadata": {
      "needs_background": "light"
     },
     "output_type": "display_data"
    }
   ],
   "source": [
    "plt.hist(sample_data_0['PageRank_Sink'],bins = int(180/5))"
   ]
  },
  {
   "cell_type": "code",
   "execution_count": 54,
   "metadata": {},
   "outputs": [
    {
     "data": {
      "text/plain": [
       "count    3.550640e+05\n",
       "mean     7.780026e-03\n",
       "std      9.496101e-03\n",
       "min      3.538903e-17\n",
       "25%      1.345339e-03\n",
       "50%      2.535056e-03\n",
       "75%      2.154742e-02\n",
       "max      3.009166e-02\n",
       "Name: Centrality_Sour, dtype: float64"
      ]
     },
     "execution_count": 54,
     "metadata": {},
     "output_type": "execute_result"
    }
   ],
   "source": [
    "sample_data_1['Centrality_Sour'].describe()"
   ]
  },
  {
   "cell_type": "code",
   "execution_count": 56,
   "metadata": {},
   "outputs": [
    {
     "data": {
      "text/plain": [
       "(array([2.01150e+04, 1.00206e+05, 5.64400e+04, 4.14740e+04, 1.76480e+04,\n",
       "        5.55900e+03, 9.15200e+03, 1.15050e+04, 3.00000e+00, 3.10000e+01,\n",
       "        4.60000e+01, 0.00000e+00, 1.28800e+03, 5.00000e+00, 5.00000e+00,\n",
       "        3.44000e+02, 2.41000e+02, 7.00000e+00, 1.00000e+01, 1.80000e+01,\n",
       "        1.12000e+02, 3.40000e+01, 1.30000e+01, 7.80000e+01, 7.80000e+01,\n",
       "        5.65800e+03, 1.60020e+04, 2.56390e+04, 1.30880e+04, 9.56600e+03,\n",
       "        7.59200e+03, 1.03600e+04, 2.22300e+03, 5.23000e+02, 0.00000e+00,\n",
       "        1.00000e+00]),\n",
       " array([3.53890348e-17, 8.35879405e-04, 1.67175881e-03, 2.50763822e-03,\n",
       "        3.34351762e-03, 4.17939703e-03, 5.01527643e-03, 5.85115584e-03,\n",
       "        6.68703524e-03, 7.52291465e-03, 8.35879405e-03, 9.19467346e-03,\n",
       "        1.00305529e-02, 1.08664323e-02, 1.17023117e-02, 1.25381911e-02,\n",
       "        1.33740705e-02, 1.42099499e-02, 1.50458293e-02, 1.58817087e-02,\n",
       "        1.67175881e-02, 1.75534675e-02, 1.83893469e-02, 1.92252263e-02,\n",
       "        2.00611057e-02, 2.08969851e-02, 2.17328645e-02, 2.25687439e-02,\n",
       "        2.34046233e-02, 2.42405027e-02, 2.50763822e-02, 2.59122616e-02,\n",
       "        2.67481410e-02, 2.75840204e-02, 2.84198998e-02, 2.92557792e-02,\n",
       "        3.00916586e-02]),\n",
       " <a list of 36 Patch objects>)"
      ]
     },
     "execution_count": 56,
     "metadata": {},
     "output_type": "execute_result"
    },
    {
     "data": {
      "image/png": "[encoded data removed]",
      "text/plain": [
       "<Figure size 432x288 with 1 Axes>"
      ]
     },
     "metadata": {
      "needs_background": "light"
     },
     "output_type": "display_data"
    }
   ],
   "source": [
    "plt.hist(sample_data_1['Centrality_Sour'],bins = int(180/5))"
   ]
  },
  {
   "cell_type": "code",
   "execution_count": 55,
   "metadata": {},
   "outputs": [
    {
     "data": {
      "text/plain": [
       "count    3.550640e+05\n",
       "mean     5.908988e-03\n",
       "std      4.795343e-03\n",
       "min      3.538903e-17\n",
       "25%      2.378972e-03\n",
       "50%      4.303865e-03\n",
       "75%      6.593607e-03\n",
       "max      2.515873e-02\n",
       "Name: Centrality_Sour, dtype: float64"
      ]
     },
     "execution_count": 55,
     "metadata": {},
     "output_type": "execute_result"
    }
   ],
   "source": [
    "sample_data_0['Centrality_Sour'].describe()"
   ]
  },
  {
   "cell_type": "code",
   "execution_count": 57,
   "metadata": {},
   "outputs": [
    {
     "data": {
      "text/plain": [
       "(array([ 8383., 23620., 41328., 21770., 21869., 45391., 31175., 33448.,\n",
       "        16331., 27935.,  5781.,  9638.,  9639.,     0.,     0.,  3835.,\n",
       "         5736.,  3831.,  7553.,  7666.,  1884.,  5596.,  3808.,  1864.,\n",
       "         3799.,  1905.,  1900.,     0.,  3804.,     0.,  1852.,  1877.,\n",
       "            0.,     0.,     0.,  1846.]),\n",
       " array([3.53890348e-17, 6.98853536e-04, 1.39770707e-03, 2.09656061e-03,\n",
       "        2.79541414e-03, 3.49426768e-03, 4.19312121e-03, 4.89197475e-03,\n",
       "        5.59082829e-03, 6.28968182e-03, 6.98853536e-03, 7.68738889e-03,\n",
       "        8.38624243e-03, 9.08509597e-03, 9.78394950e-03, 1.04828030e-02,\n",
       "        1.11816566e-02, 1.18805101e-02, 1.25793636e-02, 1.32782172e-02,\n",
       "        1.39770707e-02, 1.46759243e-02, 1.53747778e-02, 1.60736313e-02,\n",
       "        1.67724849e-02, 1.74713384e-02, 1.81701919e-02, 1.88690455e-02,\n",
       "        1.95678990e-02, 2.02667525e-02, 2.09656061e-02, 2.16644596e-02,\n",
       "        2.23633131e-02, 2.30621667e-02, 2.37610202e-02, 2.44598738e-02,\n",
       "        2.51587273e-02]),\n",
       " <a list of 36 Patch objects>)"
      ]
     },
     "execution_count": 57,
     "metadata": {},
     "output_type": "execute_result"
    },
    {
     "data": {
      "image/png": "[encoded data removed]",
      "text/plain": [
       "<Figure size 432x288 with 1 Axes>"
      ]
     },
     "metadata": {
      "needs_background": "light"
     },
     "output_type": "display_data"
    }
   ],
   "source": [
    "plt.hist(sample_data_0['Centrality_Sour'],bins = int(180/5))"
   ]
  },
  {
   "cell_type": "code",
   "execution_count": 58,
   "metadata": {},
   "outputs": [
    {
     "data": {
      "text/plain": [
       "count    3.550640e+05\n",
       "mean     8.647115e-04\n",
       "std      3.015016e-03\n",
       "min      3.538903e-16\n",
       "25%      5.809327e-05\n",
       "50%      1.760344e-04\n",
       "75%      7.062701e-04\n",
       "max      3.009166e-02\n",
       "Name: Centrality_Sink, dtype: float64"
      ]
     },
     "execution_count": 58,
     "metadata": {},
     "output_type": "execute_result"
    }
   ],
   "source": [
    "sample_data_1['Centrality_Sink'].describe()"
   ]
  },
  {
   "cell_type": "code",
   "execution_count": 60,
   "metadata": {},
   "outputs": [
    {
     "data": {
      "text/plain": [
       "(array([2.98073e+05, 3.46470e+04, 1.04450e+04, 3.55800e+03, 1.17300e+03,\n",
       "        5.30000e+02, 1.87000e+02, 1.42000e+02, 6.10000e+01, 6.60000e+01,\n",
       "        3.70000e+01, 0.00000e+00, 6.60000e+01, 2.40000e+01, 2.00000e+00,\n",
       "        4.40000e+01, 4.50000e+01, 2.00000e+01, 1.00000e+00, 3.00000e+00,\n",
       "        0.00000e+00, 3.00000e+00, 2.00000e+00, 1.20000e+01, 3.40000e+01,\n",
       "        4.30000e+02, 1.87500e+03, 1.43300e+03, 7.61000e+02, 5.03000e+02,\n",
       "        3.79000e+02, 3.30000e+02, 8.20000e+01, 6.90000e+01, 0.00000e+00,\n",
       "        2.70000e+01]),\n",
       " array([3.53890348e-16, 8.35879405e-04, 1.67175881e-03, 2.50763822e-03,\n",
       "        3.34351762e-03, 4.17939703e-03, 5.01527643e-03, 5.85115584e-03,\n",
       "        6.68703524e-03, 7.52291465e-03, 8.35879405e-03, 9.19467346e-03,\n",
       "        1.00305529e-02, 1.08664323e-02, 1.17023117e-02, 1.25381911e-02,\n",
       "        1.33740705e-02, 1.42099499e-02, 1.50458293e-02, 1.58817087e-02,\n",
       "        1.67175881e-02, 1.75534675e-02, 1.83893469e-02, 1.92252263e-02,\n",
       "        2.00611057e-02, 2.08969851e-02, 2.17328645e-02, 2.25687439e-02,\n",
       "        2.34046233e-02, 2.42405027e-02, 2.50763822e-02, 2.59122616e-02,\n",
       "        2.67481410e-02, 2.75840204e-02, 2.84198998e-02, 2.92557792e-02,\n",
       "        3.00916586e-02]),\n",
       " <a list of 36 Patch objects>)"
      ]
     },
     "execution_count": 60,
     "metadata": {},
     "output_type": "execute_result"
    },
    {
     "data": {
      "image/png": "[encoded data removed]",
      "text/plain": [
       "<Figure size 432x288 with 1 Axes>"
      ]
     },
     "metadata": {
      "needs_background": "light"
     },
     "output_type": "display_data"
    }
   ],
   "source": [
    "plt.hist(sample_data_1['Centrality_Sink'],bins = int(180/5))"
   ]
  },
  {
   "cell_type": "code",
   "execution_count": 61,
   "metadata": {},
   "outputs": [
    {
     "data": {
      "text/plain": [
       "count    3.550640e+05\n",
       "mean     1.332694e-02\n",
       "std      1.025843e-02\n",
       "min      3.538903e-16\n",
       "25%      1.184472e-03\n",
       "50%      2.149581e-02\n",
       "75%      2.178813e-02\n",
       "max      3.009166e-02\n",
       "Name: Centrality_Sink, dtype: float64"
      ]
     },
     "execution_count": 61,
     "metadata": {},
     "output_type": "execute_result"
    }
   ],
   "source": [
    "sample_data_0['Centrality_Sink'].describe()"
   ]
  },
  {
   "cell_type": "code",
   "execution_count": 62,
   "metadata": {},
   "outputs": [
    {
     "data": {
      "text/plain": [
       "(array([36351., 85222., 18148.,  4291.,  1236.,   827.,   380.,   254.,\n",
       "          272.,   290.,   502.,     0.,   179.,   291.,   176.,   490.,\n",
       "          249.,   410.,   456.,   469.,   446.,   438.,  1514.,  2277.,\n",
       "         4912., 88309., 70923., 20863.,  7486.,  3647.,  1658.,  1434.,\n",
       "          332.,   221.,     0.,   111.]),\n",
       " array([3.53890348e-16, 8.35879405e-04, 1.67175881e-03, 2.50763822e-03,\n",
       "        3.34351762e-03, 4.17939703e-03, 5.01527643e-03, 5.85115584e-03,\n",
       "        6.68703524e-03, 7.52291465e-03, 8.35879405e-03, 9.19467346e-03,\n",
       "        1.00305529e-02, 1.08664323e-02, 1.17023117e-02, 1.25381911e-02,\n",
       "        1.33740705e-02, 1.42099499e-02, 1.50458293e-02, 1.58817087e-02,\n",
       "        1.67175881e-02, 1.75534675e-02, 1.83893469e-02, 1.92252263e-02,\n",
       "        2.00611057e-02, 2.08969851e-02, 2.17328645e-02, 2.25687439e-02,\n",
       "        2.34046233e-02, 2.42405027e-02, 2.50763822e-02, 2.59122616e-02,\n",
       "        2.67481410e-02, 2.75840204e-02, 2.84198998e-02, 2.92557792e-02,\n",
       "        3.00916586e-02]),\n",
       " <a list of 36 Patch objects>)"
      ]
     },
     "execution_count": 62,
     "metadata": {},
     "output_type": "execute_result"
    },
    {
     "data": {
      "image/png": "[encoded data removed]",
      "text/plain": [
       "<Figure size 432x288 with 1 Axes>"
      ]
     },
     "metadata": {
      "needs_background": "light"
     },
     "output_type": "display_data"
    }
   ],
   "source": [
    "plt.hist(sample_data_0['Centrality_Sink'],bins = int(180/5))"
   ]
  },
  {
   "cell_type": "code",
   "execution_count": null,
   "metadata": {},
   "outputs": [],
   "source": []
  }
 ],
 "metadata": {
  "kernelspec": {
   "display_name": "Python 3",
   "language": "python",
   "name": "python3"
  },
  "language_info": {
   "codemirror_mode": {
    "name": "ipython",
    "version": 3
   },
   "file_extension": ".py",
   "mimetype": "text/x-python",
   "name": "python",
   "nbconvert_exporter": "python",
   "pygments_lexer": "ipython3",
   "version": "3.8.3"
  }
 },
 "nbformat": 4,
 "nbformat_minor": 4
}
