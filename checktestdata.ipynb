{
 "cells": [
  {
   "cell_type": "code",
   "execution_count": 1,
   "metadata": {},
   "outputs": [],
   "source": [
    "import numpy as np\n",
    "import pandas as pd\n",
    "import matplotlib.pyplot as plt\n",
    "import seaborn as sns\n",
    "import networkx as nx\n",
    "import pickle"
   ]
  },
  {
   "cell_type": "code",
   "execution_count": 3,
   "metadata": {},
   "outputs": [],
   "source": [
    "test_data=pd.read_csv(\"test-public.txt\",sep='\\t')"
   ]
  },
  {
   "cell_type": "code",
   "execution_count": 4,
   "metadata": {},
   "outputs": [
    {
     "data": {
      "text/html": [
       "<div>\n",
       "<style scoped>\n",
       "    .dataframe tbody tr th:only-of-type {\n",
       "        vertical-align: middle;\n",
       "    }\n",
       "\n",
       "    .dataframe tbody tr th {\n",
       "        vertical-align: top;\n",
       "    }\n",
       "\n",
       "    .dataframe thead th {\n",
       "        text-align: right;\n",
       "    }\n",
       "</style>\n",
       "<table border=\"1\" class=\"dataframe\">\n",
       "  <thead>\n",
       "    <tr style=\"text-align: right;\">\n",
       "      <th></th>\n",
       "      <th>Id</th>\n",
       "      <th>Source</th>\n",
       "      <th>Sink</th>\n",
       "    </tr>\n",
       "  </thead>\n",
       "  <tbody>\n",
       "    <tr>\n",
       "      <th>0</th>\n",
       "      <td>1</td>\n",
       "      <td>3563811</td>\n",
       "      <td>3600160</td>\n",
       "    </tr>\n",
       "    <tr>\n",
       "      <th>1</th>\n",
       "      <td>2</td>\n",
       "      <td>2052043</td>\n",
       "      <td>1401960</td>\n",
       "    </tr>\n",
       "    <tr>\n",
       "      <th>2</th>\n",
       "      <td>3</td>\n",
       "      <td>4517994</td>\n",
       "      <td>1690636</td>\n",
       "    </tr>\n",
       "    <tr>\n",
       "      <th>3</th>\n",
       "      <td>4</td>\n",
       "      <td>1660006</td>\n",
       "      <td>4349447</td>\n",
       "    </tr>\n",
       "    <tr>\n",
       "      <th>4</th>\n",
       "      <td>5</td>\n",
       "      <td>581111</td>\n",
       "      <td>1882617</td>\n",
       "    </tr>\n",
       "    <tr>\n",
       "      <th>...</th>\n",
       "      <td>...</td>\n",
       "      <td>...</td>\n",
       "      <td>...</td>\n",
       "    </tr>\n",
       "    <tr>\n",
       "      <th>1995</th>\n",
       "      <td>1996</td>\n",
       "      <td>1461386</td>\n",
       "      <td>2341683</td>\n",
       "    </tr>\n",
       "    <tr>\n",
       "      <th>1996</th>\n",
       "      <td>1997</td>\n",
       "      <td>4057755</td>\n",
       "      <td>1871227</td>\n",
       "    </tr>\n",
       "    <tr>\n",
       "      <th>1997</th>\n",
       "      <td>1998</td>\n",
       "      <td>4242514</td>\n",
       "      <td>1413468</td>\n",
       "    </tr>\n",
       "    <tr>\n",
       "      <th>1998</th>\n",
       "      <td>1999</td>\n",
       "      <td>555531</td>\n",
       "      <td>1290080</td>\n",
       "    </tr>\n",
       "    <tr>\n",
       "      <th>1999</th>\n",
       "      <td>2000</td>\n",
       "      <td>1707829</td>\n",
       "      <td>2373045</td>\n",
       "    </tr>\n",
       "  </tbody>\n",
       "</table>\n",
       "<p>2000 rows × 3 columns</p>\n",
       "</div>"
      ],
      "text/plain": [
       "        Id   Source     Sink\n",
       "0        1  3563811  3600160\n",
       "1        2  2052043  1401960\n",
       "2        3  4517994  1690636\n",
       "3        4  1660006  4349447\n",
       "4        5   581111  1882617\n",
       "...    ...      ...      ...\n",
       "1995  1996  1461386  2341683\n",
       "1996  1997  4057755  1871227\n",
       "1997  1998  4242514  1413468\n",
       "1998  1999   555531  1290080\n",
       "1999  2000  1707829  2373045\n",
       "\n",
       "[2000 rows x 3 columns]"
      ]
     },
     "execution_count": 4,
     "metadata": {},
     "output_type": "execute_result"
    }
   ],
   "source": [
    "test_data"
   ]
  },
  {
   "cell_type": "code",
   "execution_count": 5,
   "metadata": {},
   "outputs": [],
   "source": [
    "train_data=pd.read_csv(\"train.txt\", delimiter=\",\", header=None,names=['Neighbours'],index_col=False)"
   ]
  },
  {
   "cell_type": "code",
   "execution_count": 6,
   "metadata": {},
   "outputs": [],
   "source": [
    "train_data['ID']=train_data['Neighbours'].apply(lambda x: x.split('\\t')[0])  # Get the ID"
   ]
  },
  {
   "cell_type": "code",
   "execution_count": 7,
   "metadata": {},
   "outputs": [],
   "source": [
    "train_data['Neighbours']=train_data['Neighbours'].apply(lambda x: x.split('\\t')[1:])# set up the neighbours"
   ]
  },
  {
   "cell_type": "code",
   "execution_count": 8,
   "metadata": {},
   "outputs": [],
   "source": [
    "train_data=train_data[[\"ID\",\"Neighbours\"]] # set \"ID\" as the index"
   ]
  },
  {
   "cell_type": "code",
   "execution_count": 9,
   "metadata": {},
   "outputs": [
    {
     "data": {
      "text/html": [
       "<div>\n",
       "<style scoped>\n",
       "    .dataframe tbody tr th:only-of-type {\n",
       "        vertical-align: middle;\n",
       "    }\n",
       "\n",
       "    .dataframe tbody tr th {\n",
       "        vertical-align: top;\n",
       "    }\n",
       "\n",
       "    .dataframe thead th {\n",
       "        text-align: right;\n",
       "    }\n",
       "</style>\n",
       "<table border=\"1\" class=\"dataframe\">\n",
       "  <thead>\n",
       "    <tr style=\"text-align: right;\">\n",
       "      <th></th>\n",
       "      <th>ID</th>\n",
       "      <th>Neighbours</th>\n",
       "    </tr>\n",
       "  </thead>\n",
       "  <tbody>\n",
       "    <tr>\n",
       "      <th>0</th>\n",
       "      <td>540762</td>\n",
       "      <td>[1912140, 1537559, 3091331, 2757277, 3237295, ...</td>\n",
       "    </tr>\n",
       "    <tr>\n",
       "      <th>1</th>\n",
       "      <td>2129843</td>\n",
       "      <td>[65840, 3414168, 4523797, 2851163, 4321895, 13...</td>\n",
       "    </tr>\n",
       "    <tr>\n",
       "      <th>2</th>\n",
       "      <td>3361377</td>\n",
       "      <td>[955840, 3342058, 1536902, 1850727, 1504632, 1...</td>\n",
       "    </tr>\n",
       "    <tr>\n",
       "      <th>3</th>\n",
       "      <td>1199298</td>\n",
       "      <td>[2300061, 2635670, 2803600, 744722, 881446, 28...</td>\n",
       "    </tr>\n",
       "    <tr>\n",
       "      <th>4</th>\n",
       "      <td>1392121</td>\n",
       "      <td>[3845572, 546016, 4361302, 678461, 4294597, 24...</td>\n",
       "    </tr>\n",
       "    <tr>\n",
       "      <th>...</th>\n",
       "      <td>...</td>\n",
       "      <td>...</td>\n",
       "    </tr>\n",
       "    <tr>\n",
       "      <th>19995</th>\n",
       "      <td>585576</td>\n",
       "      <td>[660302, 3279973, 2094235, 2355188, 1296935, 3...</td>\n",
       "    </tr>\n",
       "    <tr>\n",
       "      <th>19996</th>\n",
       "      <td>505961</td>\n",
       "      <td>[3875645, 2148630, 4288909, 4011139, 340232, 1...</td>\n",
       "    </tr>\n",
       "    <tr>\n",
       "      <th>19997</th>\n",
       "      <td>125824</td>\n",
       "      <td>[54421, 868022, 385000, 2050130, 3446665, 2040...</td>\n",
       "    </tr>\n",
       "    <tr>\n",
       "      <th>19998</th>\n",
       "      <td>896087</td>\n",
       "      <td>[431577, 1007572, 499457, 3642500, 3734728, 28...</td>\n",
       "    </tr>\n",
       "    <tr>\n",
       "      <th>19999</th>\n",
       "      <td>3547024</td>\n",
       "      <td>[2888992, 179459, 492114, 2418495, 2235094, 14...</td>\n",
       "    </tr>\n",
       "  </tbody>\n",
       "</table>\n",
       "<p>20000 rows × 2 columns</p>\n",
       "</div>"
      ],
      "text/plain": [
       "            ID                                         Neighbours\n",
       "0       540762  [1912140, 1537559, 3091331, 2757277, 3237295, ...\n",
       "1      2129843  [65840, 3414168, 4523797, 2851163, 4321895, 13...\n",
       "2      3361377  [955840, 3342058, 1536902, 1850727, 1504632, 1...\n",
       "3      1199298  [2300061, 2635670, 2803600, 744722, 881446, 28...\n",
       "4      1392121  [3845572, 546016, 4361302, 678461, 4294597, 24...\n",
       "...        ...                                                ...\n",
       "19995   585576  [660302, 3279973, 2094235, 2355188, 1296935, 3...\n",
       "19996   505961  [3875645, 2148630, 4288909, 4011139, 340232, 1...\n",
       "19997   125824  [54421, 868022, 385000, 2050130, 3446665, 2040...\n",
       "19998   896087  [431577, 1007572, 499457, 3642500, 3734728, 28...\n",
       "19999  3547024  [2888992, 179459, 492114, 2418495, 2235094, 14...\n",
       "\n",
       "[20000 rows x 2 columns]"
      ]
     },
     "execution_count": 9,
     "metadata": {},
     "output_type": "execute_result"
    }
   ],
   "source": [
    "num_source=train_data.shape[0]\n",
    "sink=train_data.iloc[0,]\n",
    "len_sink=len(sink)\n",
    "train_data"
   ]
  },
  {
   "cell_type": "code",
   "execution_count": 10,
   "metadata": {},
   "outputs": [],
   "source": [
    "train_source=train_data['ID'].iloc[:].values"
   ]
  },
  {
   "cell_type": "code",
   "execution_count": 11,
   "metadata": {},
   "outputs": [],
   "source": [
    "test_source=test_data['Source'].iloc[:].values"
   ]
  },
  {
   "cell_type": "code",
   "execution_count": 12,
   "metadata": {},
   "outputs": [],
   "source": [
    "intrainsource=[]\n",
    "for i in test_source:\n",
    "    if str(i) in train_source:\n",
    "        intrainsource.append(1)\n",
    "    else:\n",
    "        intrainsource.append(0)"
   ]
  },
  {
   "cell_type": "code",
   "execution_count": 13,
   "metadata": {},
   "outputs": [
    {
     "data": {
      "text/plain": [
       "2000"
      ]
     },
     "execution_count": 13,
     "metadata": {},
     "output_type": "execute_result"
    }
   ],
   "source": [
    "np.count_nonzero(intrainsource)"
   ]
  },
  {
   "cell_type": "raw",
   "metadata": {},
   "source": [
    "file = open(\"test_source.txt\",\"w+\") \n",
    "for i in test_source:\n",
    "    file.write(str(i)+'\\n') "
   ]
  },
  {
   "cell_type": "raw",
   "metadata": {},
   "source": [
    "file = open(\"train_source.txt\",\"w+\") \n",
    "for i in train_source:\n",
    "    file.write(i+'\\n')"
   ]
  },
  {
   "cell_type": "code",
   "execution_count": 14,
   "metadata": {},
   "outputs": [],
   "source": [
    "test_sink=test_data['Sink'].iloc[:].values"
   ]
  },
  {
   "cell_type": "code",
   "execution_count": 15,
   "metadata": {},
   "outputs": [],
   "source": [
    "testsinkintrainsource=[]\n",
    "for i in test_sink:\n",
    "    if str(i) in train_source:\n",
    "        testsinkintrainsource.append(1)\n",
    "    else:\n",
    "        testsinkintrainsource.append(0)"
   ]
  },
  {
   "cell_type": "code",
   "execution_count": 16,
   "metadata": {},
   "outputs": [
    {
     "data": {
      "text/plain": [
       "376"
      ]
     },
     "execution_count": 16,
     "metadata": {},
     "output_type": "execute_result"
    }
   ],
   "source": [
    "np.count_nonzero(testsinkintrainsource)"
   ]
  },
  {
   "cell_type": "code",
   "execution_count": 17,
   "metadata": {},
   "outputs": [],
   "source": [
    "test_data['sinkInTrainSource']=testsinkintrainsource"
   ]
  },
  {
   "cell_type": "code",
   "execution_count": 18,
   "metadata": {},
   "outputs": [
    {
     "data": {
      "text/html": [
       "<div>\n",
       "<style scoped>\n",
       "    .dataframe tbody tr th:only-of-type {\n",
       "        vertical-align: middle;\n",
       "    }\n",
       "\n",
       "    .dataframe tbody tr th {\n",
       "        vertical-align: top;\n",
       "    }\n",
       "\n",
       "    .dataframe thead th {\n",
       "        text-align: right;\n",
       "    }\n",
       "</style>\n",
       "<table border=\"1\" class=\"dataframe\">\n",
       "  <thead>\n",
       "    <tr style=\"text-align: right;\">\n",
       "      <th></th>\n",
       "      <th>Id</th>\n",
       "      <th>Source</th>\n",
       "      <th>Sink</th>\n",
       "      <th>sinkInTrainSource</th>\n",
       "    </tr>\n",
       "  </thead>\n",
       "  <tbody>\n",
       "    <tr>\n",
       "      <th>0</th>\n",
       "      <td>1</td>\n",
       "      <td>3563811</td>\n",
       "      <td>3600160</td>\n",
       "      <td>0</td>\n",
       "    </tr>\n",
       "    <tr>\n",
       "      <th>1</th>\n",
       "      <td>2</td>\n",
       "      <td>2052043</td>\n",
       "      <td>1401960</td>\n",
       "      <td>0</td>\n",
       "    </tr>\n",
       "    <tr>\n",
       "      <th>2</th>\n",
       "      <td>3</td>\n",
       "      <td>4517994</td>\n",
       "      <td>1690636</td>\n",
       "      <td>0</td>\n",
       "    </tr>\n",
       "    <tr>\n",
       "      <th>3</th>\n",
       "      <td>4</td>\n",
       "      <td>1660006</td>\n",
       "      <td>4349447</td>\n",
       "      <td>0</td>\n",
       "    </tr>\n",
       "    <tr>\n",
       "      <th>4</th>\n",
       "      <td>5</td>\n",
       "      <td>581111</td>\n",
       "      <td>1882617</td>\n",
       "      <td>0</td>\n",
       "    </tr>\n",
       "    <tr>\n",
       "      <th>...</th>\n",
       "      <td>...</td>\n",
       "      <td>...</td>\n",
       "      <td>...</td>\n",
       "      <td>...</td>\n",
       "    </tr>\n",
       "    <tr>\n",
       "      <th>1995</th>\n",
       "      <td>1996</td>\n",
       "      <td>1461386</td>\n",
       "      <td>2341683</td>\n",
       "      <td>0</td>\n",
       "    </tr>\n",
       "    <tr>\n",
       "      <th>1996</th>\n",
       "      <td>1997</td>\n",
       "      <td>4057755</td>\n",
       "      <td>1871227</td>\n",
       "      <td>0</td>\n",
       "    </tr>\n",
       "    <tr>\n",
       "      <th>1997</th>\n",
       "      <td>1998</td>\n",
       "      <td>4242514</td>\n",
       "      <td>1413468</td>\n",
       "      <td>0</td>\n",
       "    </tr>\n",
       "    <tr>\n",
       "      <th>1998</th>\n",
       "      <td>1999</td>\n",
       "      <td>555531</td>\n",
       "      <td>1290080</td>\n",
       "      <td>0</td>\n",
       "    </tr>\n",
       "    <tr>\n",
       "      <th>1999</th>\n",
       "      <td>2000</td>\n",
       "      <td>1707829</td>\n",
       "      <td>2373045</td>\n",
       "      <td>0</td>\n",
       "    </tr>\n",
       "  </tbody>\n",
       "</table>\n",
       "<p>2000 rows × 4 columns</p>\n",
       "</div>"
      ],
      "text/plain": [
       "        Id   Source     Sink  sinkInTrainSource\n",
       "0        1  3563811  3600160                  0\n",
       "1        2  2052043  1401960                  0\n",
       "2        3  4517994  1690636                  0\n",
       "3        4  1660006  4349447                  0\n",
       "4        5   581111  1882617                  0\n",
       "...    ...      ...      ...                ...\n",
       "1995  1996  1461386  2341683                  0\n",
       "1996  1997  4057755  1871227                  0\n",
       "1997  1998  4242514  1413468                  0\n",
       "1998  1999   555531  1290080                  0\n",
       "1999  2000  1707829  2373045                  0\n",
       "\n",
       "[2000 rows x 4 columns]"
      ]
     },
     "execution_count": 18,
     "metadata": {},
     "output_type": "execute_result"
    }
   ],
   "source": [
    "test_data"
   ]
  },
  {
   "cell_type": "code",
   "execution_count": 19,
   "metadata": {},
   "outputs": [],
   "source": [
    "#len(train_data['Neighbours'].iloc[0])"
   ]
  },
  {
   "cell_type": "code",
   "execution_count": 20,
   "metadata": {},
   "outputs": [],
   "source": [
    "train_data['NeighboursNumber']=train_data['Neighbours'].str.len()"
   ]
  },
  {
   "cell_type": "code",
   "execution_count": 21,
   "metadata": {},
   "outputs": [
    {
     "data": {
      "text/html": [
       "<div>\n",
       "<style scoped>\n",
       "    .dataframe tbody tr th:only-of-type {\n",
       "        vertical-align: middle;\n",
       "    }\n",
       "\n",
       "    .dataframe tbody tr th {\n",
       "        vertical-align: top;\n",
       "    }\n",
       "\n",
       "    .dataframe thead th {\n",
       "        text-align: right;\n",
       "    }\n",
       "</style>\n",
       "<table border=\"1\" class=\"dataframe\">\n",
       "  <thead>\n",
       "    <tr style=\"text-align: right;\">\n",
       "      <th></th>\n",
       "      <th>ID</th>\n",
       "      <th>Neighbours</th>\n",
       "      <th>NeighboursNumber</th>\n",
       "    </tr>\n",
       "  </thead>\n",
       "  <tbody>\n",
       "    <tr>\n",
       "      <th>0</th>\n",
       "      <td>540762</td>\n",
       "      <td>[1912140, 1537559, 3091331, 2757277, 3237295, ...</td>\n",
       "      <td>143</td>\n",
       "    </tr>\n",
       "    <tr>\n",
       "      <th>1</th>\n",
       "      <td>2129843</td>\n",
       "      <td>[65840, 3414168, 4523797, 2851163, 4321895, 13...</td>\n",
       "      <td>21</td>\n",
       "    </tr>\n",
       "    <tr>\n",
       "      <th>2</th>\n",
       "      <td>3361377</td>\n",
       "      <td>[955840, 3342058, 1536902, 1850727, 1504632, 1...</td>\n",
       "      <td>764195</td>\n",
       "    </tr>\n",
       "    <tr>\n",
       "      <th>3</th>\n",
       "      <td>1199298</td>\n",
       "      <td>[2300061, 2635670, 2803600, 744722, 881446, 28...</td>\n",
       "      <td>297</td>\n",
       "    </tr>\n",
       "    <tr>\n",
       "      <th>4</th>\n",
       "      <td>1392121</td>\n",
       "      <td>[3845572, 546016, 4361302, 678461, 4294597, 24...</td>\n",
       "      <td>3808</td>\n",
       "    </tr>\n",
       "    <tr>\n",
       "      <th>...</th>\n",
       "      <td>...</td>\n",
       "      <td>...</td>\n",
       "      <td>...</td>\n",
       "    </tr>\n",
       "    <tr>\n",
       "      <th>19995</th>\n",
       "      <td>585576</td>\n",
       "      <td>[660302, 3279973, 2094235, 2355188, 1296935, 3...</td>\n",
       "      <td>64</td>\n",
       "    </tr>\n",
       "    <tr>\n",
       "      <th>19996</th>\n",
       "      <td>505961</td>\n",
       "      <td>[3875645, 2148630, 4288909, 4011139, 340232, 1...</td>\n",
       "      <td>539</td>\n",
       "    </tr>\n",
       "    <tr>\n",
       "      <th>19997</th>\n",
       "      <td>125824</td>\n",
       "      <td>[54421, 868022, 385000, 2050130, 3446665, 2040...</td>\n",
       "      <td>45</td>\n",
       "    </tr>\n",
       "    <tr>\n",
       "      <th>19998</th>\n",
       "      <td>896087</td>\n",
       "      <td>[431577, 1007572, 499457, 3642500, 3734728, 28...</td>\n",
       "      <td>219</td>\n",
       "    </tr>\n",
       "    <tr>\n",
       "      <th>19999</th>\n",
       "      <td>3547024</td>\n",
       "      <td>[2888992, 179459, 492114, 2418495, 2235094, 14...</td>\n",
       "      <td>63</td>\n",
       "    </tr>\n",
       "  </tbody>\n",
       "</table>\n",
       "<p>20000 rows × 3 columns</p>\n",
       "</div>"
      ],
      "text/plain": [
       "            ID                                         Neighbours  \\\n",
       "0       540762  [1912140, 1537559, 3091331, 2757277, 3237295, ...   \n",
       "1      2129843  [65840, 3414168, 4523797, 2851163, 4321895, 13...   \n",
       "2      3361377  [955840, 3342058, 1536902, 1850727, 1504632, 1...   \n",
       "3      1199298  [2300061, 2635670, 2803600, 744722, 881446, 28...   \n",
       "4      1392121  [3845572, 546016, 4361302, 678461, 4294597, 24...   \n",
       "...        ...                                                ...   \n",
       "19995   585576  [660302, 3279973, 2094235, 2355188, 1296935, 3...   \n",
       "19996   505961  [3875645, 2148630, 4288909, 4011139, 340232, 1...   \n",
       "19997   125824  [54421, 868022, 385000, 2050130, 3446665, 2040...   \n",
       "19998   896087  [431577, 1007572, 499457, 3642500, 3734728, 28...   \n",
       "19999  3547024  [2888992, 179459, 492114, 2418495, 2235094, 14...   \n",
       "\n",
       "       NeighboursNumber  \n",
       "0                   143  \n",
       "1                    21  \n",
       "2                764195  \n",
       "3                   297  \n",
       "4                  3808  \n",
       "...                 ...  \n",
       "19995                64  \n",
       "19996               539  \n",
       "19997                45  \n",
       "19998               219  \n",
       "19999                63  \n",
       "\n",
       "[20000 rows x 3 columns]"
      ]
     },
     "execution_count": 21,
     "metadata": {},
     "output_type": "execute_result"
    }
   ],
   "source": [
    "train_data"
   ]
  },
  {
   "cell_type": "code",
   "execution_count": 22,
   "metadata": {},
   "outputs": [],
   "source": [
    "train_sink=[]\n",
    "for i in range(20000):\n",
    "    train_sink+=train_data['Neighbours'].iloc[i]"
   ]
  },
  {
   "cell_type": "raw",
   "metadata": {},
   "source": [
    "import json\n",
    "\n",
    "with open('train_sink.txt', 'w') as filehandle:\n",
    "    json.dump(train_sink, filehandle)"
   ]
  },
  {
   "cell_type": "code",
   "execution_count": 23,
   "metadata": {},
   "outputs": [],
   "source": [
    "from tqdm import tqdm"
   ]
  },
  {
   "cell_type": "code",
   "execution_count": 24,
   "metadata": {},
   "outputs": [
    {
     "name": "stderr",
     "output_type": "stream",
     "text": [
      "100%|██████████| 2000/2000 [02:23<00:00, 13.97it/s]\n"
     ]
    }
   ],
   "source": [
    "testsinkintrainsink=[]\n",
    "for i in tqdm(test_sink):\n",
    "    if str(i) in train_sink:\n",
    "        testsinkintrainsink.append(1)\n",
    "    else:\n",
    "        testsinkintrainsink.append(0)"
   ]
  },
  {
   "cell_type": "code",
   "execution_count": 25,
   "metadata": {},
   "outputs": [
    {
     "data": {
      "text/plain": [
       "2000"
      ]
     },
     "execution_count": 25,
     "metadata": {},
     "output_type": "execute_result"
    }
   ],
   "source": [
    "np.count_nonzero(testsinkintrainsink)"
   ]
  },
  {
   "cell_type": "code",
   "execution_count": 26,
   "metadata": {},
   "outputs": [
    {
     "data": {
      "text/plain": [
       "24004361"
      ]
     },
     "execution_count": 26,
     "metadata": {},
     "output_type": "execute_result"
    }
   ],
   "source": [
    "len(train_sink)"
   ]
  },
  {
   "cell_type": "code",
   "execution_count": 28,
   "metadata": {},
   "outputs": [],
   "source": [
    "from collections import Counter\n",
    "c=Counter(train_sink)"
   ]
  },
  {
   "cell_type": "code",
   "execution_count": 30,
   "metadata": {},
   "outputs": [
    {
     "data": {
      "text/plain": [
       "[('3361377', 4841), ('1250021', 4637), ('3402731', 3654)]"
      ]
     },
     "execution_count": 30,
     "metadata": {},
     "output_type": "execute_result"
    }
   ],
   "source": [
    "c.most_common(3)"
   ]
  },
  {
   "cell_type": "code",
   "execution_count": 74,
   "metadata": {},
   "outputs": [
    {
     "ename": "NameError",
     "evalue": "name 'c' is not defined",
     "output_type": "error",
     "traceback": [
      "\u001b[0;31m---------------------------------------------------------------------------\u001b[0m",
      "\u001b[0;31mNameError\u001b[0m                                 Traceback (most recent call last)",
      "\u001b[0;32m<ipython-input-74-9ecdcdf075f8>\u001b[0m in \u001b[0;36m<module>\u001b[0;34m\u001b[0m\n\u001b[1;32m      1\u001b[0m \u001b[0;32mwith\u001b[0m \u001b[0mopen\u001b[0m\u001b[0;34m(\u001b[0m\u001b[0;34m'count_followers.pickle'\u001b[0m\u001b[0;34m,\u001b[0m \u001b[0;34m'wb'\u001b[0m\u001b[0;34m)\u001b[0m \u001b[0;32mas\u001b[0m \u001b[0moutputfile\u001b[0m\u001b[0;34m:\u001b[0m\u001b[0;34m\u001b[0m\u001b[0;34m\u001b[0m\u001b[0m\n\u001b[0;32m----> 2\u001b[0;31m     \u001b[0mpickle\u001b[0m\u001b[0;34m.\u001b[0m\u001b[0mdump\u001b[0m\u001b[0;34m(\u001b[0m\u001b[0mc\u001b[0m\u001b[0;34m,\u001b[0m \u001b[0moutputfile\u001b[0m\u001b[0;34m)\u001b[0m\u001b[0;34m\u001b[0m\u001b[0;34m\u001b[0m\u001b[0m\n\u001b[0m",
      "\u001b[0;31mNameError\u001b[0m: name 'c' is not defined"
     ]
    }
   ],
   "source": [
    "with open('count_followers.pickle', 'wb') as outputfile:\n",
    "    pickle.dump(c, outputfile)"
   ]
  },
  {
   "cell_type": "code",
   "execution_count": 75,
   "metadata": {},
   "outputs": [],
   "source": [
    "with open('13_features.txt','rb') as file:\n",
    "    sample_data=pickle.load(file)"
   ]
  },
  {
   "cell_type": "code",
   "execution_count": 76,
   "metadata": {},
   "outputs": [
    {
     "data": {
      "text/html": [
       "<div>\n",
       "<style scoped>\n",
       "    .dataframe tbody tr th:only-of-type {\n",
       "        vertical-align: middle;\n",
       "    }\n",
       "\n",
       "    .dataframe tbody tr th {\n",
       "        vertical-align: top;\n",
       "    }\n",
       "\n",
       "    .dataframe thead th {\n",
       "        text-align: right;\n",
       "    }\n",
       "</style>\n",
       "<table border=\"1\" class=\"dataframe\">\n",
       "  <thead>\n",
       "    <tr style=\"text-align: right;\">\n",
       "      <th></th>\n",
       "      <th>Source</th>\n",
       "      <th>Sink</th>\n",
       "      <th>Label</th>\n",
       "      <th>RAI</th>\n",
       "      <th>JC</th>\n",
       "      <th>AAI</th>\n",
       "      <th>PA</th>\n",
       "      <th>Source_following</th>\n",
       "      <th>Sink_follows</th>\n",
       "      <th>PageRank_Src</th>\n",
       "      <th>PageRank_Sink</th>\n",
       "      <th>Centrality_Sour</th>\n",
       "      <th>Centrality_Sink</th>\n",
       "      <th>Sink_following</th>\n",
       "      <th>Source_follows</th>\n",
       "      <th>Shortest_Path</th>\n",
       "    </tr>\n",
       "  </thead>\n",
       "  <tbody>\n",
       "    <tr>\n",
       "      <th>0</th>\n",
       "      <td>1604753</td>\n",
       "      <td>3794609</td>\n",
       "      <td>1</td>\n",
       "      <td>0.000000</td>\n",
       "      <td>0.000000</td>\n",
       "      <td>0.000000</td>\n",
       "      <td>47</td>\n",
       "      <td>0.001218</td>\n",
       "      <td>0.006623</td>\n",
       "      <td>0.000004</td>\n",
       "      <td>0.000004</td>\n",
       "      <td>0.001558</td>\n",
       "      <td>0.000042</td>\n",
       "      <td>0.0</td>\n",
       "      <td>0.074324</td>\n",
       "      <td>-1</td>\n",
       "    </tr>\n",
       "    <tr>\n",
       "      <th>1</th>\n",
       "      <td>1927211</td>\n",
       "      <td>2402534</td>\n",
       "      <td>1</td>\n",
       "      <td>0.000034</td>\n",
       "      <td>0.000556</td>\n",
       "      <td>0.097141</td>\n",
       "      <td>5388</td>\n",
       "      <td>0.059641</td>\n",
       "      <td>0.019868</td>\n",
       "      <td>0.000008</td>\n",
       "      <td>0.000004</td>\n",
       "      <td>0.003437</td>\n",
       "      <td>0.000895</td>\n",
       "      <td>0.0</td>\n",
       "      <td>0.222973</td>\n",
       "      <td>4</td>\n",
       "    </tr>\n",
       "    <tr>\n",
       "      <th>2</th>\n",
       "      <td>3438576</td>\n",
       "      <td>3589472</td>\n",
       "      <td>1</td>\n",
       "      <td>0.000000</td>\n",
       "      <td>0.000000</td>\n",
       "      <td>0.000000</td>\n",
       "      <td>2235</td>\n",
       "      <td>0.070670</td>\n",
       "      <td>0.006623</td>\n",
       "      <td>0.000026</td>\n",
       "      <td>0.000004</td>\n",
       "      <td>0.026769</td>\n",
       "      <td>0.000730</td>\n",
       "      <td>0.0</td>\n",
       "      <td>1.000000</td>\n",
       "      <td>-1</td>\n",
       "    </tr>\n",
       "    <tr>\n",
       "      <th>3</th>\n",
       "      <td>2029671</td>\n",
       "      <td>2363623</td>\n",
       "      <td>1</td>\n",
       "      <td>0.000000</td>\n",
       "      <td>0.000000</td>\n",
       "      <td>0.000000</td>\n",
       "      <td>236</td>\n",
       "      <td>0.000744</td>\n",
       "      <td>0.013245</td>\n",
       "      <td>0.000004</td>\n",
       "      <td>0.000004</td>\n",
       "      <td>0.021400</td>\n",
       "      <td>0.001205</td>\n",
       "      <td>0.0</td>\n",
       "      <td>0.648649</td>\n",
       "      <td>5</td>\n",
       "    </tr>\n",
       "    <tr>\n",
       "      <th>4</th>\n",
       "      <td>2031305</td>\n",
       "      <td>4169107</td>\n",
       "      <td>1</td>\n",
       "      <td>0.000000</td>\n",
       "      <td>0.000000</td>\n",
       "      <td>0.000000</td>\n",
       "      <td>724</td>\n",
       "      <td>0.011739</td>\n",
       "      <td>0.013245</td>\n",
       "      <td>0.000004</td>\n",
       "      <td>0.000004</td>\n",
       "      <td>0.001249</td>\n",
       "      <td>0.000078</td>\n",
       "      <td>0.0</td>\n",
       "      <td>0.101351</td>\n",
       "      <td>4</td>\n",
       "    </tr>\n",
       "  </tbody>\n",
       "</table>\n",
       "</div>"
      ],
      "text/plain": [
       "    Source     Sink  Label       RAI        JC       AAI    PA  \\\n",
       "0  1604753  3794609      1  0.000000  0.000000  0.000000    47   \n",
       "1  1927211  2402534      1  0.000034  0.000556  0.097141  5388   \n",
       "2  3438576  3589472      1  0.000000  0.000000  0.000000  2235   \n",
       "3  2029671  2363623      1  0.000000  0.000000  0.000000   236   \n",
       "4  2031305  4169107      1  0.000000  0.000000  0.000000   724   \n",
       "\n",
       "   Source_following  Sink_follows  PageRank_Src  PageRank_Sink  \\\n",
       "0          0.001218      0.006623      0.000004       0.000004   \n",
       "1          0.059641      0.019868      0.000008       0.000004   \n",
       "2          0.070670      0.006623      0.000026       0.000004   \n",
       "3          0.000744      0.013245      0.000004       0.000004   \n",
       "4          0.011739      0.013245      0.000004       0.000004   \n",
       "\n",
       "   Centrality_Sour  Centrality_Sink  Sink_following  Source_follows  \\\n",
       "0         0.001558         0.000042             0.0        0.074324   \n",
       "1         0.003437         0.000895             0.0        0.222973   \n",
       "2         0.026769         0.000730             0.0        1.000000   \n",
       "3         0.021400         0.001205             0.0        0.648649   \n",
       "4         0.001249         0.000078             0.0        0.101351   \n",
       "\n",
       "   Shortest_Path  \n",
       "0             -1  \n",
       "1              4  \n",
       "2             -1  \n",
       "3              5  \n",
       "4              4  "
      ]
     },
     "execution_count": 76,
     "metadata": {},
     "output_type": "execute_result"
    }
   ],
   "source": [
    "sample_data.head()"
   ]
  },
  {
   "cell_type": "code",
   "execution_count": 77,
   "metadata": {},
   "outputs": [
    {
     "data": {
      "text/plain": [
       "Index(['Source', 'Sink', 'Label', 'RAI', 'JC', 'AAI', 'PA', 'Source_following',\n",
       "       'Sink_follows', 'PageRank_Src', 'PageRank_Sink', 'Centrality_Sour',\n",
       "       'Centrality_Sink', 'Sink_following', 'Source_follows', 'Shortest_Path'],\n",
       "      dtype='object')"
      ]
     },
     "execution_count": 77,
     "metadata": {},
     "output_type": "execute_result"
    }
   ],
   "source": [
    "#type(sample_data)\n",
    "sample_data.columns"
   ]
  },
  {
   "cell_type": "code",
   "execution_count": 78,
   "metadata": {},
   "outputs": [],
   "source": [
    "sample_data_1=sample_data[sample_data['Label']==1]"
   ]
  },
  {
   "cell_type": "code",
   "execution_count": 79,
   "metadata": {},
   "outputs": [],
   "source": [
    "sample_data_0=sample_data[sample_data['Label']==0]"
   ]
  },
  {
   "cell_type": "code",
   "execution_count": 20,
   "metadata": {},
   "outputs": [
    {
     "data": {
      "text/plain": [
       "count    355064.000000\n",
       "mean          0.005431\n",
       "std           1.292779\n",
       "min           0.000000\n",
       "25%           0.000000\n",
       "50%           0.000000\n",
       "75%           0.000000\n",
       "max         764.552300\n",
       "Name: RAI, dtype: float64"
      ]
     },
     "execution_count": 20,
     "metadata": {},
     "output_type": "execute_result"
    }
   ],
   "source": [
    "sample_data_1['RAI'].describe()"
   ]
  },
  {
   "cell_type": "code",
   "execution_count": 15,
   "metadata": {},
   "outputs": [
    {
     "data": {
      "text/plain": [
       "(array([3.51692e+05, 1.71700e+03, 2.84000e+02, 1.48000e+02, 1.17000e+02,\n",
       "        9.00000e+01, 9.50000e+01, 1.13000e+02, 1.80000e+01, 1.33000e+02,\n",
       "        2.60000e+01, 1.20000e+01, 1.33000e+02, 2.40000e+01, 1.00000e+01,\n",
       "        1.40000e+01, 1.90000e+01, 5.00000e+00, 1.50000e+02, 2.10000e+01,\n",
       "        5.00000e+00, 1.60000e+01, 6.00000e+00, 4.00000e+00, 1.60000e+01,\n",
       "        1.60000e+01, 4.00000e+00, 1.40000e+01, 3.00000e+00, 2.00000e+00,\n",
       "        2.10000e+01, 6.00000e+00, 5.00000e+00, 5.00000e+00, 3.00000e+00,\n",
       "        3.00000e+00]),\n",
       " array([0.        , 0.02777778, 0.05555556, 0.08333333, 0.11111111,\n",
       "        0.13888889, 0.16666667, 0.19444444, 0.22222222, 0.25      ,\n",
       "        0.27777778, 0.30555556, 0.33333333, 0.36111111, 0.38888889,\n",
       "        0.41666667, 0.44444444, 0.47222222, 0.5       , 0.52777778,\n",
       "        0.55555556, 0.58333333, 0.61111111, 0.63888889, 0.66666667,\n",
       "        0.69444444, 0.72222222, 0.75      , 0.77777778, 0.80555556,\n",
       "        0.83333333, 0.86111111, 0.88888889, 0.91666667, 0.94444444,\n",
       "        0.97222222, 1.        ]),\n",
       " <a list of 36 Patch objects>)"
      ]
     },
     "execution_count": 15,
     "metadata": {},
     "output_type": "execute_result"
    },
    {
     "data": {
      "image/png": "[encoded data removed]",
      "text/plain": [
       "<Figure size 432x288 with 1 Axes>"
      ]
     },
     "metadata": {
      "needs_background": "light"
     },
     "output_type": "display_data"
    }
   ],
   "source": [
    "plt.hist(sample_data_1['RAI'],bins = int(180/5),range=(0,1))"
   ]
  },
  {
   "cell_type": "code",
   "execution_count": 21,
   "metadata": {},
   "outputs": [
    {
     "data": {
      "text/plain": [
       "count    355064.000000\n",
       "mean          0.579938\n",
       "std          11.482845\n",
       "min           0.000000\n",
       "25%           0.040609\n",
       "50%           0.048913\n",
       "75%           0.077801\n",
       "max        1129.391475\n",
       "Name: RAI, dtype: float64"
      ]
     },
     "execution_count": 21,
     "metadata": {},
     "output_type": "execute_result"
    }
   ],
   "source": [
    "sample_data_0['RAI'].describe()"
   ]
  },
  {
   "cell_type": "code",
   "execution_count": 16,
   "metadata": {},
   "outputs": [
    {
     "data": {
      "text/plain": [
       "(array([6.81210e+04, 1.49998e+05, 5.36070e+04, 1.97670e+04, 1.27160e+04,\n",
       "        8.96500e+03, 7.07600e+03, 4.76000e+03, 3.81600e+03, 3.26300e+03,\n",
       "        2.19600e+03, 1.98500e+03, 1.71700e+03, 1.36900e+03, 1.20100e+03,\n",
       "        8.24000e+02, 6.83000e+02, 6.46000e+02, 6.81000e+02, 5.47000e+02,\n",
       "        4.27000e+02, 4.44000e+02, 4.24000e+02, 3.12000e+02, 3.30000e+02,\n",
       "        2.15000e+02, 2.59000e+02, 2.11000e+02, 1.76000e+02, 1.44000e+02,\n",
       "        1.48000e+02, 1.19000e+02, 1.20000e+02, 1.19000e+02, 7.70000e+01,\n",
       "        1.36000e+02]),\n",
       " array([0.        , 0.02777778, 0.05555556, 0.08333333, 0.11111111,\n",
       "        0.13888889, 0.16666667, 0.19444444, 0.22222222, 0.25      ,\n",
       "        0.27777778, 0.30555556, 0.33333333, 0.36111111, 0.38888889,\n",
       "        0.41666667, 0.44444444, 0.47222222, 0.5       , 0.52777778,\n",
       "        0.55555556, 0.58333333, 0.61111111, 0.63888889, 0.66666667,\n",
       "        0.69444444, 0.72222222, 0.75      , 0.77777778, 0.80555556,\n",
       "        0.83333333, 0.86111111, 0.88888889, 0.91666667, 0.94444444,\n",
       "        0.97222222, 1.        ]),\n",
       " <a list of 36 Patch objects>)"
      ]
     },
     "execution_count": 16,
     "metadata": {},
     "output_type": "execute_result"
    },
    {
     "data": {
      "image/png": "[encoded data removed]",
      "text/plain": [
       "<Figure size 432x288 with 1 Axes>"
      ]
     },
     "metadata": {
      "needs_background": "light"
     },
     "output_type": "display_data"
    }
   ],
   "source": [
    "plt.hist(sample_data_0['RAI'],bins = int(180/5),range=(0,1))"
   ]
  },
  {
   "cell_type": "code",
   "execution_count": 22,
   "metadata": {},
   "outputs": [
    {
     "data": {
      "text/plain": [
       "count    355064.000000\n",
       "mean          0.011158\n",
       "std           0.059358\n",
       "min           0.000000\n",
       "25%           0.000000\n",
       "50%           0.000000\n",
       "75%           0.000000\n",
       "max           0.989990\n",
       "Name: JC, dtype: float64"
      ]
     },
     "execution_count": 22,
     "metadata": {},
     "output_type": "execute_result"
    }
   ],
   "source": [
    "sample_data_1['JC'].describe()"
   ]
  },
  {
   "cell_type": "code",
   "execution_count": 17,
   "metadata": {},
   "outputs": [
    {
     "data": {
      "text/plain": [
       "(array([3.33645e+05, 3.65900e+03, 3.10600e+03, 2.86300e+03, 2.14700e+03,\n",
       "        1.38800e+03, 1.36500e+03, 1.08800e+03, 9.14000e+02, 9.50000e+02,\n",
       "        6.68000e+02, 4.65000e+02, 5.17000e+02, 3.15000e+02, 2.49000e+02,\n",
       "        1.92000e+02, 1.71000e+02, 9.60000e+01, 2.07000e+02, 8.70000e+01,\n",
       "        9.40000e+01, 7.00000e+01, 8.50000e+01, 6.80000e+01, 6.70000e+01,\n",
       "        4.90000e+01, 6.90000e+01, 6.30000e+01, 6.10000e+01, 4.10000e+01,\n",
       "        7.40000e+01, 7.80000e+01, 8.30000e+01, 4.50000e+01, 1.60000e+01,\n",
       "        9.00000e+00]),\n",
       " array([0.        , 0.02777778, 0.05555556, 0.08333333, 0.11111111,\n",
       "        0.13888889, 0.16666667, 0.19444444, 0.22222222, 0.25      ,\n",
       "        0.27777778, 0.30555556, 0.33333333, 0.36111111, 0.38888889,\n",
       "        0.41666667, 0.44444444, 0.47222222, 0.5       , 0.52777778,\n",
       "        0.55555556, 0.58333333, 0.61111111, 0.63888889, 0.66666667,\n",
       "        0.69444444, 0.72222222, 0.75      , 0.77777778, 0.80555556,\n",
       "        0.83333333, 0.86111111, 0.88888889, 0.91666667, 0.94444444,\n",
       "        0.97222222, 1.        ]),\n",
       " <a list of 36 Patch objects>)"
      ]
     },
     "execution_count": 17,
     "metadata": {},
     "output_type": "execute_result"
    },
    {
     "data": {
      "image/png": "[encoded data removed]",
      "text/plain": [
       "<Figure size 432x288 with 1 Axes>"
      ]
     },
     "metadata": {
      "needs_background": "light"
     },
     "output_type": "display_data"
    }
   ],
   "source": [
    "plt.hist(sample_data_1['JC'],bins = int(180/5),range=(0,1))"
   ]
  },
  {
   "cell_type": "code",
   "execution_count": 23,
   "metadata": {},
   "outputs": [
    {
     "data": {
      "text/plain": [
       "count    355064.000000\n",
       "mean          0.032583\n",
       "std           0.094871\n",
       "min           0.000000\n",
       "25%           0.001024\n",
       "50%           0.009817\n",
       "75%           0.047736\n",
       "max           0.996500\n",
       "Name: JC, dtype: float64"
      ]
     },
     "execution_count": 23,
     "metadata": {},
     "output_type": "execute_result"
    }
   ],
   "source": [
    "sample_data_0['JC'].describe()"
   ]
  },
  {
   "cell_type": "code",
   "execution_count": 108,
   "metadata": {},
   "outputs": [
    {
     "data": {
      "text/plain": [
       "<matplotlib.legend.Legend at 0x7fc9fbf139a0>"
      ]
     },
     "execution_count": 108,
     "metadata": {},
     "output_type": "execute_result"
    },
    {
     "data": {
      "image/png": "[encoded data removed]",
      "text/plain": [
       "<Figure size 432x288 with 1 Axes>"
      ]
     },
     "metadata": {
      "needs_background": "light"
     },
     "output_type": "display_data"
    }
   ],
   "source": [
    "plt.hist(sample_data_1['JC'],bins = int(180/5),label='1',alpha=0.5,range=(0,1))\n",
    "plt.hist(sample_data_0['JC'],bins = int(180/5),label='0',alpha=0.5,range=(0,1))\n",
    "plt.legend(loc='upper right')"
   ]
  },
  {
   "cell_type": "code",
   "execution_count": 107,
   "metadata": {},
   "outputs": [
    {
     "data": {
      "text/plain": [
       "count    355064.000000\n",
       "mean          0.186368\n",
       "std           8.401742\n",
       "min           0.000000\n",
       "25%           0.000000\n",
       "50%           0.000000\n",
       "75%           0.000000\n",
       "max        4493.926221\n",
       "Name: AAI, dtype: float64"
      ]
     },
     "execution_count": 107,
     "metadata": {},
     "output_type": "execute_result"
    }
   ],
   "source": [
    "sample_data_1['AAI'].describe()"
   ]
  },
  {
   "cell_type": "code",
   "execution_count": 106,
   "metadata": {},
   "outputs": [
    {
     "data": {
      "text/plain": [
       "count    355064.000000\n",
       "mean         15.810110\n",
       "std          86.012565\n",
       "min           0.000000\n",
       "25%           1.651180\n",
       "50%          12.093427\n",
       "75%          12.489140\n",
       "max        5800.389841\n",
       "Name: AAI, dtype: float64"
      ]
     },
     "execution_count": 106,
     "metadata": {},
     "output_type": "execute_result"
    }
   ],
   "source": [
    "sample_data_0['AAI'].describe()"
   ]
  },
  {
   "cell_type": "code",
   "execution_count": 105,
   "metadata": {},
   "outputs": [
    {
     "data": {
      "text/plain": [
       "<matplotlib.legend.Legend at 0x7fc9f4410f40>"
      ]
     },
     "execution_count": 105,
     "metadata": {},
     "output_type": "execute_result"
    },
    {
     "data": {
      "image/png": "[encoded data removed]",
      "text/plain": [
       "<Figure size 432x288 with 1 Axes>"
      ]
     },
     "metadata": {
      "needs_background": "light"
     },
     "output_type": "display_data"
    }
   ],
   "source": [
    "plt.hist(sample_data_1['AAI'],bins = int(180/5),label='1',alpha=0.5,range=(0,1))\n",
    "plt.hist(sample_data_0['AAI'],bins = int(180/5),label='0',alpha=0.5,range=(0,1))\n",
    "plt.legend(loc='upper right')"
   ]
  },
  {
   "cell_type": "code",
   "execution_count": 104,
   "metadata": {},
   "outputs": [
    {
     "data": {
      "text/plain": [
       "count    3.550640e+05\n",
       "mean     8.205598e+03\n",
       "std      4.688143e+05\n",
       "min      1.000000e+00\n",
       "25%      1.440000e+02\n",
       "50%      6.740000e+02\n",
       "75%      2.112000e+03\n",
       "max      2.266922e+08\n",
       "Name: PA, dtype: float64"
      ]
     },
     "execution_count": 104,
     "metadata": {},
     "output_type": "execute_result"
    }
   ],
   "source": [
    "sample_data_1['PA'].describe()"
   ]
  },
  {
   "cell_type": "code",
   "execution_count": 103,
   "metadata": {},
   "outputs": [
    {
     "data": {
      "text/plain": [
       "count    3.550640e+05\n",
       "mean     8.757011e+05\n",
       "std      5.276194e+06\n",
       "min      1.710000e+03\n",
       "25%      1.932000e+05\n",
       "50%      2.127160e+05\n",
       "75%      4.595770e+05\n",
       "max      4.820838e+08\n",
       "Name: PA, dtype: float64"
      ]
     },
     "execution_count": 103,
     "metadata": {},
     "output_type": "execute_result"
    }
   ],
   "source": [
    "sample_data_0['PA'].describe()"
   ]
  },
  {
   "cell_type": "code",
   "execution_count": 102,
   "metadata": {},
   "outputs": [
    {
     "data": {
      "text/plain": [
       "(array([122757.,  42161.,  26889.,  24019.,  15181.,  15123.,  15390.,\n",
       "          7688.,   7000.,   3318.,   3566.,   3158.,   4043.,   1682.,\n",
       "          5381.,   1430.,   1479.,    939.,   1287.,   1049.,   5585.,\n",
       "          6441.,   5940.,    472.,    663.,    515.,   7290.,    247.,\n",
       "           316.,    307.,    298.,    234.,    320.,    141.,    145.,\n",
       "           212.]),\n",
       " array([1.00000e+00, 2.78750e+02, 5.56500e+02, 8.34250e+02, 1.11200e+03,\n",
       "        1.38975e+03, 1.66750e+03, 1.94525e+03, 2.22300e+03, 2.50075e+03,\n",
       "        2.77850e+03, 3.05625e+03, 3.33400e+03, 3.61175e+03, 3.88950e+03,\n",
       "        4.16725e+03, 4.44500e+03, 4.72275e+03, 5.00050e+03, 5.27825e+03,\n",
       "        5.55600e+03, 5.83375e+03, 6.11150e+03, 6.38925e+03, 6.66700e+03,\n",
       "        6.94475e+03, 7.22250e+03, 7.50025e+03, 7.77800e+03, 8.05575e+03,\n",
       "        8.33350e+03, 8.61125e+03, 8.88900e+03, 9.16675e+03, 9.44450e+03,\n",
       "        9.72225e+03, 1.00000e+04]),\n",
       " <a list of 36 Patch objects>)"
      ]
     },
     "execution_count": 102,
     "metadata": {},
     "output_type": "execute_result"
    },
    {
     "data": {
      "image/png": "[encoded data removed]",
      "text/plain": [
       "<Figure size 432x288 with 1 Axes>"
      ]
     },
     "metadata": {
      "needs_background": "light"
     },
     "output_type": "display_data"
    }
   ],
   "source": [
    "plt.hist(sample_data_1['PA'],bins = int(180/5),label='1',alpha=0.5,range=(1,10000))"
   ]
  },
  {
   "cell_type": "code",
   "execution_count": 100,
   "metadata": {},
   "outputs": [
    {
     "data": {
      "text/plain": [
       "(array([  0.,   0.,   0.,   0.,   0.,   0.,   1.,   0.,   0.,   0.,   0.,\n",
       "          1.,   1.,   0.,   0.,   0.,   0.,   0.,   0.,   0.,   0.,   0.,\n",
       "          0.,   0.,   0.,   0.,   0.,   0., 181.,   0.,   0.,   0., 206.,\n",
       "          0.,   5.,   6.]),\n",
       " array([1.00000e+00, 2.78750e+02, 5.56500e+02, 8.34250e+02, 1.11200e+03,\n",
       "        1.38975e+03, 1.66750e+03, 1.94525e+03, 2.22300e+03, 2.50075e+03,\n",
       "        2.77850e+03, 3.05625e+03, 3.33400e+03, 3.61175e+03, 3.88950e+03,\n",
       "        4.16725e+03, 4.44500e+03, 4.72275e+03, 5.00050e+03, 5.27825e+03,\n",
       "        5.55600e+03, 5.83375e+03, 6.11150e+03, 6.38925e+03, 6.66700e+03,\n",
       "        6.94475e+03, 7.22250e+03, 7.50025e+03, 7.77800e+03, 8.05575e+03,\n",
       "        8.33350e+03, 8.61125e+03, 8.88900e+03, 9.16675e+03, 9.44450e+03,\n",
       "        9.72225e+03, 1.00000e+04]),\n",
       " <a list of 36 Patch objects>)"
      ]
     },
     "execution_count": 100,
     "metadata": {},
     "output_type": "execute_result"
    },
    {
     "data": {
      "image/png": "[encoded data removed]",
      "text/plain": [
       "<Figure size 432x288 with 1 Axes>"
      ]
     },
     "metadata": {
      "needs_background": "light"
     },
     "output_type": "display_data"
    }
   ],
   "source": [
    "plt.hist(sample_data_0['PA'],bins = int(180/5),label='0',alpha=0.5,range=(1,10000))"
   ]
  },
  {
   "cell_type": "code",
   "execution_count": 101,
   "metadata": {},
   "outputs": [
    {
     "data": {
      "text/plain": [
       "<matplotlib.legend.Legend at 0x7fc9f43ea4f0>"
      ]
     },
     "execution_count": 101,
     "metadata": {},
     "output_type": "execute_result"
    },
    {
     "data": {
      "image/png": "[encoded data removed]",
      "text/plain": [
       "<Figure size 432x288 with 1 Axes>"
      ]
     },
     "metadata": {
      "needs_background": "light"
     },
     "output_type": "display_data"
    }
   ],
   "source": [
    "plt.hist(sample_data_1['PA'],label='1',alpha=0.5,range=(1,10000))\n",
    "plt.hist(sample_data_0['PA'],label='0',alpha=0.5,range=(1,10000))\n",
    "plt.legend(loc='upper right')"
   ]
  },
  {
   "cell_type": "code",
   "execution_count": 98,
   "metadata": {},
   "outputs": [
    {
     "data": {
      "text/plain": [
       "count    355064.000000\n",
       "mean          0.062540\n",
       "std           0.179538\n",
       "min           0.000034\n",
       "25%           0.001319\n",
       "50%           0.008897\n",
       "75%           0.035690\n",
       "max           1.000000\n",
       "Name: Source_following, dtype: float64"
      ]
     },
     "execution_count": 98,
     "metadata": {},
     "output_type": "execute_result"
    }
   ],
   "source": [
    "sample_data_1['Source_following'].describe()"
   ]
  },
  {
   "cell_type": "code",
   "execution_count": 97,
   "metadata": {},
   "outputs": [
    {
     "data": {
      "text/plain": [
       "count    355064.000000\n",
       "mean          0.295303\n",
       "std           0.253540\n",
       "min           0.000101\n",
       "25%           0.065697\n",
       "50%           0.300710\n",
       "75%           0.484777\n",
       "max           1.000000\n",
       "Name: Source_following, dtype: float64"
      ]
     },
     "execution_count": 97,
     "metadata": {},
     "output_type": "execute_result"
    }
   ],
   "source": [
    "sample_data_0['Source_following'].describe()"
   ]
  },
  {
   "cell_type": "code",
   "execution_count": 96,
   "metadata": {},
   "outputs": [
    {
     "data": {
      "text/plain": [
       "<matplotlib.legend.Legend at 0x7fc9f4c60040>"
      ]
     },
     "execution_count": 96,
     "metadata": {},
     "output_type": "execute_result"
    },
    {
     "data": {
      "image/png": "[encoded data removed]",
      "text/plain": [
       "<Figure size 432x288 with 1 Axes>"
      ]
     },
     "metadata": {
      "needs_background": "light"
     },
     "output_type": "display_data"
    }
   ],
   "source": [
    "plt.hist(sample_data_1['Source_following'],bins = int(180/5),label='1',alpha=0.5,range=(0,1))\n",
    "plt.hist(sample_data_0['Source_following'],bins = int(180/5),label='0',alpha=0.5,range=(0,1))\n",
    "plt.legend(loc='upper right')"
   ]
  },
  {
   "cell_type": "code",
   "execution_count": 95,
   "metadata": {},
   "outputs": [
    {
     "data": {
      "text/plain": [
       "count    355064.000000\n",
       "mean          0.031674\n",
       "std           0.098579\n",
       "min           0.006623\n",
       "25%           0.006623\n",
       "50%           0.006623\n",
       "75%           0.019868\n",
       "max           1.000000\n",
       "Name: Sink_follows, dtype: float64"
      ]
     },
     "execution_count": 95,
     "metadata": {},
     "output_type": "execute_result"
    }
   ],
   "source": [
    "sample_data_1['Sink_follows'].describe()"
   ]
  },
  {
   "cell_type": "code",
   "execution_count": 94,
   "metadata": {},
   "outputs": [
    {
     "data": {
      "text/plain": [
       "count    355064.000000\n",
       "mean          0.417673\n",
       "std           0.286613\n",
       "min           0.006623\n",
       "25%           0.086093\n",
       "50%           0.635762\n",
       "75%           0.649007\n",
       "max           1.000000\n",
       "Name: Sink_follows, dtype: float64"
      ]
     },
     "execution_count": 94,
     "metadata": {},
     "output_type": "execute_result"
    }
   ],
   "source": [
    "sample_data_0['Sink_follows'].describe()"
   ]
  },
  {
   "cell_type": "code",
   "execution_count": 93,
   "metadata": {},
   "outputs": [
    {
     "data": {
      "text/plain": [
       "<matplotlib.legend.Legend at 0x7fca08485a90>"
      ]
     },
     "execution_count": 93,
     "metadata": {},
     "output_type": "execute_result"
    },
    {
     "data": {
      "image/png": "[encoded data removed]",
      "text/plain": [
       "<Figure size 432x288 with 1 Axes>"
      ]
     },
     "metadata": {
      "needs_background": "light"
     },
     "output_type": "display_data"
    }
   ],
   "source": [
    "plt.hist(sample_data_1['Sink_follows'],bins = int(180/5),label='1',alpha=0.5,range=(0,1))\n",
    "plt.hist(sample_data_0['Sink_follows'],bins = int(180/5),label='0',alpha=0.5,range=(0,1))\n",
    "plt.legend(loc='upper right')"
   ]
  },
  {
   "cell_type": "code",
   "execution_count": 92,
   "metadata": {},
   "outputs": [
    {
     "data": {
      "text/plain": [
       "count    355064.000000\n",
       "mean          0.000008\n",
       "std           0.000011\n",
       "min           0.000004\n",
       "25%           0.000004\n",
       "50%           0.000005\n",
       "75%           0.000007\n",
       "max           0.000062\n",
       "Name: PageRank_Src, dtype: float64"
      ]
     },
     "execution_count": 92,
     "metadata": {},
     "output_type": "execute_result"
    }
   ],
   "source": [
    "sample_data_1['PageRank_Src'].describe()"
   ]
  },
  {
   "cell_type": "code",
   "execution_count": 91,
   "metadata": {},
   "outputs": [
    {
     "data": {
      "text/plain": [
       "count    355064.000000\n",
       "mean          0.000014\n",
       "std           0.000015\n",
       "min           0.000004\n",
       "25%           0.000005\n",
       "50%           0.000009\n",
       "75%           0.000017\n",
       "max           0.000062\n",
       "Name: PageRank_Src, dtype: float64"
      ]
     },
     "execution_count": 91,
     "metadata": {},
     "output_type": "execute_result"
    }
   ],
   "source": [
    "sample_data_0['PageRank_Src'].describe()"
   ]
  },
  {
   "cell_type": "code",
   "execution_count": 90,
   "metadata": {},
   "outputs": [
    {
     "data": {
      "text/plain": [
       "<matplotlib.legend.Legend at 0x7fc9f461ef40>"
      ]
     },
     "execution_count": 90,
     "metadata": {},
     "output_type": "execute_result"
    },
    {
     "data": {
      "image/png": "[encoded data removed]",
      "text/plain": [
       "<Figure size 432x288 with 1 Axes>"
      ]
     },
     "metadata": {
      "needs_background": "light"
     },
     "output_type": "display_data"
    }
   ],
   "source": [
    "plt.hist(sample_data_1['PageRank_Src'],bins = int(180/5),label='1',alpha=0.5)\n",
    "plt.hist(sample_data_0['PageRank_Src'],bins = int(180/5),label='0',alpha=0.5)\n",
    "plt.legend(loc='upper right')"
   ]
  },
  {
   "cell_type": "code",
   "execution_count": 89,
   "metadata": {},
   "outputs": [
    {
     "data": {
      "text/plain": [
       "count    355064.000000\n",
       "mean          0.000004\n",
       "std           0.000002\n",
       "min           0.000004\n",
       "25%           0.000004\n",
       "50%           0.000004\n",
       "75%           0.000004\n",
       "max           0.000062\n",
       "Name: PageRank_Sink, dtype: float64"
      ]
     },
     "execution_count": 89,
     "metadata": {},
     "output_type": "execute_result"
    }
   ],
   "source": [
    "sample_data_1['PageRank_Sink'].describe()"
   ]
  },
  {
   "cell_type": "code",
   "execution_count": 88,
   "metadata": {},
   "outputs": [
    {
     "data": {
      "text/plain": [
       "count    355064.000000\n",
       "mean          0.000005\n",
       "std           0.000003\n",
       "min           0.000004\n",
       "25%           0.000004\n",
       "50%           0.000004\n",
       "75%           0.000005\n",
       "max           0.000062\n",
       "Name: PageRank_Sink, dtype: float64"
      ]
     },
     "execution_count": 88,
     "metadata": {},
     "output_type": "execute_result"
    }
   ],
   "source": [
    "sample_data_0['PageRank_Sink'].describe()"
   ]
  },
  {
   "cell_type": "code",
   "execution_count": 87,
   "metadata": {},
   "outputs": [
    {
     "data": {
      "text/plain": [
       "<matplotlib.legend.Legend at 0x7fc9f4211c10>"
      ]
     },
     "execution_count": 87,
     "metadata": {},
     "output_type": "execute_result"
    },
    {
     "data": {
      "image/png": "[encoded data removed]",
      "text/plain": [
       "<Figure size 432x288 with 1 Axes>"
      ]
     },
     "metadata": {
      "needs_background": "light"
     },
     "output_type": "display_data"
    }
   ],
   "source": [
    "plt.hist(sample_data_1['PageRank_Sink'],bins = int(180/5),label='1',alpha=0.5)\n",
    "plt.hist(sample_data_0['PageRank_Sink'],bins = int(180/5),label='0',alpha=0.5)\n",
    "plt.legend(loc='upper right')"
   ]
  },
  {
   "cell_type": "code",
   "execution_count": 86,
   "metadata": {},
   "outputs": [
    {
     "data": {
      "text/plain": [
       "count    3.550640e+05\n",
       "mean     7.780026e-03\n",
       "std      9.496101e-03\n",
       "min      3.538903e-17\n",
       "25%      1.345339e-03\n",
       "50%      2.535056e-03\n",
       "75%      2.154742e-02\n",
       "max      3.009166e-02\n",
       "Name: Centrality_Sour, dtype: float64"
      ]
     },
     "execution_count": 86,
     "metadata": {},
     "output_type": "execute_result"
    }
   ],
   "source": [
    "sample_data_1['Centrality_Sour'].describe()"
   ]
  },
  {
   "cell_type": "code",
   "execution_count": 85,
   "metadata": {},
   "outputs": [
    {
     "data": {
      "text/plain": [
       "count    3.550640e+05\n",
       "mean     5.908988e-03\n",
       "std      4.795343e-03\n",
       "min      3.538903e-17\n",
       "25%      2.378972e-03\n",
       "50%      4.303865e-03\n",
       "75%      6.593607e-03\n",
       "max      2.515873e-02\n",
       "Name: Centrality_Sour, dtype: float64"
      ]
     },
     "execution_count": 85,
     "metadata": {},
     "output_type": "execute_result"
    }
   ],
   "source": [
    "sample_data_0['Centrality_Sour'].describe()"
   ]
  },
  {
   "cell_type": "code",
   "execution_count": 84,
   "metadata": {},
   "outputs": [
    {
     "data": {
      "text/plain": [
       "<matplotlib.legend.Legend at 0x7fc9f4093400>"
      ]
     },
     "execution_count": 84,
     "metadata": {},
     "output_type": "execute_result"
    },
    {
     "data": {
      "image/png": "[encoded data removed]",
      "text/plain": [
       "<Figure size 432x288 with 1 Axes>"
      ]
     },
     "metadata": {
      "needs_background": "light"
     },
     "output_type": "display_data"
    }
   ],
   "source": [
    "plt.hist(sample_data_1['Centrality_Sour'],bins = int(180/5),label='1',alpha=0.5)\n",
    "plt.hist(sample_data_0['Centrality_Sour'],bins = int(180/5),label='0',alpha=0.5)\n",
    "plt.legend(loc='upper right')"
   ]
  },
  {
   "cell_type": "code",
   "execution_count": 68,
   "metadata": {},
   "outputs": [
    {
     "data": {
      "text/plain": [
       "count    3.550640e+05\n",
       "mean     8.647115e-04\n",
       "std      3.015016e-03\n",
       "min      3.538903e-16\n",
       "25%      5.809327e-05\n",
       "50%      1.760344e-04\n",
       "75%      7.062701e-04\n",
       "max      3.009166e-02\n",
       "Name: Centrality_Sink, dtype: float64"
      ]
     },
     "execution_count": 68,
     "metadata": {},
     "output_type": "execute_result"
    }
   ],
   "source": [
    "sample_data_1['Centrality_Sink'].describe()"
   ]
  },
  {
   "cell_type": "code",
   "execution_count": 69,
   "metadata": {},
   "outputs": [
    {
     "data": {
      "text/plain": [
       "count    3.550640e+05\n",
       "mean     1.332694e-02\n",
       "std      1.025843e-02\n",
       "min      3.538903e-16\n",
       "25%      1.184472e-03\n",
       "50%      2.149581e-02\n",
       "75%      2.178813e-02\n",
       "max      3.009166e-02\n",
       "Name: Centrality_Sink, dtype: float64"
      ]
     },
     "execution_count": 69,
     "metadata": {},
     "output_type": "execute_result"
    }
   ],
   "source": [
    "sample_data_0['Centrality_Sink'].describe()"
   ]
  },
  {
   "cell_type": "code",
   "execution_count": 72,
   "metadata": {},
   "outputs": [
    {
     "data": {
      "text/plain": [
       "<matplotlib.legend.Legend at 0x7fca0a92ab50>"
      ]
     },
     "execution_count": 72,
     "metadata": {},
     "output_type": "execute_result"
    },
    {
     "data": {
      "image/png": "[encoded data removed]",
      "text/plain": [
       "<Figure size 432x288 with 1 Axes>"
      ]
     },
     "metadata": {
      "needs_background": "light"
     },
     "output_type": "display_data"
    }
   ],
   "source": [
    "plt.hist(sample_data_1['Centrality_Sink'],bins = int(180/5),label='1',alpha=0.5)\n",
    "plt.hist(sample_data_0['Centrality_Sink'],bins = int(180/5),label='0',alpha=0.5)\n",
    "plt.legend(loc='upper right')"
   ]
  },
  {
   "cell_type": "code",
   "execution_count": 80,
   "metadata": {},
   "outputs": [
    {
     "data": {
      "text/plain": [
       "count    355064.000000\n",
       "mean          0.823925\n",
       "std           2.645701\n",
       "min          -1.000000\n",
       "25%          -1.000000\n",
       "50%          -1.000000\n",
       "75%           4.000000\n",
       "max          16.000000\n",
       "Name: Shortest_Path, dtype: float64"
      ]
     },
     "execution_count": 80,
     "metadata": {},
     "output_type": "execute_result"
    }
   ],
   "source": [
    "sample_data_1['Shortest_Path'].describe()"
   ]
  },
  {
   "cell_type": "code",
   "execution_count": 81,
   "metadata": {},
   "outputs": [
    {
     "data": {
      "text/plain": [
       "count    355064.000000\n",
       "mean          2.017769\n",
       "std           0.280583\n",
       "min          -1.000000\n",
       "25%           2.000000\n",
       "50%           2.000000\n",
       "75%           2.000000\n",
       "max           3.000000\n",
       "Name: Shortest_Path, dtype: float64"
      ]
     },
     "execution_count": 81,
     "metadata": {},
     "output_type": "execute_result"
    }
   ],
   "source": [
    "sample_data_0['Shortest_Path'].describe()"
   ]
  },
  {
   "cell_type": "code",
   "execution_count": 83,
   "metadata": {},
   "outputs": [
    {
     "data": {
      "text/plain": [
       "<matplotlib.legend.Legend at 0x7fc9f3db2ac0>"
      ]
     },
     "execution_count": 83,
     "metadata": {},
     "output_type": "execute_result"
    },
    {
     "data": {
      "image/png": "[encoded data removed]",
      "text/plain": [
       "<Figure size 432x288 with 1 Axes>"
      ]
     },
     "metadata": {
      "needs_background": "light"
     },
     "output_type": "display_data"
    }
   ],
   "source": [
    "plt.hist(sample_data_1['Shortest_Path'],label='1',alpha=0.5)\n",
    "plt.hist(sample_data_0['Shortest_Path'],label='0',alpha=0.5)\n",
    "plt.legend(loc='upper right')"
   ]
  },
  {
   "cell_type": "code",
   "execution_count": null,
   "metadata": {},
   "outputs": [],
   "source": []
  }
 ],
 "metadata": {
  "kernelspec": {
   "display_name": "Python 3",
   "language": "python",
   "name": "python3"
  },
  "language_info": {
   "codemirror_mode": {
    "name": "ipython",
    "version": 3
   },
   "file_extension": ".py",
   "mimetype": "text/x-python",
   "name": "python",
   "nbconvert_exporter": "python",
   "pygments_lexer": "ipython3",
   "version": "3.8.3"
  }
 },
 "nbformat": 4,
 "nbformat_minor": 4
}
